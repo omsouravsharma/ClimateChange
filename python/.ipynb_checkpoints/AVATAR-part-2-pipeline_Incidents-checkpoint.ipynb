{
 "cells": [
  {
   "cell_type": "code",
   "execution_count": 21,
   "id": "d9bf957d",
   "metadata": {},
   "outputs": [],
   "source": [
    "import pandas as pd\n",
    "import numpy as np\n",
    "import matplotlib.pyplot as plt\n",
    "import plotly.express as px\n",
    "import plotly.graph_objs as go"
   ]
  },
  {
   "cell_type": "markdown",
   "id": "cfcd20fc",
   "metadata": {},
   "source": [
    "https://ir.lib.uwo.ca/cgi/viewcontent.cgi?article=4525&context=etd"
   ]
  },
  {
   "cell_type": "code",
   "execution_count": 6,
   "id": "dbc8432a",
   "metadata": {
    "scrolled": false
   },
   "outputs": [],
   "source": [
    "data = pd.read_csv(r\"../data/pipeline-incidents-comprehensive-data.csv\", encoding='latin-1')"
   ]
  },
  {
   "cell_type": "code",
   "execution_count": 7,
   "id": "528698a8",
   "metadata": {},
   "outputs": [
    {
     "data": {
      "text/html": [
       "<div>\n",
       "<style scoped>\n",
       "    .dataframe tbody tr th:only-of-type {\n",
       "        vertical-align: middle;\n",
       "    }\n",
       "\n",
       "    .dataframe tbody tr th {\n",
       "        vertical-align: top;\n",
       "    }\n",
       "\n",
       "    .dataframe thead th {\n",
       "        text-align: right;\n",
       "    }\n",
       "</style>\n",
       "<table border=\"1\" class=\"dataframe\">\n",
       "  <thead>\n",
       "    <tr style=\"text-align: right;\">\n",
       "      <th></th>\n",
       "      <th>Incident Number</th>\n",
       "      <th>Incident Types</th>\n",
       "      <th>Reported Date</th>\n",
       "      <th>Nearest Populated Centre</th>\n",
       "      <th>Province</th>\n",
       "      <th>Company</th>\n",
       "      <th>Status</th>\n",
       "      <th>Latitude</th>\n",
       "      <th>Longitude</th>\n",
       "      <th>Approximate Volume Released (m3)</th>\n",
       "      <th>...</th>\n",
       "      <th>Repair type</th>\n",
       "      <th>Repair date</th>\n",
       "      <th>Equipment or component has never been inspected</th>\n",
       "      <th>Most recent inspection date for the failed equipment or component</th>\n",
       "      <th>Type of most recent inspection</th>\n",
       "      <th>Most recent inspection part of the routine inspection program</th>\n",
       "      <th>No maintenance done on this equipment or component</th>\n",
       "      <th>Date of the most recent maintenance work for the failed equipment or component</th>\n",
       "      <th>Most recent maintenance Type</th>\n",
       "      <th>Most recent maintenance work part of the routine maintenance program</th>\n",
       "    </tr>\n",
       "  </thead>\n",
       "  <tbody>\n",
       "    <tr>\n",
       "      <th>0</th>\n",
       "      <td>INC2007-097</td>\n",
       "      <td>Release of Substance</td>\n",
       "      <td>01/02/2008</td>\n",
       "      <td>Grande Prairie</td>\n",
       "      <td>Alberta</td>\n",
       "      <td>Alliance Pipeline Ltd.</td>\n",
       "      <td>Closed</td>\n",
       "      <td>54.840000</td>\n",
       "      <td>-118.650000</td>\n",
       "      <td>Not Provided</td>\n",
       "      <td>...</td>\n",
       "      <td>Replacement</td>\n",
       "      <td>2007-12-27</td>\n",
       "      <td>No</td>\n",
       "      <td>NaN</td>\n",
       "      <td>NaN</td>\n",
       "      <td>No</td>\n",
       "      <td>No</td>\n",
       "      <td>2007-12-27</td>\n",
       "      <td>Replacement</td>\n",
       "      <td>No</td>\n",
       "    </tr>\n",
       "    <tr>\n",
       "      <th>1</th>\n",
       "      <td>INC2008-001</td>\n",
       "      <td>Release of Substance</td>\n",
       "      <td>01/02/2008</td>\n",
       "      <td>Cromer</td>\n",
       "      <td>Manitoba</td>\n",
       "      <td>Enbridge Pipelines Inc.</td>\n",
       "      <td>Closed</td>\n",
       "      <td>49.753000</td>\n",
       "      <td>-101.239000</td>\n",
       "      <td>8.0000</td>\n",
       "      <td>...</td>\n",
       "      <td>Type B Sleeve (Pressure Containing)</td>\n",
       "      <td>2008-01-11</td>\n",
       "      <td>No</td>\n",
       "      <td>NaN</td>\n",
       "      <td>NaN</td>\n",
       "      <td>No</td>\n",
       "      <td>No</td>\n",
       "      <td>2008-01-11</td>\n",
       "      <td>Repair</td>\n",
       "      <td>No</td>\n",
       "    </tr>\n",
       "    <tr>\n",
       "      <th>2</th>\n",
       "      <td>INC2008-004</td>\n",
       "      <td>Release of Substance</td>\n",
       "      <td>01/23/2008</td>\n",
       "      <td>Cromer</td>\n",
       "      <td>Manitoba</td>\n",
       "      <td>Enbridge Pipelines Inc.</td>\n",
       "      <td>Closed</td>\n",
       "      <td>49.754000</td>\n",
       "      <td>-101.237000</td>\n",
       "      <td>100.0000</td>\n",
       "      <td>...</td>\n",
       "      <td>Replacement</td>\n",
       "      <td>2008-01-24</td>\n",
       "      <td>No</td>\n",
       "      <td>NaN</td>\n",
       "      <td>NaN</td>\n",
       "      <td>No</td>\n",
       "      <td>No</td>\n",
       "      <td>NaN</td>\n",
       "      <td>Replacement</td>\n",
       "      <td>No</td>\n",
       "    </tr>\n",
       "    <tr>\n",
       "      <th>3</th>\n",
       "      <td>INC2008-008</td>\n",
       "      <td>Release of Substance</td>\n",
       "      <td>01/29/2008</td>\n",
       "      <td>Fort Nelson</td>\n",
       "      <td>British Columbia</td>\n",
       "      <td>Westcoast Energy Inc., carrying on business as...</td>\n",
       "      <td>Closed</td>\n",
       "      <td>58.012000</td>\n",
       "      <td>-122.694333</td>\n",
       "      <td>Not Provided</td>\n",
       "      <td>...</td>\n",
       "      <td>NaN</td>\n",
       "      <td>NaN</td>\n",
       "      <td>No</td>\n",
       "      <td>NaN</td>\n",
       "      <td>NaN</td>\n",
       "      <td>No</td>\n",
       "      <td>No</td>\n",
       "      <td>NaN</td>\n",
       "      <td>NaN</td>\n",
       "      <td>No</td>\n",
       "    </tr>\n",
       "    <tr>\n",
       "      <th>4</th>\n",
       "      <td>INC2008-009</td>\n",
       "      <td>Release of Substance, Adverse Environmental Ef...</td>\n",
       "      <td>01/29/2008</td>\n",
       "      <td>Taylor</td>\n",
       "      <td>British Columbia</td>\n",
       "      <td>Westcoast Energy Inc., carrying on business as...</td>\n",
       "      <td>Closed</td>\n",
       "      <td>56.143770</td>\n",
       "      <td>-120.516050</td>\n",
       "      <td>Not Provided</td>\n",
       "      <td>...</td>\n",
       "      <td>NaN</td>\n",
       "      <td>NaN</td>\n",
       "      <td>No</td>\n",
       "      <td>NaN</td>\n",
       "      <td>NaN</td>\n",
       "      <td>No</td>\n",
       "      <td>No</td>\n",
       "      <td>NaN</td>\n",
       "      <td>NaN</td>\n",
       "      <td>No</td>\n",
       "    </tr>\n",
       "    <tr>\n",
       "      <th>...</th>\n",
       "      <td>...</td>\n",
       "      <td>...</td>\n",
       "      <td>...</td>\n",
       "      <td>...</td>\n",
       "      <td>...</td>\n",
       "      <td>...</td>\n",
       "      <td>...</td>\n",
       "      <td>...</td>\n",
       "      <td>...</td>\n",
       "      <td>...</td>\n",
       "      <td>...</td>\n",
       "      <td>...</td>\n",
       "      <td>...</td>\n",
       "      <td>...</td>\n",
       "      <td>...</td>\n",
       "      <td>...</td>\n",
       "      <td>...</td>\n",
       "      <td>...</td>\n",
       "      <td>...</td>\n",
       "      <td>...</td>\n",
       "      <td>...</td>\n",
       "    </tr>\n",
       "    <tr>\n",
       "      <th>1790</th>\n",
       "      <td>INC2023-105</td>\n",
       "      <td>Serious Injury (CER or TSB)</td>\n",
       "      <td>07/14/2023</td>\n",
       "      <td>Whitecourt</td>\n",
       "      <td>Alberta</td>\n",
       "      <td>NOVA Gas Transmission Ltd.</td>\n",
       "      <td>Initially Submitted</td>\n",
       "      <td>53.938907</td>\n",
       "      <td>-117.212845</td>\n",
       "      <td>Not Applicable</td>\n",
       "      <td>...</td>\n",
       "      <td>NaN</td>\n",
       "      <td>NaN</td>\n",
       "      <td>No</td>\n",
       "      <td>NaN</td>\n",
       "      <td>NaN</td>\n",
       "      <td>No</td>\n",
       "      <td>No</td>\n",
       "      <td>NaN</td>\n",
       "      <td>NaN</td>\n",
       "      <td>No</td>\n",
       "    </tr>\n",
       "    <tr>\n",
       "      <th>1791</th>\n",
       "      <td>INC2023-106</td>\n",
       "      <td>Fire</td>\n",
       "      <td>07/14/2023</td>\n",
       "      <td>Abbotsford BC</td>\n",
       "      <td>British Columbia</td>\n",
       "      <td>Trans Mountain Pipeline ULC</td>\n",
       "      <td>Submitted</td>\n",
       "      <td>49.085427</td>\n",
       "      <td>-122.287206</td>\n",
       "      <td>Not Applicable</td>\n",
       "      <td>...</td>\n",
       "      <td>NaN</td>\n",
       "      <td>NaN</td>\n",
       "      <td>No</td>\n",
       "      <td>NaN</td>\n",
       "      <td>NaN</td>\n",
       "      <td>No</td>\n",
       "      <td>No</td>\n",
       "      <td>NaN</td>\n",
       "      <td>NaN</td>\n",
       "      <td>No</td>\n",
       "    </tr>\n",
       "    <tr>\n",
       "      <th>1792</th>\n",
       "      <td>INC2023-107</td>\n",
       "      <td>Fire</td>\n",
       "      <td>07/14/2023</td>\n",
       "      <td>Merritt BC</td>\n",
       "      <td>British Columbia</td>\n",
       "      <td>Trans Mountain Pipeline ULC</td>\n",
       "      <td>Initially Submitted</td>\n",
       "      <td>50.103408</td>\n",
       "      <td>-120.712290</td>\n",
       "      <td>Not Applicable</td>\n",
       "      <td>...</td>\n",
       "      <td>NaN</td>\n",
       "      <td>NaN</td>\n",
       "      <td>No</td>\n",
       "      <td>NaN</td>\n",
       "      <td>NaN</td>\n",
       "      <td>No</td>\n",
       "      <td>No</td>\n",
       "      <td>NaN</td>\n",
       "      <td>NaN</td>\n",
       "      <td>No</td>\n",
       "    </tr>\n",
       "    <tr>\n",
       "      <th>1793</th>\n",
       "      <td>INC2023-108</td>\n",
       "      <td>Release of Substance</td>\n",
       "      <td>07/16/2023</td>\n",
       "      <td>Jellicoe</td>\n",
       "      <td>Ontario</td>\n",
       "      <td>TransCanada PipeLines Limited</td>\n",
       "      <td>Initially Submitted</td>\n",
       "      <td>49.680261</td>\n",
       "      <td>-87.595113</td>\n",
       "      <td>15315.0000</td>\n",
       "      <td>...</td>\n",
       "      <td>NaN</td>\n",
       "      <td>NaN</td>\n",
       "      <td>No</td>\n",
       "      <td>NaN</td>\n",
       "      <td>NaN</td>\n",
       "      <td>No</td>\n",
       "      <td>No</td>\n",
       "      <td>NaN</td>\n",
       "      <td>NaN</td>\n",
       "      <td>No</td>\n",
       "    </tr>\n",
       "    <tr>\n",
       "      <th>1794</th>\n",
       "      <td>INC2023-109</td>\n",
       "      <td>Fire</td>\n",
       "      <td>07/17/2023</td>\n",
       "      <td>Grande Prairie</td>\n",
       "      <td>Alberta</td>\n",
       "      <td>NOVA Gas Transmission Ltd.</td>\n",
       "      <td>Initially Submitted</td>\n",
       "      <td>54.483107</td>\n",
       "      <td>-118.099933</td>\n",
       "      <td>Not Applicable</td>\n",
       "      <td>...</td>\n",
       "      <td>NaN</td>\n",
       "      <td>NaN</td>\n",
       "      <td>No</td>\n",
       "      <td>NaN</td>\n",
       "      <td>NaN</td>\n",
       "      <td>No</td>\n",
       "      <td>No</td>\n",
       "      <td>NaN</td>\n",
       "      <td>NaN</td>\n",
       "      <td>No</td>\n",
       "    </tr>\n",
       "  </tbody>\n",
       "</table>\n",
       "<p>1795 rows × 102 columns</p>\n",
       "</div>"
      ],
      "text/plain": [
       "     Incident Number                                     Incident Types  \\\n",
       "0        INC2007-097                               Release of Substance   \n",
       "1        INC2008-001                               Release of Substance   \n",
       "2        INC2008-004                               Release of Substance   \n",
       "3        INC2008-008                               Release of Substance   \n",
       "4        INC2008-009  Release of Substance, Adverse Environmental Ef...   \n",
       "...              ...                                                ...   \n",
       "1790     INC2023-105                        Serious Injury (CER or TSB)   \n",
       "1791     INC2023-106                                               Fire   \n",
       "1792     INC2023-107                                               Fire   \n",
       "1793     INC2023-108                               Release of Substance   \n",
       "1794     INC2023-109                                               Fire   \n",
       "\n",
       "     Reported Date Nearest Populated Centre          Province  \\\n",
       "0       01/02/2008           Grande Prairie           Alberta   \n",
       "1       01/02/2008                   Cromer          Manitoba   \n",
       "2       01/23/2008                   Cromer          Manitoba   \n",
       "3       01/29/2008              Fort Nelson  British Columbia   \n",
       "4       01/29/2008                   Taylor  British Columbia   \n",
       "...            ...                      ...               ...   \n",
       "1790    07/14/2023               Whitecourt           Alberta   \n",
       "1791    07/14/2023           Abbotsford BC   British Columbia   \n",
       "1792    07/14/2023               Merritt BC  British Columbia   \n",
       "1793    07/16/2023                 Jellicoe           Ontario   \n",
       "1794    07/17/2023           Grande Prairie           Alberta   \n",
       "\n",
       "                                                Company               Status  \\\n",
       "0                                Alliance Pipeline Ltd.               Closed   \n",
       "1                               Enbridge Pipelines Inc.               Closed   \n",
       "2                               Enbridge Pipelines Inc.               Closed   \n",
       "3     Westcoast Energy Inc., carrying on business as...               Closed   \n",
       "4     Westcoast Energy Inc., carrying on business as...               Closed   \n",
       "...                                                 ...                  ...   \n",
       "1790                         NOVA Gas Transmission Ltd.  Initially Submitted   \n",
       "1791                        Trans Mountain Pipeline ULC            Submitted   \n",
       "1792                        Trans Mountain Pipeline ULC  Initially Submitted   \n",
       "1793                      TransCanada PipeLines Limited  Initially Submitted   \n",
       "1794                         NOVA Gas Transmission Ltd.  Initially Submitted   \n",
       "\n",
       "       Latitude   Longitude Approximate Volume Released (m3)  ...  \\\n",
       "0     54.840000 -118.650000                     Not Provided  ...   \n",
       "1     49.753000 -101.239000                           8.0000  ...   \n",
       "2     49.754000 -101.237000                         100.0000  ...   \n",
       "3     58.012000 -122.694333                     Not Provided  ...   \n",
       "4     56.143770 -120.516050                     Not Provided  ...   \n",
       "...         ...         ...                              ...  ...   \n",
       "1790  53.938907 -117.212845                   Not Applicable  ...   \n",
       "1791  49.085427 -122.287206                   Not Applicable  ...   \n",
       "1792  50.103408 -120.712290                   Not Applicable  ...   \n",
       "1793  49.680261  -87.595113                       15315.0000  ...   \n",
       "1794  54.483107 -118.099933                   Not Applicable  ...   \n",
       "\n",
       "                              Repair type Repair date  \\\n",
       "0                             Replacement  2007-12-27   \n",
       "1     Type B Sleeve (Pressure Containing)  2008-01-11   \n",
       "2                             Replacement  2008-01-24   \n",
       "3                                     NaN         NaN   \n",
       "4                                     NaN         NaN   \n",
       "...                                   ...         ...   \n",
       "1790                                  NaN         NaN   \n",
       "1791                                  NaN         NaN   \n",
       "1792                                  NaN         NaN   \n",
       "1793                                  NaN         NaN   \n",
       "1794                                  NaN         NaN   \n",
       "\n",
       "     Equipment or component has never been inspected  \\\n",
       "0                                                 No   \n",
       "1                                                 No   \n",
       "2                                                 No   \n",
       "3                                                 No   \n",
       "4                                                 No   \n",
       "...                                              ...   \n",
       "1790                                              No   \n",
       "1791                                              No   \n",
       "1792                                              No   \n",
       "1793                                              No   \n",
       "1794                                              No   \n",
       "\n",
       "      Most recent inspection date for the failed equipment or component  \\\n",
       "0                                                   NaN                   \n",
       "1                                                   NaN                   \n",
       "2                                                   NaN                   \n",
       "3                                                   NaN                   \n",
       "4                                                   NaN                   \n",
       "...                                                 ...                   \n",
       "1790                                                NaN                   \n",
       "1791                                                NaN                   \n",
       "1792                                                NaN                   \n",
       "1793                                                NaN                   \n",
       "1794                                                NaN                   \n",
       "\n",
       "     Type of most recent inspection  \\\n",
       "0                               NaN   \n",
       "1                               NaN   \n",
       "2                               NaN   \n",
       "3                               NaN   \n",
       "4                               NaN   \n",
       "...                             ...   \n",
       "1790                            NaN   \n",
       "1791                            NaN   \n",
       "1792                            NaN   \n",
       "1793                            NaN   \n",
       "1794                            NaN   \n",
       "\n",
       "     Most recent inspection part of the routine inspection program  \\\n",
       "0                                                    No              \n",
       "1                                                    No              \n",
       "2                                                    No              \n",
       "3                                                    No              \n",
       "4                                                    No              \n",
       "...                                                 ...              \n",
       "1790                                                 No              \n",
       "1791                                                 No              \n",
       "1792                                                 No              \n",
       "1793                                                 No              \n",
       "1794                                                 No              \n",
       "\n",
       "     No maintenance done on this equipment or component  \\\n",
       "0                                                    No   \n",
       "1                                                    No   \n",
       "2                                                    No   \n",
       "3                                                    No   \n",
       "4                                                    No   \n",
       "...                                                 ...   \n",
       "1790                                                 No   \n",
       "1791                                                 No   \n",
       "1792                                                 No   \n",
       "1793                                                 No   \n",
       "1794                                                 No   \n",
       "\n",
       "     Date of the most recent maintenance work for the failed equipment or component  \\\n",
       "0                                            2007-12-27                               \n",
       "1                                            2008-01-11                               \n",
       "2                                                   NaN                               \n",
       "3                                                   NaN                               \n",
       "4                                                   NaN                               \n",
       "...                                                 ...                               \n",
       "1790                                                NaN                               \n",
       "1791                                                NaN                               \n",
       "1792                                                NaN                               \n",
       "1793                                                NaN                               \n",
       "1794                                                NaN                               \n",
       "\n",
       "     Most recent maintenance Type  \\\n",
       "0                     Replacement   \n",
       "1                          Repair   \n",
       "2                     Replacement   \n",
       "3                             NaN   \n",
       "4                             NaN   \n",
       "...                           ...   \n",
       "1790                          NaN   \n",
       "1791                          NaN   \n",
       "1792                          NaN   \n",
       "1793                          NaN   \n",
       "1794                          NaN   \n",
       "\n",
       "     Most recent maintenance work part of the routine maintenance program  \n",
       "0                                                    No                    \n",
       "1                                                    No                    \n",
       "2                                                    No                    \n",
       "3                                                    No                    \n",
       "4                                                    No                    \n",
       "...                                                 ...                    \n",
       "1790                                                 No                    \n",
       "1791                                                 No                    \n",
       "1792                                                 No                    \n",
       "1793                                                 No                    \n",
       "1794                                                 No                    \n",
       "\n",
       "[1795 rows x 102 columns]"
      ]
     },
     "execution_count": 7,
     "metadata": {},
     "output_type": "execute_result"
    }
   ],
   "source": [
    "data"
   ]
  },
  {
   "cell_type": "code",
   "execution_count": 8,
   "id": "6b1fb4ca",
   "metadata": {},
   "outputs": [
    {
     "name": "stdout",
     "output_type": "stream",
     "text": [
      "<class 'pandas.core.frame.DataFrame'>\n",
      "RangeIndex: 1795 entries, 0 to 1794\n",
      "Columns: 102 entries, Incident Number to Most recent maintenance work part of the routine maintenance program\n",
      "dtypes: float64(22), int64(2), object(78)\n",
      "memory usage: 1.4+ MB\n"
     ]
    }
   ],
   "source": [
    "data.info()"
   ]
  },
  {
   "cell_type": "code",
   "execution_count": 9,
   "id": "a1398f07",
   "metadata": {},
   "outputs": [
    {
     "data": {
      "text/plain": [
       "0                                    Release of Substance\n",
       "1                                    Release of Substance\n",
       "2                                    Release of Substance\n",
       "3                                    Release of Substance\n",
       "4       Release of Substance, Adverse Environmental Ef...\n",
       "                              ...                        \n",
       "1790                          Serious Injury (CER or TSB)\n",
       "1791                                                 Fire\n",
       "1792                                                 Fire\n",
       "1793                                 Release of Substance\n",
       "1794                                                 Fire\n",
       "Name: Incident Types, Length: 1795, dtype: object"
      ]
     },
     "execution_count": 9,
     "metadata": {},
     "output_type": "execute_result"
    }
   ],
   "source": [
    "data['Incident Types']"
   ]
  },
  {
   "cell_type": "code",
   "execution_count": 15,
   "id": "f8f195db",
   "metadata": {},
   "outputs": [
    {
     "data": {
      "application/vnd.plotly.v1+json": {
       "config": {
        "plotlyServerURL": "https://plot.ly"
       },
       "data": [
        {
         "alignmentgroup": "True",
         "hovertemplate": "variable=Incident Types<br>value=%{x}<br>count=%{y}<extra></extra>",
         "legendgroup": "Incident Types",
         "marker": {
          "color": "#636efa",
          "pattern": {
           "shape": ""
          }
         },
         "name": "Incident Types",
         "offsetgroup": "Incident Types",
         "orientation": "v",
         "showlegend": true,
         "textposition": "auto",
         "texttemplate": "%{y:.2s}",
         "type": "bar",
         "x": [
          "Fire",
          "Release of Substance",
          "Fire",
          "Fire",
          "Serious Injury (CER or TSB)",
          "Release of Substance",
          "Operation Beyond Design Limits",
          "Fire",
          "Serious Injury (CER or TSB)",
          "Adverse Environmental Effects",
          "Serious Injury (CER or TSB)",
          "Fire",
          "Fire",
          "Fire",
          "Operation Beyond Design Limits",
          "Operation Beyond Design Limits",
          "Fire",
          "Fire",
          "Release of Substance",
          "Operation Beyond Design Limits",
          "Adverse Environmental Effects",
          "Fire",
          "Release of Substance",
          "Operation Beyond Design Limits",
          "Fire",
          "Fire",
          "Fire",
          "Release of Substance",
          "Adverse Environmental Effects",
          "Fire",
          "Adverse Environmental Effects",
          "Fire",
          "Serious Injury (CER or TSB)",
          "Serious Injury (CER or TSB)",
          "Release of Substance",
          "Fire",
          "Adverse Environmental Effects",
          "Operation Beyond Design Limits",
          "Fire",
          "Fire",
          "Adverse Environmental Effects",
          "Fire",
          "Release of Substance",
          "Adverse Environmental Effects",
          "Release of Substance, Adverse Environmental Effects",
          "Fire",
          "Release of Substance, Adverse Environmental Effects",
          "Release of Substance",
          "Fire",
          "Fire",
          "Fire",
          "Serious Injury (CER or TSB)",
          "Operation Beyond Design Limits",
          "Fire",
          "Adverse Environmental Effects",
          "Fire",
          "Release of Substance",
          "Serious Injury (CER or TSB)",
          "Adverse Environmental Effects",
          "Explosion",
          "Fire",
          "Serious Injury (CER or TSB)",
          "Operation Beyond Design Limits",
          "Serious Injury (CER or TSB)",
          "Fire",
          "Serious Injury (CER or TSB)",
          "Fire",
          "Serious Injury (CER or TSB)",
          "Fire",
          "Fire",
          "Fire",
          "Adverse Environmental Effects",
          "Adverse Environmental Effects",
          "Adverse Environmental Effects",
          "Fire",
          "Fire",
          "Fire",
          "Operation Beyond Design Limits",
          "Release of Substance",
          "Fire",
          "Adverse Environmental Effects",
          "Operation Beyond Design Limits",
          "Serious Injury (CER or TSB)",
          "Serious Injury (CER or TSB)",
          "Serious Injury (CER or TSB)",
          "Fire",
          "Fire",
          "Release of Substance",
          "Release of Substance",
          "Release of Substance",
          "Adverse Environmental Effects",
          "Serious Injury (CER or TSB)",
          "Fire",
          "Fire",
          "Operation Beyond Design Limits",
          "Fire",
          "Serious Injury (CER or TSB)",
          "Serious Injury (CER or TSB)",
          "Fire",
          "Fire",
          "Operation Beyond Design Limits",
          "Release of Substance",
          "Release of Substance",
          "Fire",
          "Adverse Environmental Effects",
          "Fire",
          "Adverse Environmental Effects",
          "Operation Beyond Design Limits",
          "Fire",
          "Operation Beyond Design Limits",
          "Operation Beyond Design Limits",
          "Serious Injury (CER or TSB)",
          "Fire",
          "Release of Substance",
          "Operation Beyond Design Limits",
          "Serious Injury (CER or TSB)",
          "Adverse Environmental Effects",
          "Fire",
          "Fire",
          "Fire",
          "Fire",
          "Serious Injury (CER or TSB)",
          "Operation Beyond Design Limits",
          "Serious Injury (CER or TSB)",
          "Fire",
          "Fire",
          "Release of Substance",
          "Fire",
          "Operation Beyond Design Limits",
          "Fire",
          "Release of Substance",
          "Release of Substance",
          "Serious Injury (CER or TSB)",
          "Serious Injury (CER or TSB)",
          "Explosion",
          "Fire",
          "Serious Injury (CER or TSB)",
          "Fire",
          "Adverse Environmental Effects",
          "Fire",
          "Serious Injury (CER or TSB)",
          "Operation Beyond Design Limits",
          "Operation Beyond Design Limits",
          "Fire",
          "Adverse Environmental Effects",
          "Fire",
          "Release of Substance",
          "Adverse Environmental Effects",
          "Release of Substance",
          "Adverse Environmental Effects",
          "Fire",
          "Adverse Environmental Effects",
          "Release of Substance",
          "Fire",
          "Fire",
          "Operation Beyond Design Limits",
          "Serious Injury (CER or TSB)",
          "Adverse Environmental Effects",
          "Fire",
          "Adverse Environmental Effects",
          "Fire",
          "Serious Injury (CER or TSB)",
          "Serious Injury (CER or TSB)",
          "Operation Beyond Design Limits",
          "Operation Beyond Design Limits",
          "Release of Substance",
          "Adverse Environmental Effects",
          "Fire",
          "Operation Beyond Design Limits",
          "Operation Beyond Design Limits",
          "Operation Beyond Design Limits",
          "Release of Substance",
          "Fire",
          "Release of Substance",
          "Fire",
          "Fire",
          "Fire",
          "Fire",
          "Fire",
          "Release of Substance",
          "Fire",
          "Fire",
          "Operation Beyond Design Limits",
          "Fire, Release of Substance",
          "Fire",
          "Operation Beyond Design Limits",
          "Release of Substance",
          "Operation Beyond Design Limits",
          "Serious Injury (CER or TSB)",
          "Fire",
          "Fire",
          "Fire",
          "Release of Substance",
          "Fire",
          "Adverse Environmental Effects",
          "Fire",
          "Fire",
          "Serious Injury (CER or TSB)",
          "Fire",
          "Operation Beyond Design Limits",
          "Serious Injury (CER or TSB)",
          "Serious Injury (CER or TSB)",
          "Serious Injury (CER or TSB)",
          "Fire",
          "Release of Substance",
          "Operation Beyond Design Limits",
          "Adverse Environmental Effects",
          "Release of Substance",
          "Fire",
          "Fire",
          "Operation Beyond Design Limits",
          "Release of Substance",
          "Adverse Environmental Effects",
          "Fire",
          "Fire",
          "Release of Substance",
          "Serious Injury (CER or TSB)",
          "Release of Substance",
          "Serious Injury (CER or TSB)",
          "Fire",
          "Fire",
          "Operation Beyond Design Limits",
          "Fire",
          "Serious Injury (CER or TSB)",
          "Operation Beyond Design Limits",
          "Operation Beyond Design Limits",
          "Fire",
          "Fire",
          "Fire",
          "Adverse Environmental Effects",
          "Fire",
          "Operation Beyond Design Limits",
          "Operation Beyond Design Limits",
          "Operation Beyond Design Limits",
          "Adverse Environmental Effects",
          "Fire",
          "Operation Beyond Design Limits",
          "Serious Injury (CER or TSB)",
          "Operation Beyond Design Limits",
          "Operation Beyond Design Limits",
          "Operation Beyond Design Limits",
          "Adverse Environmental Effects",
          "Operation Beyond Design Limits",
          "Fire",
          "Operation Beyond Design Limits",
          "Adverse Environmental Effects",
          "Operation Beyond Design Limits",
          "Operation Beyond Design Limits",
          "Operation Beyond Design Limits",
          "Operation Beyond Design Limits",
          "Operation Beyond Design Limits",
          "Operation Beyond Design Limits",
          "Operation Beyond Design Limits",
          "Operation Beyond Design Limits",
          "Operation Beyond Design Limits",
          "Adverse Environmental Effects",
          "Serious Injury (CER or TSB)",
          "Operation Beyond Design Limits",
          "Operation Beyond Design Limits",
          "Operation Beyond Design Limits",
          "Operation Beyond Design Limits",
          "Operation Beyond Design Limits",
          "Adverse Environmental Effects",
          "Operation Beyond Design Limits",
          "Operation Beyond Design Limits",
          "Fire",
          "Release of Substance",
          "Operation Beyond Design Limits",
          "Operation Beyond Design Limits",
          "Adverse Environmental Effects",
          "Release of Substance",
          "Fire",
          "Serious Injury (CER or TSB)",
          "Fire",
          "Operation Beyond Design Limits",
          "Fire",
          "Operation Beyond Design Limits",
          "Release of Substance",
          "Serious Injury (CER or TSB)",
          "Release of Substance",
          "Adverse Environmental Effects",
          "Serious Injury (CER or TSB)",
          "Operation Beyond Design Limits",
          "Fire",
          "Fire",
          "Operation Beyond Design Limits",
          "Fire",
          "Release of Substance",
          "Operation Beyond Design Limits",
          "Serious Injury (CER or TSB)",
          "Operation Beyond Design Limits",
          "Release of Substance",
          "Adverse Environmental Effects",
          "Operation Beyond Design Limits",
          "Operation Beyond Design Limits",
          "Fire",
          "Release of Substance",
          "Release of Substance",
          "Release of Substance",
          "Operation Beyond Design Limits",
          "Operation Beyond Design Limits",
          "Fire",
          "Serious Injury (CER or TSB)",
          "Fire",
          "Operation Beyond Design Limits",
          "Operation Beyond Design Limits",
          "Fire",
          "Operation Beyond Design Limits",
          "Operation Beyond Design Limits",
          "Release of Substance",
          "Serious Injury (CER or TSB)",
          "Operation Beyond Design Limits",
          "Operation Beyond Design Limits",
          "Fire",
          "Operation Beyond Design Limits",
          "Fire",
          "Serious Injury (CER or TSB)",
          "Release of Substance",
          "Serious Injury (CER or TSB)",
          "Fire",
          "Serious Injury (CER or TSB)",
          "Fire",
          "Fire",
          "Operation Beyond Design Limits",
          "Fire",
          "Release of Substance",
          "Fire",
          "Release of Substance",
          "Fire",
          "Adverse Environmental Effects",
          "Release of Substance",
          "Operation Beyond Design Limits",
          "Fire",
          "Fire",
          "Release of Substance",
          "Fire",
          "Fire",
          "Fire",
          "Release of Substance",
          "Release of Substance",
          "Release of Substance",
          "Explosion",
          "Fire",
          "Serious Injury (CER or TSB)",
          "Fire",
          "Fire",
          "Fire",
          "Release of Substance",
          "Fire",
          "Fire",
          "Operation Beyond Design Limits",
          "Fire",
          "Fire",
          "Fire",
          "Release of Substance",
          "Release of Substance",
          "Fire",
          "Release of Substance",
          "Operation Beyond Design Limits",
          "Operation Beyond Design Limits",
          "Release of Substance",
          "Serious Injury (CER or TSB)",
          "Operation Beyond Design Limits",
          "Operation Beyond Design Limits",
          "Release of Substance",
          "Serious Injury (CER or TSB)",
          "Serious Injury (CER or TSB)",
          "Fire",
          "Release of Substance",
          "Release of Substance",
          "Fire",
          "Operation Beyond Design Limits",
          "Fire",
          "Fire",
          "Fire",
          "Operation Beyond Design Limits",
          "Release of Substance",
          "Operation Beyond Design Limits",
          "Operation Beyond Design Limits",
          "Fatality",
          "Serious Injury (CER or TSB)",
          "Serious Injury (CER or TSB)",
          "Operation Beyond Design Limits",
          "Operation Beyond Design Limits",
          "Release of Substance",
          "Operation Beyond Design Limits",
          "Operation Beyond Design Limits",
          "Fire",
          "Serious Injury (CER or TSB)",
          "Release of Substance",
          "Serious Injury (CER or TSB)",
          "Serious Injury (CER or TSB)",
          "Operation Beyond Design Limits",
          "Operation Beyond Design Limits",
          "Fire",
          "Operation Beyond Design Limits",
          "Operation Beyond Design Limits",
          "Fire",
          "Operation Beyond Design Limits",
          "Fire",
          "Fire",
          "Operation Beyond Design Limits",
          "Operation Beyond Design Limits",
          "Operation Beyond Design Limits",
          "Operation Beyond Design Limits",
          "Operation Beyond Design Limits",
          "Fire",
          "Operation Beyond Design Limits",
          "Fire",
          "Operation Beyond Design Limits",
          "Serious Injury (CER or TSB)",
          "Operation Beyond Design Limits",
          "Operation Beyond Design Limits",
          "Release of Substance",
          "Operation Beyond Design Limits",
          "Explosion, Fire",
          "Operation Beyond Design Limits",
          "Fire",
          "Operation Beyond Design Limits",
          "Release of Substance",
          "Fire",
          "Explosion",
          "Operation Beyond Design Limits",
          "Fire",
          "Fire",
          "Release of Substance",
          "Operation Beyond Design Limits",
          "Operation Beyond Design Limits",
          "Fire",
          "Release of Substance",
          "Release of Substance",
          "Operation Beyond Design Limits",
          "Operation Beyond Design Limits",
          "Release of Substance",
          "Release of Substance",
          "Fire",
          "Fire",
          "Operation Beyond Design Limits",
          "Fire",
          "Explosion",
          "Fire",
          "Fire",
          "Explosion",
          "Fire",
          "Release of Substance",
          "Release of Substance",
          "Fire",
          "Serious Injury (CER or TSB)",
          "Release of Substance",
          "Serious Injury (CER or TSB)",
          "Serious Injury (CER or TSB)",
          "Fire",
          "Fire",
          "Release of Substance",
          "Operation Beyond Design Limits",
          "Release of Substance",
          "Operation Beyond Design Limits",
          "Fire",
          "Serious Injury (CER or TSB)",
          "Release of Substance",
          "Release of Substance",
          "Operation Beyond Design Limits",
          "Fire",
          "Operation Beyond Design Limits",
          "Release of Substance",
          "Release of Substance",
          "Release of Substance",
          "Operation Beyond Design Limits",
          "Operation Beyond Design Limits",
          "Operation Beyond Design Limits",
          "Operation Beyond Design Limits",
          "Fire",
          "Fire",
          "Release of Substance",
          "Operation Beyond Design Limits",
          "Fire",
          "Release of Substance, Adverse Environmental Effects",
          "Serious Injury (CER or TSB)",
          "Release of Substance",
          "Fire",
          "Release of Substance",
          "Explosion",
          "Operation Beyond Design Limits",
          "Operation Beyond Design Limits",
          "Fire",
          "Fire",
          "Operation Beyond Design Limits",
          "Operation Beyond Design Limits",
          "Release of Substance",
          "Fire",
          "Fire",
          "Operation Beyond Design Limits",
          "Release of Substance",
          "Release of Substance",
          "Release of Substance",
          "Release of Substance",
          "Release of Substance",
          "Explosion",
          "Serious Injury (CER or TSB)",
          "Adverse Environmental Effects",
          "Fire",
          "Fire",
          "Operation Beyond Design Limits",
          "Fire",
          "Fire",
          "Release of Substance",
          "Fire",
          "Fire",
          "Release of Substance",
          "Operation Beyond Design Limits",
          "Fire",
          "Fire",
          "Serious Injury (CER or TSB)",
          "Fire",
          "Operation Beyond Design Limits",
          "Fire",
          "Release of Substance",
          "Release of Substance",
          "Fire",
          "Serious Injury (CER or TSB)",
          "Fire",
          "Fire",
          "Operation Beyond Design Limits",
          "Release of Substance",
          "Release of Substance",
          "Fire",
          "Release of Substance",
          "Release of Substance",
          "Release of Substance",
          "Serious Injury (CER or TSB)",
          "Serious Injury (CER or TSB)",
          "Operation Beyond Design Limits",
          "Operation Beyond Design Limits",
          "Operation Beyond Design Limits",
          "Serious Injury (CER or TSB)",
          "Operation Beyond Design Limits",
          "Operation Beyond Design Limits",
          "Release of Substance",
          "Release of Substance",
          "Operation Beyond Design Limits",
          "Fire",
          "Operation Beyond Design Limits",
          "Operation Beyond Design Limits",
          "Serious Injury (CER or TSB)",
          "Operation Beyond Design Limits",
          "Fire",
          "Fire",
          "Operation Beyond Design Limits",
          "Operation Beyond Design Limits",
          "Release of Substance",
          "Serious Injury (CER or TSB)",
          "Explosion, Fire, Release of Substance",
          "Serious Injury (CER or TSB)",
          "Release of Substance",
          "Operation Beyond Design Limits",
          "Release of Substance",
          "Operation Beyond Design Limits",
          "Fire",
          "Serious Injury (CER or TSB)",
          "Fire",
          "Operation Beyond Design Limits",
          "Fire",
          "Fire",
          "Serious Injury (CER or TSB)",
          "Release of Substance",
          "Adverse Environmental Effects",
          "Operation Beyond Design Limits",
          "Serious Injury (CER or TSB)",
          "Operation Beyond Design Limits",
          "Release of Substance, Adverse Environmental Effects",
          "Operation Beyond Design Limits",
          "Operation Beyond Design Limits",
          "Operation Beyond Design Limits",
          "Operation Beyond Design Limits",
          "Operation Beyond Design Limits",
          "Operation Beyond Design Limits",
          "Fire",
          "Operation Beyond Design Limits",
          "Operation Beyond Design Limits",
          "Fire",
          "Fire",
          "Operation Beyond Design Limits",
          "Operation Beyond Design Limits",
          "Operation Beyond Design Limits",
          "Operation Beyond Design Limits",
          "Operation Beyond Design Limits",
          "Fire",
          "Operation Beyond Design Limits",
          "Operation Beyond Design Limits",
          "Operation Beyond Design Limits",
          "Operation Beyond Design Limits",
          "Operation Beyond Design Limits",
          "Operation Beyond Design Limits",
          "Operation Beyond Design Limits",
          "Serious Injury (CER or TSB)",
          "Operation Beyond Design Limits",
          "Operation Beyond Design Limits",
          "Operation Beyond Design Limits",
          "Operation Beyond Design Limits",
          "Operation Beyond Design Limits",
          "Operation Beyond Design Limits",
          "Operation Beyond Design Limits",
          "Release of Substance",
          "Fire",
          "Release of Substance",
          "Release of Substance",
          "Fire",
          "Fire",
          "Release of Substance",
          "Operation Beyond Design Limits",
          "Operation Beyond Design Limits",
          "Fire",
          "Fire",
          "Operation Beyond Design Limits",
          "Operation Beyond Design Limits",
          "Release of Substance",
          "Release of Substance",
          "Operation Beyond Design Limits",
          "Operation Beyond Design Limits",
          "Operation Beyond Design Limits",
          "Operation Beyond Design Limits",
          "Fire",
          "Release of Substance",
          "Release of Substance",
          "Release of Substance",
          "Release of Substance",
          "Operation Beyond Design Limits",
          "Operation Beyond Design Limits",
          "Fire",
          "Release of Substance",
          "Release of Substance",
          "Release of Substance",
          "Serious Injury (CER or TSB)",
          "Release of Substance",
          "Operation Beyond Design Limits",
          "Operation Beyond Design Limits",
          "Release of Substance",
          "Fire",
          "Release of Substance",
          "Release of Substance",
          "Release of Substance",
          "Fire",
          "Release of Substance",
          "Release of Substance",
          "Release of Substance",
          "Fire",
          "Fire",
          "Operation Beyond Design Limits",
          "Release of Substance",
          "Serious Injury (CER or TSB)",
          "Release of Substance",
          "Release of Substance",
          "Release of Substance",
          "Release of Substance",
          "Release of Substance",
          "Release of Substance",
          "Release of Substance",
          "Release of Substance",
          "Release of Substance",
          "Release of Substance",
          "Release of Substance",
          "Release of Substance",
          "Release of Substance",
          "Operation Beyond Design Limits",
          "Release of Substance",
          "Release of Substance",
          "Release of Substance",
          "Release of Substance",
          "Release of Substance",
          "Fire",
          "Fire",
          "Release of Substance",
          "Release of Substance",
          "Release of Substance",
          "Release of Substance",
          "Release of Substance",
          "Release of Substance",
          "Serious Injury (CER or TSB)",
          "Serious Injury (CER or TSB)",
          "Release of Substance",
          "Release of Substance",
          "Fire",
          "Release of Substance",
          "Release of Substance",
          "Fire",
          "Release of Substance",
          "Release of Substance",
          "Operation Beyond Design Limits",
          "Operation Beyond Design Limits",
          "Operation Beyond Design Limits",
          "Operation Beyond Design Limits",
          "Release of Substance",
          "Release of Substance",
          "Release of Substance",
          "Operation Beyond Design Limits",
          "Operation Beyond Design Limits",
          "Operation Beyond Design Limits",
          "Operation Beyond Design Limits",
          "Operation Beyond Design Limits",
          "Serious Injury (CER or TSB)",
          "Fire",
          "Operation Beyond Design Limits",
          "Operation Beyond Design Limits",
          "Fire",
          "Operation Beyond Design Limits",
          "Operation Beyond Design Limits",
          "Operation Beyond Design Limits",
          "Operation Beyond Design Limits",
          "Release of Substance",
          "Fire",
          "Operation Beyond Design Limits",
          "Operation Beyond Design Limits",
          "Operation Beyond Design Limits",
          "Operation Beyond Design Limits",
          "Serious Injury (CER or TSB)",
          "Fire",
          "Operation Beyond Design Limits",
          "Operation Beyond Design Limits",
          "Operation Beyond Design Limits",
          "Operation Beyond Design Limits",
          "Operation Beyond Design Limits",
          "Operation Beyond Design Limits",
          "Operation Beyond Design Limits",
          "Operation Beyond Design Limits",
          "Operation Beyond Design Limits",
          "Operation Beyond Design Limits",
          "Fire",
          "Serious Injury (CER or TSB)",
          "Release of Substance",
          "Release of Substance",
          "Operation Beyond Design Limits",
          "Release of Substance",
          "Release of Substance",
          "Fire",
          "Release of Substance",
          "Release of Substance",
          "Release of Substance",
          "Fire",
          "Operation Beyond Design Limits",
          "Operation Beyond Design Limits",
          "Operation Beyond Design Limits",
          "Operation Beyond Design Limits",
          "Operation Beyond Design Limits",
          "Operation Beyond Design Limits",
          "Release of Substance",
          "Release of Substance",
          "Operation Beyond Design Limits",
          "Operation Beyond Design Limits",
          "Operation Beyond Design Limits",
          "Operation Beyond Design Limits",
          "Operation Beyond Design Limits",
          "Operation Beyond Design Limits",
          "Release of Substance",
          "Operation Beyond Design Limits",
          "Operation Beyond Design Limits",
          "Release of Substance",
          "Release of Substance",
          "Release of Substance",
          "Fire",
          "Release of Substance",
          "Release of Substance",
          "Fire",
          "Release of Substance",
          "Release of Substance",
          "Operation Beyond Design Limits",
          "Operation Beyond Design Limits",
          "Operation Beyond Design Limits",
          "Release of Substance",
          "Release of Substance",
          "Operation Beyond Design Limits",
          "Release of Substance",
          "Operation Beyond Design Limits",
          "Fire",
          "Release of Substance",
          "Explosion",
          "Release of Substance",
          "Release of Substance",
          "Release of Substance",
          "Release of Substance",
          "Fire",
          "Fire",
          "Operation Beyond Design Limits",
          "Fire",
          "Fire",
          "Fire",
          "Fire",
          "Release of Substance",
          "Release of Substance",
          "Serious Injury (CER or TSB)",
          "Fire",
          "Release of Substance",
          "Fire",
          "Fire",
          "Release of Substance",
          "Release of Substance",
          "Fire",
          "Fire",
          "Release of Substance",
          "Fire",
          "Serious Injury (CER or TSB)",
          "Operation Beyond Design Limits",
          "Release of Substance",
          "Fire",
          "Release of Substance",
          "Operation Beyond Design Limits",
          "Fire",
          "Fire",
          "Fire",
          "Release of Substance",
          "Release of Substance",
          "Release of Substance",
          "Fire",
          "Fire",
          "Release of Substance",
          "Release of Substance",
          "Release of Substance",
          "Fire",
          "Release of Substance",
          "Explosion",
          "Operation Beyond Design Limits",
          "Operation Beyond Design Limits",
          "Operation Beyond Design Limits",
          "Operation Beyond Design Limits",
          "Release of Substance",
          "Release of Substance",
          "Release of Substance",
          "Release of Substance",
          "Release of Substance",
          "Operation Beyond Design Limits",
          "Operation Beyond Design Limits",
          "Operation Beyond Design Limits",
          "Release of Substance",
          "Operation Beyond Design Limits",
          "Operation Beyond Design Limits",
          "Explosion",
          "Explosion",
          "Fire",
          "Operation Beyond Design Limits",
          "Release of Substance",
          "Serious Injury (CER or TSB)",
          "Release of Substance",
          "Release of Substance",
          "Release of Substance",
          "Release of Substance",
          "Fire",
          "Release of Substance",
          "Release of Substance",
          "Release of Substance",
          "Release of Substance",
          "Serious Injury (CER or TSB), Fire",
          "Operation Beyond Design Limits",
          "Release of Substance",
          "Fire",
          "Operation Beyond Design Limits",
          "Release of Substance",
          "Release of Substance",
          "Release of Substance",
          "Release of Substance",
          "Operation Beyond Design Limits",
          "Release of Substance",
          "Operation Beyond Design Limits",
          "Release of Substance",
          "Fire",
          "Operation Beyond Design Limits",
          "Operation Beyond Design Limits",
          "Adverse Environmental Effects",
          "Fire",
          "Release of Substance",
          "Fire",
          "Fire",
          "Fire",
          "Fire",
          "Release of Substance",
          "Operation Beyond Design Limits",
          "Release of Substance",
          "Release of Substance",
          "Release of Substance",
          "Fire",
          "Operation Beyond Design Limits",
          "Release of Substance",
          "Operation Beyond Design Limits",
          "Release of Substance",
          "Release of Substance",
          "Fire",
          "Release of Substance",
          "Release of Substance",
          "Operation Beyond Design Limits",
          "Operation Beyond Design Limits",
          "Operation Beyond Design Limits",
          "Operation Beyond Design Limits",
          "Operation Beyond Design Limits",
          "Fire",
          "Operation Beyond Design Limits",
          "Release of Substance",
          "Release of Substance",
          "Operation Beyond Design Limits",
          "Fire",
          "Operation Beyond Design Limits",
          "Operation Beyond Design Limits",
          "Operation Beyond Design Limits",
          "Operation Beyond Design Limits",
          "Operation Beyond Design Limits",
          "Fire",
          "Operation Beyond Design Limits",
          "Release of Substance",
          "Fire",
          "Fire",
          "Operation Beyond Design Limits",
          "Fire",
          "Release of Substance",
          "Fire",
          "Release of Substance",
          "Fire",
          "Operation Beyond Design Limits",
          "Operation Beyond Design Limits",
          "Release of Substance",
          "Operation Beyond Design Limits",
          "Fire",
          "Fire",
          "Fire",
          "Fire",
          "Release of Substance",
          "Release of Substance",
          "Release of Substance",
          "Release of Substance",
          "Release of Substance",
          "Release of Substance",
          "Release of Substance",
          "Fire",
          "Serious Injury (CER or TSB)",
          "Release of Substance",
          "Release of Substance",
          "Release of Substance",
          "Release of Substance",
          "Release of Substance",
          "Release of Substance",
          "Release of Substance",
          "Release of Substance",
          "Fire",
          "Release of Substance",
          "Operation Beyond Design Limits",
          "Release of Substance",
          "Operation Beyond Design Limits",
          "Fire",
          "Release of Substance",
          "Release of Substance",
          "Fire",
          "Release of Substance",
          "Fire",
          "Release of Substance",
          "Operation Beyond Design Limits",
          "Operation Beyond Design Limits",
          "Release of Substance",
          "Fire",
          "Fire",
          "Fire",
          "Fire",
          "Release of Substance",
          "Release of Substance",
          "Fire",
          "Release of Substance",
          "Release of Substance",
          "Release of Substance",
          "Release of Substance",
          "Adverse Environmental Effects",
          "Adverse Environmental Effects",
          "Adverse Environmental Effects",
          "Release of Substance",
          "Operation Beyond Design Limits",
          "Adverse Environmental Effects",
          "Release of Substance",
          "Release of Substance",
          "Release of Substance",
          "Release of Substance",
          "Adverse Environmental Effects",
          "Serious Injury (CER or TSB)",
          "Release of Substance",
          "Fire",
          "Release of Substance",
          "Release of Substance",
          "Release of Substance",
          "Release of Substance",
          "Release of Substance",
          "Release of Substance",
          "Release of Substance",
          "Release of Substance",
          "Release of Substance",
          "Release of Substance",
          "Release of Substance",
          "Explosion",
          "Fire",
          "Release of Substance",
          "Release of Substance",
          "Explosion, Fire",
          "Release of Substance",
          "Release of Substance",
          "Release of Substance",
          "Release of Substance",
          "Release of Substance",
          "Operation Beyond Design Limits",
          "Operation Beyond Design Limits",
          "Release of Substance",
          "Release of Substance",
          "Release of Substance",
          "Release of Substance",
          "Release of Substance",
          "Operation Beyond Design Limits",
          "Release of Substance",
          "Operation Beyond Design Limits",
          "Adverse Environmental Effects",
          "Fire",
          "Fire",
          "Release of Substance",
          "Release of Substance",
          "Release of Substance",
          "Release of Substance",
          "Release of Substance",
          "Release of Substance",
          "Fire",
          "Fire",
          "Release of Substance",
          "Fire",
          "Operation Beyond Design Limits",
          "Fire",
          "Release of Substance",
          "Release of Substance",
          "Release of Substance",
          "Fire",
          "Fire",
          "Release of Substance",
          "Release of Substance",
          "Release of Substance",
          "Release of Substance",
          "Release of Substance",
          "Release of Substance",
          "Serious Injury (CER or TSB)",
          "Release of Substance",
          "Fire",
          "Operation Beyond Design Limits",
          "Fire",
          "Release of Substance",
          "Operation Beyond Design Limits",
          "Operation Beyond Design Limits",
          "Release of Substance",
          "Release of Substance",
          "Adverse Environmental Effects",
          "Release of Substance",
          "Release of Substance",
          "Release of Substance",
          "Release of Substance",
          "Fire",
          "Fire",
          "Release of Substance",
          "Explosion",
          "Release of Substance",
          "Release of Substance",
          "Release of Substance",
          "Release of Substance",
          "Operation Beyond Design Limits",
          "Release of Substance",
          "Release of Substance",
          "Operation Beyond Design Limits",
          "Fire",
          "Release of Substance",
          "Release of Substance",
          "Release of Substance",
          "Release of Substance",
          "Operation Beyond Design Limits",
          "Fire",
          "Release of Substance",
          "Release of Substance",
          "Release of Substance",
          "Release of Substance",
          "Release of Substance",
          "Release of Substance",
          "Release of Substance",
          "Release of Substance",
          "Release of Substance",
          "Operation Beyond Design Limits",
          "Release of Substance",
          "Serious Injury (CER or TSB)",
          "Fire",
          "Release of Substance",
          "Serious Injury (CER or TSB)",
          "Release of Substance",
          "Operation Beyond Design Limits",
          "Release of Substance",
          "Release of Substance",
          "Fire",
          "Fatality",
          "Release of Substance",
          "Release of Substance",
          "Fire",
          "Release of Substance",
          "Release of Substance",
          "Fire",
          "Release of Substance",
          "Release of Substance",
          "Release of Substance",
          "Release of Substance",
          "Fire",
          "Release of Substance",
          "Fire",
          "Operation Beyond Design Limits",
          "Release of Substance",
          "Fire",
          "Release of Substance",
          "Release of Substance",
          "Operation Beyond Design Limits",
          "Fire",
          "Release of Substance",
          "Release of Substance",
          "Release of Substance",
          "Release of Substance",
          "Release of Substance",
          "Release of Substance",
          "Release of Substance",
          "Release of Substance, Adverse Environmental Effects",
          "Release of Substance",
          "Release of Substance",
          "Release of Substance",
          "Release of Substance",
          "Release of Substance",
          "Release of Substance, Adverse Environmental Effects",
          "Release of Substance",
          "Fire",
          "Release of Substance",
          "Release of Substance",
          "Release of Substance",
          "Release of Substance",
          "Release of Substance",
          "Release of Substance",
          "Release of Substance",
          "Release of Substance",
          "Fire",
          "Adverse Environmental Effects",
          "Fire",
          "Release of Substance",
          "Release of Substance",
          "Fire",
          "Release of Substance",
          "Release of Substance",
          "Release of Substance",
          "Release of Substance",
          "Release of Substance",
          "Release of Substance",
          "Fire",
          "Release of Substance",
          "Release of Substance",
          "Fire, Release of Substance",
          "Release of Substance",
          "Release of Substance",
          "Operation Beyond Design Limits",
          "Operation Beyond Design Limits",
          "Operation Beyond Design Limits",
          "Operation Beyond Design Limits",
          "Operation Beyond Design Limits",
          "Operation Beyond Design Limits",
          "Operation Beyond Design Limits",
          "Operation Beyond Design Limits",
          "Operation Beyond Design Limits",
          "Operation Beyond Design Limits",
          "Operation Beyond Design Limits",
          "Operation Beyond Design Limits",
          "Operation Beyond Design Limits",
          "Operation Beyond Design Limits",
          "Operation Beyond Design Limits",
          "Operation Beyond Design Limits",
          "Operation Beyond Design Limits",
          "Operation Beyond Design Limits",
          "Operation Beyond Design Limits",
          "Operation Beyond Design Limits",
          "Operation Beyond Design Limits",
          "Operation Beyond Design Limits",
          "Operation Beyond Design Limits",
          "Operation Beyond Design Limits",
          "Operation Beyond Design Limits",
          "Operation Beyond Design Limits",
          "Operation Beyond Design Limits",
          "Release of Substance",
          "Release of Substance",
          "Release of Substance",
          "Release of Substance",
          "Fire",
          "Operation Beyond Design Limits",
          "Release of Substance",
          "Release of Substance",
          "Release of Substance",
          "Release of Substance",
          "Operation Beyond Design Limits",
          "Fire",
          "Release of Substance",
          "Release of Substance",
          "Release of Substance",
          "Fire",
          "Release of Substance",
          "Release of Substance",
          "Release of Substance",
          "Operation Beyond Design Limits",
          "Release of Substance",
          "Release of Substance",
          "Release of Substance",
          "Release of Substance",
          "Release of Substance",
          "Release of Substance",
          "Release of Substance",
          "Release of Substance",
          "Operation Beyond Design Limits",
          "Operation Beyond Design Limits",
          "Fire",
          "Release of Substance",
          "Fire",
          "Release of Substance",
          "Release of Substance",
          "Release of Substance",
          "Fire",
          "Operation Beyond Design Limits",
          "Release of Substance",
          "Release of Substance",
          "Release of Substance",
          "Release of Substance",
          "Fire, Release of Substance",
          "Release of Substance",
          "Release of Substance",
          "Release of Substance",
          "Operation Beyond Design Limits",
          "Release of Substance",
          "Release of Substance",
          "Release of Substance",
          "Release of Substance",
          "Release of Substance",
          "Release of Substance",
          "Release of Substance",
          "Release of Substance",
          "Operation Beyond Design Limits",
          "Operation Beyond Design Limits",
          "Release of Substance",
          "Release of Substance",
          "Release of Substance",
          "Release of Substance",
          "Release of Substance",
          "Operation Beyond Design Limits",
          "Release of Substance",
          "Fire",
          "Fire",
          "Fire",
          "Operation Beyond Design Limits",
          "Operation Beyond Design Limits",
          "Release of Substance",
          "Release of Substance",
          "Release of Substance",
          "Operation Beyond Design Limits",
          "Operation Beyond Design Limits",
          "Fire",
          "Fire, Release of Substance",
          "Serious Injury (CER or TSB), Fire, Release of Substance",
          "Release of Substance",
          "Operation Beyond Design Limits",
          "Fire",
          "Release of Substance",
          "Release of Substance",
          "Release of Substance",
          "Release of Substance",
          "Release of Substance",
          "Release of Substance",
          "Release of Substance",
          "Fire",
          "Release of Substance",
          "Release of Substance",
          "Release of Substance",
          "Serious Injury (CER or TSB)",
          "Release of Substance",
          "Release of Substance",
          "Release of Substance",
          "Release of Substance",
          "Release of Substance",
          "Release of Substance",
          "Fire",
          "Operation Beyond Design Limits",
          "Operation Beyond Design Limits",
          "Operation Beyond Design Limits",
          "Operation Beyond Design Limits",
          "Operation Beyond Design Limits",
          "Operation Beyond Design Limits",
          "Operation Beyond Design Limits",
          "Operation Beyond Design Limits",
          "Operation Beyond Design Limits",
          "Operation Beyond Design Limits",
          "Operation Beyond Design Limits",
          "Operation Beyond Design Limits",
          "Operation Beyond Design Limits",
          "Operation Beyond Design Limits",
          "Operation Beyond Design Limits",
          "Operation Beyond Design Limits",
          "Operation Beyond Design Limits",
          "Operation Beyond Design Limits",
          "Operation Beyond Design Limits",
          "Operation Beyond Design Limits",
          "Operation Beyond Design Limits",
          "Operation Beyond Design Limits",
          "Operation Beyond Design Limits",
          "Operation Beyond Design Limits",
          "Operation Beyond Design Limits",
          "Operation Beyond Design Limits",
          "Operation Beyond Design Limits",
          "Fire",
          "Fire",
          "Release of Substance",
          "Serious Injury (CER or TSB)",
          "Release of Substance",
          "Release of Substance",
          "Release of Substance",
          "Release of Substance",
          "Fire",
          "Release of Substance",
          "Release of Substance",
          "Release of Substance",
          "Release of Substance",
          "Fire",
          "Release of Substance",
          "Release of Substance",
          "Release of Substance",
          "Release of Substance",
          "Release of Substance",
          "Release of Substance",
          "Operation Beyond Design Limits",
          "Operation Beyond Design Limits",
          "Release of Substance",
          "Fire",
          "Release of Substance",
          "Release of Substance",
          "Operation Beyond Design Limits",
          "Release of Substance",
          "Release of Substance",
          "Fire",
          "Operation Beyond Design Limits",
          "Release of Substance",
          "Fire",
          "Release of Substance",
          "Operation Beyond Design Limits",
          "Explosion, Fire",
          "Release of Substance",
          "Release of Substance",
          "Release of Substance",
          "Release of Substance",
          "Fire",
          "Release of Substance",
          "Release of Substance",
          "Fire",
          "Fire",
          "Release of Substance",
          "Release of Substance",
          "Release of Substance",
          "Release of Substance",
          "Fire",
          "Release of Substance",
          "Fire",
          "Release of Substance",
          "Release of Substance",
          "Fire",
          "Fire",
          "Release of Substance",
          "Release of Substance",
          "Release of Substance",
          "Fire",
          "Explosion",
          "Explosion",
          "Release of Substance",
          "Release of Substance",
          "Explosion",
          "Release of Substance, Adverse Environmental Effects",
          "Fire",
          "Release of Substance",
          "Explosion",
          "Explosion",
          "Release of Substance",
          "Fire, Release of Substance",
          "Explosion",
          "Release of Substance",
          "Serious Injury (CER or TSB), Fire, Release of Substance",
          "Release of Substance",
          "Release of Substance",
          "Release of Substance",
          "Fire",
          "Fire",
          "Serious Injury (CER or TSB)",
          "Operation Beyond Design Limits",
          "Release of Substance",
          "Fire",
          "Release of Substance",
          "Release of Substance",
          "Release of Substance",
          "Fire",
          "Release of Substance",
          "Release of Substance",
          "Release of Substance",
          "Fire",
          "Release of Substance",
          "Operation Beyond Design Limits",
          "Fire",
          "Release of Substance",
          "Release of Substance",
          "Release of Substance",
          "Release of Substance",
          "Operation Beyond Design Limits",
          "Release of Substance",
          "Release of Substance",
          "Release of Substance",
          "Release of Substance",
          "Fire",
          "Release of Substance",
          "Release of Substance",
          "Release of Substance",
          "Serious Injury (CER or TSB)",
          "Fire",
          "Fire",
          "Fire, Release of Substance",
          "Release of Substance",
          "Serious Injury (CER or TSB)",
          "Release of Substance",
          "Fire",
          "Fire, Release of Substance",
          "Release of Substance",
          "Fire",
          "Fire",
          "Fire",
          "Fire",
          "Release of Substance",
          "Operation Beyond Design Limits",
          "Release of Substance",
          "Release of Substance",
          "Serious Injury (CER or TSB)",
          "Operation Beyond Design Limits",
          "Release of Substance",
          "Release of Substance",
          "Release of Substance",
          "Release of Substance",
          "Release of Substance",
          "Release of Substance",
          "Release of Substance",
          "Release of Substance",
          "Fire",
          "Operation Beyond Design Limits",
          "Fire",
          "Release of Substance",
          "Release of Substance",
          "Release of Substance",
          "Fire",
          "Fire",
          "Release of Substance",
          "Fire",
          "Release of Substance",
          "Release of Substance",
          "Operation Beyond Design Limits",
          "Release of Substance",
          "Fatality",
          "Release of Substance",
          "Release of Substance",
          "Release of Substance",
          "Release of Substance",
          "Fire",
          "Release of Substance",
          "Release of Substance",
          "Release of Substance",
          "Release of Substance",
          "Serious Injury (CER or TSB)",
          "Release of Substance",
          "Fire",
          "Fire",
          "Fire",
          "Fire",
          "Operation Beyond Design Limits",
          "Release of Substance",
          "Fire",
          "Fire",
          "Fire",
          "Fire",
          "Release of Substance",
          "Release of Substance",
          "Release of Substance",
          "Release of Substance",
          "Fire",
          "Release of Substance",
          "Release of Substance",
          "Release of Substance",
          "Release of Substance",
          "Release of Substance",
          "Operation Beyond Design Limits",
          "Release of Substance",
          "Release of Substance",
          "Fatality",
          "Release of Substance",
          "Release of Substance",
          "Release of Substance",
          "Serious Injury (CER or TSB)",
          "Release of Substance",
          "Release of Substance",
          "Release of Substance",
          "Release of Substance",
          "Fire",
          "Fire",
          "Release of Substance",
          "Release of Substance",
          "Release of Substance",
          "Release of Substance",
          "Release of Substance",
          "Release of Substance",
          "Release of Substance",
          "Release of Substance, Operation Beyond Design Limits",
          "Release of Substance",
          "Release of Substance",
          "Fatality",
          "Release of Substance",
          "Release of Substance",
          "Release of Substance",
          "Release of Substance",
          "Release of Substance",
          "Release of Substance",
          "Release of Substance",
          "Release of Substance",
          "Fire",
          "Release of Substance",
          "Release of Substance",
          "Fire, Release of Substance",
          "Release of Substance",
          "Release of Substance",
          "Fire",
          "Release of Substance",
          "Release of Substance",
          "Release of Substance",
          "Fire",
          "Release of Substance",
          "Operation Beyond Design Limits",
          "Release of Substance",
          "Release of Substance",
          "Release of Substance",
          "Release of Substance",
          "Fire",
          "Operation Beyond Design Limits",
          "Operation Beyond Design Limits",
          "Operation Beyond Design Limits",
          "Operation Beyond Design Limits",
          "Operation Beyond Design Limits",
          "Operation Beyond Design Limits",
          "Operation Beyond Design Limits",
          "Operation Beyond Design Limits",
          "Operation Beyond Design Limits",
          "Operation Beyond Design Limits",
          "Operation Beyond Design Limits",
          "Serious Injury (CER or TSB)",
          "Release of Substance",
          "Release of Substance",
          "Fire",
          "Release of Substance",
          "Release of Substance, Adverse Environmental Effects",
          "Release of Substance",
          "Release of Substance",
          "Operation Beyond Design Limits",
          "Release of Substance",
          "Operation Beyond Design Limits",
          "Release of Substance",
          "Release of Substance",
          "Release of Substance",
          "Release of Substance",
          "Release of Substance",
          "Operation Beyond Design Limits",
          "Release of Substance",
          "Release of Substance",
          "Adverse Environmental Effects",
          "Release of Substance",
          "Release of Substance",
          "Release of Substance",
          "Release of Substance",
          "Fire",
          "Operation Beyond Design Limits",
          "Serious Injury (CER or TSB)",
          "Release of Substance",
          "Release of Substance",
          "Release of Substance",
          "Fire",
          "Release of Substance",
          "Release of Substance",
          "Explosion, Fire",
          "Release of Substance",
          "Release of Substance",
          "Release of Substance",
          "Release of Substance",
          "Release of Substance",
          "Release of Substance",
          "Release of Substance",
          "Release of Substance",
          "Operation Beyond Design Limits",
          "Release of Substance",
          "Release of Substance",
          "Release of Substance",
          "Release of Substance",
          "Release of Substance",
          "Release of Substance",
          "Release of Substance",
          "Release of Substance",
          "Release of Substance",
          "Release of Substance",
          "Release of Substance",
          "Release of Substance",
          "Release of Substance",
          "Fire",
          "Release of Substance",
          "Release of Substance",
          "Fire, Release of Substance",
          "Release of Substance",
          "Release of Substance",
          "Release of Substance",
          "Release of Substance",
          "Release of Substance",
          "Release of Substance",
          "Release of Substance",
          "Release of Substance",
          "Fire",
          "Fire",
          "Release of Substance",
          "Release of Substance",
          "Release of Substance",
          "Release of Substance",
          "Fire",
          "Fire",
          "Release of Substance",
          "Release of Substance",
          "Release of Substance",
          "Release of Substance",
          "Release of Substance",
          "Release of Substance",
          "Fire",
          "Release of Substance",
          "Release of Substance",
          "Release of Substance",
          "Release of Substance",
          "Release of Substance",
          "Fire",
          "Operation Beyond Design Limits",
          "Release of Substance",
          "Operation Beyond Design Limits",
          "Fire",
          "Operation Beyond Design Limits",
          "Adverse Environmental Effects",
          "Release of Substance, Adverse Environmental Effects",
          "Release of Substance",
          "Serious Injury (CER or TSB)",
          "Serious Injury (CER or TSB)",
          "Serious Injury (CER or TSB)",
          "Operation Beyond Design Limits",
          "Operation Beyond Design Limits",
          "Operation Beyond Design Limits",
          "Operation Beyond Design Limits",
          "Serious Injury (CER or TSB)",
          "Operation Beyond Design Limits",
          "Release of Substance",
          "Operation Beyond Design Limits",
          "Release of Substance",
          "Operation Beyond Design Limits",
          "Fire",
          "Operation Beyond Design Limits",
          "Release of Substance",
          "Release of Substance",
          "Fire",
          "Release of Substance",
          "Serious Injury (CER or TSB)",
          "Fire",
          "Serious Injury (CER or TSB)",
          "Release of Substance",
          "Release of Substance",
          "Release of Substance",
          "Release of Substance",
          "Release of Substance",
          "Release of Substance",
          "Fire",
          "Release of Substance",
          "Release of Substance",
          "Release of Substance",
          "Fire, Release of Substance",
          "Release of Substance",
          "Release of Substance",
          "Fire",
          "Release of Substance",
          "Release of Substance",
          "Release of Substance",
          "Release of Substance",
          "Release of Substance",
          "Fire",
          "Explosion",
          "Release of Substance",
          "Explosion, Fire, Release of Substance",
          "Fire",
          "Release of Substance",
          "Release of Substance",
          "Release of Substance",
          "Release of Substance",
          "Release of Substance",
          "Release of Substance",
          "Fire",
          "Operation Beyond Design Limits",
          "Operation Beyond Design Limits",
          "Release of Substance",
          "Release of Substance",
          "Fire",
          "Release of Substance",
          "Release of Substance",
          "Fire, Release of Substance",
          "Fire",
          "Release of Substance",
          "Release of Substance",
          "Fire, Release of Substance",
          "Operation Beyond Design Limits",
          "Release of Substance",
          "Release of Substance",
          "Release of Substance",
          "Release of Substance",
          "Release of Substance",
          "Release of Substance",
          "Fire",
          "Release of Substance",
          "Fire",
          "Release of Substance",
          "Release of Substance",
          "Release of Substance",
          "Release of Substance",
          "Release of Substance",
          "Release of Substance",
          "Fire, Release of Substance",
          "Release of Substance",
          "Release of Substance",
          "Release of Substance",
          "Release of Substance",
          "Serious Injury (CER or TSB)",
          "Release of Substance",
          "Release of Substance",
          "Serious Injury (CER or TSB), Release of Substance",
          "Release of Substance",
          "Serious Injury (CER or TSB)",
          "Release of Substance",
          "Release of Substance",
          "Fire",
          "Adverse Environmental Effects",
          "Release of Substance",
          "Release of Substance",
          "Fire",
          "Release of Substance",
          "Release of Substance, Adverse Environmental Effects",
          "Fire",
          "Release of Substance",
          "Release of Substance",
          "Fire, Release of Substance",
          "Release of Substance",
          "Release of Substance",
          "Fire",
          "Release of Substance",
          "Serious Injury (CER or TSB)",
          "Serious Injury (CER or TSB)",
          "Release of Substance",
          "Release of Substance",
          "Fire",
          "Fire",
          "Serious Injury (CER or TSB)",
          "Release of Substance",
          "Release of Substance",
          "Release of Substance",
          "Release of Substance",
          "Release of Substance",
          "Release of Substance",
          "Fatality",
          "Fire",
          "Release of Substance",
          "Adverse Environmental Effects",
          "Release of Substance",
          "Release of Substance",
          "Adverse Environmental Effects",
          "Fire",
          "Release of Substance",
          "Release of Substance",
          "Fire",
          "Release of Substance",
          "Release of Substance",
          "Release of Substance",
          "Release of Substance",
          "Release of Substance",
          "Fatality",
          "Release of Substance",
          "Release of Substance",
          "Release of Substance",
          "Release of Substance",
          "Release of Substance",
          "Release of Substance, Adverse Environmental Effects",
          "Release of Substance",
          "Release of Substance",
          "Release of Substance",
          "Release of Substance"
         ],
         "xaxis": "x",
         "y": [
          1,
          1,
          1,
          1,
          1,
          1,
          1,
          1,
          1,
          1,
          1,
          1,
          1,
          1,
          1,
          1,
          1,
          1,
          1,
          1,
          1,
          1,
          1,
          1,
          1,
          1,
          1,
          1,
          1,
          1,
          1,
          1,
          1,
          1,
          1,
          1,
          1,
          1,
          1,
          1,
          1,
          1,
          1,
          1,
          1,
          1,
          1,
          1,
          1,
          1,
          1,
          1,
          1,
          1,
          1,
          1,
          1,
          1,
          1,
          1,
          1,
          1,
          1,
          1,
          1,
          1,
          1,
          1,
          1,
          1,
          1,
          1,
          1,
          1,
          1,
          1,
          1,
          1,
          1,
          1,
          1,
          1,
          1,
          1,
          1,
          1,
          1,
          1,
          1,
          1,
          1,
          1,
          1,
          1,
          1,
          1,
          1,
          1,
          1,
          1,
          1,
          1,
          1,
          1,
          1,
          1,
          1,
          1,
          1,
          1,
          1,
          1,
          1,
          1,
          1,
          1,
          1,
          1,
          1,
          1,
          1,
          1,
          1,
          1,
          1,
          1,
          1,
          1,
          1,
          1,
          1,
          1,
          1,
          1,
          1,
          1,
          1,
          1,
          1,
          1,
          1,
          1,
          1,
          1,
          1,
          1,
          1,
          1,
          1,
          1,
          1,
          1,
          1,
          1,
          1,
          1,
          1,
          1,
          1,
          1,
          1,
          1,
          1,
          1,
          1,
          1,
          1,
          1,
          1,
          1,
          1,
          1,
          1,
          1,
          1,
          1,
          1,
          1,
          1,
          1,
          1,
          1,
          1,
          1,
          1,
          1,
          1,
          1,
          1,
          1,
          1,
          1,
          1,
          1,
          1,
          1,
          1,
          1,
          1,
          1,
          1,
          1,
          1,
          1,
          1,
          1,
          1,
          1,
          1,
          1,
          1,
          1,
          1,
          1,
          1,
          1,
          1,
          1,
          1,
          1,
          1,
          1,
          1,
          1,
          1,
          1,
          1,
          1,
          1,
          1,
          1,
          1,
          1,
          1,
          1,
          1,
          1,
          1,
          1,
          1,
          1,
          1,
          1,
          1,
          1,
          1,
          1,
          1,
          1,
          1,
          1,
          1,
          1,
          1,
          1,
          1,
          1,
          1,
          1,
          1,
          1,
          1,
          1,
          1,
          1,
          1,
          1,
          1,
          1,
          1,
          1,
          1,
          1,
          1,
          1,
          1,
          1,
          1,
          1,
          1,
          1,
          1,
          1,
          1,
          1,
          1,
          1,
          1,
          1,
          1,
          1,
          1,
          1,
          1,
          1,
          1,
          1,
          1,
          1,
          1,
          1,
          1,
          1,
          1,
          1,
          1,
          1,
          1,
          1,
          1,
          1,
          1,
          1,
          1,
          1,
          1,
          1,
          1,
          1,
          1,
          1,
          1,
          1,
          1,
          1,
          1,
          1,
          1,
          1,
          1,
          1,
          1,
          1,
          1,
          1,
          1,
          1,
          1,
          1,
          1,
          1,
          1,
          1,
          1,
          1,
          1,
          1,
          1,
          1,
          1,
          1,
          1,
          1,
          1,
          1,
          1,
          1,
          1,
          1,
          1,
          1,
          1,
          1,
          1,
          1,
          1,
          1,
          1,
          1,
          1,
          1,
          1,
          1,
          1,
          1,
          1,
          1,
          1,
          1,
          1,
          1,
          1,
          1,
          1,
          1,
          1,
          1,
          1,
          1,
          1,
          1,
          1,
          1,
          1,
          1,
          1,
          1,
          1,
          1,
          1,
          1,
          1,
          1,
          1,
          1,
          1,
          1,
          1,
          1,
          1,
          1,
          1,
          1,
          1,
          1,
          1,
          1,
          1,
          1,
          1,
          1,
          1,
          1,
          1,
          1,
          1,
          1,
          1,
          1,
          1,
          1,
          1,
          1,
          1,
          1,
          1,
          1,
          1,
          1,
          1,
          1,
          1,
          1,
          1,
          1,
          1,
          1,
          1,
          1,
          1,
          1,
          1,
          1,
          1,
          1,
          1,
          1,
          1,
          1,
          1,
          1,
          1,
          1,
          1,
          1,
          1,
          1,
          1,
          1,
          1,
          1,
          1,
          1,
          1,
          1,
          1,
          1,
          1,
          1,
          1,
          1,
          1,
          1,
          1,
          1,
          1,
          1,
          1,
          1,
          1,
          1,
          1,
          1,
          1,
          1,
          1,
          1,
          1,
          1,
          1,
          1,
          1,
          1,
          1,
          1,
          1,
          1,
          1,
          1,
          1,
          1,
          1,
          1,
          1,
          1,
          1,
          1,
          1,
          1,
          1,
          1,
          1,
          1,
          1,
          1,
          1,
          1,
          1,
          1,
          1,
          1,
          1,
          1,
          1,
          1,
          1,
          1,
          1,
          1,
          1,
          1,
          1,
          1,
          1,
          1,
          1,
          1,
          1,
          1,
          1,
          1,
          1,
          1,
          1,
          1,
          1,
          1,
          1,
          1,
          1,
          1,
          1,
          1,
          1,
          1,
          1,
          1,
          1,
          1,
          1,
          1,
          1,
          1,
          1,
          1,
          1,
          1,
          1,
          1,
          1,
          1,
          1,
          1,
          1,
          1,
          1,
          1,
          1,
          1,
          1,
          1,
          1,
          1,
          1,
          1,
          1,
          1,
          1,
          1,
          1,
          1,
          1,
          1,
          1,
          1,
          1,
          1,
          1,
          1,
          1,
          1,
          1,
          1,
          1,
          1,
          1,
          1,
          1,
          1,
          1,
          1,
          1,
          1,
          1,
          1,
          1,
          1,
          1,
          1,
          1,
          1,
          1,
          1,
          1,
          1,
          1,
          1,
          1,
          1,
          1,
          1,
          1,
          1,
          1,
          1,
          1,
          1,
          1,
          1,
          1,
          1,
          1,
          1,
          1,
          1,
          1,
          1,
          1,
          1,
          1,
          1,
          1,
          1,
          1,
          1,
          1,
          1,
          1,
          1,
          1,
          1,
          1,
          1,
          1,
          1,
          1,
          1,
          1,
          1,
          1,
          1,
          1,
          1,
          1,
          1,
          1,
          1,
          1,
          1,
          1,
          1,
          1,
          1,
          1,
          1,
          1,
          1,
          1,
          1,
          1,
          1,
          1,
          1,
          1,
          1,
          1,
          1,
          1,
          1,
          1,
          1,
          1,
          1,
          1,
          1,
          1,
          1,
          1,
          1,
          1,
          1,
          1,
          1,
          1,
          1,
          1,
          1,
          1,
          1,
          1,
          1,
          1,
          1,
          1,
          1,
          1,
          1,
          1,
          1,
          1,
          1,
          1,
          1,
          1,
          1,
          1,
          1,
          1,
          1,
          1,
          1,
          1,
          1,
          1,
          1,
          1,
          1,
          1,
          1,
          1,
          1,
          1,
          1,
          1,
          1,
          1,
          1,
          1,
          1,
          1,
          1,
          1,
          1,
          1,
          1,
          1,
          1,
          1,
          1,
          1,
          1,
          1,
          1,
          1,
          1,
          1,
          1,
          1,
          1,
          1,
          1,
          1,
          1,
          1,
          1,
          1,
          1,
          1,
          1,
          1,
          1,
          1,
          1,
          1,
          1,
          1,
          1,
          1,
          1,
          1,
          1,
          1,
          1,
          1,
          1,
          1,
          1,
          1,
          1,
          1,
          1,
          1,
          1,
          1,
          1,
          1,
          1,
          1,
          1,
          1,
          1,
          1,
          1,
          1,
          1,
          1,
          1,
          1,
          1,
          1,
          1,
          1,
          1,
          1,
          1,
          1,
          1,
          1,
          1,
          1,
          1,
          1,
          1,
          1,
          1,
          1,
          1,
          1,
          1,
          1,
          1,
          1,
          1,
          1,
          1,
          1,
          1,
          1,
          1,
          1,
          1,
          1,
          1,
          1,
          1,
          1,
          1,
          1,
          1,
          1,
          1,
          1,
          1,
          1,
          1,
          1,
          1,
          1,
          1,
          1,
          1,
          1,
          1,
          1,
          1,
          1,
          1,
          1,
          1,
          1,
          1,
          1,
          1,
          1,
          1,
          1,
          1,
          1,
          1,
          1,
          1,
          1,
          1,
          1,
          1,
          1,
          1,
          1,
          1,
          1,
          1,
          1,
          1,
          1,
          1,
          1,
          1,
          1,
          1,
          1,
          1,
          1,
          1,
          1,
          1,
          1,
          1,
          1,
          1,
          1,
          1,
          1,
          1,
          1,
          1,
          1,
          1,
          1,
          1,
          1,
          1,
          1,
          1,
          1,
          1,
          1,
          1,
          1,
          1,
          1,
          1,
          1,
          1,
          1,
          1,
          1,
          1,
          1,
          1,
          1,
          1,
          1,
          1,
          1,
          1,
          1,
          1,
          1,
          1,
          1,
          1,
          1,
          1,
          1,
          1,
          1,
          1,
          1,
          1,
          1,
          1,
          1,
          1,
          1,
          1,
          1,
          1,
          1,
          1,
          1,
          1,
          1,
          1,
          1,
          1,
          1,
          1,
          1,
          1,
          1,
          1,
          1,
          1,
          1,
          1,
          1,
          1,
          1,
          1,
          1,
          1,
          1,
          1,
          1,
          1,
          1,
          1,
          1,
          1,
          1,
          1,
          1,
          1,
          1,
          1,
          1,
          1,
          1,
          1,
          1,
          1,
          1,
          1,
          1,
          1,
          1,
          1,
          1,
          1,
          1,
          1,
          1,
          1,
          1,
          1,
          1,
          1,
          1,
          1,
          1,
          1,
          1,
          1,
          1,
          1,
          1,
          1,
          1,
          1,
          1,
          1,
          1,
          1,
          1,
          1,
          1,
          1,
          1,
          1,
          1,
          1,
          1,
          1,
          1,
          1,
          1,
          1,
          1,
          1,
          1,
          1,
          1,
          1,
          1,
          1,
          1,
          1,
          1,
          1,
          1,
          1,
          1,
          1,
          1,
          1,
          1,
          1,
          1,
          1,
          1,
          1,
          1,
          1,
          1,
          1,
          1,
          1,
          1,
          1,
          1,
          1,
          1,
          1,
          1,
          1,
          1,
          1,
          1,
          1,
          1,
          1,
          1,
          1,
          1,
          1,
          1,
          1,
          1,
          1,
          1,
          1,
          1,
          1,
          1,
          1,
          1,
          1,
          1,
          1,
          1,
          1,
          1,
          1,
          1,
          1,
          1,
          1,
          1,
          1,
          1,
          1,
          1,
          1,
          1,
          1,
          1,
          1,
          1,
          1,
          1,
          1,
          1,
          1,
          1,
          1,
          1,
          1,
          1,
          1,
          1,
          1,
          1,
          1,
          1,
          1,
          1,
          1,
          1,
          1,
          1,
          1,
          1,
          1,
          1,
          1,
          1,
          1,
          1,
          1,
          1,
          1,
          1,
          1,
          1,
          1,
          1,
          1,
          1,
          1,
          1,
          1,
          1,
          1,
          1,
          1,
          1,
          1,
          1,
          1,
          1,
          1,
          1,
          1,
          1,
          1,
          1,
          1,
          1,
          1,
          1,
          1,
          1,
          1,
          1,
          1,
          1,
          1,
          1,
          1,
          1,
          1,
          1,
          1,
          1,
          1,
          1,
          1,
          1,
          1,
          1,
          1,
          1,
          1,
          1,
          1,
          1,
          1,
          1,
          1,
          1,
          1,
          1,
          1,
          1,
          1,
          1,
          1,
          1,
          1,
          1,
          1,
          1,
          1,
          1,
          1,
          1,
          1,
          1,
          1,
          1,
          1,
          1,
          1,
          1,
          1,
          1,
          1,
          1,
          1,
          1,
          1,
          1,
          1,
          1,
          1,
          1,
          1,
          1,
          1,
          1,
          1,
          1,
          1,
          1,
          1,
          1,
          1,
          1,
          1,
          1,
          1,
          1,
          1,
          1,
          1,
          1,
          1,
          1,
          1,
          1,
          1,
          1,
          1,
          1,
          1,
          1,
          1,
          1,
          1,
          1,
          1,
          1,
          1,
          1,
          1,
          1,
          1,
          1,
          1,
          1,
          1,
          1,
          1,
          1,
          1,
          1,
          1,
          1,
          1,
          1,
          1,
          1,
          1,
          1,
          1,
          1,
          1,
          1,
          1,
          1,
          1,
          1,
          1,
          1,
          1,
          1,
          1,
          1,
          1,
          1,
          1,
          1,
          1,
          1,
          1,
          1,
          1,
          1,
          1,
          1,
          1,
          1,
          1,
          1,
          1,
          1,
          1,
          1,
          1,
          1,
          1,
          1,
          1,
          1,
          1,
          1,
          1,
          1,
          1,
          1,
          1,
          1,
          1,
          1,
          1,
          1,
          1,
          1,
          1,
          1,
          1,
          1,
          1,
          1,
          1,
          1,
          1,
          1,
          1,
          1,
          1,
          1,
          1,
          1,
          1,
          1,
          1,
          1,
          1,
          1,
          1,
          1,
          1,
          1,
          1,
          1,
          1,
          1,
          1,
          1,
          1,
          1,
          1,
          1,
          1,
          1,
          1,
          1,
          1,
          1,
          1,
          1,
          1,
          1,
          1,
          1,
          1,
          1,
          1,
          1,
          1,
          1,
          1,
          1,
          1,
          1,
          1,
          1,
          1,
          1,
          1,
          1,
          1,
          1,
          1,
          1,
          1,
          1,
          1,
          1,
          1,
          1,
          1,
          1,
          1,
          1,
          1,
          1,
          1,
          1,
          1,
          1,
          1,
          1,
          1,
          1,
          1,
          1,
          1,
          1,
          1,
          1,
          1,
          1,
          1,
          1,
          1,
          1,
          1,
          1,
          1,
          1,
          1,
          1,
          1,
          1,
          1,
          1,
          1,
          1,
          1,
          1,
          1,
          1,
          1,
          1,
          1,
          1,
          1,
          1,
          1,
          1,
          1,
          1,
          1,
          1,
          1,
          1,
          1,
          1,
          1,
          1,
          1,
          1,
          1,
          1,
          1,
          1,
          1,
          1,
          1,
          1,
          1,
          1,
          1,
          1,
          1,
          1,
          1,
          1,
          1,
          1,
          1,
          1,
          1,
          1,
          1,
          1,
          1,
          1,
          1,
          1,
          1,
          1,
          1,
          1,
          1,
          1,
          1,
          1,
          1,
          1,
          1,
          1,
          1,
          1,
          1,
          1,
          1,
          1,
          1,
          1,
          1,
          1,
          1,
          1,
          1,
          1,
          1,
          1,
          1,
          1,
          1,
          1,
          1,
          1,
          1,
          1,
          1,
          1,
          1,
          1,
          1,
          1,
          1,
          1,
          1,
          1,
          1,
          1,
          1,
          1,
          1,
          1,
          1,
          1,
          1,
          1,
          1,
          1,
          1,
          1,
          1,
          1,
          1,
          1,
          1,
          1,
          1,
          1,
          1,
          1,
          1,
          1,
          1,
          1,
          1,
          1,
          1,
          1,
          1,
          1,
          1,
          1,
          1,
          1,
          1,
          1,
          1,
          1,
          1,
          1,
          1,
          1,
          1,
          1,
          1,
          1,
          1,
          1,
          1,
          1,
          1,
          1,
          1,
          1,
          1,
          1,
          1,
          1,
          1,
          1,
          1,
          1,
          1,
          1,
          1,
          1,
          1,
          1,
          1,
          1,
          1,
          1,
          1,
          1,
          1,
          1,
          1,
          1,
          1,
          1,
          1,
          1,
          1,
          1,
          1,
          1,
          1,
          1,
          1,
          1,
          1,
          1,
          1,
          1,
          1,
          1,
          1,
          1,
          1,
          1,
          1,
          1,
          1,
          1,
          1,
          1,
          1,
          1,
          1,
          1,
          1,
          1,
          1,
          1,
          1,
          1,
          1,
          1,
          1,
          1,
          1,
          1,
          1,
          1,
          1,
          1,
          1,
          1,
          1,
          1,
          1,
          1,
          1,
          1,
          1,
          1,
          1,
          1,
          1,
          1,
          1,
          1,
          1,
          1,
          1,
          1,
          1,
          1,
          1,
          1,
          1,
          1,
          1,
          1,
          1,
          1,
          1,
          1,
          1,
          1,
          1,
          1,
          1,
          1,
          1,
          1,
          1,
          1,
          1,
          1,
          1,
          1,
          1
         ],
         "yaxis": "y"
        }
       ],
       "layout": {
        "barmode": "relative",
        "legend": {
         "title": {
          "text": "variable"
         },
         "tracegroupgap": 0
        },
        "margin": {
         "t": 60
        },
        "template": {
         "data": {
          "bar": [
           {
            "error_x": {
             "color": "#2a3f5f"
            },
            "error_y": {
             "color": "#2a3f5f"
            },
            "marker": {
             "line": {
              "color": "#E5ECF6",
              "width": 0.5
             },
             "pattern": {
              "fillmode": "overlay",
              "size": 10,
              "solidity": 0.2
             }
            },
            "type": "bar"
           }
          ],
          "barpolar": [
           {
            "marker": {
             "line": {
              "color": "#E5ECF6",
              "width": 0.5
             },
             "pattern": {
              "fillmode": "overlay",
              "size": 10,
              "solidity": 0.2
             }
            },
            "type": "barpolar"
           }
          ],
          "carpet": [
           {
            "aaxis": {
             "endlinecolor": "#2a3f5f",
             "gridcolor": "white",
             "linecolor": "white",
             "minorgridcolor": "white",
             "startlinecolor": "#2a3f5f"
            },
            "baxis": {
             "endlinecolor": "#2a3f5f",
             "gridcolor": "white",
             "linecolor": "white",
             "minorgridcolor": "white",
             "startlinecolor": "#2a3f5f"
            },
            "type": "carpet"
           }
          ],
          "choropleth": [
           {
            "colorbar": {
             "outlinewidth": 0,
             "ticks": ""
            },
            "type": "choropleth"
           }
          ],
          "contour": [
           {
            "colorbar": {
             "outlinewidth": 0,
             "ticks": ""
            },
            "colorscale": [
             [
              0,
              "#0d0887"
             ],
             [
              0.1111111111111111,
              "#46039f"
             ],
             [
              0.2222222222222222,
              "#7201a8"
             ],
             [
              0.3333333333333333,
              "#9c179e"
             ],
             [
              0.4444444444444444,
              "#bd3786"
             ],
             [
              0.5555555555555556,
              "#d8576b"
             ],
             [
              0.6666666666666666,
              "#ed7953"
             ],
             [
              0.7777777777777778,
              "#fb9f3a"
             ],
             [
              0.8888888888888888,
              "#fdca26"
             ],
             [
              1,
              "#f0f921"
             ]
            ],
            "type": "contour"
           }
          ],
          "contourcarpet": [
           {
            "colorbar": {
             "outlinewidth": 0,
             "ticks": ""
            },
            "type": "contourcarpet"
           }
          ],
          "heatmap": [
           {
            "colorbar": {
             "outlinewidth": 0,
             "ticks": ""
            },
            "colorscale": [
             [
              0,
              "#0d0887"
             ],
             [
              0.1111111111111111,
              "#46039f"
             ],
             [
              0.2222222222222222,
              "#7201a8"
             ],
             [
              0.3333333333333333,
              "#9c179e"
             ],
             [
              0.4444444444444444,
              "#bd3786"
             ],
             [
              0.5555555555555556,
              "#d8576b"
             ],
             [
              0.6666666666666666,
              "#ed7953"
             ],
             [
              0.7777777777777778,
              "#fb9f3a"
             ],
             [
              0.8888888888888888,
              "#fdca26"
             ],
             [
              1,
              "#f0f921"
             ]
            ],
            "type": "heatmap"
           }
          ],
          "heatmapgl": [
           {
            "colorbar": {
             "outlinewidth": 0,
             "ticks": ""
            },
            "colorscale": [
             [
              0,
              "#0d0887"
             ],
             [
              0.1111111111111111,
              "#46039f"
             ],
             [
              0.2222222222222222,
              "#7201a8"
             ],
             [
              0.3333333333333333,
              "#9c179e"
             ],
             [
              0.4444444444444444,
              "#bd3786"
             ],
             [
              0.5555555555555556,
              "#d8576b"
             ],
             [
              0.6666666666666666,
              "#ed7953"
             ],
             [
              0.7777777777777778,
              "#fb9f3a"
             ],
             [
              0.8888888888888888,
              "#fdca26"
             ],
             [
              1,
              "#f0f921"
             ]
            ],
            "type": "heatmapgl"
           }
          ],
          "histogram": [
           {
            "marker": {
             "pattern": {
              "fillmode": "overlay",
              "size": 10,
              "solidity": 0.2
             }
            },
            "type": "histogram"
           }
          ],
          "histogram2d": [
           {
            "colorbar": {
             "outlinewidth": 0,
             "ticks": ""
            },
            "colorscale": [
             [
              0,
              "#0d0887"
             ],
             [
              0.1111111111111111,
              "#46039f"
             ],
             [
              0.2222222222222222,
              "#7201a8"
             ],
             [
              0.3333333333333333,
              "#9c179e"
             ],
             [
              0.4444444444444444,
              "#bd3786"
             ],
             [
              0.5555555555555556,
              "#d8576b"
             ],
             [
              0.6666666666666666,
              "#ed7953"
             ],
             [
              0.7777777777777778,
              "#fb9f3a"
             ],
             [
              0.8888888888888888,
              "#fdca26"
             ],
             [
              1,
              "#f0f921"
             ]
            ],
            "type": "histogram2d"
           }
          ],
          "histogram2dcontour": [
           {
            "colorbar": {
             "outlinewidth": 0,
             "ticks": ""
            },
            "colorscale": [
             [
              0,
              "#0d0887"
             ],
             [
              0.1111111111111111,
              "#46039f"
             ],
             [
              0.2222222222222222,
              "#7201a8"
             ],
             [
              0.3333333333333333,
              "#9c179e"
             ],
             [
              0.4444444444444444,
              "#bd3786"
             ],
             [
              0.5555555555555556,
              "#d8576b"
             ],
             [
              0.6666666666666666,
              "#ed7953"
             ],
             [
              0.7777777777777778,
              "#fb9f3a"
             ],
             [
              0.8888888888888888,
              "#fdca26"
             ],
             [
              1,
              "#f0f921"
             ]
            ],
            "type": "histogram2dcontour"
           }
          ],
          "mesh3d": [
           {
            "colorbar": {
             "outlinewidth": 0,
             "ticks": ""
            },
            "type": "mesh3d"
           }
          ],
          "parcoords": [
           {
            "line": {
             "colorbar": {
              "outlinewidth": 0,
              "ticks": ""
             }
            },
            "type": "parcoords"
           }
          ],
          "pie": [
           {
            "automargin": true,
            "type": "pie"
           }
          ],
          "scatter": [
           {
            "fillpattern": {
             "fillmode": "overlay",
             "size": 10,
             "solidity": 0.2
            },
            "type": "scatter"
           }
          ],
          "scatter3d": [
           {
            "line": {
             "colorbar": {
              "outlinewidth": 0,
              "ticks": ""
             }
            },
            "marker": {
             "colorbar": {
              "outlinewidth": 0,
              "ticks": ""
             }
            },
            "type": "scatter3d"
           }
          ],
          "scattercarpet": [
           {
            "marker": {
             "colorbar": {
              "outlinewidth": 0,
              "ticks": ""
             }
            },
            "type": "scattercarpet"
           }
          ],
          "scattergeo": [
           {
            "marker": {
             "colorbar": {
              "outlinewidth": 0,
              "ticks": ""
             }
            },
            "type": "scattergeo"
           }
          ],
          "scattergl": [
           {
            "marker": {
             "colorbar": {
              "outlinewidth": 0,
              "ticks": ""
             }
            },
            "type": "scattergl"
           }
          ],
          "scattermapbox": [
           {
            "marker": {
             "colorbar": {
              "outlinewidth": 0,
              "ticks": ""
             }
            },
            "type": "scattermapbox"
           }
          ],
          "scatterpolar": [
           {
            "marker": {
             "colorbar": {
              "outlinewidth": 0,
              "ticks": ""
             }
            },
            "type": "scatterpolar"
           }
          ],
          "scatterpolargl": [
           {
            "marker": {
             "colorbar": {
              "outlinewidth": 0,
              "ticks": ""
             }
            },
            "type": "scatterpolargl"
           }
          ],
          "scatterternary": [
           {
            "marker": {
             "colorbar": {
              "outlinewidth": 0,
              "ticks": ""
             }
            },
            "type": "scatterternary"
           }
          ],
          "surface": [
           {
            "colorbar": {
             "outlinewidth": 0,
             "ticks": ""
            },
            "colorscale": [
             [
              0,
              "#0d0887"
             ],
             [
              0.1111111111111111,
              "#46039f"
             ],
             [
              0.2222222222222222,
              "#7201a8"
             ],
             [
              0.3333333333333333,
              "#9c179e"
             ],
             [
              0.4444444444444444,
              "#bd3786"
             ],
             [
              0.5555555555555556,
              "#d8576b"
             ],
             [
              0.6666666666666666,
              "#ed7953"
             ],
             [
              0.7777777777777778,
              "#fb9f3a"
             ],
             [
              0.8888888888888888,
              "#fdca26"
             ],
             [
              1,
              "#f0f921"
             ]
            ],
            "type": "surface"
           }
          ],
          "table": [
           {
            "cells": {
             "fill": {
              "color": "#EBF0F8"
             },
             "line": {
              "color": "white"
             }
            },
            "header": {
             "fill": {
              "color": "#C8D4E3"
             },
             "line": {
              "color": "white"
             }
            },
            "type": "table"
           }
          ]
         },
         "layout": {
          "annotationdefaults": {
           "arrowcolor": "#2a3f5f",
           "arrowhead": 0,
           "arrowwidth": 1
          },
          "autotypenumbers": "strict",
          "coloraxis": {
           "colorbar": {
            "outlinewidth": 0,
            "ticks": ""
           }
          },
          "colorscale": {
           "diverging": [
            [
             0,
             "#8e0152"
            ],
            [
             0.1,
             "#c51b7d"
            ],
            [
             0.2,
             "#de77ae"
            ],
            [
             0.3,
             "#f1b6da"
            ],
            [
             0.4,
             "#fde0ef"
            ],
            [
             0.5,
             "#f7f7f7"
            ],
            [
             0.6,
             "#e6f5d0"
            ],
            [
             0.7,
             "#b8e186"
            ],
            [
             0.8,
             "#7fbc41"
            ],
            [
             0.9,
             "#4d9221"
            ],
            [
             1,
             "#276419"
            ]
           ],
           "sequential": [
            [
             0,
             "#0d0887"
            ],
            [
             0.1111111111111111,
             "#46039f"
            ],
            [
             0.2222222222222222,
             "#7201a8"
            ],
            [
             0.3333333333333333,
             "#9c179e"
            ],
            [
             0.4444444444444444,
             "#bd3786"
            ],
            [
             0.5555555555555556,
             "#d8576b"
            ],
            [
             0.6666666666666666,
             "#ed7953"
            ],
            [
             0.7777777777777778,
             "#fb9f3a"
            ],
            [
             0.8888888888888888,
             "#fdca26"
            ],
            [
             1,
             "#f0f921"
            ]
           ],
           "sequentialminus": [
            [
             0,
             "#0d0887"
            ],
            [
             0.1111111111111111,
             "#46039f"
            ],
            [
             0.2222222222222222,
             "#7201a8"
            ],
            [
             0.3333333333333333,
             "#9c179e"
            ],
            [
             0.4444444444444444,
             "#bd3786"
            ],
            [
             0.5555555555555556,
             "#d8576b"
            ],
            [
             0.6666666666666666,
             "#ed7953"
            ],
            [
             0.7777777777777778,
             "#fb9f3a"
            ],
            [
             0.8888888888888888,
             "#fdca26"
            ],
            [
             1,
             "#f0f921"
            ]
           ]
          },
          "colorway": [
           "#636efa",
           "#EF553B",
           "#00cc96",
           "#ab63fa",
           "#FFA15A",
           "#19d3f3",
           "#FF6692",
           "#B6E880",
           "#FF97FF",
           "#FECB52"
          ],
          "font": {
           "color": "#2a3f5f"
          },
          "geo": {
           "bgcolor": "white",
           "lakecolor": "white",
           "landcolor": "#E5ECF6",
           "showlakes": true,
           "showland": true,
           "subunitcolor": "white"
          },
          "hoverlabel": {
           "align": "left"
          },
          "hovermode": "closest",
          "mapbox": {
           "style": "light"
          },
          "paper_bgcolor": "white",
          "plot_bgcolor": "#E5ECF6",
          "polar": {
           "angularaxis": {
            "gridcolor": "white",
            "linecolor": "white",
            "ticks": ""
           },
           "bgcolor": "#E5ECF6",
           "radialaxis": {
            "gridcolor": "white",
            "linecolor": "white",
            "ticks": ""
           }
          },
          "scene": {
           "xaxis": {
            "backgroundcolor": "#E5ECF6",
            "gridcolor": "white",
            "gridwidth": 2,
            "linecolor": "white",
            "showbackground": true,
            "ticks": "",
            "zerolinecolor": "white"
           },
           "yaxis": {
            "backgroundcolor": "#E5ECF6",
            "gridcolor": "white",
            "gridwidth": 2,
            "linecolor": "white",
            "showbackground": true,
            "ticks": "",
            "zerolinecolor": "white"
           },
           "zaxis": {
            "backgroundcolor": "#E5ECF6",
            "gridcolor": "white",
            "gridwidth": 2,
            "linecolor": "white",
            "showbackground": true,
            "ticks": "",
            "zerolinecolor": "white"
           }
          },
          "shapedefaults": {
           "line": {
            "color": "#2a3f5f"
           }
          },
          "ternary": {
           "aaxis": {
            "gridcolor": "white",
            "linecolor": "white",
            "ticks": ""
           },
           "baxis": {
            "gridcolor": "white",
            "linecolor": "white",
            "ticks": ""
           },
           "bgcolor": "#E5ECF6",
           "caxis": {
            "gridcolor": "white",
            "linecolor": "white",
            "ticks": ""
           }
          },
          "title": {
           "x": 0.05
          },
          "xaxis": {
           "automargin": true,
           "gridcolor": "white",
           "linecolor": "white",
           "ticks": "",
           "title": {
            "standoff": 15
           },
           "zerolinecolor": "white",
           "zerolinewidth": 2
          },
          "yaxis": {
           "automargin": true,
           "gridcolor": "white",
           "linecolor": "white",
           "ticks": "",
           "title": {
            "standoff": 15
           },
           "zerolinecolor": "white",
           "zerolinewidth": 2
          }
         }
        },
        "xaxis": {
         "anchor": "y",
         "domain": [
          0,
          1
         ],
         "title": {
          "text": "value"
         }
        },
        "yaxis": {
         "anchor": "x",
         "domain": [
          0,
          1
         ],
         "title": {
          "text": "count"
         }
        }
       }
      },
      "text/html": [
       "<div>                            <div id=\"1c3d4e52-d394-4e7e-8217-f2ae24947702\" class=\"plotly-graph-div\" style=\"height:525px; width:100%;\"></div>            <script type=\"text/javascript\">                require([\"plotly\"], function(Plotly) {                    window.PLOTLYENV=window.PLOTLYENV || {};                                    if (document.getElementById(\"1c3d4e52-d394-4e7e-8217-f2ae24947702\")) {                    Plotly.newPlot(                        \"1c3d4e52-d394-4e7e-8217-f2ae24947702\",                        [{\"alignmentgroup\":\"True\",\"hovertemplate\":\"variable=Incident Types\\u003cbr\\u003evalue=%{x}\\u003cbr\\u003ecount=%{y}\\u003cextra\\u003e\\u003c\\u002fextra\\u003e\",\"legendgroup\":\"Incident Types\",\"marker\":{\"color\":\"#636efa\",\"pattern\":{\"shape\":\"\"}},\"name\":\"Incident Types\",\"offsetgroup\":\"Incident Types\",\"orientation\":\"v\",\"showlegend\":true,\"textposition\":\"auto\",\"texttemplate\":\"%{y:.2s}\",\"x\":[\"Fire\",\"Release of Substance\",\"Fire\",\"Fire\",\"Serious Injury (CER or TSB)\",\"Release of Substance\",\"Operation Beyond Design Limits\",\"Fire\",\"Serious Injury (CER or TSB)\",\"Adverse Environmental Effects\",\"Serious Injury (CER or TSB)\",\"Fire\",\"Fire\",\"Fire\",\"Operation Beyond Design Limits\",\"Operation Beyond Design Limits\",\"Fire\",\"Fire\",\"Release of Substance\",\"Operation Beyond Design Limits\",\"Adverse Environmental Effects\",\"Fire\",\"Release of Substance\",\"Operation Beyond Design Limits\",\"Fire\",\"Fire\",\"Fire\",\"Release of Substance\",\"Adverse Environmental Effects\",\"Fire\",\"Adverse Environmental Effects\",\"Fire\",\"Serious Injury (CER or TSB)\",\"Serious Injury (CER or TSB)\",\"Release of Substance\",\"Fire\",\"Adverse Environmental Effects\",\"Operation Beyond Design Limits\",\"Fire\",\"Fire\",\"Adverse Environmental Effects\",\"Fire\",\"Release of Substance\",\"Adverse Environmental Effects\",\"Release of Substance, Adverse Environmental Effects\",\"Fire\",\"Release of Substance, Adverse Environmental Effects\",\"Release of Substance\",\"Fire\",\"Fire\",\"Fire\",\"Serious Injury (CER or TSB)\",\"Operation Beyond Design Limits\",\"Fire\",\"Adverse Environmental Effects\",\"Fire\",\"Release of Substance\",\"Serious Injury (CER or TSB)\",\"Adverse Environmental Effects\",\"Explosion\",\"Fire\",\"Serious Injury (CER or TSB)\",\"Operation Beyond Design Limits\",\"Serious Injury (CER or TSB)\",\"Fire\",\"Serious Injury (CER or TSB)\",\"Fire\",\"Serious Injury (CER or TSB)\",\"Fire\",\"Fire\",\"Fire\",\"Adverse Environmental Effects\",\"Adverse Environmental Effects\",\"Adverse Environmental Effects\",\"Fire\",\"Fire\",\"Fire\",\"Operation Beyond Design Limits\",\"Release of Substance\",\"Fire\",\"Adverse Environmental Effects\",\"Operation Beyond Design Limits\",\"Serious Injury (CER or TSB)\",\"Serious Injury (CER or TSB)\",\"Serious Injury (CER or TSB)\",\"Fire\",\"Fire\",\"Release of Substance\",\"Release of Substance\",\"Release of Substance\",\"Adverse Environmental Effects\",\"Serious Injury (CER or TSB)\",\"Fire\",\"Fire\",\"Operation Beyond Design Limits\",\"Fire\",\"Serious Injury (CER or TSB)\",\"Serious Injury (CER or TSB)\",\"Fire\",\"Fire\",\"Operation Beyond Design Limits\",\"Release of Substance\",\"Release of Substance\",\"Fire\",\"Adverse Environmental Effects\",\"Fire\",\"Adverse Environmental Effects\",\"Operation Beyond Design Limits\",\"Fire\",\"Operation Beyond Design Limits\",\"Operation Beyond Design Limits\",\"Serious Injury (CER or TSB)\",\"Fire\",\"Release of Substance\",\"Operation Beyond Design Limits\",\"Serious Injury (CER or TSB)\",\"Adverse Environmental Effects\",\"Fire\",\"Fire\",\"Fire\",\"Fire\",\"Serious Injury (CER or TSB)\",\"Operation Beyond Design Limits\",\"Serious Injury (CER or TSB)\",\"Fire\",\"Fire\",\"Release of Substance\",\"Fire\",\"Operation Beyond Design Limits\",\"Fire\",\"Release of Substance\",\"Release of Substance\",\"Serious Injury (CER or TSB)\",\"Serious Injury (CER or TSB)\",\"Explosion\",\"Fire\",\"Serious Injury (CER or TSB)\",\"Fire\",\"Adverse Environmental Effects\",\"Fire\",\"Serious Injury (CER or TSB)\",\"Operation Beyond Design Limits\",\"Operation Beyond Design Limits\",\"Fire\",\"Adverse Environmental Effects\",\"Fire\",\"Release of Substance\",\"Adverse Environmental Effects\",\"Release of Substance\",\"Adverse Environmental Effects\",\"Fire\",\"Adverse Environmental Effects\",\"Release of Substance\",\"Fire\",\"Fire\",\"Operation Beyond Design Limits\",\"Serious Injury (CER or TSB)\",\"Adverse Environmental Effects\",\"Fire\",\"Adverse Environmental Effects\",\"Fire\",\"Serious Injury (CER or TSB)\",\"Serious Injury (CER or TSB)\",\"Operation Beyond Design Limits\",\"Operation Beyond Design Limits\",\"Release of Substance\",\"Adverse Environmental Effects\",\"Fire\",\"Operation Beyond Design Limits\",\"Operation Beyond Design Limits\",\"Operation Beyond Design Limits\",\"Release of Substance\",\"Fire\",\"Release of Substance\",\"Fire\",\"Fire\",\"Fire\",\"Fire\",\"Fire\",\"Release of Substance\",\"Fire\",\"Fire\",\"Operation Beyond Design Limits\",\"Fire, Release of Substance\",\"Fire\",\"Operation Beyond Design Limits\",\"Release of Substance\",\"Operation Beyond Design Limits\",\"Serious Injury (CER or TSB)\",\"Fire\",\"Fire\",\"Fire\",\"Release of Substance\",\"Fire\",\"Adverse Environmental Effects\",\"Fire\",\"Fire\",\"Serious Injury (CER or TSB)\",\"Fire\",\"Operation Beyond Design Limits\",\"Serious Injury (CER or TSB)\",\"Serious Injury (CER or TSB)\",\"Serious Injury (CER or TSB)\",\"Fire\",\"Release of Substance\",\"Operation Beyond Design Limits\",\"Adverse Environmental Effects\",\"Release of Substance\",\"Fire\",\"Fire\",\"Operation Beyond Design Limits\",\"Release of Substance\",\"Adverse Environmental Effects\",\"Fire\",\"Fire\",\"Release of Substance\",\"Serious Injury (CER or TSB)\",\"Release of Substance\",\"Serious Injury (CER or TSB)\",\"Fire\",\"Fire\",\"Operation Beyond Design Limits\",\"Fire\",\"Serious Injury (CER or TSB)\",\"Operation Beyond Design Limits\",\"Operation Beyond Design Limits\",\"Fire\",\"Fire\",\"Fire\",\"Adverse Environmental Effects\",\"Fire\",\"Operation Beyond Design Limits\",\"Operation Beyond Design Limits\",\"Operation Beyond Design Limits\",\"Adverse Environmental Effects\",\"Fire\",\"Operation Beyond Design Limits\",\"Serious Injury (CER or TSB)\",\"Operation Beyond Design Limits\",\"Operation Beyond Design Limits\",\"Operation Beyond Design Limits\",\"Adverse Environmental Effects\",\"Operation Beyond Design Limits\",\"Fire\",\"Operation Beyond Design Limits\",\"Adverse Environmental Effects\",\"Operation Beyond Design Limits\",\"Operation Beyond Design Limits\",\"Operation Beyond Design Limits\",\"Operation Beyond Design Limits\",\"Operation Beyond Design Limits\",\"Operation Beyond Design Limits\",\"Operation Beyond Design Limits\",\"Operation Beyond Design Limits\",\"Operation Beyond Design Limits\",\"Adverse Environmental Effects\",\"Serious Injury (CER or TSB)\",\"Operation Beyond Design Limits\",\"Operation Beyond Design Limits\",\"Operation Beyond Design Limits\",\"Operation Beyond Design Limits\",\"Operation Beyond Design Limits\",\"Adverse Environmental Effects\",\"Operation Beyond Design Limits\",\"Operation Beyond Design Limits\",\"Fire\",\"Release of Substance\",\"Operation Beyond Design Limits\",\"Operation Beyond Design Limits\",\"Adverse Environmental Effects\",\"Release of Substance\",\"Fire\",\"Serious Injury (CER or TSB)\",\"Fire\",\"Operation Beyond Design Limits\",\"Fire\",\"Operation Beyond Design Limits\",\"Release of Substance\",\"Serious Injury (CER or TSB)\",\"Release of Substance\",\"Adverse Environmental Effects\",\"Serious Injury (CER or TSB)\",\"Operation Beyond Design Limits\",\"Fire\",\"Fire\",\"Operation Beyond Design Limits\",\"Fire\",\"Release of Substance\",\"Operation Beyond Design Limits\",\"Serious Injury (CER or TSB)\",\"Operation Beyond Design Limits\",\"Release of Substance\",\"Adverse Environmental Effects\",\"Operation Beyond Design Limits\",\"Operation Beyond Design Limits\",\"Fire\",\"Release of Substance\",\"Release of Substance\",\"Release of Substance\",\"Operation Beyond Design Limits\",\"Operation Beyond Design Limits\",\"Fire\",\"Serious Injury (CER or TSB)\",\"Fire\",\"Operation Beyond Design Limits\",\"Operation Beyond Design Limits\",\"Fire\",\"Operation Beyond Design Limits\",\"Operation Beyond Design Limits\",\"Release of Substance\",\"Serious Injury (CER or TSB)\",\"Operation Beyond Design Limits\",\"Operation Beyond Design Limits\",\"Fire\",\"Operation Beyond Design Limits\",\"Fire\",\"Serious Injury (CER or TSB)\",\"Release of Substance\",\"Serious Injury (CER or TSB)\",\"Fire\",\"Serious Injury (CER or TSB)\",\"Fire\",\"Fire\",\"Operation Beyond Design Limits\",\"Fire\",\"Release of Substance\",\"Fire\",\"Release of Substance\",\"Fire\",\"Adverse Environmental Effects\",\"Release of Substance\",\"Operation Beyond Design Limits\",\"Fire\",\"Fire\",\"Release of Substance\",\"Fire\",\"Fire\",\"Fire\",\"Release of Substance\",\"Release of Substance\",\"Release of Substance\",\"Explosion\",\"Fire\",\"Serious Injury (CER or TSB)\",\"Fire\",\"Fire\",\"Fire\",\"Release of Substance\",\"Fire\",\"Fire\",\"Operation Beyond Design Limits\",\"Fire\",\"Fire\",\"Fire\",\"Release of Substance\",\"Release of Substance\",\"Fire\",\"Release of Substance\",\"Operation Beyond Design Limits\",\"Operation Beyond Design Limits\",\"Release of Substance\",\"Serious Injury (CER or TSB)\",\"Operation Beyond Design Limits\",\"Operation Beyond Design Limits\",\"Release of Substance\",\"Serious Injury (CER or TSB)\",\"Serious Injury (CER or TSB)\",\"Fire\",\"Release of Substance\",\"Release of Substance\",\"Fire\",\"Operation Beyond Design Limits\",\"Fire\",\"Fire\",\"Fire\",\"Operation Beyond Design Limits\",\"Release of Substance\",\"Operation Beyond Design Limits\",\"Operation Beyond Design Limits\",\"Fatality\",\"Serious Injury (CER or TSB)\",\"Serious Injury (CER or TSB)\",\"Operation Beyond Design Limits\",\"Operation Beyond Design Limits\",\"Release of Substance\",\"Operation Beyond Design Limits\",\"Operation Beyond Design Limits\",\"Fire\",\"Serious Injury (CER or TSB)\",\"Release of Substance\",\"Serious Injury (CER or TSB)\",\"Serious Injury (CER or TSB)\",\"Operation Beyond Design Limits\",\"Operation Beyond Design Limits\",\"Fire\",\"Operation Beyond Design Limits\",\"Operation Beyond Design Limits\",\"Fire\",\"Operation Beyond Design Limits\",\"Fire\",\"Fire\",\"Operation Beyond Design Limits\",\"Operation Beyond Design Limits\",\"Operation Beyond Design Limits\",\"Operation Beyond Design Limits\",\"Operation Beyond Design Limits\",\"Fire\",\"Operation Beyond Design Limits\",\"Fire\",\"Operation Beyond Design Limits\",\"Serious Injury (CER or TSB)\",\"Operation Beyond Design Limits\",\"Operation Beyond Design Limits\",\"Release of Substance\",\"Operation Beyond Design Limits\",\"Explosion, Fire\",\"Operation Beyond Design Limits\",\"Fire\",\"Operation Beyond Design Limits\",\"Release of Substance\",\"Fire\",\"Explosion\",\"Operation Beyond Design Limits\",\"Fire\",\"Fire\",\"Release of Substance\",\"Operation Beyond Design Limits\",\"Operation Beyond Design Limits\",\"Fire\",\"Release of Substance\",\"Release of Substance\",\"Operation Beyond Design Limits\",\"Operation Beyond Design Limits\",\"Release of Substance\",\"Release of Substance\",\"Fire\",\"Fire\",\"Operation Beyond Design Limits\",\"Fire\",\"Explosion\",\"Fire\",\"Fire\",\"Explosion\",\"Fire\",\"Release of Substance\",\"Release of Substance\",\"Fire\",\"Serious Injury (CER or TSB)\",\"Release of Substance\",\"Serious Injury (CER or TSB)\",\"Serious Injury (CER or TSB)\",\"Fire\",\"Fire\",\"Release of Substance\",\"Operation Beyond Design Limits\",\"Release of Substance\",\"Operation Beyond Design Limits\",\"Fire\",\"Serious Injury (CER or TSB)\",\"Release of Substance\",\"Release of Substance\",\"Operation Beyond Design Limits\",\"Fire\",\"Operation Beyond Design Limits\",\"Release of Substance\",\"Release of Substance\",\"Release of Substance\",\"Operation Beyond Design Limits\",\"Operation Beyond Design Limits\",\"Operation Beyond Design Limits\",\"Operation Beyond Design Limits\",\"Fire\",\"Fire\",\"Release of Substance\",\"Operation Beyond Design Limits\",\"Fire\",\"Release of Substance, Adverse Environmental Effects\",\"Serious Injury (CER or TSB)\",\"Release of Substance\",\"Fire\",\"Release of Substance\",\"Explosion\",\"Operation Beyond Design Limits\",\"Operation Beyond Design Limits\",\"Fire\",\"Fire\",\"Operation Beyond Design Limits\",\"Operation Beyond Design Limits\",\"Release of Substance\",\"Fire\",\"Fire\",\"Operation Beyond Design Limits\",\"Release of Substance\",\"Release of Substance\",\"Release of Substance\",\"Release of Substance\",\"Release of Substance\",\"Explosion\",\"Serious Injury (CER or TSB)\",\"Adverse Environmental Effects\",\"Fire\",\"Fire\",\"Operation Beyond Design Limits\",\"Fire\",\"Fire\",\"Release of Substance\",\"Fire\",\"Fire\",\"Release of Substance\",\"Operation Beyond Design Limits\",\"Fire\",\"Fire\",\"Serious Injury (CER or TSB)\",\"Fire\",\"Operation Beyond Design Limits\",\"Fire\",\"Release of Substance\",\"Release of Substance\",\"Fire\",\"Serious Injury (CER or TSB)\",\"Fire\",\"Fire\",\"Operation Beyond Design Limits\",\"Release of Substance\",\"Release of Substance\",\"Fire\",\"Release of Substance\",\"Release of Substance\",\"Release of Substance\",\"Serious Injury (CER or TSB)\",\"Serious Injury (CER or TSB)\",\"Operation Beyond Design Limits\",\"Operation Beyond Design Limits\",\"Operation Beyond Design Limits\",\"Serious Injury (CER or TSB)\",\"Operation Beyond Design Limits\",\"Operation Beyond Design Limits\",\"Release of Substance\",\"Release of Substance\",\"Operation Beyond Design Limits\",\"Fire\",\"Operation Beyond Design Limits\",\"Operation Beyond Design Limits\",\"Serious Injury (CER or TSB)\",\"Operation Beyond Design Limits\",\"Fire\",\"Fire\",\"Operation Beyond Design Limits\",\"Operation Beyond Design Limits\",\"Release of Substance\",\"Serious Injury (CER or TSB)\",\"Explosion, Fire, Release of Substance\",\"Serious Injury (CER or TSB)\",\"Release of Substance\",\"Operation Beyond Design Limits\",\"Release of Substance\",\"Operation Beyond Design Limits\",\"Fire\",\"Serious Injury (CER or TSB)\",\"Fire\",\"Operation Beyond Design Limits\",\"Fire\",\"Fire\",\"Serious Injury (CER or TSB)\",\"Release of Substance\",\"Adverse Environmental Effects\",\"Operation Beyond Design Limits\",\"Serious Injury (CER or TSB)\",\"Operation Beyond Design Limits\",\"Release of Substance, Adverse Environmental Effects\",\"Operation Beyond Design Limits\",\"Operation Beyond Design Limits\",\"Operation Beyond Design Limits\",\"Operation Beyond Design Limits\",\"Operation Beyond Design Limits\",\"Operation Beyond Design Limits\",\"Fire\",\"Operation Beyond Design Limits\",\"Operation Beyond Design Limits\",\"Fire\",\"Fire\",\"Operation Beyond Design Limits\",\"Operation Beyond Design Limits\",\"Operation Beyond Design Limits\",\"Operation Beyond Design Limits\",\"Operation Beyond Design Limits\",\"Fire\",\"Operation Beyond Design Limits\",\"Operation Beyond Design Limits\",\"Operation Beyond Design Limits\",\"Operation Beyond Design Limits\",\"Operation Beyond Design Limits\",\"Operation Beyond Design Limits\",\"Operation Beyond Design Limits\",\"Serious Injury (CER or TSB)\",\"Operation Beyond Design Limits\",\"Operation Beyond Design Limits\",\"Operation Beyond Design Limits\",\"Operation Beyond Design Limits\",\"Operation Beyond Design Limits\",\"Operation Beyond Design Limits\",\"Operation Beyond Design Limits\",\"Release of Substance\",\"Fire\",\"Release of Substance\",\"Release of Substance\",\"Fire\",\"Fire\",\"Release of Substance\",\"Operation Beyond Design Limits\",\"Operation Beyond Design Limits\",\"Fire\",\"Fire\",\"Operation Beyond Design Limits\",\"Operation Beyond Design Limits\",\"Release of Substance\",\"Release of Substance\",\"Operation Beyond Design Limits\",\"Operation Beyond Design Limits\",\"Operation Beyond Design Limits\",\"Operation Beyond Design Limits\",\"Fire\",\"Release of Substance\",\"Release of Substance\",\"Release of Substance\",\"Release of Substance\",\"Operation Beyond Design Limits\",\"Operation Beyond Design Limits\",\"Fire\",\"Release of Substance\",\"Release of Substance\",\"Release of Substance\",\"Serious Injury (CER or TSB)\",\"Release of Substance\",\"Operation Beyond Design Limits\",\"Operation Beyond Design Limits\",\"Release of Substance\",\"Fire\",\"Release of Substance\",\"Release of Substance\",\"Release of Substance\",\"Fire\",\"Release of Substance\",\"Release of Substance\",\"Release of Substance\",\"Fire\",\"Fire\",\"Operation Beyond Design Limits\",\"Release of Substance\",\"Serious Injury (CER or TSB)\",\"Release of Substance\",\"Release of Substance\",\"Release of Substance\",\"Release of Substance\",\"Release of Substance\",\"Release of Substance\",\"Release of Substance\",\"Release of Substance\",\"Release of Substance\",\"Release of Substance\",\"Release of Substance\",\"Release of Substance\",\"Release of Substance\",\"Operation Beyond Design Limits\",\"Release of Substance\",\"Release of Substance\",\"Release of Substance\",\"Release of Substance\",\"Release of Substance\",\"Fire\",\"Fire\",\"Release of Substance\",\"Release of Substance\",\"Release of Substance\",\"Release of Substance\",\"Release of Substance\",\"Release of Substance\",\"Serious Injury (CER or TSB)\",\"Serious Injury (CER or TSB)\",\"Release of Substance\",\"Release of Substance\",\"Fire\",\"Release of Substance\",\"Release of Substance\",\"Fire\",\"Release of Substance\",\"Release of Substance\",\"Operation Beyond Design Limits\",\"Operation Beyond Design Limits\",\"Operation Beyond Design Limits\",\"Operation Beyond Design Limits\",\"Release of Substance\",\"Release of Substance\",\"Release of Substance\",\"Operation Beyond Design Limits\",\"Operation Beyond Design Limits\",\"Operation Beyond Design Limits\",\"Operation Beyond Design Limits\",\"Operation Beyond Design Limits\",\"Serious Injury (CER or TSB)\",\"Fire\",\"Operation Beyond Design Limits\",\"Operation Beyond Design Limits\",\"Fire\",\"Operation Beyond Design Limits\",\"Operation Beyond Design Limits\",\"Operation Beyond Design Limits\",\"Operation Beyond Design Limits\",\"Release of Substance\",\"Fire\",\"Operation Beyond Design Limits\",\"Operation Beyond Design Limits\",\"Operation Beyond Design Limits\",\"Operation Beyond Design Limits\",\"Serious Injury (CER or TSB)\",\"Fire\",\"Operation Beyond Design Limits\",\"Operation Beyond Design Limits\",\"Operation Beyond Design Limits\",\"Operation Beyond Design Limits\",\"Operation Beyond Design Limits\",\"Operation Beyond Design Limits\",\"Operation Beyond Design Limits\",\"Operation Beyond Design Limits\",\"Operation Beyond Design Limits\",\"Operation Beyond Design Limits\",\"Fire\",\"Serious Injury (CER or TSB)\",\"Release of Substance\",\"Release of Substance\",\"Operation Beyond Design Limits\",\"Release of Substance\",\"Release of Substance\",\"Fire\",\"Release of Substance\",\"Release of Substance\",\"Release of Substance\",\"Fire\",\"Operation Beyond Design Limits\",\"Operation Beyond Design Limits\",\"Operation Beyond Design Limits\",\"Operation Beyond Design Limits\",\"Operation Beyond Design Limits\",\"Operation Beyond Design Limits\",\"Release of Substance\",\"Release of Substance\",\"Operation Beyond Design Limits\",\"Operation Beyond Design Limits\",\"Operation Beyond Design Limits\",\"Operation Beyond Design Limits\",\"Operation Beyond Design Limits\",\"Operation Beyond Design Limits\",\"Release of Substance\",\"Operation Beyond Design Limits\",\"Operation Beyond Design Limits\",\"Release of Substance\",\"Release of Substance\",\"Release of Substance\",\"Fire\",\"Release of Substance\",\"Release of Substance\",\"Fire\",\"Release of Substance\",\"Release of Substance\",\"Operation Beyond Design Limits\",\"Operation Beyond Design Limits\",\"Operation Beyond Design Limits\",\"Release of Substance\",\"Release of Substance\",\"Operation Beyond Design Limits\",\"Release of Substance\",\"Operation Beyond Design Limits\",\"Fire\",\"Release of Substance\",\"Explosion\",\"Release of Substance\",\"Release of Substance\",\"Release of Substance\",\"Release of Substance\",\"Fire\",\"Fire\",\"Operation Beyond Design Limits\",\"Fire\",\"Fire\",\"Fire\",\"Fire\",\"Release of Substance\",\"Release of Substance\",\"Serious Injury (CER or TSB)\",\"Fire\",\"Release of Substance\",\"Fire\",\"Fire\",\"Release of Substance\",\"Release of Substance\",\"Fire\",\"Fire\",\"Release of Substance\",\"Fire\",\"Serious Injury (CER or TSB)\",\"Operation Beyond Design Limits\",\"Release of Substance\",\"Fire\",\"Release of Substance\",\"Operation Beyond Design Limits\",\"Fire\",\"Fire\",\"Fire\",\"Release of Substance\",\"Release of Substance\",\"Release of Substance\",\"Fire\",\"Fire\",\"Release of Substance\",\"Release of Substance\",\"Release of Substance\",\"Fire\",\"Release of Substance\",\"Explosion\",\"Operation Beyond Design Limits\",\"Operation Beyond Design Limits\",\"Operation Beyond Design Limits\",\"Operation Beyond Design Limits\",\"Release of Substance\",\"Release of Substance\",\"Release of Substance\",\"Release of Substance\",\"Release of Substance\",\"Operation Beyond Design Limits\",\"Operation Beyond Design Limits\",\"Operation Beyond Design Limits\",\"Release of Substance\",\"Operation Beyond Design Limits\",\"Operation Beyond Design Limits\",\"Explosion\",\"Explosion\",\"Fire\",\"Operation Beyond Design Limits\",\"Release of Substance\",\"Serious Injury (CER or TSB)\",\"Release of Substance\",\"Release of Substance\",\"Release of Substance\",\"Release of Substance\",\"Fire\",\"Release of Substance\",\"Release of Substance\",\"Release of Substance\",\"Release of Substance\",\"Serious Injury (CER or TSB), Fire\",\"Operation Beyond Design Limits\",\"Release of Substance\",\"Fire\",\"Operation Beyond Design Limits\",\"Release of Substance\",\"Release of Substance\",\"Release of Substance\",\"Release of Substance\",\"Operation Beyond Design Limits\",\"Release of Substance\",\"Operation Beyond Design Limits\",\"Release of Substance\",\"Fire\",\"Operation Beyond Design Limits\",\"Operation Beyond Design Limits\",\"Adverse Environmental Effects\",\"Fire\",\"Release of Substance\",\"Fire\",\"Fire\",\"Fire\",\"Fire\",\"Release of Substance\",\"Operation Beyond Design Limits\",\"Release of Substance\",\"Release of Substance\",\"Release of Substance\",\"Fire\",\"Operation Beyond Design Limits\",\"Release of Substance\",\"Operation Beyond Design Limits\",\"Release of Substance\",\"Release of Substance\",\"Fire\",\"Release of Substance\",\"Release of Substance\",\"Operation Beyond Design Limits\",\"Operation Beyond Design Limits\",\"Operation Beyond Design Limits\",\"Operation Beyond Design Limits\",\"Operation Beyond Design Limits\",\"Fire\",\"Operation Beyond Design Limits\",\"Release of Substance\",\"Release of Substance\",\"Operation Beyond Design Limits\",\"Fire\",\"Operation Beyond Design Limits\",\"Operation Beyond Design Limits\",\"Operation Beyond Design Limits\",\"Operation Beyond Design Limits\",\"Operation Beyond Design Limits\",\"Fire\",\"Operation Beyond Design Limits\",\"Release of Substance\",\"Fire\",\"Fire\",\"Operation Beyond Design Limits\",\"Fire\",\"Release of Substance\",\"Fire\",\"Release of Substance\",\"Fire\",\"Operation Beyond Design Limits\",\"Operation Beyond Design Limits\",\"Release of Substance\",\"Operation Beyond Design Limits\",\"Fire\",\"Fire\",\"Fire\",\"Fire\",\"Release of Substance\",\"Release of Substance\",\"Release of Substance\",\"Release of Substance\",\"Release of Substance\",\"Release of Substance\",\"Release of Substance\",\"Fire\",\"Serious Injury (CER or TSB)\",\"Release of Substance\",\"Release of Substance\",\"Release of Substance\",\"Release of Substance\",\"Release of Substance\",\"Release of Substance\",\"Release of Substance\",\"Release of Substance\",\"Fire\",\"Release of Substance\",\"Operation Beyond Design Limits\",\"Release of Substance\",\"Operation Beyond Design Limits\",\"Fire\",\"Release of Substance\",\"Release of Substance\",\"Fire\",\"Release of Substance\",\"Fire\",\"Release of Substance\",\"Operation Beyond Design Limits\",\"Operation Beyond Design Limits\",\"Release of Substance\",\"Fire\",\"Fire\",\"Fire\",\"Fire\",\"Release of Substance\",\"Release of Substance\",\"Fire\",\"Release of Substance\",\"Release of Substance\",\"Release of Substance\",\"Release of Substance\",\"Adverse Environmental Effects\",\"Adverse Environmental Effects\",\"Adverse Environmental Effects\",\"Release of Substance\",\"Operation Beyond Design Limits\",\"Adverse Environmental Effects\",\"Release of Substance\",\"Release of Substance\",\"Release of Substance\",\"Release of Substance\",\"Adverse Environmental Effects\",\"Serious Injury (CER or TSB)\",\"Release of Substance\",\"Fire\",\"Release of Substance\",\"Release of Substance\",\"Release of Substance\",\"Release of Substance\",\"Release of Substance\",\"Release of Substance\",\"Release of Substance\",\"Release of Substance\",\"Release of Substance\",\"Release of Substance\",\"Release of Substance\",\"Explosion\",\"Fire\",\"Release of Substance\",\"Release of Substance\",\"Explosion, Fire\",\"Release of Substance\",\"Release of Substance\",\"Release of Substance\",\"Release of Substance\",\"Release of Substance\",\"Operation Beyond Design Limits\",\"Operation Beyond Design Limits\",\"Release of Substance\",\"Release of Substance\",\"Release of Substance\",\"Release of Substance\",\"Release of Substance\",\"Operation Beyond Design Limits\",\"Release of Substance\",\"Operation Beyond Design Limits\",\"Adverse Environmental Effects\",\"Fire\",\"Fire\",\"Release of Substance\",\"Release of Substance\",\"Release of Substance\",\"Release of Substance\",\"Release of Substance\",\"Release of Substance\",\"Fire\",\"Fire\",\"Release of Substance\",\"Fire\",\"Operation Beyond Design Limits\",\"Fire\",\"Release of Substance\",\"Release of Substance\",\"Release of Substance\",\"Fire\",\"Fire\",\"Release of Substance\",\"Release of Substance\",\"Release of Substance\",\"Release of Substance\",\"Release of Substance\",\"Release of Substance\",\"Serious Injury (CER or TSB)\",\"Release of Substance\",\"Fire\",\"Operation Beyond Design Limits\",\"Fire\",\"Release of Substance\",\"Operation Beyond Design Limits\",\"Operation Beyond Design Limits\",\"Release of Substance\",\"Release of Substance\",\"Adverse Environmental Effects\",\"Release of Substance\",\"Release of Substance\",\"Release of Substance\",\"Release of Substance\",\"Fire\",\"Fire\",\"Release of Substance\",\"Explosion\",\"Release of Substance\",\"Release of Substance\",\"Release of Substance\",\"Release of Substance\",\"Operation Beyond Design Limits\",\"Release of Substance\",\"Release of Substance\",\"Operation Beyond Design Limits\",\"Fire\",\"Release of Substance\",\"Release of Substance\",\"Release of Substance\",\"Release of Substance\",\"Operation Beyond Design Limits\",\"Fire\",\"Release of Substance\",\"Release of Substance\",\"Release of Substance\",\"Release of Substance\",\"Release of Substance\",\"Release of Substance\",\"Release of Substance\",\"Release of Substance\",\"Release of Substance\",\"Operation Beyond Design Limits\",\"Release of Substance\",\"Serious Injury (CER or TSB)\",\"Fire\",\"Release of Substance\",\"Serious Injury (CER or TSB)\",\"Release of Substance\",\"Operation Beyond Design Limits\",\"Release of Substance\",\"Release of Substance\",\"Fire\",\"Fatality\",\"Release of Substance\",\"Release of Substance\",\"Fire\",\"Release of Substance\",\"Release of Substance\",\"Fire\",\"Release of Substance\",\"Release of Substance\",\"Release of Substance\",\"Release of Substance\",\"Fire\",\"Release of Substance\",\"Fire\",\"Operation Beyond Design Limits\",\"Release of Substance\",\"Fire\",\"Release of Substance\",\"Release of Substance\",\"Operation Beyond Design Limits\",\"Fire\",\"Release of Substance\",\"Release of Substance\",\"Release of Substance\",\"Release of Substance\",\"Release of Substance\",\"Release of Substance\",\"Release of Substance\",\"Release of Substance, Adverse Environmental Effects\",\"Release of Substance\",\"Release of Substance\",\"Release of Substance\",\"Release of Substance\",\"Release of Substance\",\"Release of Substance, Adverse Environmental Effects\",\"Release of Substance\",\"Fire\",\"Release of Substance\",\"Release of Substance\",\"Release of Substance\",\"Release of Substance\",\"Release of Substance\",\"Release of Substance\",\"Release of Substance\",\"Release of Substance\",\"Fire\",\"Adverse Environmental Effects\",\"Fire\",\"Release of Substance\",\"Release of Substance\",\"Fire\",\"Release of Substance\",\"Release of Substance\",\"Release of Substance\",\"Release of Substance\",\"Release of Substance\",\"Release of Substance\",\"Fire\",\"Release of Substance\",\"Release of Substance\",\"Fire, Release of Substance\",\"Release of Substance\",\"Release of Substance\",\"Operation Beyond Design Limits\",\"Operation Beyond Design Limits\",\"Operation Beyond Design Limits\",\"Operation Beyond Design Limits\",\"Operation Beyond Design Limits\",\"Operation Beyond Design Limits\",\"Operation Beyond Design Limits\",\"Operation Beyond Design Limits\",\"Operation Beyond Design Limits\",\"Operation Beyond Design Limits\",\"Operation Beyond Design Limits\",\"Operation Beyond Design Limits\",\"Operation Beyond Design Limits\",\"Operation Beyond Design Limits\",\"Operation Beyond Design Limits\",\"Operation Beyond Design Limits\",\"Operation Beyond Design Limits\",\"Operation Beyond Design Limits\",\"Operation Beyond Design Limits\",\"Operation Beyond Design Limits\",\"Operation Beyond Design Limits\",\"Operation Beyond Design Limits\",\"Operation Beyond Design Limits\",\"Operation Beyond Design Limits\",\"Operation Beyond Design Limits\",\"Operation Beyond Design Limits\",\"Operation Beyond Design Limits\",\"Release of Substance\",\"Release of Substance\",\"Release of Substance\",\"Release of Substance\",\"Fire\",\"Operation Beyond Design Limits\",\"Release of Substance\",\"Release of Substance\",\"Release of Substance\",\"Release of Substance\",\"Operation Beyond Design Limits\",\"Fire\",\"Release of Substance\",\"Release of Substance\",\"Release of Substance\",\"Fire\",\"Release of Substance\",\"Release of Substance\",\"Release of Substance\",\"Operation Beyond Design Limits\",\"Release of Substance\",\"Release of Substance\",\"Release of Substance\",\"Release of Substance\",\"Release of Substance\",\"Release of Substance\",\"Release of Substance\",\"Release of Substance\",\"Operation Beyond Design Limits\",\"Operation Beyond Design Limits\",\"Fire\",\"Release of Substance\",\"Fire\",\"Release of Substance\",\"Release of Substance\",\"Release of Substance\",\"Fire\",\"Operation Beyond Design Limits\",\"Release of Substance\",\"Release of Substance\",\"Release of Substance\",\"Release of Substance\",\"Fire, Release of Substance\",\"Release of Substance\",\"Release of Substance\",\"Release of Substance\",\"Operation Beyond Design Limits\",\"Release of Substance\",\"Release of Substance\",\"Release of Substance\",\"Release of Substance\",\"Release of Substance\",\"Release of Substance\",\"Release of Substance\",\"Release of Substance\",\"Operation Beyond Design Limits\",\"Operation Beyond Design Limits\",\"Release of Substance\",\"Release of Substance\",\"Release of Substance\",\"Release of Substance\",\"Release of Substance\",\"Operation Beyond Design Limits\",\"Release of Substance\",\"Fire\",\"Fire\",\"Fire\",\"Operation Beyond Design Limits\",\"Operation Beyond Design Limits\",\"Release of Substance\",\"Release of Substance\",\"Release of Substance\",\"Operation Beyond Design Limits\",\"Operation Beyond Design Limits\",\"Fire\",\"Fire, Release of Substance\",\"Serious Injury (CER or TSB), Fire, Release of Substance\",\"Release of Substance\",\"Operation Beyond Design Limits\",\"Fire\",\"Release of Substance\",\"Release of Substance\",\"Release of Substance\",\"Release of Substance\",\"Release of Substance\",\"Release of Substance\",\"Release of Substance\",\"Fire\",\"Release of Substance\",\"Release of Substance\",\"Release of Substance\",\"Serious Injury (CER or TSB)\",\"Release of Substance\",\"Release of Substance\",\"Release of Substance\",\"Release of Substance\",\"Release of Substance\",\"Release of Substance\",\"Fire\",\"Operation Beyond Design Limits\",\"Operation Beyond Design Limits\",\"Operation Beyond Design Limits\",\"Operation Beyond Design Limits\",\"Operation Beyond Design Limits\",\"Operation Beyond Design Limits\",\"Operation Beyond Design Limits\",\"Operation Beyond Design Limits\",\"Operation Beyond Design Limits\",\"Operation Beyond Design Limits\",\"Operation Beyond Design Limits\",\"Operation Beyond Design Limits\",\"Operation Beyond Design Limits\",\"Operation Beyond Design Limits\",\"Operation Beyond Design Limits\",\"Operation Beyond Design Limits\",\"Operation Beyond Design Limits\",\"Operation Beyond Design Limits\",\"Operation Beyond Design Limits\",\"Operation Beyond Design Limits\",\"Operation Beyond Design Limits\",\"Operation Beyond Design Limits\",\"Operation Beyond Design Limits\",\"Operation Beyond Design Limits\",\"Operation Beyond Design Limits\",\"Operation Beyond Design Limits\",\"Operation Beyond Design Limits\",\"Fire\",\"Fire\",\"Release of Substance\",\"Serious Injury (CER or TSB)\",\"Release of Substance\",\"Release of Substance\",\"Release of Substance\",\"Release of Substance\",\"Fire\",\"Release of Substance\",\"Release of Substance\",\"Release of Substance\",\"Release of Substance\",\"Fire\",\"Release of Substance\",\"Release of Substance\",\"Release of Substance\",\"Release of Substance\",\"Release of Substance\",\"Release of Substance\",\"Operation Beyond Design Limits\",\"Operation Beyond Design Limits\",\"Release of Substance\",\"Fire\",\"Release of Substance\",\"Release of Substance\",\"Operation Beyond Design Limits\",\"Release of Substance\",\"Release of Substance\",\"Fire\",\"Operation Beyond Design Limits\",\"Release of Substance\",\"Fire\",\"Release of Substance\",\"Operation Beyond Design Limits\",\"Explosion, Fire\",\"Release of Substance\",\"Release of Substance\",\"Release of Substance\",\"Release of Substance\",\"Fire\",\"Release of Substance\",\"Release of Substance\",\"Fire\",\"Fire\",\"Release of Substance\",\"Release of Substance\",\"Release of Substance\",\"Release of Substance\",\"Fire\",\"Release of Substance\",\"Fire\",\"Release of Substance\",\"Release of Substance\",\"Fire\",\"Fire\",\"Release of Substance\",\"Release of Substance\",\"Release of Substance\",\"Fire\",\"Explosion\",\"Explosion\",\"Release of Substance\",\"Release of Substance\",\"Explosion\",\"Release of Substance, Adverse Environmental Effects\",\"Fire\",\"Release of Substance\",\"Explosion\",\"Explosion\",\"Release of Substance\",\"Fire, Release of Substance\",\"Explosion\",\"Release of Substance\",\"Serious Injury (CER or TSB), Fire, Release of Substance\",\"Release of Substance\",\"Release of Substance\",\"Release of Substance\",\"Fire\",\"Fire\",\"Serious Injury (CER or TSB)\",\"Operation Beyond Design Limits\",\"Release of Substance\",\"Fire\",\"Release of Substance\",\"Release of Substance\",\"Release of Substance\",\"Fire\",\"Release of Substance\",\"Release of Substance\",\"Release of Substance\",\"Fire\",\"Release of Substance\",\"Operation Beyond Design Limits\",\"Fire\",\"Release of Substance\",\"Release of Substance\",\"Release of Substance\",\"Release of Substance\",\"Operation Beyond Design Limits\",\"Release of Substance\",\"Release of Substance\",\"Release of Substance\",\"Release of Substance\",\"Fire\",\"Release of Substance\",\"Release of Substance\",\"Release of Substance\",\"Serious Injury (CER or TSB)\",\"Fire\",\"Fire\",\"Fire, Release of Substance\",\"Release of Substance\",\"Serious Injury (CER or TSB)\",\"Release of Substance\",\"Fire\",\"Fire, Release of Substance\",\"Release of Substance\",\"Fire\",\"Fire\",\"Fire\",\"Fire\",\"Release of Substance\",\"Operation Beyond Design Limits\",\"Release of Substance\",\"Release of Substance\",\"Serious Injury (CER or TSB)\",\"Operation Beyond Design Limits\",\"Release of Substance\",\"Release of Substance\",\"Release of Substance\",\"Release of Substance\",\"Release of Substance\",\"Release of Substance\",\"Release of Substance\",\"Release of Substance\",\"Fire\",\"Operation Beyond Design Limits\",\"Fire\",\"Release of Substance\",\"Release of Substance\",\"Release of Substance\",\"Fire\",\"Fire\",\"Release of Substance\",\"Fire\",\"Release of Substance\",\"Release of Substance\",\"Operation Beyond Design Limits\",\"Release of Substance\",\"Fatality\",\"Release of Substance\",\"Release of Substance\",\"Release of Substance\",\"Release of Substance\",\"Fire\",\"Release of Substance\",\"Release of Substance\",\"Release of Substance\",\"Release of Substance\",\"Serious Injury (CER or TSB)\",\"Release of Substance\",\"Fire\",\"Fire\",\"Fire\",\"Fire\",\"Operation Beyond Design Limits\",\"Release of Substance\",\"Fire\",\"Fire\",\"Fire\",\"Fire\",\"Release of Substance\",\"Release of Substance\",\"Release of Substance\",\"Release of Substance\",\"Fire\",\"Release of Substance\",\"Release of Substance\",\"Release of Substance\",\"Release of Substance\",\"Release of Substance\",\"Operation Beyond Design Limits\",\"Release of Substance\",\"Release of Substance\",\"Fatality\",\"Release of Substance\",\"Release of Substance\",\"Release of Substance\",\"Serious Injury (CER or TSB)\",\"Release of Substance\",\"Release of Substance\",\"Release of Substance\",\"Release of Substance\",\"Fire\",\"Fire\",\"Release of Substance\",\"Release of Substance\",\"Release of Substance\",\"Release of Substance\",\"Release of Substance\",\"Release of Substance\",\"Release of Substance\",\"Release of Substance, Operation Beyond Design Limits\",\"Release of Substance\",\"Release of Substance\",\"Fatality\",\"Release of Substance\",\"Release of Substance\",\"Release of Substance\",\"Release of Substance\",\"Release of Substance\",\"Release of Substance\",\"Release of Substance\",\"Release of Substance\",\"Fire\",\"Release of Substance\",\"Release of Substance\",\"Fire, Release of Substance\",\"Release of Substance\",\"Release of Substance\",\"Fire\",\"Release of Substance\",\"Release of Substance\",\"Release of Substance\",\"Fire\",\"Release of Substance\",\"Operation Beyond Design Limits\",\"Release of Substance\",\"Release of Substance\",\"Release of Substance\",\"Release of Substance\",\"Fire\",\"Operation Beyond Design Limits\",\"Operation Beyond Design Limits\",\"Operation Beyond Design Limits\",\"Operation Beyond Design Limits\",\"Operation Beyond Design Limits\",\"Operation Beyond Design Limits\",\"Operation Beyond Design Limits\",\"Operation Beyond Design Limits\",\"Operation Beyond Design Limits\",\"Operation Beyond Design Limits\",\"Operation Beyond Design Limits\",\"Serious Injury (CER or TSB)\",\"Release of Substance\",\"Release of Substance\",\"Fire\",\"Release of Substance\",\"Release of Substance, Adverse Environmental Effects\",\"Release of Substance\",\"Release of Substance\",\"Operation Beyond Design Limits\",\"Release of Substance\",\"Operation Beyond Design Limits\",\"Release of Substance\",\"Release of Substance\",\"Release of Substance\",\"Release of Substance\",\"Release of Substance\",\"Operation Beyond Design Limits\",\"Release of Substance\",\"Release of Substance\",\"Adverse Environmental Effects\",\"Release of Substance\",\"Release of Substance\",\"Release of Substance\",\"Release of Substance\",\"Fire\",\"Operation Beyond Design Limits\",\"Serious Injury (CER or TSB)\",\"Release of Substance\",\"Release of Substance\",\"Release of Substance\",\"Fire\",\"Release of Substance\",\"Release of Substance\",\"Explosion, Fire\",\"Release of Substance\",\"Release of Substance\",\"Release of Substance\",\"Release of Substance\",\"Release of Substance\",\"Release of Substance\",\"Release of Substance\",\"Release of Substance\",\"Operation Beyond Design Limits\",\"Release of Substance\",\"Release of Substance\",\"Release of Substance\",\"Release of Substance\",\"Release of Substance\",\"Release of Substance\",\"Release of Substance\",\"Release of Substance\",\"Release of Substance\",\"Release of Substance\",\"Release of Substance\",\"Release of Substance\",\"Release of Substance\",\"Fire\",\"Release of Substance\",\"Release of Substance\",\"Fire, Release of Substance\",\"Release of Substance\",\"Release of Substance\",\"Release of Substance\",\"Release of Substance\",\"Release of Substance\",\"Release of Substance\",\"Release of Substance\",\"Release of Substance\",\"Fire\",\"Fire\",\"Release of Substance\",\"Release of Substance\",\"Release of Substance\",\"Release of Substance\",\"Fire\",\"Fire\",\"Release of Substance\",\"Release of Substance\",\"Release of Substance\",\"Release of Substance\",\"Release of Substance\",\"Release of Substance\",\"Fire\",\"Release of Substance\",\"Release of Substance\",\"Release of Substance\",\"Release of Substance\",\"Release of Substance\",\"Fire\",\"Operation Beyond Design Limits\",\"Release of Substance\",\"Operation Beyond Design Limits\",\"Fire\",\"Operation Beyond Design Limits\",\"Adverse Environmental Effects\",\"Release of Substance, Adverse Environmental Effects\",\"Release of Substance\",\"Serious Injury (CER or TSB)\",\"Serious Injury (CER or TSB)\",\"Serious Injury (CER or TSB)\",\"Operation Beyond Design Limits\",\"Operation Beyond Design Limits\",\"Operation Beyond Design Limits\",\"Operation Beyond Design Limits\",\"Serious Injury (CER or TSB)\",\"Operation Beyond Design Limits\",\"Release of Substance\",\"Operation Beyond Design Limits\",\"Release of Substance\",\"Operation Beyond Design Limits\",\"Fire\",\"Operation Beyond Design Limits\",\"Release of Substance\",\"Release of Substance\",\"Fire\",\"Release of Substance\",\"Serious Injury (CER or TSB)\",\"Fire\",\"Serious Injury (CER or TSB)\",\"Release of Substance\",\"Release of Substance\",\"Release of Substance\",\"Release of Substance\",\"Release of Substance\",\"Release of Substance\",\"Fire\",\"Release of Substance\",\"Release of Substance\",\"Release of Substance\",\"Fire, Release of Substance\",\"Release of Substance\",\"Release of Substance\",\"Fire\",\"Release of Substance\",\"Release of Substance\",\"Release of Substance\",\"Release of Substance\",\"Release of Substance\",\"Fire\",\"Explosion\",\"Release of Substance\",\"Explosion, Fire, Release of Substance\",\"Fire\",\"Release of Substance\",\"Release of Substance\",\"Release of Substance\",\"Release of Substance\",\"Release of Substance\",\"Release of Substance\",\"Fire\",\"Operation Beyond Design Limits\",\"Operation Beyond Design Limits\",\"Release of Substance\",\"Release of Substance\",\"Fire\",\"Release of Substance\",\"Release of Substance\",\"Fire, Release of Substance\",\"Fire\",\"Release of Substance\",\"Release of Substance\",\"Fire, Release of Substance\",\"Operation Beyond Design Limits\",\"Release of Substance\",\"Release of Substance\",\"Release of Substance\",\"Release of Substance\",\"Release of Substance\",\"Release of Substance\",\"Fire\",\"Release of Substance\",\"Fire\",\"Release of Substance\",\"Release of Substance\",\"Release of Substance\",\"Release of Substance\",\"Release of Substance\",\"Release of Substance\",\"Fire, Release of Substance\",\"Release of Substance\",\"Release of Substance\",\"Release of Substance\",\"Release of Substance\",\"Serious Injury (CER or TSB)\",\"Release of Substance\",\"Release of Substance\",\"Serious Injury (CER or TSB), Release of Substance\",\"Release of Substance\",\"Serious Injury (CER or TSB)\",\"Release of Substance\",\"Release of Substance\",\"Fire\",\"Adverse Environmental Effects\",\"Release of Substance\",\"Release of Substance\",\"Fire\",\"Release of Substance\",\"Release of Substance, Adverse Environmental Effects\",\"Fire\",\"Release of Substance\",\"Release of Substance\",\"Fire, Release of Substance\",\"Release of Substance\",\"Release of Substance\",\"Fire\",\"Release of Substance\",\"Serious Injury (CER or TSB)\",\"Serious Injury (CER or TSB)\",\"Release of Substance\",\"Release of Substance\",\"Fire\",\"Fire\",\"Serious Injury (CER or TSB)\",\"Release of Substance\",\"Release of Substance\",\"Release of Substance\",\"Release of Substance\",\"Release of Substance\",\"Release of Substance\",\"Fatality\",\"Fire\",\"Release of Substance\",\"Adverse Environmental Effects\",\"Release of Substance\",\"Release of Substance\",\"Adverse Environmental Effects\",\"Fire\",\"Release of Substance\",\"Release of Substance\",\"Fire\",\"Release of Substance\",\"Release of Substance\",\"Release of Substance\",\"Release of Substance\",\"Release of Substance\",\"Fatality\",\"Release of Substance\",\"Release of Substance\",\"Release of Substance\",\"Release of Substance\",\"Release of Substance\",\"Release of Substance, Adverse Environmental Effects\",\"Release of Substance\",\"Release of Substance\",\"Release of Substance\",\"Release of Substance\"],\"xaxis\":\"x\",\"y\":[1,1,1,1,1,1,1,1,1,1,1,1,1,1,1,1,1,1,1,1,1,1,1,1,1,1,1,1,1,1,1,1,1,1,1,1,1,1,1,1,1,1,1,1,1,1,1,1,1,1,1,1,1,1,1,1,1,1,1,1,1,1,1,1,1,1,1,1,1,1,1,1,1,1,1,1,1,1,1,1,1,1,1,1,1,1,1,1,1,1,1,1,1,1,1,1,1,1,1,1,1,1,1,1,1,1,1,1,1,1,1,1,1,1,1,1,1,1,1,1,1,1,1,1,1,1,1,1,1,1,1,1,1,1,1,1,1,1,1,1,1,1,1,1,1,1,1,1,1,1,1,1,1,1,1,1,1,1,1,1,1,1,1,1,1,1,1,1,1,1,1,1,1,1,1,1,1,1,1,1,1,1,1,1,1,1,1,1,1,1,1,1,1,1,1,1,1,1,1,1,1,1,1,1,1,1,1,1,1,1,1,1,1,1,1,1,1,1,1,1,1,1,1,1,1,1,1,1,1,1,1,1,1,1,1,1,1,1,1,1,1,1,1,1,1,1,1,1,1,1,1,1,1,1,1,1,1,1,1,1,1,1,1,1,1,1,1,1,1,1,1,1,1,1,1,1,1,1,1,1,1,1,1,1,1,1,1,1,1,1,1,1,1,1,1,1,1,1,1,1,1,1,1,1,1,1,1,1,1,1,1,1,1,1,1,1,1,1,1,1,1,1,1,1,1,1,1,1,1,1,1,1,1,1,1,1,1,1,1,1,1,1,1,1,1,1,1,1,1,1,1,1,1,1,1,1,1,1,1,1,1,1,1,1,1,1,1,1,1,1,1,1,1,1,1,1,1,1,1,1,1,1,1,1,1,1,1,1,1,1,1,1,1,1,1,1,1,1,1,1,1,1,1,1,1,1,1,1,1,1,1,1,1,1,1,1,1,1,1,1,1,1,1,1,1,1,1,1,1,1,1,1,1,1,1,1,1,1,1,1,1,1,1,1,1,1,1,1,1,1,1,1,1,1,1,1,1,1,1,1,1,1,1,1,1,1,1,1,1,1,1,1,1,1,1,1,1,1,1,1,1,1,1,1,1,1,1,1,1,1,1,1,1,1,1,1,1,1,1,1,1,1,1,1,1,1,1,1,1,1,1,1,1,1,1,1,1,1,1,1,1,1,1,1,1,1,1,1,1,1,1,1,1,1,1,1,1,1,1,1,1,1,1,1,1,1,1,1,1,1,1,1,1,1,1,1,1,1,1,1,1,1,1,1,1,1,1,1,1,1,1,1,1,1,1,1,1,1,1,1,1,1,1,1,1,1,1,1,1,1,1,1,1,1,1,1,1,1,1,1,1,1,1,1,1,1,1,1,1,1,1,1,1,1,1,1,1,1,1,1,1,1,1,1,1,1,1,1,1,1,1,1,1,1,1,1,1,1,1,1,1,1,1,1,1,1,1,1,1,1,1,1,1,1,1,1,1,1,1,1,1,1,1,1,1,1,1,1,1,1,1,1,1,1,1,1,1,1,1,1,1,1,1,1,1,1,1,1,1,1,1,1,1,1,1,1,1,1,1,1,1,1,1,1,1,1,1,1,1,1,1,1,1,1,1,1,1,1,1,1,1,1,1,1,1,1,1,1,1,1,1,1,1,1,1,1,1,1,1,1,1,1,1,1,1,1,1,1,1,1,1,1,1,1,1,1,1,1,1,1,1,1,1,1,1,1,1,1,1,1,1,1,1,1,1,1,1,1,1,1,1,1,1,1,1,1,1,1,1,1,1,1,1,1,1,1,1,1,1,1,1,1,1,1,1,1,1,1,1,1,1,1,1,1,1,1,1,1,1,1,1,1,1,1,1,1,1,1,1,1,1,1,1,1,1,1,1,1,1,1,1,1,1,1,1,1,1,1,1,1,1,1,1,1,1,1,1,1,1,1,1,1,1,1,1,1,1,1,1,1,1,1,1,1,1,1,1,1,1,1,1,1,1,1,1,1,1,1,1,1,1,1,1,1,1,1,1,1,1,1,1,1,1,1,1,1,1,1,1,1,1,1,1,1,1,1,1,1,1,1,1,1,1,1,1,1,1,1,1,1,1,1,1,1,1,1,1,1,1,1,1,1,1,1,1,1,1,1,1,1,1,1,1,1,1,1,1,1,1,1,1,1,1,1,1,1,1,1,1,1,1,1,1,1,1,1,1,1,1,1,1,1,1,1,1,1,1,1,1,1,1,1,1,1,1,1,1,1,1,1,1,1,1,1,1,1,1,1,1,1,1,1,1,1,1,1,1,1,1,1,1,1,1,1,1,1,1,1,1,1,1,1,1,1,1,1,1,1,1,1,1,1,1,1,1,1,1,1,1,1,1,1,1,1,1,1,1,1,1,1,1,1,1,1,1,1,1,1,1,1,1,1,1,1,1,1,1,1,1,1,1,1,1,1,1,1,1,1,1,1,1,1,1,1,1,1,1,1,1,1,1,1,1,1,1,1,1,1,1,1,1,1,1,1,1,1,1,1,1,1,1,1,1,1,1,1,1,1,1,1,1,1,1,1,1,1,1,1,1,1,1,1,1,1,1,1,1,1,1,1,1,1,1,1,1,1,1,1,1,1,1,1,1,1,1,1,1,1,1,1,1,1,1,1,1,1,1,1,1,1,1,1,1,1,1,1,1,1,1,1,1,1,1,1,1,1,1,1,1,1,1,1,1,1,1,1,1,1,1,1,1,1,1,1,1,1,1,1,1,1,1,1,1,1,1,1,1,1,1,1,1,1,1,1,1,1,1,1,1,1,1,1,1,1,1,1,1,1,1,1,1,1,1,1,1,1,1,1,1,1,1,1,1,1,1,1,1,1,1,1,1,1,1,1,1,1,1,1,1,1,1,1,1,1,1,1,1,1,1,1,1,1,1,1,1,1,1,1,1,1,1,1,1,1,1,1,1,1,1,1,1,1,1,1,1,1,1,1,1,1,1,1,1,1,1,1,1,1,1,1,1,1,1,1,1,1,1,1,1,1,1,1,1,1,1,1,1,1,1,1,1,1,1,1,1,1,1,1,1,1,1,1,1,1,1,1,1,1,1,1,1,1,1,1,1,1,1,1,1,1,1,1,1,1,1,1,1,1,1,1,1,1,1,1,1,1,1,1,1,1,1,1,1,1,1,1,1,1,1,1,1,1,1,1,1,1,1,1,1,1,1,1,1,1,1,1,1,1,1,1,1,1,1,1,1,1,1,1,1,1,1,1,1,1,1,1,1,1,1,1,1,1,1,1,1,1,1,1,1,1,1,1,1,1,1,1,1,1,1,1,1,1,1,1,1,1,1,1,1,1,1,1,1,1,1,1,1,1,1,1,1,1,1,1,1,1,1,1,1,1,1,1,1,1,1,1,1,1,1,1,1,1,1,1,1,1,1,1,1,1,1,1,1,1,1,1,1,1,1,1,1,1,1,1,1,1,1,1,1,1,1,1,1,1,1,1,1,1,1,1,1,1,1,1,1,1,1,1,1,1,1,1,1,1,1,1,1,1,1,1,1,1,1,1,1,1,1,1,1,1,1,1,1,1,1,1,1,1,1,1,1,1,1,1,1,1,1,1,1,1,1,1,1,1,1,1,1,1,1,1,1,1,1,1,1,1,1,1,1,1,1,1,1,1,1,1,1,1,1,1,1,1,1,1,1,1,1,1,1,1,1,1,1,1,1,1,1,1,1,1,1,1,1,1,1,1,1,1,1,1,1,1,1,1,1,1,1,1,1,1,1,1,1,1,1,1,1,1,1,1,1,1,1,1,1,1,1,1,1,1,1,1,1,1,1,1,1,1,1,1,1,1,1,1,1,1,1,1,1,1,1,1,1,1,1,1,1,1,1,1,1,1,1,1,1,1,1,1,1,1,1,1,1,1,1,1,1,1,1,1,1,1,1,1,1,1,1,1,1,1,1,1,1,1,1,1,1,1,1,1,1,1,1,1,1,1,1,1,1,1,1,1,1,1,1,1,1,1,1,1,1,1,1,1,1,1,1,1,1,1,1,1,1,1,1],\"yaxis\":\"y\",\"type\":\"bar\"}],                        {\"template\":{\"data\":{\"histogram2dcontour\":[{\"type\":\"histogram2dcontour\",\"colorbar\":{\"outlinewidth\":0,\"ticks\":\"\"},\"colorscale\":[[0.0,\"#0d0887\"],[0.1111111111111111,\"#46039f\"],[0.2222222222222222,\"#7201a8\"],[0.3333333333333333,\"#9c179e\"],[0.4444444444444444,\"#bd3786\"],[0.5555555555555556,\"#d8576b\"],[0.6666666666666666,\"#ed7953\"],[0.7777777777777778,\"#fb9f3a\"],[0.8888888888888888,\"#fdca26\"],[1.0,\"#f0f921\"]]}],\"choropleth\":[{\"type\":\"choropleth\",\"colorbar\":{\"outlinewidth\":0,\"ticks\":\"\"}}],\"histogram2d\":[{\"type\":\"histogram2d\",\"colorbar\":{\"outlinewidth\":0,\"ticks\":\"\"},\"colorscale\":[[0.0,\"#0d0887\"],[0.1111111111111111,\"#46039f\"],[0.2222222222222222,\"#7201a8\"],[0.3333333333333333,\"#9c179e\"],[0.4444444444444444,\"#bd3786\"],[0.5555555555555556,\"#d8576b\"],[0.6666666666666666,\"#ed7953\"],[0.7777777777777778,\"#fb9f3a\"],[0.8888888888888888,\"#fdca26\"],[1.0,\"#f0f921\"]]}],\"heatmap\":[{\"type\":\"heatmap\",\"colorbar\":{\"outlinewidth\":0,\"ticks\":\"\"},\"colorscale\":[[0.0,\"#0d0887\"],[0.1111111111111111,\"#46039f\"],[0.2222222222222222,\"#7201a8\"],[0.3333333333333333,\"#9c179e\"],[0.4444444444444444,\"#bd3786\"],[0.5555555555555556,\"#d8576b\"],[0.6666666666666666,\"#ed7953\"],[0.7777777777777778,\"#fb9f3a\"],[0.8888888888888888,\"#fdca26\"],[1.0,\"#f0f921\"]]}],\"heatmapgl\":[{\"type\":\"heatmapgl\",\"colorbar\":{\"outlinewidth\":0,\"ticks\":\"\"},\"colorscale\":[[0.0,\"#0d0887\"],[0.1111111111111111,\"#46039f\"],[0.2222222222222222,\"#7201a8\"],[0.3333333333333333,\"#9c179e\"],[0.4444444444444444,\"#bd3786\"],[0.5555555555555556,\"#d8576b\"],[0.6666666666666666,\"#ed7953\"],[0.7777777777777778,\"#fb9f3a\"],[0.8888888888888888,\"#fdca26\"],[1.0,\"#f0f921\"]]}],\"contourcarpet\":[{\"type\":\"contourcarpet\",\"colorbar\":{\"outlinewidth\":0,\"ticks\":\"\"}}],\"contour\":[{\"type\":\"contour\",\"colorbar\":{\"outlinewidth\":0,\"ticks\":\"\"},\"colorscale\":[[0.0,\"#0d0887\"],[0.1111111111111111,\"#46039f\"],[0.2222222222222222,\"#7201a8\"],[0.3333333333333333,\"#9c179e\"],[0.4444444444444444,\"#bd3786\"],[0.5555555555555556,\"#d8576b\"],[0.6666666666666666,\"#ed7953\"],[0.7777777777777778,\"#fb9f3a\"],[0.8888888888888888,\"#fdca26\"],[1.0,\"#f0f921\"]]}],\"surface\":[{\"type\":\"surface\",\"colorbar\":{\"outlinewidth\":0,\"ticks\":\"\"},\"colorscale\":[[0.0,\"#0d0887\"],[0.1111111111111111,\"#46039f\"],[0.2222222222222222,\"#7201a8\"],[0.3333333333333333,\"#9c179e\"],[0.4444444444444444,\"#bd3786\"],[0.5555555555555556,\"#d8576b\"],[0.6666666666666666,\"#ed7953\"],[0.7777777777777778,\"#fb9f3a\"],[0.8888888888888888,\"#fdca26\"],[1.0,\"#f0f921\"]]}],\"mesh3d\":[{\"type\":\"mesh3d\",\"colorbar\":{\"outlinewidth\":0,\"ticks\":\"\"}}],\"scatter\":[{\"fillpattern\":{\"fillmode\":\"overlay\",\"size\":10,\"solidity\":0.2},\"type\":\"scatter\"}],\"parcoords\":[{\"type\":\"parcoords\",\"line\":{\"colorbar\":{\"outlinewidth\":0,\"ticks\":\"\"}}}],\"scatterpolargl\":[{\"type\":\"scatterpolargl\",\"marker\":{\"colorbar\":{\"outlinewidth\":0,\"ticks\":\"\"}}}],\"bar\":[{\"error_x\":{\"color\":\"#2a3f5f\"},\"error_y\":{\"color\":\"#2a3f5f\"},\"marker\":{\"line\":{\"color\":\"#E5ECF6\",\"width\":0.5},\"pattern\":{\"fillmode\":\"overlay\",\"size\":10,\"solidity\":0.2}},\"type\":\"bar\"}],\"scattergeo\":[{\"type\":\"scattergeo\",\"marker\":{\"colorbar\":{\"outlinewidth\":0,\"ticks\":\"\"}}}],\"scatterpolar\":[{\"type\":\"scatterpolar\",\"marker\":{\"colorbar\":{\"outlinewidth\":0,\"ticks\":\"\"}}}],\"histogram\":[{\"marker\":{\"pattern\":{\"fillmode\":\"overlay\",\"size\":10,\"solidity\":0.2}},\"type\":\"histogram\"}],\"scattergl\":[{\"type\":\"scattergl\",\"marker\":{\"colorbar\":{\"outlinewidth\":0,\"ticks\":\"\"}}}],\"scatter3d\":[{\"type\":\"scatter3d\",\"line\":{\"colorbar\":{\"outlinewidth\":0,\"ticks\":\"\"}},\"marker\":{\"colorbar\":{\"outlinewidth\":0,\"ticks\":\"\"}}}],\"scattermapbox\":[{\"type\":\"scattermapbox\",\"marker\":{\"colorbar\":{\"outlinewidth\":0,\"ticks\":\"\"}}}],\"scatterternary\":[{\"type\":\"scatterternary\",\"marker\":{\"colorbar\":{\"outlinewidth\":0,\"ticks\":\"\"}}}],\"scattercarpet\":[{\"type\":\"scattercarpet\",\"marker\":{\"colorbar\":{\"outlinewidth\":0,\"ticks\":\"\"}}}],\"carpet\":[{\"aaxis\":{\"endlinecolor\":\"#2a3f5f\",\"gridcolor\":\"white\",\"linecolor\":\"white\",\"minorgridcolor\":\"white\",\"startlinecolor\":\"#2a3f5f\"},\"baxis\":{\"endlinecolor\":\"#2a3f5f\",\"gridcolor\":\"white\",\"linecolor\":\"white\",\"minorgridcolor\":\"white\",\"startlinecolor\":\"#2a3f5f\"},\"type\":\"carpet\"}],\"table\":[{\"cells\":{\"fill\":{\"color\":\"#EBF0F8\"},\"line\":{\"color\":\"white\"}},\"header\":{\"fill\":{\"color\":\"#C8D4E3\"},\"line\":{\"color\":\"white\"}},\"type\":\"table\"}],\"barpolar\":[{\"marker\":{\"line\":{\"color\":\"#E5ECF6\",\"width\":0.5},\"pattern\":{\"fillmode\":\"overlay\",\"size\":10,\"solidity\":0.2}},\"type\":\"barpolar\"}],\"pie\":[{\"automargin\":true,\"type\":\"pie\"}]},\"layout\":{\"autotypenumbers\":\"strict\",\"colorway\":[\"#636efa\",\"#EF553B\",\"#00cc96\",\"#ab63fa\",\"#FFA15A\",\"#19d3f3\",\"#FF6692\",\"#B6E880\",\"#FF97FF\",\"#FECB52\"],\"font\":{\"color\":\"#2a3f5f\"},\"hovermode\":\"closest\",\"hoverlabel\":{\"align\":\"left\"},\"paper_bgcolor\":\"white\",\"plot_bgcolor\":\"#E5ECF6\",\"polar\":{\"bgcolor\":\"#E5ECF6\",\"angularaxis\":{\"gridcolor\":\"white\",\"linecolor\":\"white\",\"ticks\":\"\"},\"radialaxis\":{\"gridcolor\":\"white\",\"linecolor\":\"white\",\"ticks\":\"\"}},\"ternary\":{\"bgcolor\":\"#E5ECF6\",\"aaxis\":{\"gridcolor\":\"white\",\"linecolor\":\"white\",\"ticks\":\"\"},\"baxis\":{\"gridcolor\":\"white\",\"linecolor\":\"white\",\"ticks\":\"\"},\"caxis\":{\"gridcolor\":\"white\",\"linecolor\":\"white\",\"ticks\":\"\"}},\"coloraxis\":{\"colorbar\":{\"outlinewidth\":0,\"ticks\":\"\"}},\"colorscale\":{\"sequential\":[[0.0,\"#0d0887\"],[0.1111111111111111,\"#46039f\"],[0.2222222222222222,\"#7201a8\"],[0.3333333333333333,\"#9c179e\"],[0.4444444444444444,\"#bd3786\"],[0.5555555555555556,\"#d8576b\"],[0.6666666666666666,\"#ed7953\"],[0.7777777777777778,\"#fb9f3a\"],[0.8888888888888888,\"#fdca26\"],[1.0,\"#f0f921\"]],\"sequentialminus\":[[0.0,\"#0d0887\"],[0.1111111111111111,\"#46039f\"],[0.2222222222222222,\"#7201a8\"],[0.3333333333333333,\"#9c179e\"],[0.4444444444444444,\"#bd3786\"],[0.5555555555555556,\"#d8576b\"],[0.6666666666666666,\"#ed7953\"],[0.7777777777777778,\"#fb9f3a\"],[0.8888888888888888,\"#fdca26\"],[1.0,\"#f0f921\"]],\"diverging\":[[0,\"#8e0152\"],[0.1,\"#c51b7d\"],[0.2,\"#de77ae\"],[0.3,\"#f1b6da\"],[0.4,\"#fde0ef\"],[0.5,\"#f7f7f7\"],[0.6,\"#e6f5d0\"],[0.7,\"#b8e186\"],[0.8,\"#7fbc41\"],[0.9,\"#4d9221\"],[1,\"#276419\"]]},\"xaxis\":{\"gridcolor\":\"white\",\"linecolor\":\"white\",\"ticks\":\"\",\"title\":{\"standoff\":15},\"zerolinecolor\":\"white\",\"automargin\":true,\"zerolinewidth\":2},\"yaxis\":{\"gridcolor\":\"white\",\"linecolor\":\"white\",\"ticks\":\"\",\"title\":{\"standoff\":15},\"zerolinecolor\":\"white\",\"automargin\":true,\"zerolinewidth\":2},\"scene\":{\"xaxis\":{\"backgroundcolor\":\"#E5ECF6\",\"gridcolor\":\"white\",\"linecolor\":\"white\",\"showbackground\":true,\"ticks\":\"\",\"zerolinecolor\":\"white\",\"gridwidth\":2},\"yaxis\":{\"backgroundcolor\":\"#E5ECF6\",\"gridcolor\":\"white\",\"linecolor\":\"white\",\"showbackground\":true,\"ticks\":\"\",\"zerolinecolor\":\"white\",\"gridwidth\":2},\"zaxis\":{\"backgroundcolor\":\"#E5ECF6\",\"gridcolor\":\"white\",\"linecolor\":\"white\",\"showbackground\":true,\"ticks\":\"\",\"zerolinecolor\":\"white\",\"gridwidth\":2}},\"shapedefaults\":{\"line\":{\"color\":\"#2a3f5f\"}},\"annotationdefaults\":{\"arrowcolor\":\"#2a3f5f\",\"arrowhead\":0,\"arrowwidth\":1},\"geo\":{\"bgcolor\":\"white\",\"landcolor\":\"#E5ECF6\",\"subunitcolor\":\"white\",\"showland\":true,\"showlakes\":true,\"lakecolor\":\"white\"},\"title\":{\"x\":0.05},\"mapbox\":{\"style\":\"light\"}}},\"xaxis\":{\"anchor\":\"y\",\"domain\":[0.0,1.0],\"title\":{\"text\":\"value\"}},\"yaxis\":{\"anchor\":\"x\",\"domain\":[0.0,1.0],\"title\":{\"text\":\"count\"}},\"legend\":{\"title\":{\"text\":\"variable\"},\"tracegroupgap\":0},\"margin\":{\"t\":60},\"barmode\":\"relative\"},                        {\"responsive\": true}                    ).then(function(){\n",
       "                            \n",
       "var gd = document.getElementById('1c3d4e52-d394-4e7e-8217-f2ae24947702');\n",
       "var x = new MutationObserver(function (mutations, observer) {{\n",
       "        var display = window.getComputedStyle(gd).display;\n",
       "        if (!display || display === 'none') {{\n",
       "            console.log([gd, 'removed!']);\n",
       "            Plotly.purge(gd);\n",
       "            observer.disconnect();\n",
       "        }}\n",
       "}});\n",
       "\n",
       "// Listen for the removal of the full notebook cells\n",
       "var notebookContainer = gd.closest('#notebook-container');\n",
       "if (notebookContainer) {{\n",
       "    x.observe(notebookContainer, {childList: true});\n",
       "}}\n",
       "\n",
       "// Listen for the clearing of the current output cell\n",
       "var outputEl = gd.closest('.output');\n",
       "if (outputEl) {{\n",
       "    x.observe(outputEl, {childList: true});\n",
       "}}\n",
       "\n",
       "                        })                };                });            </script>        </div>"
      ]
     },
     "metadata": {},
     "output_type": "display_data"
    }
   ],
   "source": [
    "px.bar(data['Incident Types'].sort_index(ascending=False), text_auto='.2s')"
   ]
  },
  {
   "cell_type": "code",
   "execution_count": 19,
   "id": "4fbe8b47",
   "metadata": {},
   "outputs": [
    {
     "data": {
      "text/plain": [
       "Incident Types\n",
       "Release of Substance                                       760\n",
       "Operation Beyond Design Limits                             414\n",
       "Fire                                                       392\n",
       "Serious Injury (CER or TSB)                                111\n",
       "Adverse Environmental Effects                               54\n",
       "Explosion                                                   21\n",
       "Fire, Release of Substance                                  14\n",
       "Release of Substance, Adverse Environmental Effects         11\n",
       "Fatality                                                     7\n",
       "Explosion, Fire                                              4\n",
       "Explosion, Fire, Release of Substance                        2\n",
       "Serious Injury (CER or TSB), Fire, Release of Substance      2\n",
       "Serious Injury (CER or TSB), Release of Substance            1\n",
       "Release of Substance, Operation Beyond Design Limits         1\n",
       "Serious Injury (CER or TSB), Fire                            1\n",
       "Name: count, dtype: int64"
      ]
     },
     "execution_count": 19,
     "metadata": {},
     "output_type": "execute_result"
    }
   ],
   "source": [
    "data[\"Incident Types\"].value_counts()"
   ]
  },
  {
   "cell_type": "code",
   "execution_count": 20,
   "id": "83221ab2",
   "metadata": {},
   "outputs": [
    {
     "data": {
      "application/vnd.plotly.v1+json": {
       "config": {
        "plotlyServerURL": "https://plot.ly"
       },
       "data": [
        {
         "alignmentgroup": "True",
         "hovertemplate": "variable=count<br>Incident Types=%{x}<br>value=%{y}<extra></extra>",
         "legendgroup": "count",
         "marker": {
          "color": "#636efa",
          "pattern": {
           "shape": ""
          }
         },
         "name": "count",
         "offsetgroup": "count",
         "orientation": "v",
         "showlegend": true,
         "textposition": "auto",
         "type": "bar",
         "x": [
          "Release of Substance",
          "Operation Beyond Design Limits",
          "Fire",
          "Serious Injury (CER or TSB)",
          "Adverse Environmental Effects",
          "Explosion",
          "Fire, Release of Substance",
          "Release of Substance, Adverse Environmental Effects",
          "Fatality",
          "Explosion, Fire",
          "Explosion, Fire, Release of Substance",
          "Serious Injury (CER or TSB), Fire, Release of Substance",
          "Serious Injury (CER or TSB), Release of Substance",
          "Release of Substance, Operation Beyond Design Limits",
          "Serious Injury (CER or TSB), Fire"
         ],
         "xaxis": "x",
         "y": [
          760,
          414,
          392,
          111,
          54,
          21,
          14,
          11,
          7,
          4,
          2,
          2,
          1,
          1,
          1
         ],
         "yaxis": "y"
        }
       ],
       "layout": {
        "barmode": "relative",
        "legend": {
         "title": {
          "text": "variable"
         },
         "tracegroupgap": 0
        },
        "margin": {
         "t": 60
        },
        "template": {
         "data": {
          "bar": [
           {
            "error_x": {
             "color": "#2a3f5f"
            },
            "error_y": {
             "color": "#2a3f5f"
            },
            "marker": {
             "line": {
              "color": "#E5ECF6",
              "width": 0.5
             },
             "pattern": {
              "fillmode": "overlay",
              "size": 10,
              "solidity": 0.2
             }
            },
            "type": "bar"
           }
          ],
          "barpolar": [
           {
            "marker": {
             "line": {
              "color": "#E5ECF6",
              "width": 0.5
             },
             "pattern": {
              "fillmode": "overlay",
              "size": 10,
              "solidity": 0.2
             }
            },
            "type": "barpolar"
           }
          ],
          "carpet": [
           {
            "aaxis": {
             "endlinecolor": "#2a3f5f",
             "gridcolor": "white",
             "linecolor": "white",
             "minorgridcolor": "white",
             "startlinecolor": "#2a3f5f"
            },
            "baxis": {
             "endlinecolor": "#2a3f5f",
             "gridcolor": "white",
             "linecolor": "white",
             "minorgridcolor": "white",
             "startlinecolor": "#2a3f5f"
            },
            "type": "carpet"
           }
          ],
          "choropleth": [
           {
            "colorbar": {
             "outlinewidth": 0,
             "ticks": ""
            },
            "type": "choropleth"
           }
          ],
          "contour": [
           {
            "colorbar": {
             "outlinewidth": 0,
             "ticks": ""
            },
            "colorscale": [
             [
              0,
              "#0d0887"
             ],
             [
              0.1111111111111111,
              "#46039f"
             ],
             [
              0.2222222222222222,
              "#7201a8"
             ],
             [
              0.3333333333333333,
              "#9c179e"
             ],
             [
              0.4444444444444444,
              "#bd3786"
             ],
             [
              0.5555555555555556,
              "#d8576b"
             ],
             [
              0.6666666666666666,
              "#ed7953"
             ],
             [
              0.7777777777777778,
              "#fb9f3a"
             ],
             [
              0.8888888888888888,
              "#fdca26"
             ],
             [
              1,
              "#f0f921"
             ]
            ],
            "type": "contour"
           }
          ],
          "contourcarpet": [
           {
            "colorbar": {
             "outlinewidth": 0,
             "ticks": ""
            },
            "type": "contourcarpet"
           }
          ],
          "heatmap": [
           {
            "colorbar": {
             "outlinewidth": 0,
             "ticks": ""
            },
            "colorscale": [
             [
              0,
              "#0d0887"
             ],
             [
              0.1111111111111111,
              "#46039f"
             ],
             [
              0.2222222222222222,
              "#7201a8"
             ],
             [
              0.3333333333333333,
              "#9c179e"
             ],
             [
              0.4444444444444444,
              "#bd3786"
             ],
             [
              0.5555555555555556,
              "#d8576b"
             ],
             [
              0.6666666666666666,
              "#ed7953"
             ],
             [
              0.7777777777777778,
              "#fb9f3a"
             ],
             [
              0.8888888888888888,
              "#fdca26"
             ],
             [
              1,
              "#f0f921"
             ]
            ],
            "type": "heatmap"
           }
          ],
          "heatmapgl": [
           {
            "colorbar": {
             "outlinewidth": 0,
             "ticks": ""
            },
            "colorscale": [
             [
              0,
              "#0d0887"
             ],
             [
              0.1111111111111111,
              "#46039f"
             ],
             [
              0.2222222222222222,
              "#7201a8"
             ],
             [
              0.3333333333333333,
              "#9c179e"
             ],
             [
              0.4444444444444444,
              "#bd3786"
             ],
             [
              0.5555555555555556,
              "#d8576b"
             ],
             [
              0.6666666666666666,
              "#ed7953"
             ],
             [
              0.7777777777777778,
              "#fb9f3a"
             ],
             [
              0.8888888888888888,
              "#fdca26"
             ],
             [
              1,
              "#f0f921"
             ]
            ],
            "type": "heatmapgl"
           }
          ],
          "histogram": [
           {
            "marker": {
             "pattern": {
              "fillmode": "overlay",
              "size": 10,
              "solidity": 0.2
             }
            },
            "type": "histogram"
           }
          ],
          "histogram2d": [
           {
            "colorbar": {
             "outlinewidth": 0,
             "ticks": ""
            },
            "colorscale": [
             [
              0,
              "#0d0887"
             ],
             [
              0.1111111111111111,
              "#46039f"
             ],
             [
              0.2222222222222222,
              "#7201a8"
             ],
             [
              0.3333333333333333,
              "#9c179e"
             ],
             [
              0.4444444444444444,
              "#bd3786"
             ],
             [
              0.5555555555555556,
              "#d8576b"
             ],
             [
              0.6666666666666666,
              "#ed7953"
             ],
             [
              0.7777777777777778,
              "#fb9f3a"
             ],
             [
              0.8888888888888888,
              "#fdca26"
             ],
             [
              1,
              "#f0f921"
             ]
            ],
            "type": "histogram2d"
           }
          ],
          "histogram2dcontour": [
           {
            "colorbar": {
             "outlinewidth": 0,
             "ticks": ""
            },
            "colorscale": [
             [
              0,
              "#0d0887"
             ],
             [
              0.1111111111111111,
              "#46039f"
             ],
             [
              0.2222222222222222,
              "#7201a8"
             ],
             [
              0.3333333333333333,
              "#9c179e"
             ],
             [
              0.4444444444444444,
              "#bd3786"
             ],
             [
              0.5555555555555556,
              "#d8576b"
             ],
             [
              0.6666666666666666,
              "#ed7953"
             ],
             [
              0.7777777777777778,
              "#fb9f3a"
             ],
             [
              0.8888888888888888,
              "#fdca26"
             ],
             [
              1,
              "#f0f921"
             ]
            ],
            "type": "histogram2dcontour"
           }
          ],
          "mesh3d": [
           {
            "colorbar": {
             "outlinewidth": 0,
             "ticks": ""
            },
            "type": "mesh3d"
           }
          ],
          "parcoords": [
           {
            "line": {
             "colorbar": {
              "outlinewidth": 0,
              "ticks": ""
             }
            },
            "type": "parcoords"
           }
          ],
          "pie": [
           {
            "automargin": true,
            "type": "pie"
           }
          ],
          "scatter": [
           {
            "fillpattern": {
             "fillmode": "overlay",
             "size": 10,
             "solidity": 0.2
            },
            "type": "scatter"
           }
          ],
          "scatter3d": [
           {
            "line": {
             "colorbar": {
              "outlinewidth": 0,
              "ticks": ""
             }
            },
            "marker": {
             "colorbar": {
              "outlinewidth": 0,
              "ticks": ""
             }
            },
            "type": "scatter3d"
           }
          ],
          "scattercarpet": [
           {
            "marker": {
             "colorbar": {
              "outlinewidth": 0,
              "ticks": ""
             }
            },
            "type": "scattercarpet"
           }
          ],
          "scattergeo": [
           {
            "marker": {
             "colorbar": {
              "outlinewidth": 0,
              "ticks": ""
             }
            },
            "type": "scattergeo"
           }
          ],
          "scattergl": [
           {
            "marker": {
             "colorbar": {
              "outlinewidth": 0,
              "ticks": ""
             }
            },
            "type": "scattergl"
           }
          ],
          "scattermapbox": [
           {
            "marker": {
             "colorbar": {
              "outlinewidth": 0,
              "ticks": ""
             }
            },
            "type": "scattermapbox"
           }
          ],
          "scatterpolar": [
           {
            "marker": {
             "colorbar": {
              "outlinewidth": 0,
              "ticks": ""
             }
            },
            "type": "scatterpolar"
           }
          ],
          "scatterpolargl": [
           {
            "marker": {
             "colorbar": {
              "outlinewidth": 0,
              "ticks": ""
             }
            },
            "type": "scatterpolargl"
           }
          ],
          "scatterternary": [
           {
            "marker": {
             "colorbar": {
              "outlinewidth": 0,
              "ticks": ""
             }
            },
            "type": "scatterternary"
           }
          ],
          "surface": [
           {
            "colorbar": {
             "outlinewidth": 0,
             "ticks": ""
            },
            "colorscale": [
             [
              0,
              "#0d0887"
             ],
             [
              0.1111111111111111,
              "#46039f"
             ],
             [
              0.2222222222222222,
              "#7201a8"
             ],
             [
              0.3333333333333333,
              "#9c179e"
             ],
             [
              0.4444444444444444,
              "#bd3786"
             ],
             [
              0.5555555555555556,
              "#d8576b"
             ],
             [
              0.6666666666666666,
              "#ed7953"
             ],
             [
              0.7777777777777778,
              "#fb9f3a"
             ],
             [
              0.8888888888888888,
              "#fdca26"
             ],
             [
              1,
              "#f0f921"
             ]
            ],
            "type": "surface"
           }
          ],
          "table": [
           {
            "cells": {
             "fill": {
              "color": "#EBF0F8"
             },
             "line": {
              "color": "white"
             }
            },
            "header": {
             "fill": {
              "color": "#C8D4E3"
             },
             "line": {
              "color": "white"
             }
            },
            "type": "table"
           }
          ]
         },
         "layout": {
          "annotationdefaults": {
           "arrowcolor": "#2a3f5f",
           "arrowhead": 0,
           "arrowwidth": 1
          },
          "autotypenumbers": "strict",
          "coloraxis": {
           "colorbar": {
            "outlinewidth": 0,
            "ticks": ""
           }
          },
          "colorscale": {
           "diverging": [
            [
             0,
             "#8e0152"
            ],
            [
             0.1,
             "#c51b7d"
            ],
            [
             0.2,
             "#de77ae"
            ],
            [
             0.3,
             "#f1b6da"
            ],
            [
             0.4,
             "#fde0ef"
            ],
            [
             0.5,
             "#f7f7f7"
            ],
            [
             0.6,
             "#e6f5d0"
            ],
            [
             0.7,
             "#b8e186"
            ],
            [
             0.8,
             "#7fbc41"
            ],
            [
             0.9,
             "#4d9221"
            ],
            [
             1,
             "#276419"
            ]
           ],
           "sequential": [
            [
             0,
             "#0d0887"
            ],
            [
             0.1111111111111111,
             "#46039f"
            ],
            [
             0.2222222222222222,
             "#7201a8"
            ],
            [
             0.3333333333333333,
             "#9c179e"
            ],
            [
             0.4444444444444444,
             "#bd3786"
            ],
            [
             0.5555555555555556,
             "#d8576b"
            ],
            [
             0.6666666666666666,
             "#ed7953"
            ],
            [
             0.7777777777777778,
             "#fb9f3a"
            ],
            [
             0.8888888888888888,
             "#fdca26"
            ],
            [
             1,
             "#f0f921"
            ]
           ],
           "sequentialminus": [
            [
             0,
             "#0d0887"
            ],
            [
             0.1111111111111111,
             "#46039f"
            ],
            [
             0.2222222222222222,
             "#7201a8"
            ],
            [
             0.3333333333333333,
             "#9c179e"
            ],
            [
             0.4444444444444444,
             "#bd3786"
            ],
            [
             0.5555555555555556,
             "#d8576b"
            ],
            [
             0.6666666666666666,
             "#ed7953"
            ],
            [
             0.7777777777777778,
             "#fb9f3a"
            ],
            [
             0.8888888888888888,
             "#fdca26"
            ],
            [
             1,
             "#f0f921"
            ]
           ]
          },
          "colorway": [
           "#636efa",
           "#EF553B",
           "#00cc96",
           "#ab63fa",
           "#FFA15A",
           "#19d3f3",
           "#FF6692",
           "#B6E880",
           "#FF97FF",
           "#FECB52"
          ],
          "font": {
           "color": "#2a3f5f"
          },
          "geo": {
           "bgcolor": "white",
           "lakecolor": "white",
           "landcolor": "#E5ECF6",
           "showlakes": true,
           "showland": true,
           "subunitcolor": "white"
          },
          "hoverlabel": {
           "align": "left"
          },
          "hovermode": "closest",
          "mapbox": {
           "style": "light"
          },
          "paper_bgcolor": "white",
          "plot_bgcolor": "#E5ECF6",
          "polar": {
           "angularaxis": {
            "gridcolor": "white",
            "linecolor": "white",
            "ticks": ""
           },
           "bgcolor": "#E5ECF6",
           "radialaxis": {
            "gridcolor": "white",
            "linecolor": "white",
            "ticks": ""
           }
          },
          "scene": {
           "xaxis": {
            "backgroundcolor": "#E5ECF6",
            "gridcolor": "white",
            "gridwidth": 2,
            "linecolor": "white",
            "showbackground": true,
            "ticks": "",
            "zerolinecolor": "white"
           },
           "yaxis": {
            "backgroundcolor": "#E5ECF6",
            "gridcolor": "white",
            "gridwidth": 2,
            "linecolor": "white",
            "showbackground": true,
            "ticks": "",
            "zerolinecolor": "white"
           },
           "zaxis": {
            "backgroundcolor": "#E5ECF6",
            "gridcolor": "white",
            "gridwidth": 2,
            "linecolor": "white",
            "showbackground": true,
            "ticks": "",
            "zerolinecolor": "white"
           }
          },
          "shapedefaults": {
           "line": {
            "color": "#2a3f5f"
           }
          },
          "ternary": {
           "aaxis": {
            "gridcolor": "white",
            "linecolor": "white",
            "ticks": ""
           },
           "baxis": {
            "gridcolor": "white",
            "linecolor": "white",
            "ticks": ""
           },
           "bgcolor": "#E5ECF6",
           "caxis": {
            "gridcolor": "white",
            "linecolor": "white",
            "ticks": ""
           }
          },
          "title": {
           "x": 0.05
          },
          "xaxis": {
           "automargin": true,
           "gridcolor": "white",
           "linecolor": "white",
           "ticks": "",
           "title": {
            "standoff": 15
           },
           "zerolinecolor": "white",
           "zerolinewidth": 2
          },
          "yaxis": {
           "automargin": true,
           "gridcolor": "white",
           "linecolor": "white",
           "ticks": "",
           "title": {
            "standoff": 15
           },
           "zerolinecolor": "white",
           "zerolinewidth": 2
          }
         }
        },
        "xaxis": {
         "anchor": "y",
         "domain": [
          0,
          1
         ],
         "title": {
          "text": "Incident Types"
         }
        },
        "yaxis": {
         "anchor": "x",
         "domain": [
          0,
          1
         ],
         "title": {
          "text": "value"
         }
        }
       }
      },
      "text/html": [
       "<div>                            <div id=\"260ff3f4-19a6-4099-9c0a-f2d28983412d\" class=\"plotly-graph-div\" style=\"height:525px; width:100%;\"></div>            <script type=\"text/javascript\">                require([\"plotly\"], function(Plotly) {                    window.PLOTLYENV=window.PLOTLYENV || {};                                    if (document.getElementById(\"260ff3f4-19a6-4099-9c0a-f2d28983412d\")) {                    Plotly.newPlot(                        \"260ff3f4-19a6-4099-9c0a-f2d28983412d\",                        [{\"alignmentgroup\":\"True\",\"hovertemplate\":\"variable=count\\u003cbr\\u003eIncident Types=%{x}\\u003cbr\\u003evalue=%{y}\\u003cextra\\u003e\\u003c\\u002fextra\\u003e\",\"legendgroup\":\"count\",\"marker\":{\"color\":\"#636efa\",\"pattern\":{\"shape\":\"\"}},\"name\":\"count\",\"offsetgroup\":\"count\",\"orientation\":\"v\",\"showlegend\":true,\"textposition\":\"auto\",\"x\":[\"Release of Substance\",\"Operation Beyond Design Limits\",\"Fire\",\"Serious Injury (CER or TSB)\",\"Adverse Environmental Effects\",\"Explosion\",\"Fire, Release of Substance\",\"Release of Substance, Adverse Environmental Effects\",\"Fatality\",\"Explosion, Fire\",\"Explosion, Fire, Release of Substance\",\"Serious Injury (CER or TSB), Fire, Release of Substance\",\"Serious Injury (CER or TSB), Release of Substance\",\"Release of Substance, Operation Beyond Design Limits\",\"Serious Injury (CER or TSB), Fire\"],\"xaxis\":\"x\",\"y\":[760,414,392,111,54,21,14,11,7,4,2,2,1,1,1],\"yaxis\":\"y\",\"type\":\"bar\"}],                        {\"template\":{\"data\":{\"histogram2dcontour\":[{\"type\":\"histogram2dcontour\",\"colorbar\":{\"outlinewidth\":0,\"ticks\":\"\"},\"colorscale\":[[0.0,\"#0d0887\"],[0.1111111111111111,\"#46039f\"],[0.2222222222222222,\"#7201a8\"],[0.3333333333333333,\"#9c179e\"],[0.4444444444444444,\"#bd3786\"],[0.5555555555555556,\"#d8576b\"],[0.6666666666666666,\"#ed7953\"],[0.7777777777777778,\"#fb9f3a\"],[0.8888888888888888,\"#fdca26\"],[1.0,\"#f0f921\"]]}],\"choropleth\":[{\"type\":\"choropleth\",\"colorbar\":{\"outlinewidth\":0,\"ticks\":\"\"}}],\"histogram2d\":[{\"type\":\"histogram2d\",\"colorbar\":{\"outlinewidth\":0,\"ticks\":\"\"},\"colorscale\":[[0.0,\"#0d0887\"],[0.1111111111111111,\"#46039f\"],[0.2222222222222222,\"#7201a8\"],[0.3333333333333333,\"#9c179e\"],[0.4444444444444444,\"#bd3786\"],[0.5555555555555556,\"#d8576b\"],[0.6666666666666666,\"#ed7953\"],[0.7777777777777778,\"#fb9f3a\"],[0.8888888888888888,\"#fdca26\"],[1.0,\"#f0f921\"]]}],\"heatmap\":[{\"type\":\"heatmap\",\"colorbar\":{\"outlinewidth\":0,\"ticks\":\"\"},\"colorscale\":[[0.0,\"#0d0887\"],[0.1111111111111111,\"#46039f\"],[0.2222222222222222,\"#7201a8\"],[0.3333333333333333,\"#9c179e\"],[0.4444444444444444,\"#bd3786\"],[0.5555555555555556,\"#d8576b\"],[0.6666666666666666,\"#ed7953\"],[0.7777777777777778,\"#fb9f3a\"],[0.8888888888888888,\"#fdca26\"],[1.0,\"#f0f921\"]]}],\"heatmapgl\":[{\"type\":\"heatmapgl\",\"colorbar\":{\"outlinewidth\":0,\"ticks\":\"\"},\"colorscale\":[[0.0,\"#0d0887\"],[0.1111111111111111,\"#46039f\"],[0.2222222222222222,\"#7201a8\"],[0.3333333333333333,\"#9c179e\"],[0.4444444444444444,\"#bd3786\"],[0.5555555555555556,\"#d8576b\"],[0.6666666666666666,\"#ed7953\"],[0.7777777777777778,\"#fb9f3a\"],[0.8888888888888888,\"#fdca26\"],[1.0,\"#f0f921\"]]}],\"contourcarpet\":[{\"type\":\"contourcarpet\",\"colorbar\":{\"outlinewidth\":0,\"ticks\":\"\"}}],\"contour\":[{\"type\":\"contour\",\"colorbar\":{\"outlinewidth\":0,\"ticks\":\"\"},\"colorscale\":[[0.0,\"#0d0887\"],[0.1111111111111111,\"#46039f\"],[0.2222222222222222,\"#7201a8\"],[0.3333333333333333,\"#9c179e\"],[0.4444444444444444,\"#bd3786\"],[0.5555555555555556,\"#d8576b\"],[0.6666666666666666,\"#ed7953\"],[0.7777777777777778,\"#fb9f3a\"],[0.8888888888888888,\"#fdca26\"],[1.0,\"#f0f921\"]]}],\"surface\":[{\"type\":\"surface\",\"colorbar\":{\"outlinewidth\":0,\"ticks\":\"\"},\"colorscale\":[[0.0,\"#0d0887\"],[0.1111111111111111,\"#46039f\"],[0.2222222222222222,\"#7201a8\"],[0.3333333333333333,\"#9c179e\"],[0.4444444444444444,\"#bd3786\"],[0.5555555555555556,\"#d8576b\"],[0.6666666666666666,\"#ed7953\"],[0.7777777777777778,\"#fb9f3a\"],[0.8888888888888888,\"#fdca26\"],[1.0,\"#f0f921\"]]}],\"mesh3d\":[{\"type\":\"mesh3d\",\"colorbar\":{\"outlinewidth\":0,\"ticks\":\"\"}}],\"scatter\":[{\"fillpattern\":{\"fillmode\":\"overlay\",\"size\":10,\"solidity\":0.2},\"type\":\"scatter\"}],\"parcoords\":[{\"type\":\"parcoords\",\"line\":{\"colorbar\":{\"outlinewidth\":0,\"ticks\":\"\"}}}],\"scatterpolargl\":[{\"type\":\"scatterpolargl\",\"marker\":{\"colorbar\":{\"outlinewidth\":0,\"ticks\":\"\"}}}],\"bar\":[{\"error_x\":{\"color\":\"#2a3f5f\"},\"error_y\":{\"color\":\"#2a3f5f\"},\"marker\":{\"line\":{\"color\":\"#E5ECF6\",\"width\":0.5},\"pattern\":{\"fillmode\":\"overlay\",\"size\":10,\"solidity\":0.2}},\"type\":\"bar\"}],\"scattergeo\":[{\"type\":\"scattergeo\",\"marker\":{\"colorbar\":{\"outlinewidth\":0,\"ticks\":\"\"}}}],\"scatterpolar\":[{\"type\":\"scatterpolar\",\"marker\":{\"colorbar\":{\"outlinewidth\":0,\"ticks\":\"\"}}}],\"histogram\":[{\"marker\":{\"pattern\":{\"fillmode\":\"overlay\",\"size\":10,\"solidity\":0.2}},\"type\":\"histogram\"}],\"scattergl\":[{\"type\":\"scattergl\",\"marker\":{\"colorbar\":{\"outlinewidth\":0,\"ticks\":\"\"}}}],\"scatter3d\":[{\"type\":\"scatter3d\",\"line\":{\"colorbar\":{\"outlinewidth\":0,\"ticks\":\"\"}},\"marker\":{\"colorbar\":{\"outlinewidth\":0,\"ticks\":\"\"}}}],\"scattermapbox\":[{\"type\":\"scattermapbox\",\"marker\":{\"colorbar\":{\"outlinewidth\":0,\"ticks\":\"\"}}}],\"scatterternary\":[{\"type\":\"scatterternary\",\"marker\":{\"colorbar\":{\"outlinewidth\":0,\"ticks\":\"\"}}}],\"scattercarpet\":[{\"type\":\"scattercarpet\",\"marker\":{\"colorbar\":{\"outlinewidth\":0,\"ticks\":\"\"}}}],\"carpet\":[{\"aaxis\":{\"endlinecolor\":\"#2a3f5f\",\"gridcolor\":\"white\",\"linecolor\":\"white\",\"minorgridcolor\":\"white\",\"startlinecolor\":\"#2a3f5f\"},\"baxis\":{\"endlinecolor\":\"#2a3f5f\",\"gridcolor\":\"white\",\"linecolor\":\"white\",\"minorgridcolor\":\"white\",\"startlinecolor\":\"#2a3f5f\"},\"type\":\"carpet\"}],\"table\":[{\"cells\":{\"fill\":{\"color\":\"#EBF0F8\"},\"line\":{\"color\":\"white\"}},\"header\":{\"fill\":{\"color\":\"#C8D4E3\"},\"line\":{\"color\":\"white\"}},\"type\":\"table\"}],\"barpolar\":[{\"marker\":{\"line\":{\"color\":\"#E5ECF6\",\"width\":0.5},\"pattern\":{\"fillmode\":\"overlay\",\"size\":10,\"solidity\":0.2}},\"type\":\"barpolar\"}],\"pie\":[{\"automargin\":true,\"type\":\"pie\"}]},\"layout\":{\"autotypenumbers\":\"strict\",\"colorway\":[\"#636efa\",\"#EF553B\",\"#00cc96\",\"#ab63fa\",\"#FFA15A\",\"#19d3f3\",\"#FF6692\",\"#B6E880\",\"#FF97FF\",\"#FECB52\"],\"font\":{\"color\":\"#2a3f5f\"},\"hovermode\":\"closest\",\"hoverlabel\":{\"align\":\"left\"},\"paper_bgcolor\":\"white\",\"plot_bgcolor\":\"#E5ECF6\",\"polar\":{\"bgcolor\":\"#E5ECF6\",\"angularaxis\":{\"gridcolor\":\"white\",\"linecolor\":\"white\",\"ticks\":\"\"},\"radialaxis\":{\"gridcolor\":\"white\",\"linecolor\":\"white\",\"ticks\":\"\"}},\"ternary\":{\"bgcolor\":\"#E5ECF6\",\"aaxis\":{\"gridcolor\":\"white\",\"linecolor\":\"white\",\"ticks\":\"\"},\"baxis\":{\"gridcolor\":\"white\",\"linecolor\":\"white\",\"ticks\":\"\"},\"caxis\":{\"gridcolor\":\"white\",\"linecolor\":\"white\",\"ticks\":\"\"}},\"coloraxis\":{\"colorbar\":{\"outlinewidth\":0,\"ticks\":\"\"}},\"colorscale\":{\"sequential\":[[0.0,\"#0d0887\"],[0.1111111111111111,\"#46039f\"],[0.2222222222222222,\"#7201a8\"],[0.3333333333333333,\"#9c179e\"],[0.4444444444444444,\"#bd3786\"],[0.5555555555555556,\"#d8576b\"],[0.6666666666666666,\"#ed7953\"],[0.7777777777777778,\"#fb9f3a\"],[0.8888888888888888,\"#fdca26\"],[1.0,\"#f0f921\"]],\"sequentialminus\":[[0.0,\"#0d0887\"],[0.1111111111111111,\"#46039f\"],[0.2222222222222222,\"#7201a8\"],[0.3333333333333333,\"#9c179e\"],[0.4444444444444444,\"#bd3786\"],[0.5555555555555556,\"#d8576b\"],[0.6666666666666666,\"#ed7953\"],[0.7777777777777778,\"#fb9f3a\"],[0.8888888888888888,\"#fdca26\"],[1.0,\"#f0f921\"]],\"diverging\":[[0,\"#8e0152\"],[0.1,\"#c51b7d\"],[0.2,\"#de77ae\"],[0.3,\"#f1b6da\"],[0.4,\"#fde0ef\"],[0.5,\"#f7f7f7\"],[0.6,\"#e6f5d0\"],[0.7,\"#b8e186\"],[0.8,\"#7fbc41\"],[0.9,\"#4d9221\"],[1,\"#276419\"]]},\"xaxis\":{\"gridcolor\":\"white\",\"linecolor\":\"white\",\"ticks\":\"\",\"title\":{\"standoff\":15},\"zerolinecolor\":\"white\",\"automargin\":true,\"zerolinewidth\":2},\"yaxis\":{\"gridcolor\":\"white\",\"linecolor\":\"white\",\"ticks\":\"\",\"title\":{\"standoff\":15},\"zerolinecolor\":\"white\",\"automargin\":true,\"zerolinewidth\":2},\"scene\":{\"xaxis\":{\"backgroundcolor\":\"#E5ECF6\",\"gridcolor\":\"white\",\"linecolor\":\"white\",\"showbackground\":true,\"ticks\":\"\",\"zerolinecolor\":\"white\",\"gridwidth\":2},\"yaxis\":{\"backgroundcolor\":\"#E5ECF6\",\"gridcolor\":\"white\",\"linecolor\":\"white\",\"showbackground\":true,\"ticks\":\"\",\"zerolinecolor\":\"white\",\"gridwidth\":2},\"zaxis\":{\"backgroundcolor\":\"#E5ECF6\",\"gridcolor\":\"white\",\"linecolor\":\"white\",\"showbackground\":true,\"ticks\":\"\",\"zerolinecolor\":\"white\",\"gridwidth\":2}},\"shapedefaults\":{\"line\":{\"color\":\"#2a3f5f\"}},\"annotationdefaults\":{\"arrowcolor\":\"#2a3f5f\",\"arrowhead\":0,\"arrowwidth\":1},\"geo\":{\"bgcolor\":\"white\",\"landcolor\":\"#E5ECF6\",\"subunitcolor\":\"white\",\"showland\":true,\"showlakes\":true,\"lakecolor\":\"white\"},\"title\":{\"x\":0.05},\"mapbox\":{\"style\":\"light\"}}},\"xaxis\":{\"anchor\":\"y\",\"domain\":[0.0,1.0],\"title\":{\"text\":\"Incident Types\"}},\"yaxis\":{\"anchor\":\"x\",\"domain\":[0.0,1.0],\"title\":{\"text\":\"value\"}},\"legend\":{\"title\":{\"text\":\"variable\"},\"tracegroupgap\":0},\"margin\":{\"t\":60},\"barmode\":\"relative\"},                        {\"responsive\": true}                    ).then(function(){\n",
       "                            \n",
       "var gd = document.getElementById('260ff3f4-19a6-4099-9c0a-f2d28983412d');\n",
       "var x = new MutationObserver(function (mutations, observer) {{\n",
       "        var display = window.getComputedStyle(gd).display;\n",
       "        if (!display || display === 'none') {{\n",
       "            console.log([gd, 'removed!']);\n",
       "            Plotly.purge(gd);\n",
       "            observer.disconnect();\n",
       "        }}\n",
       "}});\n",
       "\n",
       "// Listen for the removal of the full notebook cells\n",
       "var notebookContainer = gd.closest('#notebook-container');\n",
       "if (notebookContainer) {{\n",
       "    x.observe(notebookContainer, {childList: true});\n",
       "}}\n",
       "\n",
       "// Listen for the clearing of the current output cell\n",
       "var outputEl = gd.closest('.output');\n",
       "if (outputEl) {{\n",
       "    x.observe(outputEl, {childList: true});\n",
       "}}\n",
       "\n",
       "                        })                };                });            </script>        </div>"
      ]
     },
     "metadata": {},
     "output_type": "display_data"
    }
   ],
   "source": [
    "px.bar(data[\"Incident Types\"].value_counts(), labels=)"
   ]
  },
  {
   "cell_type": "code",
   "execution_count": 28,
   "id": "d55cf702",
   "metadata": {},
   "outputs": [
    {
     "data": {
      "text/html": [
       "<div>\n",
       "<style scoped>\n",
       "    .dataframe tbody tr th:only-of-type {\n",
       "        vertical-align: middle;\n",
       "    }\n",
       "\n",
       "    .dataframe tbody tr th {\n",
       "        vertical-align: top;\n",
       "    }\n",
       "\n",
       "    .dataframe thead th {\n",
       "        text-align: right;\n",
       "    }\n",
       "</style>\n",
       "<table border=\"1\" class=\"dataframe\">\n",
       "  <thead>\n",
       "    <tr style=\"text-align: right;\">\n",
       "      <th></th>\n",
       "      <th>Incident Types</th>\n",
       "      <th>count</th>\n",
       "    </tr>\n",
       "  </thead>\n",
       "  <tbody>\n",
       "    <tr>\n",
       "      <th>0</th>\n",
       "      <td>Release of Substance</td>\n",
       "      <td>760</td>\n",
       "    </tr>\n",
       "    <tr>\n",
       "      <th>1</th>\n",
       "      <td>Operation Beyond Design Limits</td>\n",
       "      <td>414</td>\n",
       "    </tr>\n",
       "    <tr>\n",
       "      <th>2</th>\n",
       "      <td>Fire</td>\n",
       "      <td>392</td>\n",
       "    </tr>\n",
       "    <tr>\n",
       "      <th>3</th>\n",
       "      <td>Serious Injury (CER or TSB)</td>\n",
       "      <td>111</td>\n",
       "    </tr>\n",
       "    <tr>\n",
       "      <th>4</th>\n",
       "      <td>Adverse Environmental Effects</td>\n",
       "      <td>54</td>\n",
       "    </tr>\n",
       "    <tr>\n",
       "      <th>5</th>\n",
       "      <td>Explosion</td>\n",
       "      <td>21</td>\n",
       "    </tr>\n",
       "    <tr>\n",
       "      <th>6</th>\n",
       "      <td>Fire, Release of Substance</td>\n",
       "      <td>14</td>\n",
       "    </tr>\n",
       "    <tr>\n",
       "      <th>7</th>\n",
       "      <td>Release of Substance, Adverse Environmental Ef...</td>\n",
       "      <td>11</td>\n",
       "    </tr>\n",
       "    <tr>\n",
       "      <th>8</th>\n",
       "      <td>Fatality</td>\n",
       "      <td>7</td>\n",
       "    </tr>\n",
       "    <tr>\n",
       "      <th>9</th>\n",
       "      <td>Explosion, Fire</td>\n",
       "      <td>4</td>\n",
       "    </tr>\n",
       "    <tr>\n",
       "      <th>10</th>\n",
       "      <td>Explosion, Fire, Release of Substance</td>\n",
       "      <td>2</td>\n",
       "    </tr>\n",
       "    <tr>\n",
       "      <th>11</th>\n",
       "      <td>Serious Injury (CER or TSB), Fire, Release of ...</td>\n",
       "      <td>2</td>\n",
       "    </tr>\n",
       "    <tr>\n",
       "      <th>12</th>\n",
       "      <td>Serious Injury (CER or TSB), Release of Substance</td>\n",
       "      <td>1</td>\n",
       "    </tr>\n",
       "    <tr>\n",
       "      <th>13</th>\n",
       "      <td>Release of Substance, Operation Beyond Design ...</td>\n",
       "      <td>1</td>\n",
       "    </tr>\n",
       "    <tr>\n",
       "      <th>14</th>\n",
       "      <td>Serious Injury (CER or TSB), Fire</td>\n",
       "      <td>1</td>\n",
       "    </tr>\n",
       "  </tbody>\n",
       "</table>\n",
       "</div>"
      ],
      "text/plain": [
       "                                       Incident Types  count\n",
       "0                                Release of Substance    760\n",
       "1                      Operation Beyond Design Limits    414\n",
       "2                                                Fire    392\n",
       "3                         Serious Injury (CER or TSB)    111\n",
       "4                       Adverse Environmental Effects     54\n",
       "5                                           Explosion     21\n",
       "6                          Fire, Release of Substance     14\n",
       "7   Release of Substance, Adverse Environmental Ef...     11\n",
       "8                                            Fatality      7\n",
       "9                                     Explosion, Fire      4\n",
       "10              Explosion, Fire, Release of Substance      2\n",
       "11  Serious Injury (CER or TSB), Fire, Release of ...      2\n",
       "12  Serious Injury (CER or TSB), Release of Substance      1\n",
       "13  Release of Substance, Operation Beyond Design ...      1\n",
       "14                  Serious Injury (CER or TSB), Fire      1"
      ]
     },
     "execution_count": 28,
     "metadata": {},
     "output_type": "execute_result"
    }
   ],
   "source": [
    "df=  pd.DataFrame(data[\"Incident Types\"].value_counts())\n",
    "df = df.reset_index()\n",
    "df"
   ]
  },
  {
   "cell_type": "code",
   "execution_count": 57,
   "id": "087daee9",
   "metadata": {},
   "outputs": [
    {
     "data": {
      "application/vnd.plotly.v1+json": {
       "config": {
        "plotlyServerURL": "https://plot.ly"
       },
       "data": [
        {
         "marker": {
          "color": "steelblue"
         },
         "text": [
          760,
          414,
          392,
          111,
          54,
          21,
          14,
          11,
          7,
          4,
          2,
          2,
          1,
          1,
          1
         ],
         "textposition": "auto",
         "type": "bar",
         "x": [
          "Release of Substance",
          "Operation Beyond Design Limits",
          "Fire",
          "Serious Injury (CER or TSB)",
          "Adverse Environmental Effects",
          "Explosion",
          "Fire, Release of Substance",
          "Release of Substance, Adverse Environmental Effects",
          "Fatality",
          "Explosion, Fire",
          "Explosion, Fire, Release of Substance",
          "Serious Injury (CER or TSB), Fire, Release of Substance",
          "Serious Injury (CER or TSB), Release of Substance",
          "Release of Substance, Operation Beyond Design Limits",
          "Serious Injury (CER or TSB), Fire"
         ],
         "y": [
          760,
          414,
          392,
          111,
          54,
          21,
          14,
          11,
          7,
          4,
          2,
          2,
          1,
          1,
          1
         ]
        }
       ],
       "layout": {
        "template": {
         "data": {
          "bar": [
           {
            "error_x": {
             "color": "#2a3f5f"
            },
            "error_y": {
             "color": "#2a3f5f"
            },
            "marker": {
             "line": {
              "color": "#E5ECF6",
              "width": 0.5
             },
             "pattern": {
              "fillmode": "overlay",
              "size": 10,
              "solidity": 0.2
             }
            },
            "type": "bar"
           }
          ],
          "barpolar": [
           {
            "marker": {
             "line": {
              "color": "#E5ECF6",
              "width": 0.5
             },
             "pattern": {
              "fillmode": "overlay",
              "size": 10,
              "solidity": 0.2
             }
            },
            "type": "barpolar"
           }
          ],
          "carpet": [
           {
            "aaxis": {
             "endlinecolor": "#2a3f5f",
             "gridcolor": "white",
             "linecolor": "white",
             "minorgridcolor": "white",
             "startlinecolor": "#2a3f5f"
            },
            "baxis": {
             "endlinecolor": "#2a3f5f",
             "gridcolor": "white",
             "linecolor": "white",
             "minorgridcolor": "white",
             "startlinecolor": "#2a3f5f"
            },
            "type": "carpet"
           }
          ],
          "choropleth": [
           {
            "colorbar": {
             "outlinewidth": 0,
             "ticks": ""
            },
            "type": "choropleth"
           }
          ],
          "contour": [
           {
            "colorbar": {
             "outlinewidth": 0,
             "ticks": ""
            },
            "colorscale": [
             [
              0,
              "#0d0887"
             ],
             [
              0.1111111111111111,
              "#46039f"
             ],
             [
              0.2222222222222222,
              "#7201a8"
             ],
             [
              0.3333333333333333,
              "#9c179e"
             ],
             [
              0.4444444444444444,
              "#bd3786"
             ],
             [
              0.5555555555555556,
              "#d8576b"
             ],
             [
              0.6666666666666666,
              "#ed7953"
             ],
             [
              0.7777777777777778,
              "#fb9f3a"
             ],
             [
              0.8888888888888888,
              "#fdca26"
             ],
             [
              1,
              "#f0f921"
             ]
            ],
            "type": "contour"
           }
          ],
          "contourcarpet": [
           {
            "colorbar": {
             "outlinewidth": 0,
             "ticks": ""
            },
            "type": "contourcarpet"
           }
          ],
          "heatmap": [
           {
            "colorbar": {
             "outlinewidth": 0,
             "ticks": ""
            },
            "colorscale": [
             [
              0,
              "#0d0887"
             ],
             [
              0.1111111111111111,
              "#46039f"
             ],
             [
              0.2222222222222222,
              "#7201a8"
             ],
             [
              0.3333333333333333,
              "#9c179e"
             ],
             [
              0.4444444444444444,
              "#bd3786"
             ],
             [
              0.5555555555555556,
              "#d8576b"
             ],
             [
              0.6666666666666666,
              "#ed7953"
             ],
             [
              0.7777777777777778,
              "#fb9f3a"
             ],
             [
              0.8888888888888888,
              "#fdca26"
             ],
             [
              1,
              "#f0f921"
             ]
            ],
            "type": "heatmap"
           }
          ],
          "heatmapgl": [
           {
            "colorbar": {
             "outlinewidth": 0,
             "ticks": ""
            },
            "colorscale": [
             [
              0,
              "#0d0887"
             ],
             [
              0.1111111111111111,
              "#46039f"
             ],
             [
              0.2222222222222222,
              "#7201a8"
             ],
             [
              0.3333333333333333,
              "#9c179e"
             ],
             [
              0.4444444444444444,
              "#bd3786"
             ],
             [
              0.5555555555555556,
              "#d8576b"
             ],
             [
              0.6666666666666666,
              "#ed7953"
             ],
             [
              0.7777777777777778,
              "#fb9f3a"
             ],
             [
              0.8888888888888888,
              "#fdca26"
             ],
             [
              1,
              "#f0f921"
             ]
            ],
            "type": "heatmapgl"
           }
          ],
          "histogram": [
           {
            "marker": {
             "pattern": {
              "fillmode": "overlay",
              "size": 10,
              "solidity": 0.2
             }
            },
            "type": "histogram"
           }
          ],
          "histogram2d": [
           {
            "colorbar": {
             "outlinewidth": 0,
             "ticks": ""
            },
            "colorscale": [
             [
              0,
              "#0d0887"
             ],
             [
              0.1111111111111111,
              "#46039f"
             ],
             [
              0.2222222222222222,
              "#7201a8"
             ],
             [
              0.3333333333333333,
              "#9c179e"
             ],
             [
              0.4444444444444444,
              "#bd3786"
             ],
             [
              0.5555555555555556,
              "#d8576b"
             ],
             [
              0.6666666666666666,
              "#ed7953"
             ],
             [
              0.7777777777777778,
              "#fb9f3a"
             ],
             [
              0.8888888888888888,
              "#fdca26"
             ],
             [
              1,
              "#f0f921"
             ]
            ],
            "type": "histogram2d"
           }
          ],
          "histogram2dcontour": [
           {
            "colorbar": {
             "outlinewidth": 0,
             "ticks": ""
            },
            "colorscale": [
             [
              0,
              "#0d0887"
             ],
             [
              0.1111111111111111,
              "#46039f"
             ],
             [
              0.2222222222222222,
              "#7201a8"
             ],
             [
              0.3333333333333333,
              "#9c179e"
             ],
             [
              0.4444444444444444,
              "#bd3786"
             ],
             [
              0.5555555555555556,
              "#d8576b"
             ],
             [
              0.6666666666666666,
              "#ed7953"
             ],
             [
              0.7777777777777778,
              "#fb9f3a"
             ],
             [
              0.8888888888888888,
              "#fdca26"
             ],
             [
              1,
              "#f0f921"
             ]
            ],
            "type": "histogram2dcontour"
           }
          ],
          "mesh3d": [
           {
            "colorbar": {
             "outlinewidth": 0,
             "ticks": ""
            },
            "type": "mesh3d"
           }
          ],
          "parcoords": [
           {
            "line": {
             "colorbar": {
              "outlinewidth": 0,
              "ticks": ""
             }
            },
            "type": "parcoords"
           }
          ],
          "pie": [
           {
            "automargin": true,
            "type": "pie"
           }
          ],
          "scatter": [
           {
            "fillpattern": {
             "fillmode": "overlay",
             "size": 10,
             "solidity": 0.2
            },
            "type": "scatter"
           }
          ],
          "scatter3d": [
           {
            "line": {
             "colorbar": {
              "outlinewidth": 0,
              "ticks": ""
             }
            },
            "marker": {
             "colorbar": {
              "outlinewidth": 0,
              "ticks": ""
             }
            },
            "type": "scatter3d"
           }
          ],
          "scattercarpet": [
           {
            "marker": {
             "colorbar": {
              "outlinewidth": 0,
              "ticks": ""
             }
            },
            "type": "scattercarpet"
           }
          ],
          "scattergeo": [
           {
            "marker": {
             "colorbar": {
              "outlinewidth": 0,
              "ticks": ""
             }
            },
            "type": "scattergeo"
           }
          ],
          "scattergl": [
           {
            "marker": {
             "colorbar": {
              "outlinewidth": 0,
              "ticks": ""
             }
            },
            "type": "scattergl"
           }
          ],
          "scattermapbox": [
           {
            "marker": {
             "colorbar": {
              "outlinewidth": 0,
              "ticks": ""
             }
            },
            "type": "scattermapbox"
           }
          ],
          "scatterpolar": [
           {
            "marker": {
             "colorbar": {
              "outlinewidth": 0,
              "ticks": ""
             }
            },
            "type": "scatterpolar"
           }
          ],
          "scatterpolargl": [
           {
            "marker": {
             "colorbar": {
              "outlinewidth": 0,
              "ticks": ""
             }
            },
            "type": "scatterpolargl"
           }
          ],
          "scatterternary": [
           {
            "marker": {
             "colorbar": {
              "outlinewidth": 0,
              "ticks": ""
             }
            },
            "type": "scatterternary"
           }
          ],
          "surface": [
           {
            "colorbar": {
             "outlinewidth": 0,
             "ticks": ""
            },
            "colorscale": [
             [
              0,
              "#0d0887"
             ],
             [
              0.1111111111111111,
              "#46039f"
             ],
             [
              0.2222222222222222,
              "#7201a8"
             ],
             [
              0.3333333333333333,
              "#9c179e"
             ],
             [
              0.4444444444444444,
              "#bd3786"
             ],
             [
              0.5555555555555556,
              "#d8576b"
             ],
             [
              0.6666666666666666,
              "#ed7953"
             ],
             [
              0.7777777777777778,
              "#fb9f3a"
             ],
             [
              0.8888888888888888,
              "#fdca26"
             ],
             [
              1,
              "#f0f921"
             ]
            ],
            "type": "surface"
           }
          ],
          "table": [
           {
            "cells": {
             "fill": {
              "color": "#EBF0F8"
             },
             "line": {
              "color": "white"
             }
            },
            "header": {
             "fill": {
              "color": "#C8D4E3"
             },
             "line": {
              "color": "white"
             }
            },
            "type": "table"
           }
          ]
         },
         "layout": {
          "annotationdefaults": {
           "arrowcolor": "#2a3f5f",
           "arrowhead": 0,
           "arrowwidth": 1
          },
          "autotypenumbers": "strict",
          "coloraxis": {
           "colorbar": {
            "outlinewidth": 0,
            "ticks": ""
           }
          },
          "colorscale": {
           "diverging": [
            [
             0,
             "#8e0152"
            ],
            [
             0.1,
             "#c51b7d"
            ],
            [
             0.2,
             "#de77ae"
            ],
            [
             0.3,
             "#f1b6da"
            ],
            [
             0.4,
             "#fde0ef"
            ],
            [
             0.5,
             "#f7f7f7"
            ],
            [
             0.6,
             "#e6f5d0"
            ],
            [
             0.7,
             "#b8e186"
            ],
            [
             0.8,
             "#7fbc41"
            ],
            [
             0.9,
             "#4d9221"
            ],
            [
             1,
             "#276419"
            ]
           ],
           "sequential": [
            [
             0,
             "#0d0887"
            ],
            [
             0.1111111111111111,
             "#46039f"
            ],
            [
             0.2222222222222222,
             "#7201a8"
            ],
            [
             0.3333333333333333,
             "#9c179e"
            ],
            [
             0.4444444444444444,
             "#bd3786"
            ],
            [
             0.5555555555555556,
             "#d8576b"
            ],
            [
             0.6666666666666666,
             "#ed7953"
            ],
            [
             0.7777777777777778,
             "#fb9f3a"
            ],
            [
             0.8888888888888888,
             "#fdca26"
            ],
            [
             1,
             "#f0f921"
            ]
           ],
           "sequentialminus": [
            [
             0,
             "#0d0887"
            ],
            [
             0.1111111111111111,
             "#46039f"
            ],
            [
             0.2222222222222222,
             "#7201a8"
            ],
            [
             0.3333333333333333,
             "#9c179e"
            ],
            [
             0.4444444444444444,
             "#bd3786"
            ],
            [
             0.5555555555555556,
             "#d8576b"
            ],
            [
             0.6666666666666666,
             "#ed7953"
            ],
            [
             0.7777777777777778,
             "#fb9f3a"
            ],
            [
             0.8888888888888888,
             "#fdca26"
            ],
            [
             1,
             "#f0f921"
            ]
           ]
          },
          "colorway": [
           "#636efa",
           "#EF553B",
           "#00cc96",
           "#ab63fa",
           "#FFA15A",
           "#19d3f3",
           "#FF6692",
           "#B6E880",
           "#FF97FF",
           "#FECB52"
          ],
          "font": {
           "color": "#2a3f5f"
          },
          "geo": {
           "bgcolor": "white",
           "lakecolor": "white",
           "landcolor": "#E5ECF6",
           "showlakes": true,
           "showland": true,
           "subunitcolor": "white"
          },
          "hoverlabel": {
           "align": "left"
          },
          "hovermode": "closest",
          "mapbox": {
           "style": "light"
          },
          "paper_bgcolor": "white",
          "plot_bgcolor": "#E5ECF6",
          "polar": {
           "angularaxis": {
            "gridcolor": "white",
            "linecolor": "white",
            "ticks": ""
           },
           "bgcolor": "#E5ECF6",
           "radialaxis": {
            "gridcolor": "white",
            "linecolor": "white",
            "ticks": ""
           }
          },
          "scene": {
           "xaxis": {
            "backgroundcolor": "#E5ECF6",
            "gridcolor": "white",
            "gridwidth": 2,
            "linecolor": "white",
            "showbackground": true,
            "ticks": "",
            "zerolinecolor": "white"
           },
           "yaxis": {
            "backgroundcolor": "#E5ECF6",
            "gridcolor": "white",
            "gridwidth": 2,
            "linecolor": "white",
            "showbackground": true,
            "ticks": "",
            "zerolinecolor": "white"
           },
           "zaxis": {
            "backgroundcolor": "#E5ECF6",
            "gridcolor": "white",
            "gridwidth": 2,
            "linecolor": "white",
            "showbackground": true,
            "ticks": "",
            "zerolinecolor": "white"
           }
          },
          "shapedefaults": {
           "line": {
            "color": "#2a3f5f"
           }
          },
          "ternary": {
           "aaxis": {
            "gridcolor": "white",
            "linecolor": "white",
            "ticks": ""
           },
           "baxis": {
            "gridcolor": "white",
            "linecolor": "white",
            "ticks": ""
           },
           "bgcolor": "#E5ECF6",
           "caxis": {
            "gridcolor": "white",
            "linecolor": "white",
            "ticks": ""
           }
          },
          "title": {
           "x": 0.05
          },
          "xaxis": {
           "automargin": true,
           "gridcolor": "white",
           "linecolor": "white",
           "ticks": "",
           "title": {
            "standoff": 15
           },
           "zerolinecolor": "white",
           "zerolinewidth": 2
          },
          "yaxis": {
           "automargin": true,
           "gridcolor": "white",
           "linecolor": "white",
           "ticks": "",
           "title": {
            "standoff": 15
           },
           "zerolinecolor": "white",
           "zerolinewidth": 2
          }
         }
        }
       }
      },
      "text/html": [
       "<div>                            <div id=\"5c44d936-c82e-4bad-9a32-11a7b032073a\" class=\"plotly-graph-div\" style=\"height:525px; width:100%;\"></div>            <script type=\"text/javascript\">                require([\"plotly\"], function(Plotly) {                    window.PLOTLYENV=window.PLOTLYENV || {};                                    if (document.getElementById(\"5c44d936-c82e-4bad-9a32-11a7b032073a\")) {                    Plotly.newPlot(                        \"5c44d936-c82e-4bad-9a32-11a7b032073a\",                        [{\"marker\":{\"color\":\"steelblue\"},\"text\":[760.0,414.0,392.0,111.0,54.0,21.0,14.0,11.0,7.0,4.0,2.0,2.0,1.0,1.0,1.0],\"textposition\":\"auto\",\"x\":[\"Release of Substance\",\"Operation Beyond Design Limits\",\"Fire\",\"Serious Injury (CER or TSB)\",\"Adverse Environmental Effects\",\"Explosion\",\"Fire, Release of Substance\",\"Release of Substance, Adverse Environmental Effects\",\"Fatality\",\"Explosion, Fire\",\"Explosion, Fire, Release of Substance\",\"Serious Injury (CER or TSB), Fire, Release of Substance\",\"Serious Injury (CER or TSB), Release of Substance\",\"Release of Substance, Operation Beyond Design Limits\",\"Serious Injury (CER or TSB), Fire\"],\"y\":[760,414,392,111,54,21,14,11,7,4,2,2,1,1,1],\"type\":\"bar\"}],                        {\"template\":{\"data\":{\"histogram2dcontour\":[{\"type\":\"histogram2dcontour\",\"colorbar\":{\"outlinewidth\":0,\"ticks\":\"\"},\"colorscale\":[[0.0,\"#0d0887\"],[0.1111111111111111,\"#46039f\"],[0.2222222222222222,\"#7201a8\"],[0.3333333333333333,\"#9c179e\"],[0.4444444444444444,\"#bd3786\"],[0.5555555555555556,\"#d8576b\"],[0.6666666666666666,\"#ed7953\"],[0.7777777777777778,\"#fb9f3a\"],[0.8888888888888888,\"#fdca26\"],[1.0,\"#f0f921\"]]}],\"choropleth\":[{\"type\":\"choropleth\",\"colorbar\":{\"outlinewidth\":0,\"ticks\":\"\"}}],\"histogram2d\":[{\"type\":\"histogram2d\",\"colorbar\":{\"outlinewidth\":0,\"ticks\":\"\"},\"colorscale\":[[0.0,\"#0d0887\"],[0.1111111111111111,\"#46039f\"],[0.2222222222222222,\"#7201a8\"],[0.3333333333333333,\"#9c179e\"],[0.4444444444444444,\"#bd3786\"],[0.5555555555555556,\"#d8576b\"],[0.6666666666666666,\"#ed7953\"],[0.7777777777777778,\"#fb9f3a\"],[0.8888888888888888,\"#fdca26\"],[1.0,\"#f0f921\"]]}],\"heatmap\":[{\"type\":\"heatmap\",\"colorbar\":{\"outlinewidth\":0,\"ticks\":\"\"},\"colorscale\":[[0.0,\"#0d0887\"],[0.1111111111111111,\"#46039f\"],[0.2222222222222222,\"#7201a8\"],[0.3333333333333333,\"#9c179e\"],[0.4444444444444444,\"#bd3786\"],[0.5555555555555556,\"#d8576b\"],[0.6666666666666666,\"#ed7953\"],[0.7777777777777778,\"#fb9f3a\"],[0.8888888888888888,\"#fdca26\"],[1.0,\"#f0f921\"]]}],\"heatmapgl\":[{\"type\":\"heatmapgl\",\"colorbar\":{\"outlinewidth\":0,\"ticks\":\"\"},\"colorscale\":[[0.0,\"#0d0887\"],[0.1111111111111111,\"#46039f\"],[0.2222222222222222,\"#7201a8\"],[0.3333333333333333,\"#9c179e\"],[0.4444444444444444,\"#bd3786\"],[0.5555555555555556,\"#d8576b\"],[0.6666666666666666,\"#ed7953\"],[0.7777777777777778,\"#fb9f3a\"],[0.8888888888888888,\"#fdca26\"],[1.0,\"#f0f921\"]]}],\"contourcarpet\":[{\"type\":\"contourcarpet\",\"colorbar\":{\"outlinewidth\":0,\"ticks\":\"\"}}],\"contour\":[{\"type\":\"contour\",\"colorbar\":{\"outlinewidth\":0,\"ticks\":\"\"},\"colorscale\":[[0.0,\"#0d0887\"],[0.1111111111111111,\"#46039f\"],[0.2222222222222222,\"#7201a8\"],[0.3333333333333333,\"#9c179e\"],[0.4444444444444444,\"#bd3786\"],[0.5555555555555556,\"#d8576b\"],[0.6666666666666666,\"#ed7953\"],[0.7777777777777778,\"#fb9f3a\"],[0.8888888888888888,\"#fdca26\"],[1.0,\"#f0f921\"]]}],\"surface\":[{\"type\":\"surface\",\"colorbar\":{\"outlinewidth\":0,\"ticks\":\"\"},\"colorscale\":[[0.0,\"#0d0887\"],[0.1111111111111111,\"#46039f\"],[0.2222222222222222,\"#7201a8\"],[0.3333333333333333,\"#9c179e\"],[0.4444444444444444,\"#bd3786\"],[0.5555555555555556,\"#d8576b\"],[0.6666666666666666,\"#ed7953\"],[0.7777777777777778,\"#fb9f3a\"],[0.8888888888888888,\"#fdca26\"],[1.0,\"#f0f921\"]]}],\"mesh3d\":[{\"type\":\"mesh3d\",\"colorbar\":{\"outlinewidth\":0,\"ticks\":\"\"}}],\"scatter\":[{\"fillpattern\":{\"fillmode\":\"overlay\",\"size\":10,\"solidity\":0.2},\"type\":\"scatter\"}],\"parcoords\":[{\"type\":\"parcoords\",\"line\":{\"colorbar\":{\"outlinewidth\":0,\"ticks\":\"\"}}}],\"scatterpolargl\":[{\"type\":\"scatterpolargl\",\"marker\":{\"colorbar\":{\"outlinewidth\":0,\"ticks\":\"\"}}}],\"bar\":[{\"error_x\":{\"color\":\"#2a3f5f\"},\"error_y\":{\"color\":\"#2a3f5f\"},\"marker\":{\"line\":{\"color\":\"#E5ECF6\",\"width\":0.5},\"pattern\":{\"fillmode\":\"overlay\",\"size\":10,\"solidity\":0.2}},\"type\":\"bar\"}],\"scattergeo\":[{\"type\":\"scattergeo\",\"marker\":{\"colorbar\":{\"outlinewidth\":0,\"ticks\":\"\"}}}],\"scatterpolar\":[{\"type\":\"scatterpolar\",\"marker\":{\"colorbar\":{\"outlinewidth\":0,\"ticks\":\"\"}}}],\"histogram\":[{\"marker\":{\"pattern\":{\"fillmode\":\"overlay\",\"size\":10,\"solidity\":0.2}},\"type\":\"histogram\"}],\"scattergl\":[{\"type\":\"scattergl\",\"marker\":{\"colorbar\":{\"outlinewidth\":0,\"ticks\":\"\"}}}],\"scatter3d\":[{\"type\":\"scatter3d\",\"line\":{\"colorbar\":{\"outlinewidth\":0,\"ticks\":\"\"}},\"marker\":{\"colorbar\":{\"outlinewidth\":0,\"ticks\":\"\"}}}],\"scattermapbox\":[{\"type\":\"scattermapbox\",\"marker\":{\"colorbar\":{\"outlinewidth\":0,\"ticks\":\"\"}}}],\"scatterternary\":[{\"type\":\"scatterternary\",\"marker\":{\"colorbar\":{\"outlinewidth\":0,\"ticks\":\"\"}}}],\"scattercarpet\":[{\"type\":\"scattercarpet\",\"marker\":{\"colorbar\":{\"outlinewidth\":0,\"ticks\":\"\"}}}],\"carpet\":[{\"aaxis\":{\"endlinecolor\":\"#2a3f5f\",\"gridcolor\":\"white\",\"linecolor\":\"white\",\"minorgridcolor\":\"white\",\"startlinecolor\":\"#2a3f5f\"},\"baxis\":{\"endlinecolor\":\"#2a3f5f\",\"gridcolor\":\"white\",\"linecolor\":\"white\",\"minorgridcolor\":\"white\",\"startlinecolor\":\"#2a3f5f\"},\"type\":\"carpet\"}],\"table\":[{\"cells\":{\"fill\":{\"color\":\"#EBF0F8\"},\"line\":{\"color\":\"white\"}},\"header\":{\"fill\":{\"color\":\"#C8D4E3\"},\"line\":{\"color\":\"white\"}},\"type\":\"table\"}],\"barpolar\":[{\"marker\":{\"line\":{\"color\":\"#E5ECF6\",\"width\":0.5},\"pattern\":{\"fillmode\":\"overlay\",\"size\":10,\"solidity\":0.2}},\"type\":\"barpolar\"}],\"pie\":[{\"automargin\":true,\"type\":\"pie\"}]},\"layout\":{\"autotypenumbers\":\"strict\",\"colorway\":[\"#636efa\",\"#EF553B\",\"#00cc96\",\"#ab63fa\",\"#FFA15A\",\"#19d3f3\",\"#FF6692\",\"#B6E880\",\"#FF97FF\",\"#FECB52\"],\"font\":{\"color\":\"#2a3f5f\"},\"hovermode\":\"closest\",\"hoverlabel\":{\"align\":\"left\"},\"paper_bgcolor\":\"white\",\"plot_bgcolor\":\"#E5ECF6\",\"polar\":{\"bgcolor\":\"#E5ECF6\",\"angularaxis\":{\"gridcolor\":\"white\",\"linecolor\":\"white\",\"ticks\":\"\"},\"radialaxis\":{\"gridcolor\":\"white\",\"linecolor\":\"white\",\"ticks\":\"\"}},\"ternary\":{\"bgcolor\":\"#E5ECF6\",\"aaxis\":{\"gridcolor\":\"white\",\"linecolor\":\"white\",\"ticks\":\"\"},\"baxis\":{\"gridcolor\":\"white\",\"linecolor\":\"white\",\"ticks\":\"\"},\"caxis\":{\"gridcolor\":\"white\",\"linecolor\":\"white\",\"ticks\":\"\"}},\"coloraxis\":{\"colorbar\":{\"outlinewidth\":0,\"ticks\":\"\"}},\"colorscale\":{\"sequential\":[[0.0,\"#0d0887\"],[0.1111111111111111,\"#46039f\"],[0.2222222222222222,\"#7201a8\"],[0.3333333333333333,\"#9c179e\"],[0.4444444444444444,\"#bd3786\"],[0.5555555555555556,\"#d8576b\"],[0.6666666666666666,\"#ed7953\"],[0.7777777777777778,\"#fb9f3a\"],[0.8888888888888888,\"#fdca26\"],[1.0,\"#f0f921\"]],\"sequentialminus\":[[0.0,\"#0d0887\"],[0.1111111111111111,\"#46039f\"],[0.2222222222222222,\"#7201a8\"],[0.3333333333333333,\"#9c179e\"],[0.4444444444444444,\"#bd3786\"],[0.5555555555555556,\"#d8576b\"],[0.6666666666666666,\"#ed7953\"],[0.7777777777777778,\"#fb9f3a\"],[0.8888888888888888,\"#fdca26\"],[1.0,\"#f0f921\"]],\"diverging\":[[0,\"#8e0152\"],[0.1,\"#c51b7d\"],[0.2,\"#de77ae\"],[0.3,\"#f1b6da\"],[0.4,\"#fde0ef\"],[0.5,\"#f7f7f7\"],[0.6,\"#e6f5d0\"],[0.7,\"#b8e186\"],[0.8,\"#7fbc41\"],[0.9,\"#4d9221\"],[1,\"#276419\"]]},\"xaxis\":{\"gridcolor\":\"white\",\"linecolor\":\"white\",\"ticks\":\"\",\"title\":{\"standoff\":15},\"zerolinecolor\":\"white\",\"automargin\":true,\"zerolinewidth\":2},\"yaxis\":{\"gridcolor\":\"white\",\"linecolor\":\"white\",\"ticks\":\"\",\"title\":{\"standoff\":15},\"zerolinecolor\":\"white\",\"automargin\":true,\"zerolinewidth\":2},\"scene\":{\"xaxis\":{\"backgroundcolor\":\"#E5ECF6\",\"gridcolor\":\"white\",\"linecolor\":\"white\",\"showbackground\":true,\"ticks\":\"\",\"zerolinecolor\":\"white\",\"gridwidth\":2},\"yaxis\":{\"backgroundcolor\":\"#E5ECF6\",\"gridcolor\":\"white\",\"linecolor\":\"white\",\"showbackground\":true,\"ticks\":\"\",\"zerolinecolor\":\"white\",\"gridwidth\":2},\"zaxis\":{\"backgroundcolor\":\"#E5ECF6\",\"gridcolor\":\"white\",\"linecolor\":\"white\",\"showbackground\":true,\"ticks\":\"\",\"zerolinecolor\":\"white\",\"gridwidth\":2}},\"shapedefaults\":{\"line\":{\"color\":\"#2a3f5f\"}},\"annotationdefaults\":{\"arrowcolor\":\"#2a3f5f\",\"arrowhead\":0,\"arrowwidth\":1},\"geo\":{\"bgcolor\":\"white\",\"landcolor\":\"#E5ECF6\",\"subunitcolor\":\"white\",\"showland\":true,\"showlakes\":true,\"lakecolor\":\"white\"},\"title\":{\"x\":0.05},\"mapbox\":{\"style\":\"light\"}}}},                        {\"responsive\": true}                    ).then(function(){\n",
       "                            \n",
       "var gd = document.getElementById('5c44d936-c82e-4bad-9a32-11a7b032073a');\n",
       "var x = new MutationObserver(function (mutations, observer) {{\n",
       "        var display = window.getComputedStyle(gd).display;\n",
       "        if (!display || display === 'none') {{\n",
       "            console.log([gd, 'removed!']);\n",
       "            Plotly.purge(gd);\n",
       "            observer.disconnect();\n",
       "        }}\n",
       "}});\n",
       "\n",
       "// Listen for the removal of the full notebook cells\n",
       "var notebookContainer = gd.closest('#notebook-container');\n",
       "if (notebookContainer) {{\n",
       "    x.observe(notebookContainer, {childList: true});\n",
       "}}\n",
       "\n",
       "// Listen for the clearing of the current output cell\n",
       "var outputEl = gd.closest('.output');\n",
       "if (outputEl) {{\n",
       "    x.observe(outputEl, {childList: true});\n",
       "}}\n",
       "\n",
       "                        })                };                });            </script>        </div>"
      ]
     },
     "metadata": {},
     "output_type": "display_data"
    }
   ],
   "source": [
    "df=  pd.DataFrame(data[\"Incident Types\"].value_counts())\n",
    "df = df.reset_index()\n",
    "df\n",
    "fig = go.Figure(data=[go.Bar(\n",
    "            x=df['Incident Types'], y=df['count'],\n",
    "            text=df['count'],\n",
    "            textposition='auto',\n",
    "            marker_color = 'steelblue'\n",
    "        )])\n",
    "\n",
    "fig.show()"
   ]
  },
  {
   "cell_type": "code",
   "execution_count": 58,
   "id": "ecd586cb",
   "metadata": {},
   "outputs": [],
   "source": [
    "df2 = data['Company'].value_counts()\n",
    "df2 = df2.reset_index()\n",
    "df2 = df2[df2[\"count\"]>9]"
   ]
  },
  {
   "cell_type": "code",
   "execution_count": 59,
   "id": "d166c72c",
   "metadata": {},
   "outputs": [
    {
     "data": {
      "application/vnd.plotly.v1+json": {
       "config": {
        "plotlyServerURL": "https://plot.ly"
       },
       "data": [
        {
         "marker": {
          "color": "firebrick"
         },
         "text": [
          426,
          269,
          260,
          229,
          203,
          88,
          73,
          36,
          31,
          26,
          18,
          17,
          13,
          10,
          10
         ],
         "textposition": "auto",
         "type": "bar",
         "x": [
          "NOVA Gas Transmission Ltd.",
          "Westcoast Energy Inc., carrying on business as Spectra Energy Transmission",
          "Enbridge Pipelines Inc.",
          "TransCanada PipeLines Limited",
          "Trans Mountain Pipeline ULC",
          "Maritimes & Northeast Pipeline Management Ltd.",
          "Trans-Northern Pipelines Inc.",
          "TransCanada Keystone Pipeline GP Ltd.",
          "Westcoast Energy Inc.",
          "Alliance Pipeline Ltd.",
          "Emera Brunswick Pipeline Company Ltd.",
          "Twin Rivers Paper Company Inc.",
          "Foothills Pipe Lines Ltd.",
          "Trans Québec and Maritimes Pipeline Inc.",
          "Enbridge Pipelines (NW) Inc."
         ],
         "y": [
          426,
          269,
          260,
          229,
          203,
          88,
          73,
          36,
          31,
          26,
          18,
          17,
          13,
          10,
          10
         ]
        }
       ],
       "layout": {
        "template": {
         "data": {
          "bar": [
           {
            "error_x": {
             "color": "#2a3f5f"
            },
            "error_y": {
             "color": "#2a3f5f"
            },
            "marker": {
             "line": {
              "color": "#E5ECF6",
              "width": 0.5
             },
             "pattern": {
              "fillmode": "overlay",
              "size": 10,
              "solidity": 0.2
             }
            },
            "type": "bar"
           }
          ],
          "barpolar": [
           {
            "marker": {
             "line": {
              "color": "#E5ECF6",
              "width": 0.5
             },
             "pattern": {
              "fillmode": "overlay",
              "size": 10,
              "solidity": 0.2
             }
            },
            "type": "barpolar"
           }
          ],
          "carpet": [
           {
            "aaxis": {
             "endlinecolor": "#2a3f5f",
             "gridcolor": "white",
             "linecolor": "white",
             "minorgridcolor": "white",
             "startlinecolor": "#2a3f5f"
            },
            "baxis": {
             "endlinecolor": "#2a3f5f",
             "gridcolor": "white",
             "linecolor": "white",
             "minorgridcolor": "white",
             "startlinecolor": "#2a3f5f"
            },
            "type": "carpet"
           }
          ],
          "choropleth": [
           {
            "colorbar": {
             "outlinewidth": 0,
             "ticks": ""
            },
            "type": "choropleth"
           }
          ],
          "contour": [
           {
            "colorbar": {
             "outlinewidth": 0,
             "ticks": ""
            },
            "colorscale": [
             [
              0,
              "#0d0887"
             ],
             [
              0.1111111111111111,
              "#46039f"
             ],
             [
              0.2222222222222222,
              "#7201a8"
             ],
             [
              0.3333333333333333,
              "#9c179e"
             ],
             [
              0.4444444444444444,
              "#bd3786"
             ],
             [
              0.5555555555555556,
              "#d8576b"
             ],
             [
              0.6666666666666666,
              "#ed7953"
             ],
             [
              0.7777777777777778,
              "#fb9f3a"
             ],
             [
              0.8888888888888888,
              "#fdca26"
             ],
             [
              1,
              "#f0f921"
             ]
            ],
            "type": "contour"
           }
          ],
          "contourcarpet": [
           {
            "colorbar": {
             "outlinewidth": 0,
             "ticks": ""
            },
            "type": "contourcarpet"
           }
          ],
          "heatmap": [
           {
            "colorbar": {
             "outlinewidth": 0,
             "ticks": ""
            },
            "colorscale": [
             [
              0,
              "#0d0887"
             ],
             [
              0.1111111111111111,
              "#46039f"
             ],
             [
              0.2222222222222222,
              "#7201a8"
             ],
             [
              0.3333333333333333,
              "#9c179e"
             ],
             [
              0.4444444444444444,
              "#bd3786"
             ],
             [
              0.5555555555555556,
              "#d8576b"
             ],
             [
              0.6666666666666666,
              "#ed7953"
             ],
             [
              0.7777777777777778,
              "#fb9f3a"
             ],
             [
              0.8888888888888888,
              "#fdca26"
             ],
             [
              1,
              "#f0f921"
             ]
            ],
            "type": "heatmap"
           }
          ],
          "heatmapgl": [
           {
            "colorbar": {
             "outlinewidth": 0,
             "ticks": ""
            },
            "colorscale": [
             [
              0,
              "#0d0887"
             ],
             [
              0.1111111111111111,
              "#46039f"
             ],
             [
              0.2222222222222222,
              "#7201a8"
             ],
             [
              0.3333333333333333,
              "#9c179e"
             ],
             [
              0.4444444444444444,
              "#bd3786"
             ],
             [
              0.5555555555555556,
              "#d8576b"
             ],
             [
              0.6666666666666666,
              "#ed7953"
             ],
             [
              0.7777777777777778,
              "#fb9f3a"
             ],
             [
              0.8888888888888888,
              "#fdca26"
             ],
             [
              1,
              "#f0f921"
             ]
            ],
            "type": "heatmapgl"
           }
          ],
          "histogram": [
           {
            "marker": {
             "pattern": {
              "fillmode": "overlay",
              "size": 10,
              "solidity": 0.2
             }
            },
            "type": "histogram"
           }
          ],
          "histogram2d": [
           {
            "colorbar": {
             "outlinewidth": 0,
             "ticks": ""
            },
            "colorscale": [
             [
              0,
              "#0d0887"
             ],
             [
              0.1111111111111111,
              "#46039f"
             ],
             [
              0.2222222222222222,
              "#7201a8"
             ],
             [
              0.3333333333333333,
              "#9c179e"
             ],
             [
              0.4444444444444444,
              "#bd3786"
             ],
             [
              0.5555555555555556,
              "#d8576b"
             ],
             [
              0.6666666666666666,
              "#ed7953"
             ],
             [
              0.7777777777777778,
              "#fb9f3a"
             ],
             [
              0.8888888888888888,
              "#fdca26"
             ],
             [
              1,
              "#f0f921"
             ]
            ],
            "type": "histogram2d"
           }
          ],
          "histogram2dcontour": [
           {
            "colorbar": {
             "outlinewidth": 0,
             "ticks": ""
            },
            "colorscale": [
             [
              0,
              "#0d0887"
             ],
             [
              0.1111111111111111,
              "#46039f"
             ],
             [
              0.2222222222222222,
              "#7201a8"
             ],
             [
              0.3333333333333333,
              "#9c179e"
             ],
             [
              0.4444444444444444,
              "#bd3786"
             ],
             [
              0.5555555555555556,
              "#d8576b"
             ],
             [
              0.6666666666666666,
              "#ed7953"
             ],
             [
              0.7777777777777778,
              "#fb9f3a"
             ],
             [
              0.8888888888888888,
              "#fdca26"
             ],
             [
              1,
              "#f0f921"
             ]
            ],
            "type": "histogram2dcontour"
           }
          ],
          "mesh3d": [
           {
            "colorbar": {
             "outlinewidth": 0,
             "ticks": ""
            },
            "type": "mesh3d"
           }
          ],
          "parcoords": [
           {
            "line": {
             "colorbar": {
              "outlinewidth": 0,
              "ticks": ""
             }
            },
            "type": "parcoords"
           }
          ],
          "pie": [
           {
            "automargin": true,
            "type": "pie"
           }
          ],
          "scatter": [
           {
            "fillpattern": {
             "fillmode": "overlay",
             "size": 10,
             "solidity": 0.2
            },
            "type": "scatter"
           }
          ],
          "scatter3d": [
           {
            "line": {
             "colorbar": {
              "outlinewidth": 0,
              "ticks": ""
             }
            },
            "marker": {
             "colorbar": {
              "outlinewidth": 0,
              "ticks": ""
             }
            },
            "type": "scatter3d"
           }
          ],
          "scattercarpet": [
           {
            "marker": {
             "colorbar": {
              "outlinewidth": 0,
              "ticks": ""
             }
            },
            "type": "scattercarpet"
           }
          ],
          "scattergeo": [
           {
            "marker": {
             "colorbar": {
              "outlinewidth": 0,
              "ticks": ""
             }
            },
            "type": "scattergeo"
           }
          ],
          "scattergl": [
           {
            "marker": {
             "colorbar": {
              "outlinewidth": 0,
              "ticks": ""
             }
            },
            "type": "scattergl"
           }
          ],
          "scattermapbox": [
           {
            "marker": {
             "colorbar": {
              "outlinewidth": 0,
              "ticks": ""
             }
            },
            "type": "scattermapbox"
           }
          ],
          "scatterpolar": [
           {
            "marker": {
             "colorbar": {
              "outlinewidth": 0,
              "ticks": ""
             }
            },
            "type": "scatterpolar"
           }
          ],
          "scatterpolargl": [
           {
            "marker": {
             "colorbar": {
              "outlinewidth": 0,
              "ticks": ""
             }
            },
            "type": "scatterpolargl"
           }
          ],
          "scatterternary": [
           {
            "marker": {
             "colorbar": {
              "outlinewidth": 0,
              "ticks": ""
             }
            },
            "type": "scatterternary"
           }
          ],
          "surface": [
           {
            "colorbar": {
             "outlinewidth": 0,
             "ticks": ""
            },
            "colorscale": [
             [
              0,
              "#0d0887"
             ],
             [
              0.1111111111111111,
              "#46039f"
             ],
             [
              0.2222222222222222,
              "#7201a8"
             ],
             [
              0.3333333333333333,
              "#9c179e"
             ],
             [
              0.4444444444444444,
              "#bd3786"
             ],
             [
              0.5555555555555556,
              "#d8576b"
             ],
             [
              0.6666666666666666,
              "#ed7953"
             ],
             [
              0.7777777777777778,
              "#fb9f3a"
             ],
             [
              0.8888888888888888,
              "#fdca26"
             ],
             [
              1,
              "#f0f921"
             ]
            ],
            "type": "surface"
           }
          ],
          "table": [
           {
            "cells": {
             "fill": {
              "color": "#EBF0F8"
             },
             "line": {
              "color": "white"
             }
            },
            "header": {
             "fill": {
              "color": "#C8D4E3"
             },
             "line": {
              "color": "white"
             }
            },
            "type": "table"
           }
          ]
         },
         "layout": {
          "annotationdefaults": {
           "arrowcolor": "#2a3f5f",
           "arrowhead": 0,
           "arrowwidth": 1
          },
          "autotypenumbers": "strict",
          "coloraxis": {
           "colorbar": {
            "outlinewidth": 0,
            "ticks": ""
           }
          },
          "colorscale": {
           "diverging": [
            [
             0,
             "#8e0152"
            ],
            [
             0.1,
             "#c51b7d"
            ],
            [
             0.2,
             "#de77ae"
            ],
            [
             0.3,
             "#f1b6da"
            ],
            [
             0.4,
             "#fde0ef"
            ],
            [
             0.5,
             "#f7f7f7"
            ],
            [
             0.6,
             "#e6f5d0"
            ],
            [
             0.7,
             "#b8e186"
            ],
            [
             0.8,
             "#7fbc41"
            ],
            [
             0.9,
             "#4d9221"
            ],
            [
             1,
             "#276419"
            ]
           ],
           "sequential": [
            [
             0,
             "#0d0887"
            ],
            [
             0.1111111111111111,
             "#46039f"
            ],
            [
             0.2222222222222222,
             "#7201a8"
            ],
            [
             0.3333333333333333,
             "#9c179e"
            ],
            [
             0.4444444444444444,
             "#bd3786"
            ],
            [
             0.5555555555555556,
             "#d8576b"
            ],
            [
             0.6666666666666666,
             "#ed7953"
            ],
            [
             0.7777777777777778,
             "#fb9f3a"
            ],
            [
             0.8888888888888888,
             "#fdca26"
            ],
            [
             1,
             "#f0f921"
            ]
           ],
           "sequentialminus": [
            [
             0,
             "#0d0887"
            ],
            [
             0.1111111111111111,
             "#46039f"
            ],
            [
             0.2222222222222222,
             "#7201a8"
            ],
            [
             0.3333333333333333,
             "#9c179e"
            ],
            [
             0.4444444444444444,
             "#bd3786"
            ],
            [
             0.5555555555555556,
             "#d8576b"
            ],
            [
             0.6666666666666666,
             "#ed7953"
            ],
            [
             0.7777777777777778,
             "#fb9f3a"
            ],
            [
             0.8888888888888888,
             "#fdca26"
            ],
            [
             1,
             "#f0f921"
            ]
           ]
          },
          "colorway": [
           "#636efa",
           "#EF553B",
           "#00cc96",
           "#ab63fa",
           "#FFA15A",
           "#19d3f3",
           "#FF6692",
           "#B6E880",
           "#FF97FF",
           "#FECB52"
          ],
          "font": {
           "color": "#2a3f5f"
          },
          "geo": {
           "bgcolor": "white",
           "lakecolor": "white",
           "landcolor": "#E5ECF6",
           "showlakes": true,
           "showland": true,
           "subunitcolor": "white"
          },
          "hoverlabel": {
           "align": "left"
          },
          "hovermode": "closest",
          "mapbox": {
           "style": "light"
          },
          "paper_bgcolor": "white",
          "plot_bgcolor": "#E5ECF6",
          "polar": {
           "angularaxis": {
            "gridcolor": "white",
            "linecolor": "white",
            "ticks": ""
           },
           "bgcolor": "#E5ECF6",
           "radialaxis": {
            "gridcolor": "white",
            "linecolor": "white",
            "ticks": ""
           }
          },
          "scene": {
           "xaxis": {
            "backgroundcolor": "#E5ECF6",
            "gridcolor": "white",
            "gridwidth": 2,
            "linecolor": "white",
            "showbackground": true,
            "ticks": "",
            "zerolinecolor": "white"
           },
           "yaxis": {
            "backgroundcolor": "#E5ECF6",
            "gridcolor": "white",
            "gridwidth": 2,
            "linecolor": "white",
            "showbackground": true,
            "ticks": "",
            "zerolinecolor": "white"
           },
           "zaxis": {
            "backgroundcolor": "#E5ECF6",
            "gridcolor": "white",
            "gridwidth": 2,
            "linecolor": "white",
            "showbackground": true,
            "ticks": "",
            "zerolinecolor": "white"
           }
          },
          "shapedefaults": {
           "line": {
            "color": "#2a3f5f"
           }
          },
          "ternary": {
           "aaxis": {
            "gridcolor": "white",
            "linecolor": "white",
            "ticks": ""
           },
           "baxis": {
            "gridcolor": "white",
            "linecolor": "white",
            "ticks": ""
           },
           "bgcolor": "#E5ECF6",
           "caxis": {
            "gridcolor": "white",
            "linecolor": "white",
            "ticks": ""
           }
          },
          "title": {
           "x": 0.05
          },
          "xaxis": {
           "automargin": true,
           "gridcolor": "white",
           "linecolor": "white",
           "ticks": "",
           "title": {
            "standoff": 15
           },
           "zerolinecolor": "white",
           "zerolinewidth": 2
          },
          "yaxis": {
           "automargin": true,
           "gridcolor": "white",
           "linecolor": "white",
           "ticks": "",
           "title": {
            "standoff": 15
           },
           "zerolinecolor": "white",
           "zerolinewidth": 2
          }
         }
        }
       }
      },
      "text/html": [
       "<div>                            <div id=\"29f2d014-5467-4a7a-ac2b-ddd260ef3a7a\" class=\"plotly-graph-div\" style=\"height:525px; width:100%;\"></div>            <script type=\"text/javascript\">                require([\"plotly\"], function(Plotly) {                    window.PLOTLYENV=window.PLOTLYENV || {};                                    if (document.getElementById(\"29f2d014-5467-4a7a-ac2b-ddd260ef3a7a\")) {                    Plotly.newPlot(                        \"29f2d014-5467-4a7a-ac2b-ddd260ef3a7a\",                        [{\"marker\":{\"color\":\"firebrick\"},\"text\":[426.0,269.0,260.0,229.0,203.0,88.0,73.0,36.0,31.0,26.0,18.0,17.0,13.0,10.0,10.0],\"textposition\":\"auto\",\"x\":[\"NOVA Gas Transmission Ltd.\",\"Westcoast Energy Inc., carrying on business as Spectra Energy Transmission\",\"Enbridge Pipelines Inc.\",\"TransCanada PipeLines Limited\",\"Trans Mountain Pipeline ULC\",\"Maritimes & Northeast Pipeline Management Ltd.\",\"Trans-Northern Pipelines Inc.\",\"TransCanada Keystone Pipeline GP Ltd.\",\"Westcoast Energy Inc.\",\"Alliance Pipeline Ltd.\",\"Emera Brunswick Pipeline Company Ltd.\",\"Twin Rivers Paper Company Inc.\",\"Foothills Pipe Lines Ltd.\",\"Trans Qu\\u00e9bec and Maritimes Pipeline Inc.\",\"Enbridge Pipelines (NW) Inc.\"],\"y\":[426,269,260,229,203,88,73,36,31,26,18,17,13,10,10],\"type\":\"bar\"}],                        {\"template\":{\"data\":{\"histogram2dcontour\":[{\"type\":\"histogram2dcontour\",\"colorbar\":{\"outlinewidth\":0,\"ticks\":\"\"},\"colorscale\":[[0.0,\"#0d0887\"],[0.1111111111111111,\"#46039f\"],[0.2222222222222222,\"#7201a8\"],[0.3333333333333333,\"#9c179e\"],[0.4444444444444444,\"#bd3786\"],[0.5555555555555556,\"#d8576b\"],[0.6666666666666666,\"#ed7953\"],[0.7777777777777778,\"#fb9f3a\"],[0.8888888888888888,\"#fdca26\"],[1.0,\"#f0f921\"]]}],\"choropleth\":[{\"type\":\"choropleth\",\"colorbar\":{\"outlinewidth\":0,\"ticks\":\"\"}}],\"histogram2d\":[{\"type\":\"histogram2d\",\"colorbar\":{\"outlinewidth\":0,\"ticks\":\"\"},\"colorscale\":[[0.0,\"#0d0887\"],[0.1111111111111111,\"#46039f\"],[0.2222222222222222,\"#7201a8\"],[0.3333333333333333,\"#9c179e\"],[0.4444444444444444,\"#bd3786\"],[0.5555555555555556,\"#d8576b\"],[0.6666666666666666,\"#ed7953\"],[0.7777777777777778,\"#fb9f3a\"],[0.8888888888888888,\"#fdca26\"],[1.0,\"#f0f921\"]]}],\"heatmap\":[{\"type\":\"heatmap\",\"colorbar\":{\"outlinewidth\":0,\"ticks\":\"\"},\"colorscale\":[[0.0,\"#0d0887\"],[0.1111111111111111,\"#46039f\"],[0.2222222222222222,\"#7201a8\"],[0.3333333333333333,\"#9c179e\"],[0.4444444444444444,\"#bd3786\"],[0.5555555555555556,\"#d8576b\"],[0.6666666666666666,\"#ed7953\"],[0.7777777777777778,\"#fb9f3a\"],[0.8888888888888888,\"#fdca26\"],[1.0,\"#f0f921\"]]}],\"heatmapgl\":[{\"type\":\"heatmapgl\",\"colorbar\":{\"outlinewidth\":0,\"ticks\":\"\"},\"colorscale\":[[0.0,\"#0d0887\"],[0.1111111111111111,\"#46039f\"],[0.2222222222222222,\"#7201a8\"],[0.3333333333333333,\"#9c179e\"],[0.4444444444444444,\"#bd3786\"],[0.5555555555555556,\"#d8576b\"],[0.6666666666666666,\"#ed7953\"],[0.7777777777777778,\"#fb9f3a\"],[0.8888888888888888,\"#fdca26\"],[1.0,\"#f0f921\"]]}],\"contourcarpet\":[{\"type\":\"contourcarpet\",\"colorbar\":{\"outlinewidth\":0,\"ticks\":\"\"}}],\"contour\":[{\"type\":\"contour\",\"colorbar\":{\"outlinewidth\":0,\"ticks\":\"\"},\"colorscale\":[[0.0,\"#0d0887\"],[0.1111111111111111,\"#46039f\"],[0.2222222222222222,\"#7201a8\"],[0.3333333333333333,\"#9c179e\"],[0.4444444444444444,\"#bd3786\"],[0.5555555555555556,\"#d8576b\"],[0.6666666666666666,\"#ed7953\"],[0.7777777777777778,\"#fb9f3a\"],[0.8888888888888888,\"#fdca26\"],[1.0,\"#f0f921\"]]}],\"surface\":[{\"type\":\"surface\",\"colorbar\":{\"outlinewidth\":0,\"ticks\":\"\"},\"colorscale\":[[0.0,\"#0d0887\"],[0.1111111111111111,\"#46039f\"],[0.2222222222222222,\"#7201a8\"],[0.3333333333333333,\"#9c179e\"],[0.4444444444444444,\"#bd3786\"],[0.5555555555555556,\"#d8576b\"],[0.6666666666666666,\"#ed7953\"],[0.7777777777777778,\"#fb9f3a\"],[0.8888888888888888,\"#fdca26\"],[1.0,\"#f0f921\"]]}],\"mesh3d\":[{\"type\":\"mesh3d\",\"colorbar\":{\"outlinewidth\":0,\"ticks\":\"\"}}],\"scatter\":[{\"fillpattern\":{\"fillmode\":\"overlay\",\"size\":10,\"solidity\":0.2},\"type\":\"scatter\"}],\"parcoords\":[{\"type\":\"parcoords\",\"line\":{\"colorbar\":{\"outlinewidth\":0,\"ticks\":\"\"}}}],\"scatterpolargl\":[{\"type\":\"scatterpolargl\",\"marker\":{\"colorbar\":{\"outlinewidth\":0,\"ticks\":\"\"}}}],\"bar\":[{\"error_x\":{\"color\":\"#2a3f5f\"},\"error_y\":{\"color\":\"#2a3f5f\"},\"marker\":{\"line\":{\"color\":\"#E5ECF6\",\"width\":0.5},\"pattern\":{\"fillmode\":\"overlay\",\"size\":10,\"solidity\":0.2}},\"type\":\"bar\"}],\"scattergeo\":[{\"type\":\"scattergeo\",\"marker\":{\"colorbar\":{\"outlinewidth\":0,\"ticks\":\"\"}}}],\"scatterpolar\":[{\"type\":\"scatterpolar\",\"marker\":{\"colorbar\":{\"outlinewidth\":0,\"ticks\":\"\"}}}],\"histogram\":[{\"marker\":{\"pattern\":{\"fillmode\":\"overlay\",\"size\":10,\"solidity\":0.2}},\"type\":\"histogram\"}],\"scattergl\":[{\"type\":\"scattergl\",\"marker\":{\"colorbar\":{\"outlinewidth\":0,\"ticks\":\"\"}}}],\"scatter3d\":[{\"type\":\"scatter3d\",\"line\":{\"colorbar\":{\"outlinewidth\":0,\"ticks\":\"\"}},\"marker\":{\"colorbar\":{\"outlinewidth\":0,\"ticks\":\"\"}}}],\"scattermapbox\":[{\"type\":\"scattermapbox\",\"marker\":{\"colorbar\":{\"outlinewidth\":0,\"ticks\":\"\"}}}],\"scatterternary\":[{\"type\":\"scatterternary\",\"marker\":{\"colorbar\":{\"outlinewidth\":0,\"ticks\":\"\"}}}],\"scattercarpet\":[{\"type\":\"scattercarpet\",\"marker\":{\"colorbar\":{\"outlinewidth\":0,\"ticks\":\"\"}}}],\"carpet\":[{\"aaxis\":{\"endlinecolor\":\"#2a3f5f\",\"gridcolor\":\"white\",\"linecolor\":\"white\",\"minorgridcolor\":\"white\",\"startlinecolor\":\"#2a3f5f\"},\"baxis\":{\"endlinecolor\":\"#2a3f5f\",\"gridcolor\":\"white\",\"linecolor\":\"white\",\"minorgridcolor\":\"white\",\"startlinecolor\":\"#2a3f5f\"},\"type\":\"carpet\"}],\"table\":[{\"cells\":{\"fill\":{\"color\":\"#EBF0F8\"},\"line\":{\"color\":\"white\"}},\"header\":{\"fill\":{\"color\":\"#C8D4E3\"},\"line\":{\"color\":\"white\"}},\"type\":\"table\"}],\"barpolar\":[{\"marker\":{\"line\":{\"color\":\"#E5ECF6\",\"width\":0.5},\"pattern\":{\"fillmode\":\"overlay\",\"size\":10,\"solidity\":0.2}},\"type\":\"barpolar\"}],\"pie\":[{\"automargin\":true,\"type\":\"pie\"}]},\"layout\":{\"autotypenumbers\":\"strict\",\"colorway\":[\"#636efa\",\"#EF553B\",\"#00cc96\",\"#ab63fa\",\"#FFA15A\",\"#19d3f3\",\"#FF6692\",\"#B6E880\",\"#FF97FF\",\"#FECB52\"],\"font\":{\"color\":\"#2a3f5f\"},\"hovermode\":\"closest\",\"hoverlabel\":{\"align\":\"left\"},\"paper_bgcolor\":\"white\",\"plot_bgcolor\":\"#E5ECF6\",\"polar\":{\"bgcolor\":\"#E5ECF6\",\"angularaxis\":{\"gridcolor\":\"white\",\"linecolor\":\"white\",\"ticks\":\"\"},\"radialaxis\":{\"gridcolor\":\"white\",\"linecolor\":\"white\",\"ticks\":\"\"}},\"ternary\":{\"bgcolor\":\"#E5ECF6\",\"aaxis\":{\"gridcolor\":\"white\",\"linecolor\":\"white\",\"ticks\":\"\"},\"baxis\":{\"gridcolor\":\"white\",\"linecolor\":\"white\",\"ticks\":\"\"},\"caxis\":{\"gridcolor\":\"white\",\"linecolor\":\"white\",\"ticks\":\"\"}},\"coloraxis\":{\"colorbar\":{\"outlinewidth\":0,\"ticks\":\"\"}},\"colorscale\":{\"sequential\":[[0.0,\"#0d0887\"],[0.1111111111111111,\"#46039f\"],[0.2222222222222222,\"#7201a8\"],[0.3333333333333333,\"#9c179e\"],[0.4444444444444444,\"#bd3786\"],[0.5555555555555556,\"#d8576b\"],[0.6666666666666666,\"#ed7953\"],[0.7777777777777778,\"#fb9f3a\"],[0.8888888888888888,\"#fdca26\"],[1.0,\"#f0f921\"]],\"sequentialminus\":[[0.0,\"#0d0887\"],[0.1111111111111111,\"#46039f\"],[0.2222222222222222,\"#7201a8\"],[0.3333333333333333,\"#9c179e\"],[0.4444444444444444,\"#bd3786\"],[0.5555555555555556,\"#d8576b\"],[0.6666666666666666,\"#ed7953\"],[0.7777777777777778,\"#fb9f3a\"],[0.8888888888888888,\"#fdca26\"],[1.0,\"#f0f921\"]],\"diverging\":[[0,\"#8e0152\"],[0.1,\"#c51b7d\"],[0.2,\"#de77ae\"],[0.3,\"#f1b6da\"],[0.4,\"#fde0ef\"],[0.5,\"#f7f7f7\"],[0.6,\"#e6f5d0\"],[0.7,\"#b8e186\"],[0.8,\"#7fbc41\"],[0.9,\"#4d9221\"],[1,\"#276419\"]]},\"xaxis\":{\"gridcolor\":\"white\",\"linecolor\":\"white\",\"ticks\":\"\",\"title\":{\"standoff\":15},\"zerolinecolor\":\"white\",\"automargin\":true,\"zerolinewidth\":2},\"yaxis\":{\"gridcolor\":\"white\",\"linecolor\":\"white\",\"ticks\":\"\",\"title\":{\"standoff\":15},\"zerolinecolor\":\"white\",\"automargin\":true,\"zerolinewidth\":2},\"scene\":{\"xaxis\":{\"backgroundcolor\":\"#E5ECF6\",\"gridcolor\":\"white\",\"linecolor\":\"white\",\"showbackground\":true,\"ticks\":\"\",\"zerolinecolor\":\"white\",\"gridwidth\":2},\"yaxis\":{\"backgroundcolor\":\"#E5ECF6\",\"gridcolor\":\"white\",\"linecolor\":\"white\",\"showbackground\":true,\"ticks\":\"\",\"zerolinecolor\":\"white\",\"gridwidth\":2},\"zaxis\":{\"backgroundcolor\":\"#E5ECF6\",\"gridcolor\":\"white\",\"linecolor\":\"white\",\"showbackground\":true,\"ticks\":\"\",\"zerolinecolor\":\"white\",\"gridwidth\":2}},\"shapedefaults\":{\"line\":{\"color\":\"#2a3f5f\"}},\"annotationdefaults\":{\"arrowcolor\":\"#2a3f5f\",\"arrowhead\":0,\"arrowwidth\":1},\"geo\":{\"bgcolor\":\"white\",\"landcolor\":\"#E5ECF6\",\"subunitcolor\":\"white\",\"showland\":true,\"showlakes\":true,\"lakecolor\":\"white\"},\"title\":{\"x\":0.05},\"mapbox\":{\"style\":\"light\"}}}},                        {\"responsive\": true}                    ).then(function(){\n",
       "                            \n",
       "var gd = document.getElementById('29f2d014-5467-4a7a-ac2b-ddd260ef3a7a');\n",
       "var x = new MutationObserver(function (mutations, observer) {{\n",
       "        var display = window.getComputedStyle(gd).display;\n",
       "        if (!display || display === 'none') {{\n",
       "            console.log([gd, 'removed!']);\n",
       "            Plotly.purge(gd);\n",
       "            observer.disconnect();\n",
       "        }}\n",
       "}});\n",
       "\n",
       "// Listen for the removal of the full notebook cells\n",
       "var notebookContainer = gd.closest('#notebook-container');\n",
       "if (notebookContainer) {{\n",
       "    x.observe(notebookContainer, {childList: true});\n",
       "}}\n",
       "\n",
       "// Listen for the clearing of the current output cell\n",
       "var outputEl = gd.closest('.output');\n",
       "if (outputEl) {{\n",
       "    x.observe(outputEl, {childList: true});\n",
       "}}\n",
       "\n",
       "                        })                };                });            </script>        </div>"
      ]
     },
     "metadata": {},
     "output_type": "display_data"
    }
   ],
   "source": [
    "fig = go.Figure(data=[go.Bar(\n",
    "            x=df2['Company'], y=df2['count'],\n",
    "            text=df2['count'],\n",
    "            textposition='auto',\n",
    "            marker_color = 'firebrick'\n",
    "        )])\n",
    "fig.show()"
   ]
  },
  {
   "cell_type": "code",
   "execution_count": 62,
   "id": "d9d5bb22",
   "metadata": {},
   "outputs": [
    {
     "data": {
      "text/html": [
       "<div>\n",
       "<style scoped>\n",
       "    .dataframe tbody tr th:only-of-type {\n",
       "        vertical-align: middle;\n",
       "    }\n",
       "\n",
       "    .dataframe tbody tr th {\n",
       "        vertical-align: top;\n",
       "    }\n",
       "\n",
       "    .dataframe thead th {\n",
       "        text-align: right;\n",
       "    }\n",
       "</style>\n",
       "<table border=\"1\" class=\"dataframe\">\n",
       "  <thead>\n",
       "    <tr style=\"text-align: right;\">\n",
       "      <th></th>\n",
       "      <th>Significant</th>\n",
       "      <th>count</th>\n",
       "    </tr>\n",
       "  </thead>\n",
       "  <tbody>\n",
       "    <tr>\n",
       "      <th>0</th>\n",
       "      <td>No</td>\n",
       "      <td>1484</td>\n",
       "    </tr>\n",
       "    <tr>\n",
       "      <th>1</th>\n",
       "      <td>Yes</td>\n",
       "      <td>311</td>\n",
       "    </tr>\n",
       "  </tbody>\n",
       "</table>\n",
       "</div>"
      ],
      "text/plain": [
       "  Significant  count\n",
       "0          No   1484\n",
       "1         Yes    311"
      ]
     },
     "execution_count": 62,
     "metadata": {},
     "output_type": "execute_result"
    }
   ],
   "source": [
    "df3 = data['Significant'].value_counts()\n",
    "df3 = df3.reset_index()\n",
    "df3"
   ]
  },
  {
   "cell_type": "code",
   "execution_count": 69,
   "id": "57a29bb0",
   "metadata": {},
   "outputs": [
    {
     "data": {
      "application/vnd.plotly.v1+json": {
       "config": {
        "plotlyServerURL": "https://plot.ly"
       },
       "data": [
        {
         "marker": {
          "color": "#ffa07a"
         },
         "text": [
          1484,
          311
         ],
         "textposition": "auto",
         "type": "bar",
         "x": [
          "No",
          "Yes"
         ],
         "y": [
          1484,
          311
         ]
        }
       ],
       "layout": {
        "template": {
         "data": {
          "bar": [
           {
            "error_x": {
             "color": "#2a3f5f"
            },
            "error_y": {
             "color": "#2a3f5f"
            },
            "marker": {
             "line": {
              "color": "#E5ECF6",
              "width": 0.5
             },
             "pattern": {
              "fillmode": "overlay",
              "size": 10,
              "solidity": 0.2
             }
            },
            "type": "bar"
           }
          ],
          "barpolar": [
           {
            "marker": {
             "line": {
              "color": "#E5ECF6",
              "width": 0.5
             },
             "pattern": {
              "fillmode": "overlay",
              "size": 10,
              "solidity": 0.2
             }
            },
            "type": "barpolar"
           }
          ],
          "carpet": [
           {
            "aaxis": {
             "endlinecolor": "#2a3f5f",
             "gridcolor": "white",
             "linecolor": "white",
             "minorgridcolor": "white",
             "startlinecolor": "#2a3f5f"
            },
            "baxis": {
             "endlinecolor": "#2a3f5f",
             "gridcolor": "white",
             "linecolor": "white",
             "minorgridcolor": "white",
             "startlinecolor": "#2a3f5f"
            },
            "type": "carpet"
           }
          ],
          "choropleth": [
           {
            "colorbar": {
             "outlinewidth": 0,
             "ticks": ""
            },
            "type": "choropleth"
           }
          ],
          "contour": [
           {
            "colorbar": {
             "outlinewidth": 0,
             "ticks": ""
            },
            "colorscale": [
             [
              0,
              "#0d0887"
             ],
             [
              0.1111111111111111,
              "#46039f"
             ],
             [
              0.2222222222222222,
              "#7201a8"
             ],
             [
              0.3333333333333333,
              "#9c179e"
             ],
             [
              0.4444444444444444,
              "#bd3786"
             ],
             [
              0.5555555555555556,
              "#d8576b"
             ],
             [
              0.6666666666666666,
              "#ed7953"
             ],
             [
              0.7777777777777778,
              "#fb9f3a"
             ],
             [
              0.8888888888888888,
              "#fdca26"
             ],
             [
              1,
              "#f0f921"
             ]
            ],
            "type": "contour"
           }
          ],
          "contourcarpet": [
           {
            "colorbar": {
             "outlinewidth": 0,
             "ticks": ""
            },
            "type": "contourcarpet"
           }
          ],
          "heatmap": [
           {
            "colorbar": {
             "outlinewidth": 0,
             "ticks": ""
            },
            "colorscale": [
             [
              0,
              "#0d0887"
             ],
             [
              0.1111111111111111,
              "#46039f"
             ],
             [
              0.2222222222222222,
              "#7201a8"
             ],
             [
              0.3333333333333333,
              "#9c179e"
             ],
             [
              0.4444444444444444,
              "#bd3786"
             ],
             [
              0.5555555555555556,
              "#d8576b"
             ],
             [
              0.6666666666666666,
              "#ed7953"
             ],
             [
              0.7777777777777778,
              "#fb9f3a"
             ],
             [
              0.8888888888888888,
              "#fdca26"
             ],
             [
              1,
              "#f0f921"
             ]
            ],
            "type": "heatmap"
           }
          ],
          "heatmapgl": [
           {
            "colorbar": {
             "outlinewidth": 0,
             "ticks": ""
            },
            "colorscale": [
             [
              0,
              "#0d0887"
             ],
             [
              0.1111111111111111,
              "#46039f"
             ],
             [
              0.2222222222222222,
              "#7201a8"
             ],
             [
              0.3333333333333333,
              "#9c179e"
             ],
             [
              0.4444444444444444,
              "#bd3786"
             ],
             [
              0.5555555555555556,
              "#d8576b"
             ],
             [
              0.6666666666666666,
              "#ed7953"
             ],
             [
              0.7777777777777778,
              "#fb9f3a"
             ],
             [
              0.8888888888888888,
              "#fdca26"
             ],
             [
              1,
              "#f0f921"
             ]
            ],
            "type": "heatmapgl"
           }
          ],
          "histogram": [
           {
            "marker": {
             "pattern": {
              "fillmode": "overlay",
              "size": 10,
              "solidity": 0.2
             }
            },
            "type": "histogram"
           }
          ],
          "histogram2d": [
           {
            "colorbar": {
             "outlinewidth": 0,
             "ticks": ""
            },
            "colorscale": [
             [
              0,
              "#0d0887"
             ],
             [
              0.1111111111111111,
              "#46039f"
             ],
             [
              0.2222222222222222,
              "#7201a8"
             ],
             [
              0.3333333333333333,
              "#9c179e"
             ],
             [
              0.4444444444444444,
              "#bd3786"
             ],
             [
              0.5555555555555556,
              "#d8576b"
             ],
             [
              0.6666666666666666,
              "#ed7953"
             ],
             [
              0.7777777777777778,
              "#fb9f3a"
             ],
             [
              0.8888888888888888,
              "#fdca26"
             ],
             [
              1,
              "#f0f921"
             ]
            ],
            "type": "histogram2d"
           }
          ],
          "histogram2dcontour": [
           {
            "colorbar": {
             "outlinewidth": 0,
             "ticks": ""
            },
            "colorscale": [
             [
              0,
              "#0d0887"
             ],
             [
              0.1111111111111111,
              "#46039f"
             ],
             [
              0.2222222222222222,
              "#7201a8"
             ],
             [
              0.3333333333333333,
              "#9c179e"
             ],
             [
              0.4444444444444444,
              "#bd3786"
             ],
             [
              0.5555555555555556,
              "#d8576b"
             ],
             [
              0.6666666666666666,
              "#ed7953"
             ],
             [
              0.7777777777777778,
              "#fb9f3a"
             ],
             [
              0.8888888888888888,
              "#fdca26"
             ],
             [
              1,
              "#f0f921"
             ]
            ],
            "type": "histogram2dcontour"
           }
          ],
          "mesh3d": [
           {
            "colorbar": {
             "outlinewidth": 0,
             "ticks": ""
            },
            "type": "mesh3d"
           }
          ],
          "parcoords": [
           {
            "line": {
             "colorbar": {
              "outlinewidth": 0,
              "ticks": ""
             }
            },
            "type": "parcoords"
           }
          ],
          "pie": [
           {
            "automargin": true,
            "type": "pie"
           }
          ],
          "scatter": [
           {
            "fillpattern": {
             "fillmode": "overlay",
             "size": 10,
             "solidity": 0.2
            },
            "type": "scatter"
           }
          ],
          "scatter3d": [
           {
            "line": {
             "colorbar": {
              "outlinewidth": 0,
              "ticks": ""
             }
            },
            "marker": {
             "colorbar": {
              "outlinewidth": 0,
              "ticks": ""
             }
            },
            "type": "scatter3d"
           }
          ],
          "scattercarpet": [
           {
            "marker": {
             "colorbar": {
              "outlinewidth": 0,
              "ticks": ""
             }
            },
            "type": "scattercarpet"
           }
          ],
          "scattergeo": [
           {
            "marker": {
             "colorbar": {
              "outlinewidth": 0,
              "ticks": ""
             }
            },
            "type": "scattergeo"
           }
          ],
          "scattergl": [
           {
            "marker": {
             "colorbar": {
              "outlinewidth": 0,
              "ticks": ""
             }
            },
            "type": "scattergl"
           }
          ],
          "scattermapbox": [
           {
            "marker": {
             "colorbar": {
              "outlinewidth": 0,
              "ticks": ""
             }
            },
            "type": "scattermapbox"
           }
          ],
          "scatterpolar": [
           {
            "marker": {
             "colorbar": {
              "outlinewidth": 0,
              "ticks": ""
             }
            },
            "type": "scatterpolar"
           }
          ],
          "scatterpolargl": [
           {
            "marker": {
             "colorbar": {
              "outlinewidth": 0,
              "ticks": ""
             }
            },
            "type": "scatterpolargl"
           }
          ],
          "scatterternary": [
           {
            "marker": {
             "colorbar": {
              "outlinewidth": 0,
              "ticks": ""
             }
            },
            "type": "scatterternary"
           }
          ],
          "surface": [
           {
            "colorbar": {
             "outlinewidth": 0,
             "ticks": ""
            },
            "colorscale": [
             [
              0,
              "#0d0887"
             ],
             [
              0.1111111111111111,
              "#46039f"
             ],
             [
              0.2222222222222222,
              "#7201a8"
             ],
             [
              0.3333333333333333,
              "#9c179e"
             ],
             [
              0.4444444444444444,
              "#bd3786"
             ],
             [
              0.5555555555555556,
              "#d8576b"
             ],
             [
              0.6666666666666666,
              "#ed7953"
             ],
             [
              0.7777777777777778,
              "#fb9f3a"
             ],
             [
              0.8888888888888888,
              "#fdca26"
             ],
             [
              1,
              "#f0f921"
             ]
            ],
            "type": "surface"
           }
          ],
          "table": [
           {
            "cells": {
             "fill": {
              "color": "#EBF0F8"
             },
             "line": {
              "color": "white"
             }
            },
            "header": {
             "fill": {
              "color": "#C8D4E3"
             },
             "line": {
              "color": "white"
             }
            },
            "type": "table"
           }
          ]
         },
         "layout": {
          "annotationdefaults": {
           "arrowcolor": "#2a3f5f",
           "arrowhead": 0,
           "arrowwidth": 1
          },
          "autotypenumbers": "strict",
          "coloraxis": {
           "colorbar": {
            "outlinewidth": 0,
            "ticks": ""
           }
          },
          "colorscale": {
           "diverging": [
            [
             0,
             "#8e0152"
            ],
            [
             0.1,
             "#c51b7d"
            ],
            [
             0.2,
             "#de77ae"
            ],
            [
             0.3,
             "#f1b6da"
            ],
            [
             0.4,
             "#fde0ef"
            ],
            [
             0.5,
             "#f7f7f7"
            ],
            [
             0.6,
             "#e6f5d0"
            ],
            [
             0.7,
             "#b8e186"
            ],
            [
             0.8,
             "#7fbc41"
            ],
            [
             0.9,
             "#4d9221"
            ],
            [
             1,
             "#276419"
            ]
           ],
           "sequential": [
            [
             0,
             "#0d0887"
            ],
            [
             0.1111111111111111,
             "#46039f"
            ],
            [
             0.2222222222222222,
             "#7201a8"
            ],
            [
             0.3333333333333333,
             "#9c179e"
            ],
            [
             0.4444444444444444,
             "#bd3786"
            ],
            [
             0.5555555555555556,
             "#d8576b"
            ],
            [
             0.6666666666666666,
             "#ed7953"
            ],
            [
             0.7777777777777778,
             "#fb9f3a"
            ],
            [
             0.8888888888888888,
             "#fdca26"
            ],
            [
             1,
             "#f0f921"
            ]
           ],
           "sequentialminus": [
            [
             0,
             "#0d0887"
            ],
            [
             0.1111111111111111,
             "#46039f"
            ],
            [
             0.2222222222222222,
             "#7201a8"
            ],
            [
             0.3333333333333333,
             "#9c179e"
            ],
            [
             0.4444444444444444,
             "#bd3786"
            ],
            [
             0.5555555555555556,
             "#d8576b"
            ],
            [
             0.6666666666666666,
             "#ed7953"
            ],
            [
             0.7777777777777778,
             "#fb9f3a"
            ],
            [
             0.8888888888888888,
             "#fdca26"
            ],
            [
             1,
             "#f0f921"
            ]
           ]
          },
          "colorway": [
           "#636efa",
           "#EF553B",
           "#00cc96",
           "#ab63fa",
           "#FFA15A",
           "#19d3f3",
           "#FF6692",
           "#B6E880",
           "#FF97FF",
           "#FECB52"
          ],
          "font": {
           "color": "#2a3f5f"
          },
          "geo": {
           "bgcolor": "white",
           "lakecolor": "white",
           "landcolor": "#E5ECF6",
           "showlakes": true,
           "showland": true,
           "subunitcolor": "white"
          },
          "hoverlabel": {
           "align": "left"
          },
          "hovermode": "closest",
          "mapbox": {
           "style": "light"
          },
          "paper_bgcolor": "white",
          "plot_bgcolor": "#E5ECF6",
          "polar": {
           "angularaxis": {
            "gridcolor": "white",
            "linecolor": "white",
            "ticks": ""
           },
           "bgcolor": "#E5ECF6",
           "radialaxis": {
            "gridcolor": "white",
            "linecolor": "white",
            "ticks": ""
           }
          },
          "scene": {
           "xaxis": {
            "backgroundcolor": "#E5ECF6",
            "gridcolor": "white",
            "gridwidth": 2,
            "linecolor": "white",
            "showbackground": true,
            "ticks": "",
            "zerolinecolor": "white"
           },
           "yaxis": {
            "backgroundcolor": "#E5ECF6",
            "gridcolor": "white",
            "gridwidth": 2,
            "linecolor": "white",
            "showbackground": true,
            "ticks": "",
            "zerolinecolor": "white"
           },
           "zaxis": {
            "backgroundcolor": "#E5ECF6",
            "gridcolor": "white",
            "gridwidth": 2,
            "linecolor": "white",
            "showbackground": true,
            "ticks": "",
            "zerolinecolor": "white"
           }
          },
          "shapedefaults": {
           "line": {
            "color": "#2a3f5f"
           }
          },
          "ternary": {
           "aaxis": {
            "gridcolor": "white",
            "linecolor": "white",
            "ticks": ""
           },
           "baxis": {
            "gridcolor": "white",
            "linecolor": "white",
            "ticks": ""
           },
           "bgcolor": "#E5ECF6",
           "caxis": {
            "gridcolor": "white",
            "linecolor": "white",
            "ticks": ""
           }
          },
          "title": {
           "x": 0.05
          },
          "xaxis": {
           "automargin": true,
           "gridcolor": "white",
           "linecolor": "white",
           "ticks": "",
           "title": {
            "standoff": 15
           },
           "zerolinecolor": "white",
           "zerolinewidth": 2
          },
          "yaxis": {
           "automargin": true,
           "gridcolor": "white",
           "linecolor": "white",
           "ticks": "",
           "title": {
            "standoff": 15
           },
           "zerolinecolor": "white",
           "zerolinewidth": 2
          }
         }
        }
       }
      },
      "text/html": [
       "<div>                            <div id=\"056dc21d-6230-43fd-99fa-9b007a12ee8b\" class=\"plotly-graph-div\" style=\"height:525px; width:100%;\"></div>            <script type=\"text/javascript\">                require([\"plotly\"], function(Plotly) {                    window.PLOTLYENV=window.PLOTLYENV || {};                                    if (document.getElementById(\"056dc21d-6230-43fd-99fa-9b007a12ee8b\")) {                    Plotly.newPlot(                        \"056dc21d-6230-43fd-99fa-9b007a12ee8b\",                        [{\"marker\":{\"color\":\"#ffa07a\"},\"text\":[1484.0,311.0],\"textposition\":\"auto\",\"x\":[\"No\",\"Yes\"],\"y\":[1484,311],\"type\":\"bar\"}],                        {\"template\":{\"data\":{\"histogram2dcontour\":[{\"type\":\"histogram2dcontour\",\"colorbar\":{\"outlinewidth\":0,\"ticks\":\"\"},\"colorscale\":[[0.0,\"#0d0887\"],[0.1111111111111111,\"#46039f\"],[0.2222222222222222,\"#7201a8\"],[0.3333333333333333,\"#9c179e\"],[0.4444444444444444,\"#bd3786\"],[0.5555555555555556,\"#d8576b\"],[0.6666666666666666,\"#ed7953\"],[0.7777777777777778,\"#fb9f3a\"],[0.8888888888888888,\"#fdca26\"],[1.0,\"#f0f921\"]]}],\"choropleth\":[{\"type\":\"choropleth\",\"colorbar\":{\"outlinewidth\":0,\"ticks\":\"\"}}],\"histogram2d\":[{\"type\":\"histogram2d\",\"colorbar\":{\"outlinewidth\":0,\"ticks\":\"\"},\"colorscale\":[[0.0,\"#0d0887\"],[0.1111111111111111,\"#46039f\"],[0.2222222222222222,\"#7201a8\"],[0.3333333333333333,\"#9c179e\"],[0.4444444444444444,\"#bd3786\"],[0.5555555555555556,\"#d8576b\"],[0.6666666666666666,\"#ed7953\"],[0.7777777777777778,\"#fb9f3a\"],[0.8888888888888888,\"#fdca26\"],[1.0,\"#f0f921\"]]}],\"heatmap\":[{\"type\":\"heatmap\",\"colorbar\":{\"outlinewidth\":0,\"ticks\":\"\"},\"colorscale\":[[0.0,\"#0d0887\"],[0.1111111111111111,\"#46039f\"],[0.2222222222222222,\"#7201a8\"],[0.3333333333333333,\"#9c179e\"],[0.4444444444444444,\"#bd3786\"],[0.5555555555555556,\"#d8576b\"],[0.6666666666666666,\"#ed7953\"],[0.7777777777777778,\"#fb9f3a\"],[0.8888888888888888,\"#fdca26\"],[1.0,\"#f0f921\"]]}],\"heatmapgl\":[{\"type\":\"heatmapgl\",\"colorbar\":{\"outlinewidth\":0,\"ticks\":\"\"},\"colorscale\":[[0.0,\"#0d0887\"],[0.1111111111111111,\"#46039f\"],[0.2222222222222222,\"#7201a8\"],[0.3333333333333333,\"#9c179e\"],[0.4444444444444444,\"#bd3786\"],[0.5555555555555556,\"#d8576b\"],[0.6666666666666666,\"#ed7953\"],[0.7777777777777778,\"#fb9f3a\"],[0.8888888888888888,\"#fdca26\"],[1.0,\"#f0f921\"]]}],\"contourcarpet\":[{\"type\":\"contourcarpet\",\"colorbar\":{\"outlinewidth\":0,\"ticks\":\"\"}}],\"contour\":[{\"type\":\"contour\",\"colorbar\":{\"outlinewidth\":0,\"ticks\":\"\"},\"colorscale\":[[0.0,\"#0d0887\"],[0.1111111111111111,\"#46039f\"],[0.2222222222222222,\"#7201a8\"],[0.3333333333333333,\"#9c179e\"],[0.4444444444444444,\"#bd3786\"],[0.5555555555555556,\"#d8576b\"],[0.6666666666666666,\"#ed7953\"],[0.7777777777777778,\"#fb9f3a\"],[0.8888888888888888,\"#fdca26\"],[1.0,\"#f0f921\"]]}],\"surface\":[{\"type\":\"surface\",\"colorbar\":{\"outlinewidth\":0,\"ticks\":\"\"},\"colorscale\":[[0.0,\"#0d0887\"],[0.1111111111111111,\"#46039f\"],[0.2222222222222222,\"#7201a8\"],[0.3333333333333333,\"#9c179e\"],[0.4444444444444444,\"#bd3786\"],[0.5555555555555556,\"#d8576b\"],[0.6666666666666666,\"#ed7953\"],[0.7777777777777778,\"#fb9f3a\"],[0.8888888888888888,\"#fdca26\"],[1.0,\"#f0f921\"]]}],\"mesh3d\":[{\"type\":\"mesh3d\",\"colorbar\":{\"outlinewidth\":0,\"ticks\":\"\"}}],\"scatter\":[{\"fillpattern\":{\"fillmode\":\"overlay\",\"size\":10,\"solidity\":0.2},\"type\":\"scatter\"}],\"parcoords\":[{\"type\":\"parcoords\",\"line\":{\"colorbar\":{\"outlinewidth\":0,\"ticks\":\"\"}}}],\"scatterpolargl\":[{\"type\":\"scatterpolargl\",\"marker\":{\"colorbar\":{\"outlinewidth\":0,\"ticks\":\"\"}}}],\"bar\":[{\"error_x\":{\"color\":\"#2a3f5f\"},\"error_y\":{\"color\":\"#2a3f5f\"},\"marker\":{\"line\":{\"color\":\"#E5ECF6\",\"width\":0.5},\"pattern\":{\"fillmode\":\"overlay\",\"size\":10,\"solidity\":0.2}},\"type\":\"bar\"}],\"scattergeo\":[{\"type\":\"scattergeo\",\"marker\":{\"colorbar\":{\"outlinewidth\":0,\"ticks\":\"\"}}}],\"scatterpolar\":[{\"type\":\"scatterpolar\",\"marker\":{\"colorbar\":{\"outlinewidth\":0,\"ticks\":\"\"}}}],\"histogram\":[{\"marker\":{\"pattern\":{\"fillmode\":\"overlay\",\"size\":10,\"solidity\":0.2}},\"type\":\"histogram\"}],\"scattergl\":[{\"type\":\"scattergl\",\"marker\":{\"colorbar\":{\"outlinewidth\":0,\"ticks\":\"\"}}}],\"scatter3d\":[{\"type\":\"scatter3d\",\"line\":{\"colorbar\":{\"outlinewidth\":0,\"ticks\":\"\"}},\"marker\":{\"colorbar\":{\"outlinewidth\":0,\"ticks\":\"\"}}}],\"scattermapbox\":[{\"type\":\"scattermapbox\",\"marker\":{\"colorbar\":{\"outlinewidth\":0,\"ticks\":\"\"}}}],\"scatterternary\":[{\"type\":\"scatterternary\",\"marker\":{\"colorbar\":{\"outlinewidth\":0,\"ticks\":\"\"}}}],\"scattercarpet\":[{\"type\":\"scattercarpet\",\"marker\":{\"colorbar\":{\"outlinewidth\":0,\"ticks\":\"\"}}}],\"carpet\":[{\"aaxis\":{\"endlinecolor\":\"#2a3f5f\",\"gridcolor\":\"white\",\"linecolor\":\"white\",\"minorgridcolor\":\"white\",\"startlinecolor\":\"#2a3f5f\"},\"baxis\":{\"endlinecolor\":\"#2a3f5f\",\"gridcolor\":\"white\",\"linecolor\":\"white\",\"minorgridcolor\":\"white\",\"startlinecolor\":\"#2a3f5f\"},\"type\":\"carpet\"}],\"table\":[{\"cells\":{\"fill\":{\"color\":\"#EBF0F8\"},\"line\":{\"color\":\"white\"}},\"header\":{\"fill\":{\"color\":\"#C8D4E3\"},\"line\":{\"color\":\"white\"}},\"type\":\"table\"}],\"barpolar\":[{\"marker\":{\"line\":{\"color\":\"#E5ECF6\",\"width\":0.5},\"pattern\":{\"fillmode\":\"overlay\",\"size\":10,\"solidity\":0.2}},\"type\":\"barpolar\"}],\"pie\":[{\"automargin\":true,\"type\":\"pie\"}]},\"layout\":{\"autotypenumbers\":\"strict\",\"colorway\":[\"#636efa\",\"#EF553B\",\"#00cc96\",\"#ab63fa\",\"#FFA15A\",\"#19d3f3\",\"#FF6692\",\"#B6E880\",\"#FF97FF\",\"#FECB52\"],\"font\":{\"color\":\"#2a3f5f\"},\"hovermode\":\"closest\",\"hoverlabel\":{\"align\":\"left\"},\"paper_bgcolor\":\"white\",\"plot_bgcolor\":\"#E5ECF6\",\"polar\":{\"bgcolor\":\"#E5ECF6\",\"angularaxis\":{\"gridcolor\":\"white\",\"linecolor\":\"white\",\"ticks\":\"\"},\"radialaxis\":{\"gridcolor\":\"white\",\"linecolor\":\"white\",\"ticks\":\"\"}},\"ternary\":{\"bgcolor\":\"#E5ECF6\",\"aaxis\":{\"gridcolor\":\"white\",\"linecolor\":\"white\",\"ticks\":\"\"},\"baxis\":{\"gridcolor\":\"white\",\"linecolor\":\"white\",\"ticks\":\"\"},\"caxis\":{\"gridcolor\":\"white\",\"linecolor\":\"white\",\"ticks\":\"\"}},\"coloraxis\":{\"colorbar\":{\"outlinewidth\":0,\"ticks\":\"\"}},\"colorscale\":{\"sequential\":[[0.0,\"#0d0887\"],[0.1111111111111111,\"#46039f\"],[0.2222222222222222,\"#7201a8\"],[0.3333333333333333,\"#9c179e\"],[0.4444444444444444,\"#bd3786\"],[0.5555555555555556,\"#d8576b\"],[0.6666666666666666,\"#ed7953\"],[0.7777777777777778,\"#fb9f3a\"],[0.8888888888888888,\"#fdca26\"],[1.0,\"#f0f921\"]],\"sequentialminus\":[[0.0,\"#0d0887\"],[0.1111111111111111,\"#46039f\"],[0.2222222222222222,\"#7201a8\"],[0.3333333333333333,\"#9c179e\"],[0.4444444444444444,\"#bd3786\"],[0.5555555555555556,\"#d8576b\"],[0.6666666666666666,\"#ed7953\"],[0.7777777777777778,\"#fb9f3a\"],[0.8888888888888888,\"#fdca26\"],[1.0,\"#f0f921\"]],\"diverging\":[[0,\"#8e0152\"],[0.1,\"#c51b7d\"],[0.2,\"#de77ae\"],[0.3,\"#f1b6da\"],[0.4,\"#fde0ef\"],[0.5,\"#f7f7f7\"],[0.6,\"#e6f5d0\"],[0.7,\"#b8e186\"],[0.8,\"#7fbc41\"],[0.9,\"#4d9221\"],[1,\"#276419\"]]},\"xaxis\":{\"gridcolor\":\"white\",\"linecolor\":\"white\",\"ticks\":\"\",\"title\":{\"standoff\":15},\"zerolinecolor\":\"white\",\"automargin\":true,\"zerolinewidth\":2},\"yaxis\":{\"gridcolor\":\"white\",\"linecolor\":\"white\",\"ticks\":\"\",\"title\":{\"standoff\":15},\"zerolinecolor\":\"white\",\"automargin\":true,\"zerolinewidth\":2},\"scene\":{\"xaxis\":{\"backgroundcolor\":\"#E5ECF6\",\"gridcolor\":\"white\",\"linecolor\":\"white\",\"showbackground\":true,\"ticks\":\"\",\"zerolinecolor\":\"white\",\"gridwidth\":2},\"yaxis\":{\"backgroundcolor\":\"#E5ECF6\",\"gridcolor\":\"white\",\"linecolor\":\"white\",\"showbackground\":true,\"ticks\":\"\",\"zerolinecolor\":\"white\",\"gridwidth\":2},\"zaxis\":{\"backgroundcolor\":\"#E5ECF6\",\"gridcolor\":\"white\",\"linecolor\":\"white\",\"showbackground\":true,\"ticks\":\"\",\"zerolinecolor\":\"white\",\"gridwidth\":2}},\"shapedefaults\":{\"line\":{\"color\":\"#2a3f5f\"}},\"annotationdefaults\":{\"arrowcolor\":\"#2a3f5f\",\"arrowhead\":0,\"arrowwidth\":1},\"geo\":{\"bgcolor\":\"white\",\"landcolor\":\"#E5ECF6\",\"subunitcolor\":\"white\",\"showland\":true,\"showlakes\":true,\"lakecolor\":\"white\"},\"title\":{\"x\":0.05},\"mapbox\":{\"style\":\"light\"}}}},                        {\"responsive\": true}                    ).then(function(){\n",
       "                            \n",
       "var gd = document.getElementById('056dc21d-6230-43fd-99fa-9b007a12ee8b');\n",
       "var x = new MutationObserver(function (mutations, observer) {{\n",
       "        var display = window.getComputedStyle(gd).display;\n",
       "        if (!display || display === 'none') {{\n",
       "            console.log([gd, 'removed!']);\n",
       "            Plotly.purge(gd);\n",
       "            observer.disconnect();\n",
       "        }}\n",
       "}});\n",
       "\n",
       "// Listen for the removal of the full notebook cells\n",
       "var notebookContainer = gd.closest('#notebook-container');\n",
       "if (notebookContainer) {{\n",
       "    x.observe(notebookContainer, {childList: true});\n",
       "}}\n",
       "\n",
       "// Listen for the clearing of the current output cell\n",
       "var outputEl = gd.closest('.output');\n",
       "if (outputEl) {{\n",
       "    x.observe(outputEl, {childList: true});\n",
       "}}\n",
       "\n",
       "                        })                };                });            </script>        </div>"
      ]
     },
     "metadata": {},
     "output_type": "display_data"
    }
   ],
   "source": [
    "fig = go.Figure(data=[go.Bar(\n",
    "            x=df3['Significant'], y=df3['count'],\n",
    "            text=df3['count'],\n",
    "            textposition='auto',\n",
    "            marker_color = '#ffa07a'\n",
    "        )])\n",
    "fig.show()"
   ]
  },
  {
   "cell_type": "code",
   "execution_count": 65,
   "id": "37fcd015",
   "metadata": {},
   "outputs": [
    {
     "data": {
      "text/html": [
       "<div>\n",
       "<style scoped>\n",
       "    .dataframe tbody tr th:only-of-type {\n",
       "        vertical-align: middle;\n",
       "    }\n",
       "\n",
       "    .dataframe tbody tr th {\n",
       "        vertical-align: top;\n",
       "    }\n",
       "\n",
       "    .dataframe thead th {\n",
       "        text-align: right;\n",
       "    }\n",
       "</style>\n",
       "<table border=\"1\" class=\"dataframe\">\n",
       "  <thead>\n",
       "    <tr style=\"text-align: right;\">\n",
       "      <th></th>\n",
       "      <th>Year</th>\n",
       "      <th>count</th>\n",
       "    </tr>\n",
       "  </thead>\n",
       "  <tbody>\n",
       "    <tr>\n",
       "      <th>0</th>\n",
       "      <td>2017</td>\n",
       "      <td>173</td>\n",
       "    </tr>\n",
       "    <tr>\n",
       "      <th>1</th>\n",
       "      <td>2012</td>\n",
       "      <td>159</td>\n",
       "    </tr>\n",
       "    <tr>\n",
       "      <th>2</th>\n",
       "      <td>2022</td>\n",
       "      <td>147</td>\n",
       "    </tr>\n",
       "    <tr>\n",
       "      <th>3</th>\n",
       "      <td>2021</td>\n",
       "      <td>141</td>\n",
       "    </tr>\n",
       "    <tr>\n",
       "      <th>4</th>\n",
       "      <td>2013</td>\n",
       "      <td>127</td>\n",
       "    </tr>\n",
       "    <tr>\n",
       "      <th>5</th>\n",
       "      <td>2018</td>\n",
       "      <td>127</td>\n",
       "    </tr>\n",
       "    <tr>\n",
       "      <th>6</th>\n",
       "      <td>2016</td>\n",
       "      <td>122</td>\n",
       "    </tr>\n",
       "    <tr>\n",
       "      <th>7</th>\n",
       "      <td>2015</td>\n",
       "      <td>118</td>\n",
       "    </tr>\n",
       "    <tr>\n",
       "      <th>8</th>\n",
       "      <td>2010</td>\n",
       "      <td>114</td>\n",
       "    </tr>\n",
       "    <tr>\n",
       "      <th>9</th>\n",
       "      <td>2011</td>\n",
       "      <td>103</td>\n",
       "    </tr>\n",
       "    <tr>\n",
       "      <th>10</th>\n",
       "      <td>2020</td>\n",
       "      <td>91</td>\n",
       "    </tr>\n",
       "    <tr>\n",
       "      <th>11</th>\n",
       "      <td>2014</td>\n",
       "      <td>88</td>\n",
       "    </tr>\n",
       "    <tr>\n",
       "      <th>12</th>\n",
       "      <td>2009</td>\n",
       "      <td>85</td>\n",
       "    </tr>\n",
       "    <tr>\n",
       "      <th>13</th>\n",
       "      <td>2023</td>\n",
       "      <td>77</td>\n",
       "    </tr>\n",
       "    <tr>\n",
       "      <th>14</th>\n",
       "      <td>2019</td>\n",
       "      <td>68</td>\n",
       "    </tr>\n",
       "    <tr>\n",
       "      <th>15</th>\n",
       "      <td>2008</td>\n",
       "      <td>55</td>\n",
       "    </tr>\n",
       "  </tbody>\n",
       "</table>\n",
       "</div>"
      ],
      "text/plain": [
       "    Year  count\n",
       "0   2017    173\n",
       "1   2012    159\n",
       "2   2022    147\n",
       "3   2021    141\n",
       "4   2013    127\n",
       "5   2018    127\n",
       "6   2016    122\n",
       "7   2015    118\n",
       "8   2010    114\n",
       "9   2011    103\n",
       "10  2020     91\n",
       "11  2014     88\n",
       "12  2009     85\n",
       "13  2023     77\n",
       "14  2019     68\n",
       "15  2008     55"
      ]
     },
     "execution_count": 65,
     "metadata": {},
     "output_type": "execute_result"
    }
   ],
   "source": [
    "df4 = data['Year'].value_counts()\n",
    "df4 = df4.reset_index()\n",
    "df4"
   ]
  },
  {
   "cell_type": "code",
   "execution_count": 68,
   "id": "71d141f1",
   "metadata": {},
   "outputs": [
    {
     "data": {
      "application/vnd.plotly.v1+json": {
       "config": {
        "plotlyServerURL": "https://plot.ly"
       },
       "data": [
        {
         "marker": {
          "color": "#cd5c5c"
         },
         "text": [
          173,
          159,
          147,
          141,
          127,
          127,
          122,
          118,
          114,
          103,
          91,
          88,
          85,
          77,
          68,
          55
         ],
         "textposition": "auto",
         "type": "bar",
         "x": [
          2017,
          2012,
          2022,
          2021,
          2013,
          2018,
          2016,
          2015,
          2010,
          2011,
          2020,
          2014,
          2009,
          2023,
          2019,
          2008
         ],
         "y": [
          173,
          159,
          147,
          141,
          127,
          127,
          122,
          118,
          114,
          103,
          91,
          88,
          85,
          77,
          68,
          55
         ]
        }
       ],
       "layout": {
        "template": {
         "data": {
          "bar": [
           {
            "error_x": {
             "color": "#2a3f5f"
            },
            "error_y": {
             "color": "#2a3f5f"
            },
            "marker": {
             "line": {
              "color": "#E5ECF6",
              "width": 0.5
             },
             "pattern": {
              "fillmode": "overlay",
              "size": 10,
              "solidity": 0.2
             }
            },
            "type": "bar"
           }
          ],
          "barpolar": [
           {
            "marker": {
             "line": {
              "color": "#E5ECF6",
              "width": 0.5
             },
             "pattern": {
              "fillmode": "overlay",
              "size": 10,
              "solidity": 0.2
             }
            },
            "type": "barpolar"
           }
          ],
          "carpet": [
           {
            "aaxis": {
             "endlinecolor": "#2a3f5f",
             "gridcolor": "white",
             "linecolor": "white",
             "minorgridcolor": "white",
             "startlinecolor": "#2a3f5f"
            },
            "baxis": {
             "endlinecolor": "#2a3f5f",
             "gridcolor": "white",
             "linecolor": "white",
             "minorgridcolor": "white",
             "startlinecolor": "#2a3f5f"
            },
            "type": "carpet"
           }
          ],
          "choropleth": [
           {
            "colorbar": {
             "outlinewidth": 0,
             "ticks": ""
            },
            "type": "choropleth"
           }
          ],
          "contour": [
           {
            "colorbar": {
             "outlinewidth": 0,
             "ticks": ""
            },
            "colorscale": [
             [
              0,
              "#0d0887"
             ],
             [
              0.1111111111111111,
              "#46039f"
             ],
             [
              0.2222222222222222,
              "#7201a8"
             ],
             [
              0.3333333333333333,
              "#9c179e"
             ],
             [
              0.4444444444444444,
              "#bd3786"
             ],
             [
              0.5555555555555556,
              "#d8576b"
             ],
             [
              0.6666666666666666,
              "#ed7953"
             ],
             [
              0.7777777777777778,
              "#fb9f3a"
             ],
             [
              0.8888888888888888,
              "#fdca26"
             ],
             [
              1,
              "#f0f921"
             ]
            ],
            "type": "contour"
           }
          ],
          "contourcarpet": [
           {
            "colorbar": {
             "outlinewidth": 0,
             "ticks": ""
            },
            "type": "contourcarpet"
           }
          ],
          "heatmap": [
           {
            "colorbar": {
             "outlinewidth": 0,
             "ticks": ""
            },
            "colorscale": [
             [
              0,
              "#0d0887"
             ],
             [
              0.1111111111111111,
              "#46039f"
             ],
             [
              0.2222222222222222,
              "#7201a8"
             ],
             [
              0.3333333333333333,
              "#9c179e"
             ],
             [
              0.4444444444444444,
              "#bd3786"
             ],
             [
              0.5555555555555556,
              "#d8576b"
             ],
             [
              0.6666666666666666,
              "#ed7953"
             ],
             [
              0.7777777777777778,
              "#fb9f3a"
             ],
             [
              0.8888888888888888,
              "#fdca26"
             ],
             [
              1,
              "#f0f921"
             ]
            ],
            "type": "heatmap"
           }
          ],
          "heatmapgl": [
           {
            "colorbar": {
             "outlinewidth": 0,
             "ticks": ""
            },
            "colorscale": [
             [
              0,
              "#0d0887"
             ],
             [
              0.1111111111111111,
              "#46039f"
             ],
             [
              0.2222222222222222,
              "#7201a8"
             ],
             [
              0.3333333333333333,
              "#9c179e"
             ],
             [
              0.4444444444444444,
              "#bd3786"
             ],
             [
              0.5555555555555556,
              "#d8576b"
             ],
             [
              0.6666666666666666,
              "#ed7953"
             ],
             [
              0.7777777777777778,
              "#fb9f3a"
             ],
             [
              0.8888888888888888,
              "#fdca26"
             ],
             [
              1,
              "#f0f921"
             ]
            ],
            "type": "heatmapgl"
           }
          ],
          "histogram": [
           {
            "marker": {
             "pattern": {
              "fillmode": "overlay",
              "size": 10,
              "solidity": 0.2
             }
            },
            "type": "histogram"
           }
          ],
          "histogram2d": [
           {
            "colorbar": {
             "outlinewidth": 0,
             "ticks": ""
            },
            "colorscale": [
             [
              0,
              "#0d0887"
             ],
             [
              0.1111111111111111,
              "#46039f"
             ],
             [
              0.2222222222222222,
              "#7201a8"
             ],
             [
              0.3333333333333333,
              "#9c179e"
             ],
             [
              0.4444444444444444,
              "#bd3786"
             ],
             [
              0.5555555555555556,
              "#d8576b"
             ],
             [
              0.6666666666666666,
              "#ed7953"
             ],
             [
              0.7777777777777778,
              "#fb9f3a"
             ],
             [
              0.8888888888888888,
              "#fdca26"
             ],
             [
              1,
              "#f0f921"
             ]
            ],
            "type": "histogram2d"
           }
          ],
          "histogram2dcontour": [
           {
            "colorbar": {
             "outlinewidth": 0,
             "ticks": ""
            },
            "colorscale": [
             [
              0,
              "#0d0887"
             ],
             [
              0.1111111111111111,
              "#46039f"
             ],
             [
              0.2222222222222222,
              "#7201a8"
             ],
             [
              0.3333333333333333,
              "#9c179e"
             ],
             [
              0.4444444444444444,
              "#bd3786"
             ],
             [
              0.5555555555555556,
              "#d8576b"
             ],
             [
              0.6666666666666666,
              "#ed7953"
             ],
             [
              0.7777777777777778,
              "#fb9f3a"
             ],
             [
              0.8888888888888888,
              "#fdca26"
             ],
             [
              1,
              "#f0f921"
             ]
            ],
            "type": "histogram2dcontour"
           }
          ],
          "mesh3d": [
           {
            "colorbar": {
             "outlinewidth": 0,
             "ticks": ""
            },
            "type": "mesh3d"
           }
          ],
          "parcoords": [
           {
            "line": {
             "colorbar": {
              "outlinewidth": 0,
              "ticks": ""
             }
            },
            "type": "parcoords"
           }
          ],
          "pie": [
           {
            "automargin": true,
            "type": "pie"
           }
          ],
          "scatter": [
           {
            "fillpattern": {
             "fillmode": "overlay",
             "size": 10,
             "solidity": 0.2
            },
            "type": "scatter"
           }
          ],
          "scatter3d": [
           {
            "line": {
             "colorbar": {
              "outlinewidth": 0,
              "ticks": ""
             }
            },
            "marker": {
             "colorbar": {
              "outlinewidth": 0,
              "ticks": ""
             }
            },
            "type": "scatter3d"
           }
          ],
          "scattercarpet": [
           {
            "marker": {
             "colorbar": {
              "outlinewidth": 0,
              "ticks": ""
             }
            },
            "type": "scattercarpet"
           }
          ],
          "scattergeo": [
           {
            "marker": {
             "colorbar": {
              "outlinewidth": 0,
              "ticks": ""
             }
            },
            "type": "scattergeo"
           }
          ],
          "scattergl": [
           {
            "marker": {
             "colorbar": {
              "outlinewidth": 0,
              "ticks": ""
             }
            },
            "type": "scattergl"
           }
          ],
          "scattermapbox": [
           {
            "marker": {
             "colorbar": {
              "outlinewidth": 0,
              "ticks": ""
             }
            },
            "type": "scattermapbox"
           }
          ],
          "scatterpolar": [
           {
            "marker": {
             "colorbar": {
              "outlinewidth": 0,
              "ticks": ""
             }
            },
            "type": "scatterpolar"
           }
          ],
          "scatterpolargl": [
           {
            "marker": {
             "colorbar": {
              "outlinewidth": 0,
              "ticks": ""
             }
            },
            "type": "scatterpolargl"
           }
          ],
          "scatterternary": [
           {
            "marker": {
             "colorbar": {
              "outlinewidth": 0,
              "ticks": ""
             }
            },
            "type": "scatterternary"
           }
          ],
          "surface": [
           {
            "colorbar": {
             "outlinewidth": 0,
             "ticks": ""
            },
            "colorscale": [
             [
              0,
              "#0d0887"
             ],
             [
              0.1111111111111111,
              "#46039f"
             ],
             [
              0.2222222222222222,
              "#7201a8"
             ],
             [
              0.3333333333333333,
              "#9c179e"
             ],
             [
              0.4444444444444444,
              "#bd3786"
             ],
             [
              0.5555555555555556,
              "#d8576b"
             ],
             [
              0.6666666666666666,
              "#ed7953"
             ],
             [
              0.7777777777777778,
              "#fb9f3a"
             ],
             [
              0.8888888888888888,
              "#fdca26"
             ],
             [
              1,
              "#f0f921"
             ]
            ],
            "type": "surface"
           }
          ],
          "table": [
           {
            "cells": {
             "fill": {
              "color": "#EBF0F8"
             },
             "line": {
              "color": "white"
             }
            },
            "header": {
             "fill": {
              "color": "#C8D4E3"
             },
             "line": {
              "color": "white"
             }
            },
            "type": "table"
           }
          ]
         },
         "layout": {
          "annotationdefaults": {
           "arrowcolor": "#2a3f5f",
           "arrowhead": 0,
           "arrowwidth": 1
          },
          "autotypenumbers": "strict",
          "coloraxis": {
           "colorbar": {
            "outlinewidth": 0,
            "ticks": ""
           }
          },
          "colorscale": {
           "diverging": [
            [
             0,
             "#8e0152"
            ],
            [
             0.1,
             "#c51b7d"
            ],
            [
             0.2,
             "#de77ae"
            ],
            [
             0.3,
             "#f1b6da"
            ],
            [
             0.4,
             "#fde0ef"
            ],
            [
             0.5,
             "#f7f7f7"
            ],
            [
             0.6,
             "#e6f5d0"
            ],
            [
             0.7,
             "#b8e186"
            ],
            [
             0.8,
             "#7fbc41"
            ],
            [
             0.9,
             "#4d9221"
            ],
            [
             1,
             "#276419"
            ]
           ],
           "sequential": [
            [
             0,
             "#0d0887"
            ],
            [
             0.1111111111111111,
             "#46039f"
            ],
            [
             0.2222222222222222,
             "#7201a8"
            ],
            [
             0.3333333333333333,
             "#9c179e"
            ],
            [
             0.4444444444444444,
             "#bd3786"
            ],
            [
             0.5555555555555556,
             "#d8576b"
            ],
            [
             0.6666666666666666,
             "#ed7953"
            ],
            [
             0.7777777777777778,
             "#fb9f3a"
            ],
            [
             0.8888888888888888,
             "#fdca26"
            ],
            [
             1,
             "#f0f921"
            ]
           ],
           "sequentialminus": [
            [
             0,
             "#0d0887"
            ],
            [
             0.1111111111111111,
             "#46039f"
            ],
            [
             0.2222222222222222,
             "#7201a8"
            ],
            [
             0.3333333333333333,
             "#9c179e"
            ],
            [
             0.4444444444444444,
             "#bd3786"
            ],
            [
             0.5555555555555556,
             "#d8576b"
            ],
            [
             0.6666666666666666,
             "#ed7953"
            ],
            [
             0.7777777777777778,
             "#fb9f3a"
            ],
            [
             0.8888888888888888,
             "#fdca26"
            ],
            [
             1,
             "#f0f921"
            ]
           ]
          },
          "colorway": [
           "#636efa",
           "#EF553B",
           "#00cc96",
           "#ab63fa",
           "#FFA15A",
           "#19d3f3",
           "#FF6692",
           "#B6E880",
           "#FF97FF",
           "#FECB52"
          ],
          "font": {
           "color": "#2a3f5f"
          },
          "geo": {
           "bgcolor": "white",
           "lakecolor": "white",
           "landcolor": "#E5ECF6",
           "showlakes": true,
           "showland": true,
           "subunitcolor": "white"
          },
          "hoverlabel": {
           "align": "left"
          },
          "hovermode": "closest",
          "mapbox": {
           "style": "light"
          },
          "paper_bgcolor": "white",
          "plot_bgcolor": "#E5ECF6",
          "polar": {
           "angularaxis": {
            "gridcolor": "white",
            "linecolor": "white",
            "ticks": ""
           },
           "bgcolor": "#E5ECF6",
           "radialaxis": {
            "gridcolor": "white",
            "linecolor": "white",
            "ticks": ""
           }
          },
          "scene": {
           "xaxis": {
            "backgroundcolor": "#E5ECF6",
            "gridcolor": "white",
            "gridwidth": 2,
            "linecolor": "white",
            "showbackground": true,
            "ticks": "",
            "zerolinecolor": "white"
           },
           "yaxis": {
            "backgroundcolor": "#E5ECF6",
            "gridcolor": "white",
            "gridwidth": 2,
            "linecolor": "white",
            "showbackground": true,
            "ticks": "",
            "zerolinecolor": "white"
           },
           "zaxis": {
            "backgroundcolor": "#E5ECF6",
            "gridcolor": "white",
            "gridwidth": 2,
            "linecolor": "white",
            "showbackground": true,
            "ticks": "",
            "zerolinecolor": "white"
           }
          },
          "shapedefaults": {
           "line": {
            "color": "#2a3f5f"
           }
          },
          "ternary": {
           "aaxis": {
            "gridcolor": "white",
            "linecolor": "white",
            "ticks": ""
           },
           "baxis": {
            "gridcolor": "white",
            "linecolor": "white",
            "ticks": ""
           },
           "bgcolor": "#E5ECF6",
           "caxis": {
            "gridcolor": "white",
            "linecolor": "white",
            "ticks": ""
           }
          },
          "title": {
           "x": 0.05
          },
          "xaxis": {
           "automargin": true,
           "gridcolor": "white",
           "linecolor": "white",
           "ticks": "",
           "title": {
            "standoff": 15
           },
           "zerolinecolor": "white",
           "zerolinewidth": 2
          },
          "yaxis": {
           "automargin": true,
           "gridcolor": "white",
           "linecolor": "white",
           "ticks": "",
           "title": {
            "standoff": 15
           },
           "zerolinecolor": "white",
           "zerolinewidth": 2
          }
         }
        }
       }
      },
      "text/html": [
       "<div>                            <div id=\"97225c46-0522-4b78-b73e-99346094454c\" class=\"plotly-graph-div\" style=\"height:525px; width:100%;\"></div>            <script type=\"text/javascript\">                require([\"plotly\"], function(Plotly) {                    window.PLOTLYENV=window.PLOTLYENV || {};                                    if (document.getElementById(\"97225c46-0522-4b78-b73e-99346094454c\")) {                    Plotly.newPlot(                        \"97225c46-0522-4b78-b73e-99346094454c\",                        [{\"marker\":{\"color\":\"#cd5c5c\"},\"text\":[173.0,159.0,147.0,141.0,127.0,127.0,122.0,118.0,114.0,103.0,91.0,88.0,85.0,77.0,68.0,55.0],\"textposition\":\"auto\",\"x\":[2017,2012,2022,2021,2013,2018,2016,2015,2010,2011,2020,2014,2009,2023,2019,2008],\"y\":[173,159,147,141,127,127,122,118,114,103,91,88,85,77,68,55],\"type\":\"bar\"}],                        {\"template\":{\"data\":{\"histogram2dcontour\":[{\"type\":\"histogram2dcontour\",\"colorbar\":{\"outlinewidth\":0,\"ticks\":\"\"},\"colorscale\":[[0.0,\"#0d0887\"],[0.1111111111111111,\"#46039f\"],[0.2222222222222222,\"#7201a8\"],[0.3333333333333333,\"#9c179e\"],[0.4444444444444444,\"#bd3786\"],[0.5555555555555556,\"#d8576b\"],[0.6666666666666666,\"#ed7953\"],[0.7777777777777778,\"#fb9f3a\"],[0.8888888888888888,\"#fdca26\"],[1.0,\"#f0f921\"]]}],\"choropleth\":[{\"type\":\"choropleth\",\"colorbar\":{\"outlinewidth\":0,\"ticks\":\"\"}}],\"histogram2d\":[{\"type\":\"histogram2d\",\"colorbar\":{\"outlinewidth\":0,\"ticks\":\"\"},\"colorscale\":[[0.0,\"#0d0887\"],[0.1111111111111111,\"#46039f\"],[0.2222222222222222,\"#7201a8\"],[0.3333333333333333,\"#9c179e\"],[0.4444444444444444,\"#bd3786\"],[0.5555555555555556,\"#d8576b\"],[0.6666666666666666,\"#ed7953\"],[0.7777777777777778,\"#fb9f3a\"],[0.8888888888888888,\"#fdca26\"],[1.0,\"#f0f921\"]]}],\"heatmap\":[{\"type\":\"heatmap\",\"colorbar\":{\"outlinewidth\":0,\"ticks\":\"\"},\"colorscale\":[[0.0,\"#0d0887\"],[0.1111111111111111,\"#46039f\"],[0.2222222222222222,\"#7201a8\"],[0.3333333333333333,\"#9c179e\"],[0.4444444444444444,\"#bd3786\"],[0.5555555555555556,\"#d8576b\"],[0.6666666666666666,\"#ed7953\"],[0.7777777777777778,\"#fb9f3a\"],[0.8888888888888888,\"#fdca26\"],[1.0,\"#f0f921\"]]}],\"heatmapgl\":[{\"type\":\"heatmapgl\",\"colorbar\":{\"outlinewidth\":0,\"ticks\":\"\"},\"colorscale\":[[0.0,\"#0d0887\"],[0.1111111111111111,\"#46039f\"],[0.2222222222222222,\"#7201a8\"],[0.3333333333333333,\"#9c179e\"],[0.4444444444444444,\"#bd3786\"],[0.5555555555555556,\"#d8576b\"],[0.6666666666666666,\"#ed7953\"],[0.7777777777777778,\"#fb9f3a\"],[0.8888888888888888,\"#fdca26\"],[1.0,\"#f0f921\"]]}],\"contourcarpet\":[{\"type\":\"contourcarpet\",\"colorbar\":{\"outlinewidth\":0,\"ticks\":\"\"}}],\"contour\":[{\"type\":\"contour\",\"colorbar\":{\"outlinewidth\":0,\"ticks\":\"\"},\"colorscale\":[[0.0,\"#0d0887\"],[0.1111111111111111,\"#46039f\"],[0.2222222222222222,\"#7201a8\"],[0.3333333333333333,\"#9c179e\"],[0.4444444444444444,\"#bd3786\"],[0.5555555555555556,\"#d8576b\"],[0.6666666666666666,\"#ed7953\"],[0.7777777777777778,\"#fb9f3a\"],[0.8888888888888888,\"#fdca26\"],[1.0,\"#f0f921\"]]}],\"surface\":[{\"type\":\"surface\",\"colorbar\":{\"outlinewidth\":0,\"ticks\":\"\"},\"colorscale\":[[0.0,\"#0d0887\"],[0.1111111111111111,\"#46039f\"],[0.2222222222222222,\"#7201a8\"],[0.3333333333333333,\"#9c179e\"],[0.4444444444444444,\"#bd3786\"],[0.5555555555555556,\"#d8576b\"],[0.6666666666666666,\"#ed7953\"],[0.7777777777777778,\"#fb9f3a\"],[0.8888888888888888,\"#fdca26\"],[1.0,\"#f0f921\"]]}],\"mesh3d\":[{\"type\":\"mesh3d\",\"colorbar\":{\"outlinewidth\":0,\"ticks\":\"\"}}],\"scatter\":[{\"fillpattern\":{\"fillmode\":\"overlay\",\"size\":10,\"solidity\":0.2},\"type\":\"scatter\"}],\"parcoords\":[{\"type\":\"parcoords\",\"line\":{\"colorbar\":{\"outlinewidth\":0,\"ticks\":\"\"}}}],\"scatterpolargl\":[{\"type\":\"scatterpolargl\",\"marker\":{\"colorbar\":{\"outlinewidth\":0,\"ticks\":\"\"}}}],\"bar\":[{\"error_x\":{\"color\":\"#2a3f5f\"},\"error_y\":{\"color\":\"#2a3f5f\"},\"marker\":{\"line\":{\"color\":\"#E5ECF6\",\"width\":0.5},\"pattern\":{\"fillmode\":\"overlay\",\"size\":10,\"solidity\":0.2}},\"type\":\"bar\"}],\"scattergeo\":[{\"type\":\"scattergeo\",\"marker\":{\"colorbar\":{\"outlinewidth\":0,\"ticks\":\"\"}}}],\"scatterpolar\":[{\"type\":\"scatterpolar\",\"marker\":{\"colorbar\":{\"outlinewidth\":0,\"ticks\":\"\"}}}],\"histogram\":[{\"marker\":{\"pattern\":{\"fillmode\":\"overlay\",\"size\":10,\"solidity\":0.2}},\"type\":\"histogram\"}],\"scattergl\":[{\"type\":\"scattergl\",\"marker\":{\"colorbar\":{\"outlinewidth\":0,\"ticks\":\"\"}}}],\"scatter3d\":[{\"type\":\"scatter3d\",\"line\":{\"colorbar\":{\"outlinewidth\":0,\"ticks\":\"\"}},\"marker\":{\"colorbar\":{\"outlinewidth\":0,\"ticks\":\"\"}}}],\"scattermapbox\":[{\"type\":\"scattermapbox\",\"marker\":{\"colorbar\":{\"outlinewidth\":0,\"ticks\":\"\"}}}],\"scatterternary\":[{\"type\":\"scatterternary\",\"marker\":{\"colorbar\":{\"outlinewidth\":0,\"ticks\":\"\"}}}],\"scattercarpet\":[{\"type\":\"scattercarpet\",\"marker\":{\"colorbar\":{\"outlinewidth\":0,\"ticks\":\"\"}}}],\"carpet\":[{\"aaxis\":{\"endlinecolor\":\"#2a3f5f\",\"gridcolor\":\"white\",\"linecolor\":\"white\",\"minorgridcolor\":\"white\",\"startlinecolor\":\"#2a3f5f\"},\"baxis\":{\"endlinecolor\":\"#2a3f5f\",\"gridcolor\":\"white\",\"linecolor\":\"white\",\"minorgridcolor\":\"white\",\"startlinecolor\":\"#2a3f5f\"},\"type\":\"carpet\"}],\"table\":[{\"cells\":{\"fill\":{\"color\":\"#EBF0F8\"},\"line\":{\"color\":\"white\"}},\"header\":{\"fill\":{\"color\":\"#C8D4E3\"},\"line\":{\"color\":\"white\"}},\"type\":\"table\"}],\"barpolar\":[{\"marker\":{\"line\":{\"color\":\"#E5ECF6\",\"width\":0.5},\"pattern\":{\"fillmode\":\"overlay\",\"size\":10,\"solidity\":0.2}},\"type\":\"barpolar\"}],\"pie\":[{\"automargin\":true,\"type\":\"pie\"}]},\"layout\":{\"autotypenumbers\":\"strict\",\"colorway\":[\"#636efa\",\"#EF553B\",\"#00cc96\",\"#ab63fa\",\"#FFA15A\",\"#19d3f3\",\"#FF6692\",\"#B6E880\",\"#FF97FF\",\"#FECB52\"],\"font\":{\"color\":\"#2a3f5f\"},\"hovermode\":\"closest\",\"hoverlabel\":{\"align\":\"left\"},\"paper_bgcolor\":\"white\",\"plot_bgcolor\":\"#E5ECF6\",\"polar\":{\"bgcolor\":\"#E5ECF6\",\"angularaxis\":{\"gridcolor\":\"white\",\"linecolor\":\"white\",\"ticks\":\"\"},\"radialaxis\":{\"gridcolor\":\"white\",\"linecolor\":\"white\",\"ticks\":\"\"}},\"ternary\":{\"bgcolor\":\"#E5ECF6\",\"aaxis\":{\"gridcolor\":\"white\",\"linecolor\":\"white\",\"ticks\":\"\"},\"baxis\":{\"gridcolor\":\"white\",\"linecolor\":\"white\",\"ticks\":\"\"},\"caxis\":{\"gridcolor\":\"white\",\"linecolor\":\"white\",\"ticks\":\"\"}},\"coloraxis\":{\"colorbar\":{\"outlinewidth\":0,\"ticks\":\"\"}},\"colorscale\":{\"sequential\":[[0.0,\"#0d0887\"],[0.1111111111111111,\"#46039f\"],[0.2222222222222222,\"#7201a8\"],[0.3333333333333333,\"#9c179e\"],[0.4444444444444444,\"#bd3786\"],[0.5555555555555556,\"#d8576b\"],[0.6666666666666666,\"#ed7953\"],[0.7777777777777778,\"#fb9f3a\"],[0.8888888888888888,\"#fdca26\"],[1.0,\"#f0f921\"]],\"sequentialminus\":[[0.0,\"#0d0887\"],[0.1111111111111111,\"#46039f\"],[0.2222222222222222,\"#7201a8\"],[0.3333333333333333,\"#9c179e\"],[0.4444444444444444,\"#bd3786\"],[0.5555555555555556,\"#d8576b\"],[0.6666666666666666,\"#ed7953\"],[0.7777777777777778,\"#fb9f3a\"],[0.8888888888888888,\"#fdca26\"],[1.0,\"#f0f921\"]],\"diverging\":[[0,\"#8e0152\"],[0.1,\"#c51b7d\"],[0.2,\"#de77ae\"],[0.3,\"#f1b6da\"],[0.4,\"#fde0ef\"],[0.5,\"#f7f7f7\"],[0.6,\"#e6f5d0\"],[0.7,\"#b8e186\"],[0.8,\"#7fbc41\"],[0.9,\"#4d9221\"],[1,\"#276419\"]]},\"xaxis\":{\"gridcolor\":\"white\",\"linecolor\":\"white\",\"ticks\":\"\",\"title\":{\"standoff\":15},\"zerolinecolor\":\"white\",\"automargin\":true,\"zerolinewidth\":2},\"yaxis\":{\"gridcolor\":\"white\",\"linecolor\":\"white\",\"ticks\":\"\",\"title\":{\"standoff\":15},\"zerolinecolor\":\"white\",\"automargin\":true,\"zerolinewidth\":2},\"scene\":{\"xaxis\":{\"backgroundcolor\":\"#E5ECF6\",\"gridcolor\":\"white\",\"linecolor\":\"white\",\"showbackground\":true,\"ticks\":\"\",\"zerolinecolor\":\"white\",\"gridwidth\":2},\"yaxis\":{\"backgroundcolor\":\"#E5ECF6\",\"gridcolor\":\"white\",\"linecolor\":\"white\",\"showbackground\":true,\"ticks\":\"\",\"zerolinecolor\":\"white\",\"gridwidth\":2},\"zaxis\":{\"backgroundcolor\":\"#E5ECF6\",\"gridcolor\":\"white\",\"linecolor\":\"white\",\"showbackground\":true,\"ticks\":\"\",\"zerolinecolor\":\"white\",\"gridwidth\":2}},\"shapedefaults\":{\"line\":{\"color\":\"#2a3f5f\"}},\"annotationdefaults\":{\"arrowcolor\":\"#2a3f5f\",\"arrowhead\":0,\"arrowwidth\":1},\"geo\":{\"bgcolor\":\"white\",\"landcolor\":\"#E5ECF6\",\"subunitcolor\":\"white\",\"showland\":true,\"showlakes\":true,\"lakecolor\":\"white\"},\"title\":{\"x\":0.05},\"mapbox\":{\"style\":\"light\"}}}},                        {\"responsive\": true}                    ).then(function(){\n",
       "                            \n",
       "var gd = document.getElementById('97225c46-0522-4b78-b73e-99346094454c');\n",
       "var x = new MutationObserver(function (mutations, observer) {{\n",
       "        var display = window.getComputedStyle(gd).display;\n",
       "        if (!display || display === 'none') {{\n",
       "            console.log([gd, 'removed!']);\n",
       "            Plotly.purge(gd);\n",
       "            observer.disconnect();\n",
       "        }}\n",
       "}});\n",
       "\n",
       "// Listen for the removal of the full notebook cells\n",
       "var notebookContainer = gd.closest('#notebook-container');\n",
       "if (notebookContainer) {{\n",
       "    x.observe(notebookContainer, {childList: true});\n",
       "}}\n",
       "\n",
       "// Listen for the clearing of the current output cell\n",
       "var outputEl = gd.closest('.output');\n",
       "if (outputEl) {{\n",
       "    x.observe(outputEl, {childList: true});\n",
       "}}\n",
       "\n",
       "                        })                };                });            </script>        </div>"
      ]
     },
     "metadata": {},
     "output_type": "display_data"
    }
   ],
   "source": [
    "fig = go.Figure(data=[go.Bar(\n",
    "            x=df4['Year'], y=df4['count'],\n",
    "            text=df4['count'],\n",
    "            textposition='auto',\n",
    "            marker_color = '#cd5c5c'\n",
    "        )])\n",
    "fig.show()"
   ]
  },
  {
   "cell_type": "code",
   "execution_count": 71,
   "id": "2693b85b",
   "metadata": {},
   "outputs": [
    {
     "data": {
      "application/vnd.plotly.v1+json": {
       "config": {
        "plotlyServerURL": "https://plot.ly"
       },
       "data": [
        {
         "marker": {
          "color": "#4a386f"
         },
         "text": [
          1184,
          529,
          45,
          21,
          3
         ],
         "textposition": "auto",
         "type": "bar",
         "x": [
          "Level I",
          "Not Emergency",
          "Level II",
          "Level III",
          "Emergency"
         ],
         "y": [
          1184,
          529,
          45,
          21,
          3
         ]
        }
       ],
       "layout": {
        "template": {
         "data": {
          "bar": [
           {
            "error_x": {
             "color": "#2a3f5f"
            },
            "error_y": {
             "color": "#2a3f5f"
            },
            "marker": {
             "line": {
              "color": "#E5ECF6",
              "width": 0.5
             },
             "pattern": {
              "fillmode": "overlay",
              "size": 10,
              "solidity": 0.2
             }
            },
            "type": "bar"
           }
          ],
          "barpolar": [
           {
            "marker": {
             "line": {
              "color": "#E5ECF6",
              "width": 0.5
             },
             "pattern": {
              "fillmode": "overlay",
              "size": 10,
              "solidity": 0.2
             }
            },
            "type": "barpolar"
           }
          ],
          "carpet": [
           {
            "aaxis": {
             "endlinecolor": "#2a3f5f",
             "gridcolor": "white",
             "linecolor": "white",
             "minorgridcolor": "white",
             "startlinecolor": "#2a3f5f"
            },
            "baxis": {
             "endlinecolor": "#2a3f5f",
             "gridcolor": "white",
             "linecolor": "white",
             "minorgridcolor": "white",
             "startlinecolor": "#2a3f5f"
            },
            "type": "carpet"
           }
          ],
          "choropleth": [
           {
            "colorbar": {
             "outlinewidth": 0,
             "ticks": ""
            },
            "type": "choropleth"
           }
          ],
          "contour": [
           {
            "colorbar": {
             "outlinewidth": 0,
             "ticks": ""
            },
            "colorscale": [
             [
              0,
              "#0d0887"
             ],
             [
              0.1111111111111111,
              "#46039f"
             ],
             [
              0.2222222222222222,
              "#7201a8"
             ],
             [
              0.3333333333333333,
              "#9c179e"
             ],
             [
              0.4444444444444444,
              "#bd3786"
             ],
             [
              0.5555555555555556,
              "#d8576b"
             ],
             [
              0.6666666666666666,
              "#ed7953"
             ],
             [
              0.7777777777777778,
              "#fb9f3a"
             ],
             [
              0.8888888888888888,
              "#fdca26"
             ],
             [
              1,
              "#f0f921"
             ]
            ],
            "type": "contour"
           }
          ],
          "contourcarpet": [
           {
            "colorbar": {
             "outlinewidth": 0,
             "ticks": ""
            },
            "type": "contourcarpet"
           }
          ],
          "heatmap": [
           {
            "colorbar": {
             "outlinewidth": 0,
             "ticks": ""
            },
            "colorscale": [
             [
              0,
              "#0d0887"
             ],
             [
              0.1111111111111111,
              "#46039f"
             ],
             [
              0.2222222222222222,
              "#7201a8"
             ],
             [
              0.3333333333333333,
              "#9c179e"
             ],
             [
              0.4444444444444444,
              "#bd3786"
             ],
             [
              0.5555555555555556,
              "#d8576b"
             ],
             [
              0.6666666666666666,
              "#ed7953"
             ],
             [
              0.7777777777777778,
              "#fb9f3a"
             ],
             [
              0.8888888888888888,
              "#fdca26"
             ],
             [
              1,
              "#f0f921"
             ]
            ],
            "type": "heatmap"
           }
          ],
          "heatmapgl": [
           {
            "colorbar": {
             "outlinewidth": 0,
             "ticks": ""
            },
            "colorscale": [
             [
              0,
              "#0d0887"
             ],
             [
              0.1111111111111111,
              "#46039f"
             ],
             [
              0.2222222222222222,
              "#7201a8"
             ],
             [
              0.3333333333333333,
              "#9c179e"
             ],
             [
              0.4444444444444444,
              "#bd3786"
             ],
             [
              0.5555555555555556,
              "#d8576b"
             ],
             [
              0.6666666666666666,
              "#ed7953"
             ],
             [
              0.7777777777777778,
              "#fb9f3a"
             ],
             [
              0.8888888888888888,
              "#fdca26"
             ],
             [
              1,
              "#f0f921"
             ]
            ],
            "type": "heatmapgl"
           }
          ],
          "histogram": [
           {
            "marker": {
             "pattern": {
              "fillmode": "overlay",
              "size": 10,
              "solidity": 0.2
             }
            },
            "type": "histogram"
           }
          ],
          "histogram2d": [
           {
            "colorbar": {
             "outlinewidth": 0,
             "ticks": ""
            },
            "colorscale": [
             [
              0,
              "#0d0887"
             ],
             [
              0.1111111111111111,
              "#46039f"
             ],
             [
              0.2222222222222222,
              "#7201a8"
             ],
             [
              0.3333333333333333,
              "#9c179e"
             ],
             [
              0.4444444444444444,
              "#bd3786"
             ],
             [
              0.5555555555555556,
              "#d8576b"
             ],
             [
              0.6666666666666666,
              "#ed7953"
             ],
             [
              0.7777777777777778,
              "#fb9f3a"
             ],
             [
              0.8888888888888888,
              "#fdca26"
             ],
             [
              1,
              "#f0f921"
             ]
            ],
            "type": "histogram2d"
           }
          ],
          "histogram2dcontour": [
           {
            "colorbar": {
             "outlinewidth": 0,
             "ticks": ""
            },
            "colorscale": [
             [
              0,
              "#0d0887"
             ],
             [
              0.1111111111111111,
              "#46039f"
             ],
             [
              0.2222222222222222,
              "#7201a8"
             ],
             [
              0.3333333333333333,
              "#9c179e"
             ],
             [
              0.4444444444444444,
              "#bd3786"
             ],
             [
              0.5555555555555556,
              "#d8576b"
             ],
             [
              0.6666666666666666,
              "#ed7953"
             ],
             [
              0.7777777777777778,
              "#fb9f3a"
             ],
             [
              0.8888888888888888,
              "#fdca26"
             ],
             [
              1,
              "#f0f921"
             ]
            ],
            "type": "histogram2dcontour"
           }
          ],
          "mesh3d": [
           {
            "colorbar": {
             "outlinewidth": 0,
             "ticks": ""
            },
            "type": "mesh3d"
           }
          ],
          "parcoords": [
           {
            "line": {
             "colorbar": {
              "outlinewidth": 0,
              "ticks": ""
             }
            },
            "type": "parcoords"
           }
          ],
          "pie": [
           {
            "automargin": true,
            "type": "pie"
           }
          ],
          "scatter": [
           {
            "fillpattern": {
             "fillmode": "overlay",
             "size": 10,
             "solidity": 0.2
            },
            "type": "scatter"
           }
          ],
          "scatter3d": [
           {
            "line": {
             "colorbar": {
              "outlinewidth": 0,
              "ticks": ""
             }
            },
            "marker": {
             "colorbar": {
              "outlinewidth": 0,
              "ticks": ""
             }
            },
            "type": "scatter3d"
           }
          ],
          "scattercarpet": [
           {
            "marker": {
             "colorbar": {
              "outlinewidth": 0,
              "ticks": ""
             }
            },
            "type": "scattercarpet"
           }
          ],
          "scattergeo": [
           {
            "marker": {
             "colorbar": {
              "outlinewidth": 0,
              "ticks": ""
             }
            },
            "type": "scattergeo"
           }
          ],
          "scattergl": [
           {
            "marker": {
             "colorbar": {
              "outlinewidth": 0,
              "ticks": ""
             }
            },
            "type": "scattergl"
           }
          ],
          "scattermapbox": [
           {
            "marker": {
             "colorbar": {
              "outlinewidth": 0,
              "ticks": ""
             }
            },
            "type": "scattermapbox"
           }
          ],
          "scatterpolar": [
           {
            "marker": {
             "colorbar": {
              "outlinewidth": 0,
              "ticks": ""
             }
            },
            "type": "scatterpolar"
           }
          ],
          "scatterpolargl": [
           {
            "marker": {
             "colorbar": {
              "outlinewidth": 0,
              "ticks": ""
             }
            },
            "type": "scatterpolargl"
           }
          ],
          "scatterternary": [
           {
            "marker": {
             "colorbar": {
              "outlinewidth": 0,
              "ticks": ""
             }
            },
            "type": "scatterternary"
           }
          ],
          "surface": [
           {
            "colorbar": {
             "outlinewidth": 0,
             "ticks": ""
            },
            "colorscale": [
             [
              0,
              "#0d0887"
             ],
             [
              0.1111111111111111,
              "#46039f"
             ],
             [
              0.2222222222222222,
              "#7201a8"
             ],
             [
              0.3333333333333333,
              "#9c179e"
             ],
             [
              0.4444444444444444,
              "#bd3786"
             ],
             [
              0.5555555555555556,
              "#d8576b"
             ],
             [
              0.6666666666666666,
              "#ed7953"
             ],
             [
              0.7777777777777778,
              "#fb9f3a"
             ],
             [
              0.8888888888888888,
              "#fdca26"
             ],
             [
              1,
              "#f0f921"
             ]
            ],
            "type": "surface"
           }
          ],
          "table": [
           {
            "cells": {
             "fill": {
              "color": "#EBF0F8"
             },
             "line": {
              "color": "white"
             }
            },
            "header": {
             "fill": {
              "color": "#C8D4E3"
             },
             "line": {
              "color": "white"
             }
            },
            "type": "table"
           }
          ]
         },
         "layout": {
          "annotationdefaults": {
           "arrowcolor": "#2a3f5f",
           "arrowhead": 0,
           "arrowwidth": 1
          },
          "autotypenumbers": "strict",
          "coloraxis": {
           "colorbar": {
            "outlinewidth": 0,
            "ticks": ""
           }
          },
          "colorscale": {
           "diverging": [
            [
             0,
             "#8e0152"
            ],
            [
             0.1,
             "#c51b7d"
            ],
            [
             0.2,
             "#de77ae"
            ],
            [
             0.3,
             "#f1b6da"
            ],
            [
             0.4,
             "#fde0ef"
            ],
            [
             0.5,
             "#f7f7f7"
            ],
            [
             0.6,
             "#e6f5d0"
            ],
            [
             0.7,
             "#b8e186"
            ],
            [
             0.8,
             "#7fbc41"
            ],
            [
             0.9,
             "#4d9221"
            ],
            [
             1,
             "#276419"
            ]
           ],
           "sequential": [
            [
             0,
             "#0d0887"
            ],
            [
             0.1111111111111111,
             "#46039f"
            ],
            [
             0.2222222222222222,
             "#7201a8"
            ],
            [
             0.3333333333333333,
             "#9c179e"
            ],
            [
             0.4444444444444444,
             "#bd3786"
            ],
            [
             0.5555555555555556,
             "#d8576b"
            ],
            [
             0.6666666666666666,
             "#ed7953"
            ],
            [
             0.7777777777777778,
             "#fb9f3a"
            ],
            [
             0.8888888888888888,
             "#fdca26"
            ],
            [
             1,
             "#f0f921"
            ]
           ],
           "sequentialminus": [
            [
             0,
             "#0d0887"
            ],
            [
             0.1111111111111111,
             "#46039f"
            ],
            [
             0.2222222222222222,
             "#7201a8"
            ],
            [
             0.3333333333333333,
             "#9c179e"
            ],
            [
             0.4444444444444444,
             "#bd3786"
            ],
            [
             0.5555555555555556,
             "#d8576b"
            ],
            [
             0.6666666666666666,
             "#ed7953"
            ],
            [
             0.7777777777777778,
             "#fb9f3a"
            ],
            [
             0.8888888888888888,
             "#fdca26"
            ],
            [
             1,
             "#f0f921"
            ]
           ]
          },
          "colorway": [
           "#636efa",
           "#EF553B",
           "#00cc96",
           "#ab63fa",
           "#FFA15A",
           "#19d3f3",
           "#FF6692",
           "#B6E880",
           "#FF97FF",
           "#FECB52"
          ],
          "font": {
           "color": "#2a3f5f"
          },
          "geo": {
           "bgcolor": "white",
           "lakecolor": "white",
           "landcolor": "#E5ECF6",
           "showlakes": true,
           "showland": true,
           "subunitcolor": "white"
          },
          "hoverlabel": {
           "align": "left"
          },
          "hovermode": "closest",
          "mapbox": {
           "style": "light"
          },
          "paper_bgcolor": "white",
          "plot_bgcolor": "#E5ECF6",
          "polar": {
           "angularaxis": {
            "gridcolor": "white",
            "linecolor": "white",
            "ticks": ""
           },
           "bgcolor": "#E5ECF6",
           "radialaxis": {
            "gridcolor": "white",
            "linecolor": "white",
            "ticks": ""
           }
          },
          "scene": {
           "xaxis": {
            "backgroundcolor": "#E5ECF6",
            "gridcolor": "white",
            "gridwidth": 2,
            "linecolor": "white",
            "showbackground": true,
            "ticks": "",
            "zerolinecolor": "white"
           },
           "yaxis": {
            "backgroundcolor": "#E5ECF6",
            "gridcolor": "white",
            "gridwidth": 2,
            "linecolor": "white",
            "showbackground": true,
            "ticks": "",
            "zerolinecolor": "white"
           },
           "zaxis": {
            "backgroundcolor": "#E5ECF6",
            "gridcolor": "white",
            "gridwidth": 2,
            "linecolor": "white",
            "showbackground": true,
            "ticks": "",
            "zerolinecolor": "white"
           }
          },
          "shapedefaults": {
           "line": {
            "color": "#2a3f5f"
           }
          },
          "ternary": {
           "aaxis": {
            "gridcolor": "white",
            "linecolor": "white",
            "ticks": ""
           },
           "baxis": {
            "gridcolor": "white",
            "linecolor": "white",
            "ticks": ""
           },
           "bgcolor": "#E5ECF6",
           "caxis": {
            "gridcolor": "white",
            "linecolor": "white",
            "ticks": ""
           }
          },
          "title": {
           "x": 0.05
          },
          "xaxis": {
           "automargin": true,
           "gridcolor": "white",
           "linecolor": "white",
           "ticks": "",
           "title": {
            "standoff": 15
           },
           "zerolinecolor": "white",
           "zerolinewidth": 2
          },
          "yaxis": {
           "automargin": true,
           "gridcolor": "white",
           "linecolor": "white",
           "ticks": "",
           "title": {
            "standoff": 15
           },
           "zerolinecolor": "white",
           "zerolinewidth": 2
          }
         }
        }
       }
      },
      "text/html": [
       "<div>                            <div id=\"2cd2b823-7c27-4134-bb6c-0761c9710dff\" class=\"plotly-graph-div\" style=\"height:525px; width:100%;\"></div>            <script type=\"text/javascript\">                require([\"plotly\"], function(Plotly) {                    window.PLOTLYENV=window.PLOTLYENV || {};                                    if (document.getElementById(\"2cd2b823-7c27-4134-bb6c-0761c9710dff\")) {                    Plotly.newPlot(                        \"2cd2b823-7c27-4134-bb6c-0761c9710dff\",                        [{\"marker\":{\"color\":\"#4a386f\"},\"text\":[1184.0,529.0,45.0,21.0,3.0],\"textposition\":\"auto\",\"x\":[\"Level I\",\"Not Emergency\",\"Level II\",\"Level III\",\"Emergency\"],\"y\":[1184,529,45,21,3],\"type\":\"bar\"}],                        {\"template\":{\"data\":{\"histogram2dcontour\":[{\"type\":\"histogram2dcontour\",\"colorbar\":{\"outlinewidth\":0,\"ticks\":\"\"},\"colorscale\":[[0.0,\"#0d0887\"],[0.1111111111111111,\"#46039f\"],[0.2222222222222222,\"#7201a8\"],[0.3333333333333333,\"#9c179e\"],[0.4444444444444444,\"#bd3786\"],[0.5555555555555556,\"#d8576b\"],[0.6666666666666666,\"#ed7953\"],[0.7777777777777778,\"#fb9f3a\"],[0.8888888888888888,\"#fdca26\"],[1.0,\"#f0f921\"]]}],\"choropleth\":[{\"type\":\"choropleth\",\"colorbar\":{\"outlinewidth\":0,\"ticks\":\"\"}}],\"histogram2d\":[{\"type\":\"histogram2d\",\"colorbar\":{\"outlinewidth\":0,\"ticks\":\"\"},\"colorscale\":[[0.0,\"#0d0887\"],[0.1111111111111111,\"#46039f\"],[0.2222222222222222,\"#7201a8\"],[0.3333333333333333,\"#9c179e\"],[0.4444444444444444,\"#bd3786\"],[0.5555555555555556,\"#d8576b\"],[0.6666666666666666,\"#ed7953\"],[0.7777777777777778,\"#fb9f3a\"],[0.8888888888888888,\"#fdca26\"],[1.0,\"#f0f921\"]]}],\"heatmap\":[{\"type\":\"heatmap\",\"colorbar\":{\"outlinewidth\":0,\"ticks\":\"\"},\"colorscale\":[[0.0,\"#0d0887\"],[0.1111111111111111,\"#46039f\"],[0.2222222222222222,\"#7201a8\"],[0.3333333333333333,\"#9c179e\"],[0.4444444444444444,\"#bd3786\"],[0.5555555555555556,\"#d8576b\"],[0.6666666666666666,\"#ed7953\"],[0.7777777777777778,\"#fb9f3a\"],[0.8888888888888888,\"#fdca26\"],[1.0,\"#f0f921\"]]}],\"heatmapgl\":[{\"type\":\"heatmapgl\",\"colorbar\":{\"outlinewidth\":0,\"ticks\":\"\"},\"colorscale\":[[0.0,\"#0d0887\"],[0.1111111111111111,\"#46039f\"],[0.2222222222222222,\"#7201a8\"],[0.3333333333333333,\"#9c179e\"],[0.4444444444444444,\"#bd3786\"],[0.5555555555555556,\"#d8576b\"],[0.6666666666666666,\"#ed7953\"],[0.7777777777777778,\"#fb9f3a\"],[0.8888888888888888,\"#fdca26\"],[1.0,\"#f0f921\"]]}],\"contourcarpet\":[{\"type\":\"contourcarpet\",\"colorbar\":{\"outlinewidth\":0,\"ticks\":\"\"}}],\"contour\":[{\"type\":\"contour\",\"colorbar\":{\"outlinewidth\":0,\"ticks\":\"\"},\"colorscale\":[[0.0,\"#0d0887\"],[0.1111111111111111,\"#46039f\"],[0.2222222222222222,\"#7201a8\"],[0.3333333333333333,\"#9c179e\"],[0.4444444444444444,\"#bd3786\"],[0.5555555555555556,\"#d8576b\"],[0.6666666666666666,\"#ed7953\"],[0.7777777777777778,\"#fb9f3a\"],[0.8888888888888888,\"#fdca26\"],[1.0,\"#f0f921\"]]}],\"surface\":[{\"type\":\"surface\",\"colorbar\":{\"outlinewidth\":0,\"ticks\":\"\"},\"colorscale\":[[0.0,\"#0d0887\"],[0.1111111111111111,\"#46039f\"],[0.2222222222222222,\"#7201a8\"],[0.3333333333333333,\"#9c179e\"],[0.4444444444444444,\"#bd3786\"],[0.5555555555555556,\"#d8576b\"],[0.6666666666666666,\"#ed7953\"],[0.7777777777777778,\"#fb9f3a\"],[0.8888888888888888,\"#fdca26\"],[1.0,\"#f0f921\"]]}],\"mesh3d\":[{\"type\":\"mesh3d\",\"colorbar\":{\"outlinewidth\":0,\"ticks\":\"\"}}],\"scatter\":[{\"fillpattern\":{\"fillmode\":\"overlay\",\"size\":10,\"solidity\":0.2},\"type\":\"scatter\"}],\"parcoords\":[{\"type\":\"parcoords\",\"line\":{\"colorbar\":{\"outlinewidth\":0,\"ticks\":\"\"}}}],\"scatterpolargl\":[{\"type\":\"scatterpolargl\",\"marker\":{\"colorbar\":{\"outlinewidth\":0,\"ticks\":\"\"}}}],\"bar\":[{\"error_x\":{\"color\":\"#2a3f5f\"},\"error_y\":{\"color\":\"#2a3f5f\"},\"marker\":{\"line\":{\"color\":\"#E5ECF6\",\"width\":0.5},\"pattern\":{\"fillmode\":\"overlay\",\"size\":10,\"solidity\":0.2}},\"type\":\"bar\"}],\"scattergeo\":[{\"type\":\"scattergeo\",\"marker\":{\"colorbar\":{\"outlinewidth\":0,\"ticks\":\"\"}}}],\"scatterpolar\":[{\"type\":\"scatterpolar\",\"marker\":{\"colorbar\":{\"outlinewidth\":0,\"ticks\":\"\"}}}],\"histogram\":[{\"marker\":{\"pattern\":{\"fillmode\":\"overlay\",\"size\":10,\"solidity\":0.2}},\"type\":\"histogram\"}],\"scattergl\":[{\"type\":\"scattergl\",\"marker\":{\"colorbar\":{\"outlinewidth\":0,\"ticks\":\"\"}}}],\"scatter3d\":[{\"type\":\"scatter3d\",\"line\":{\"colorbar\":{\"outlinewidth\":0,\"ticks\":\"\"}},\"marker\":{\"colorbar\":{\"outlinewidth\":0,\"ticks\":\"\"}}}],\"scattermapbox\":[{\"type\":\"scattermapbox\",\"marker\":{\"colorbar\":{\"outlinewidth\":0,\"ticks\":\"\"}}}],\"scatterternary\":[{\"type\":\"scatterternary\",\"marker\":{\"colorbar\":{\"outlinewidth\":0,\"ticks\":\"\"}}}],\"scattercarpet\":[{\"type\":\"scattercarpet\",\"marker\":{\"colorbar\":{\"outlinewidth\":0,\"ticks\":\"\"}}}],\"carpet\":[{\"aaxis\":{\"endlinecolor\":\"#2a3f5f\",\"gridcolor\":\"white\",\"linecolor\":\"white\",\"minorgridcolor\":\"white\",\"startlinecolor\":\"#2a3f5f\"},\"baxis\":{\"endlinecolor\":\"#2a3f5f\",\"gridcolor\":\"white\",\"linecolor\":\"white\",\"minorgridcolor\":\"white\",\"startlinecolor\":\"#2a3f5f\"},\"type\":\"carpet\"}],\"table\":[{\"cells\":{\"fill\":{\"color\":\"#EBF0F8\"},\"line\":{\"color\":\"white\"}},\"header\":{\"fill\":{\"color\":\"#C8D4E3\"},\"line\":{\"color\":\"white\"}},\"type\":\"table\"}],\"barpolar\":[{\"marker\":{\"line\":{\"color\":\"#E5ECF6\",\"width\":0.5},\"pattern\":{\"fillmode\":\"overlay\",\"size\":10,\"solidity\":0.2}},\"type\":\"barpolar\"}],\"pie\":[{\"automargin\":true,\"type\":\"pie\"}]},\"layout\":{\"autotypenumbers\":\"strict\",\"colorway\":[\"#636efa\",\"#EF553B\",\"#00cc96\",\"#ab63fa\",\"#FFA15A\",\"#19d3f3\",\"#FF6692\",\"#B6E880\",\"#FF97FF\",\"#FECB52\"],\"font\":{\"color\":\"#2a3f5f\"},\"hovermode\":\"closest\",\"hoverlabel\":{\"align\":\"left\"},\"paper_bgcolor\":\"white\",\"plot_bgcolor\":\"#E5ECF6\",\"polar\":{\"bgcolor\":\"#E5ECF6\",\"angularaxis\":{\"gridcolor\":\"white\",\"linecolor\":\"white\",\"ticks\":\"\"},\"radialaxis\":{\"gridcolor\":\"white\",\"linecolor\":\"white\",\"ticks\":\"\"}},\"ternary\":{\"bgcolor\":\"#E5ECF6\",\"aaxis\":{\"gridcolor\":\"white\",\"linecolor\":\"white\",\"ticks\":\"\"},\"baxis\":{\"gridcolor\":\"white\",\"linecolor\":\"white\",\"ticks\":\"\"},\"caxis\":{\"gridcolor\":\"white\",\"linecolor\":\"white\",\"ticks\":\"\"}},\"coloraxis\":{\"colorbar\":{\"outlinewidth\":0,\"ticks\":\"\"}},\"colorscale\":{\"sequential\":[[0.0,\"#0d0887\"],[0.1111111111111111,\"#46039f\"],[0.2222222222222222,\"#7201a8\"],[0.3333333333333333,\"#9c179e\"],[0.4444444444444444,\"#bd3786\"],[0.5555555555555556,\"#d8576b\"],[0.6666666666666666,\"#ed7953\"],[0.7777777777777778,\"#fb9f3a\"],[0.8888888888888888,\"#fdca26\"],[1.0,\"#f0f921\"]],\"sequentialminus\":[[0.0,\"#0d0887\"],[0.1111111111111111,\"#46039f\"],[0.2222222222222222,\"#7201a8\"],[0.3333333333333333,\"#9c179e\"],[0.4444444444444444,\"#bd3786\"],[0.5555555555555556,\"#d8576b\"],[0.6666666666666666,\"#ed7953\"],[0.7777777777777778,\"#fb9f3a\"],[0.8888888888888888,\"#fdca26\"],[1.0,\"#f0f921\"]],\"diverging\":[[0,\"#8e0152\"],[0.1,\"#c51b7d\"],[0.2,\"#de77ae\"],[0.3,\"#f1b6da\"],[0.4,\"#fde0ef\"],[0.5,\"#f7f7f7\"],[0.6,\"#e6f5d0\"],[0.7,\"#b8e186\"],[0.8,\"#7fbc41\"],[0.9,\"#4d9221\"],[1,\"#276419\"]]},\"xaxis\":{\"gridcolor\":\"white\",\"linecolor\":\"white\",\"ticks\":\"\",\"title\":{\"standoff\":15},\"zerolinecolor\":\"white\",\"automargin\":true,\"zerolinewidth\":2},\"yaxis\":{\"gridcolor\":\"white\",\"linecolor\":\"white\",\"ticks\":\"\",\"title\":{\"standoff\":15},\"zerolinecolor\":\"white\",\"automargin\":true,\"zerolinewidth\":2},\"scene\":{\"xaxis\":{\"backgroundcolor\":\"#E5ECF6\",\"gridcolor\":\"white\",\"linecolor\":\"white\",\"showbackground\":true,\"ticks\":\"\",\"zerolinecolor\":\"white\",\"gridwidth\":2},\"yaxis\":{\"backgroundcolor\":\"#E5ECF6\",\"gridcolor\":\"white\",\"linecolor\":\"white\",\"showbackground\":true,\"ticks\":\"\",\"zerolinecolor\":\"white\",\"gridwidth\":2},\"zaxis\":{\"backgroundcolor\":\"#E5ECF6\",\"gridcolor\":\"white\",\"linecolor\":\"white\",\"showbackground\":true,\"ticks\":\"\",\"zerolinecolor\":\"white\",\"gridwidth\":2}},\"shapedefaults\":{\"line\":{\"color\":\"#2a3f5f\"}},\"annotationdefaults\":{\"arrowcolor\":\"#2a3f5f\",\"arrowhead\":0,\"arrowwidth\":1},\"geo\":{\"bgcolor\":\"white\",\"landcolor\":\"#E5ECF6\",\"subunitcolor\":\"white\",\"showland\":true,\"showlakes\":true,\"lakecolor\":\"white\"},\"title\":{\"x\":0.05},\"mapbox\":{\"style\":\"light\"}}}},                        {\"responsive\": true}                    ).then(function(){\n",
       "                            \n",
       "var gd = document.getElementById('2cd2b823-7c27-4134-bb6c-0761c9710dff');\n",
       "var x = new MutationObserver(function (mutations, observer) {{\n",
       "        var display = window.getComputedStyle(gd).display;\n",
       "        if (!display || display === 'none') {{\n",
       "            console.log([gd, 'removed!']);\n",
       "            Plotly.purge(gd);\n",
       "            observer.disconnect();\n",
       "        }}\n",
       "}});\n",
       "\n",
       "// Listen for the removal of the full notebook cells\n",
       "var notebookContainer = gd.closest('#notebook-container');\n",
       "if (notebookContainer) {{\n",
       "    x.observe(notebookContainer, {childList: true});\n",
       "}}\n",
       "\n",
       "// Listen for the clearing of the current output cell\n",
       "var outputEl = gd.closest('.output');\n",
       "if (outputEl) {{\n",
       "    x.observe(outputEl, {childList: true});\n",
       "}}\n",
       "\n",
       "                        })                };                });            </script>        </div>"
      ]
     },
     "metadata": {},
     "output_type": "display_data"
    }
   ],
   "source": [
    "df5 = data['Emergency Level'].value_counts()\n",
    "df5 = df5.reset_index()\n",
    "df5\n",
    "fig = go.Figure(data=[go.Bar(\n",
    "            x=df5['Emergency Level'], y=df5['count'],\n",
    "            text=df5['count'],\n",
    "            textposition='auto',\n",
    "            marker_color = '#4a386f'\n",
    "        )])\n",
    "fig.show()"
   ]
  },
  {
   "cell_type": "code",
   "execution_count": 78,
   "id": "dddeec42",
   "metadata": {},
   "outputs": [
    {
     "data": {
      "application/vnd.plotly.v1+json": {
       "config": {
        "plotlyServerURL": "https://plot.ly"
       },
       "data": [
        {
         "marker": {
          "color": "#4682b4"
         },
         "text": [
          177,
          35,
          13,
          3,
          3,
          1,
          1,
          1
         ],
         "textposition": "auto",
         "type": "bar",
         "x": [
          "Replacement",
          "Rebuilt",
          "Removal",
          "Type B Sleeve (Pressure Containing)",
          "Type A Sleeve (Reinforcing)",
          "Grinding",
          "Composite Sleeve",
          "Patch or Half Sole"
         ],
         "y": [
          177,
          35,
          13,
          3,
          3,
          1,
          1,
          1
         ]
        }
       ],
       "layout": {
        "template": {
         "data": {
          "bar": [
           {
            "error_x": {
             "color": "#f2f5fa"
            },
            "error_y": {
             "color": "#f2f5fa"
            },
            "marker": {
             "line": {
              "color": "rgb(17,17,17)",
              "width": 0.5
             },
             "pattern": {
              "fillmode": "overlay",
              "size": 10,
              "solidity": 0.2
             }
            },
            "type": "bar"
           }
          ],
          "barpolar": [
           {
            "marker": {
             "line": {
              "color": "rgb(17,17,17)",
              "width": 0.5
             },
             "pattern": {
              "fillmode": "overlay",
              "size": 10,
              "solidity": 0.2
             }
            },
            "type": "barpolar"
           }
          ],
          "carpet": [
           {
            "aaxis": {
             "endlinecolor": "#A2B1C6",
             "gridcolor": "#506784",
             "linecolor": "#506784",
             "minorgridcolor": "#506784",
             "startlinecolor": "#A2B1C6"
            },
            "baxis": {
             "endlinecolor": "#A2B1C6",
             "gridcolor": "#506784",
             "linecolor": "#506784",
             "minorgridcolor": "#506784",
             "startlinecolor": "#A2B1C6"
            },
            "type": "carpet"
           }
          ],
          "choropleth": [
           {
            "colorbar": {
             "outlinewidth": 0,
             "ticks": ""
            },
            "type": "choropleth"
           }
          ],
          "contour": [
           {
            "colorbar": {
             "outlinewidth": 0,
             "ticks": ""
            },
            "colorscale": [
             [
              0,
              "#0d0887"
             ],
             [
              0.1111111111111111,
              "#46039f"
             ],
             [
              0.2222222222222222,
              "#7201a8"
             ],
             [
              0.3333333333333333,
              "#9c179e"
             ],
             [
              0.4444444444444444,
              "#bd3786"
             ],
             [
              0.5555555555555556,
              "#d8576b"
             ],
             [
              0.6666666666666666,
              "#ed7953"
             ],
             [
              0.7777777777777778,
              "#fb9f3a"
             ],
             [
              0.8888888888888888,
              "#fdca26"
             ],
             [
              1,
              "#f0f921"
             ]
            ],
            "type": "contour"
           }
          ],
          "contourcarpet": [
           {
            "colorbar": {
             "outlinewidth": 0,
             "ticks": ""
            },
            "type": "contourcarpet"
           }
          ],
          "heatmap": [
           {
            "colorbar": {
             "outlinewidth": 0,
             "ticks": ""
            },
            "colorscale": [
             [
              0,
              "#0d0887"
             ],
             [
              0.1111111111111111,
              "#46039f"
             ],
             [
              0.2222222222222222,
              "#7201a8"
             ],
             [
              0.3333333333333333,
              "#9c179e"
             ],
             [
              0.4444444444444444,
              "#bd3786"
             ],
             [
              0.5555555555555556,
              "#d8576b"
             ],
             [
              0.6666666666666666,
              "#ed7953"
             ],
             [
              0.7777777777777778,
              "#fb9f3a"
             ],
             [
              0.8888888888888888,
              "#fdca26"
             ],
             [
              1,
              "#f0f921"
             ]
            ],
            "type": "heatmap"
           }
          ],
          "heatmapgl": [
           {
            "colorbar": {
             "outlinewidth": 0,
             "ticks": ""
            },
            "colorscale": [
             [
              0,
              "#0d0887"
             ],
             [
              0.1111111111111111,
              "#46039f"
             ],
             [
              0.2222222222222222,
              "#7201a8"
             ],
             [
              0.3333333333333333,
              "#9c179e"
             ],
             [
              0.4444444444444444,
              "#bd3786"
             ],
             [
              0.5555555555555556,
              "#d8576b"
             ],
             [
              0.6666666666666666,
              "#ed7953"
             ],
             [
              0.7777777777777778,
              "#fb9f3a"
             ],
             [
              0.8888888888888888,
              "#fdca26"
             ],
             [
              1,
              "#f0f921"
             ]
            ],
            "type": "heatmapgl"
           }
          ],
          "histogram": [
           {
            "marker": {
             "pattern": {
              "fillmode": "overlay",
              "size": 10,
              "solidity": 0.2
             }
            },
            "type": "histogram"
           }
          ],
          "histogram2d": [
           {
            "colorbar": {
             "outlinewidth": 0,
             "ticks": ""
            },
            "colorscale": [
             [
              0,
              "#0d0887"
             ],
             [
              0.1111111111111111,
              "#46039f"
             ],
             [
              0.2222222222222222,
              "#7201a8"
             ],
             [
              0.3333333333333333,
              "#9c179e"
             ],
             [
              0.4444444444444444,
              "#bd3786"
             ],
             [
              0.5555555555555556,
              "#d8576b"
             ],
             [
              0.6666666666666666,
              "#ed7953"
             ],
             [
              0.7777777777777778,
              "#fb9f3a"
             ],
             [
              0.8888888888888888,
              "#fdca26"
             ],
             [
              1,
              "#f0f921"
             ]
            ],
            "type": "histogram2d"
           }
          ],
          "histogram2dcontour": [
           {
            "colorbar": {
             "outlinewidth": 0,
             "ticks": ""
            },
            "colorscale": [
             [
              0,
              "#0d0887"
             ],
             [
              0.1111111111111111,
              "#46039f"
             ],
             [
              0.2222222222222222,
              "#7201a8"
             ],
             [
              0.3333333333333333,
              "#9c179e"
             ],
             [
              0.4444444444444444,
              "#bd3786"
             ],
             [
              0.5555555555555556,
              "#d8576b"
             ],
             [
              0.6666666666666666,
              "#ed7953"
             ],
             [
              0.7777777777777778,
              "#fb9f3a"
             ],
             [
              0.8888888888888888,
              "#fdca26"
             ],
             [
              1,
              "#f0f921"
             ]
            ],
            "type": "histogram2dcontour"
           }
          ],
          "mesh3d": [
           {
            "colorbar": {
             "outlinewidth": 0,
             "ticks": ""
            },
            "type": "mesh3d"
           }
          ],
          "parcoords": [
           {
            "line": {
             "colorbar": {
              "outlinewidth": 0,
              "ticks": ""
             }
            },
            "type": "parcoords"
           }
          ],
          "pie": [
           {
            "automargin": true,
            "type": "pie"
           }
          ],
          "scatter": [
           {
            "marker": {
             "line": {
              "color": "#283442"
             }
            },
            "type": "scatter"
           }
          ],
          "scatter3d": [
           {
            "line": {
             "colorbar": {
              "outlinewidth": 0,
              "ticks": ""
             }
            },
            "marker": {
             "colorbar": {
              "outlinewidth": 0,
              "ticks": ""
             }
            },
            "type": "scatter3d"
           }
          ],
          "scattercarpet": [
           {
            "marker": {
             "colorbar": {
              "outlinewidth": 0,
              "ticks": ""
             }
            },
            "type": "scattercarpet"
           }
          ],
          "scattergeo": [
           {
            "marker": {
             "colorbar": {
              "outlinewidth": 0,
              "ticks": ""
             }
            },
            "type": "scattergeo"
           }
          ],
          "scattergl": [
           {
            "marker": {
             "line": {
              "color": "#283442"
             }
            },
            "type": "scattergl"
           }
          ],
          "scattermapbox": [
           {
            "marker": {
             "colorbar": {
              "outlinewidth": 0,
              "ticks": ""
             }
            },
            "type": "scattermapbox"
           }
          ],
          "scatterpolar": [
           {
            "marker": {
             "colorbar": {
              "outlinewidth": 0,
              "ticks": ""
             }
            },
            "type": "scatterpolar"
           }
          ],
          "scatterpolargl": [
           {
            "marker": {
             "colorbar": {
              "outlinewidth": 0,
              "ticks": ""
             }
            },
            "type": "scatterpolargl"
           }
          ],
          "scatterternary": [
           {
            "marker": {
             "colorbar": {
              "outlinewidth": 0,
              "ticks": ""
             }
            },
            "type": "scatterternary"
           }
          ],
          "surface": [
           {
            "colorbar": {
             "outlinewidth": 0,
             "ticks": ""
            },
            "colorscale": [
             [
              0,
              "#0d0887"
             ],
             [
              0.1111111111111111,
              "#46039f"
             ],
             [
              0.2222222222222222,
              "#7201a8"
             ],
             [
              0.3333333333333333,
              "#9c179e"
             ],
             [
              0.4444444444444444,
              "#bd3786"
             ],
             [
              0.5555555555555556,
              "#d8576b"
             ],
             [
              0.6666666666666666,
              "#ed7953"
             ],
             [
              0.7777777777777778,
              "#fb9f3a"
             ],
             [
              0.8888888888888888,
              "#fdca26"
             ],
             [
              1,
              "#f0f921"
             ]
            ],
            "type": "surface"
           }
          ],
          "table": [
           {
            "cells": {
             "fill": {
              "color": "#506784"
             },
             "line": {
              "color": "rgb(17,17,17)"
             }
            },
            "header": {
             "fill": {
              "color": "#2a3f5f"
             },
             "line": {
              "color": "rgb(17,17,17)"
             }
            },
            "type": "table"
           }
          ]
         },
         "layout": {
          "annotationdefaults": {
           "arrowcolor": "#f2f5fa",
           "arrowhead": 0,
           "arrowwidth": 1
          },
          "autotypenumbers": "strict",
          "coloraxis": {
           "colorbar": {
            "outlinewidth": 0,
            "ticks": ""
           }
          },
          "colorscale": {
           "diverging": [
            [
             0,
             "#8e0152"
            ],
            [
             0.1,
             "#c51b7d"
            ],
            [
             0.2,
             "#de77ae"
            ],
            [
             0.3,
             "#f1b6da"
            ],
            [
             0.4,
             "#fde0ef"
            ],
            [
             0.5,
             "#f7f7f7"
            ],
            [
             0.6,
             "#e6f5d0"
            ],
            [
             0.7,
             "#b8e186"
            ],
            [
             0.8,
             "#7fbc41"
            ],
            [
             0.9,
             "#4d9221"
            ],
            [
             1,
             "#276419"
            ]
           ],
           "sequential": [
            [
             0,
             "#0d0887"
            ],
            [
             0.1111111111111111,
             "#46039f"
            ],
            [
             0.2222222222222222,
             "#7201a8"
            ],
            [
             0.3333333333333333,
             "#9c179e"
            ],
            [
             0.4444444444444444,
             "#bd3786"
            ],
            [
             0.5555555555555556,
             "#d8576b"
            ],
            [
             0.6666666666666666,
             "#ed7953"
            ],
            [
             0.7777777777777778,
             "#fb9f3a"
            ],
            [
             0.8888888888888888,
             "#fdca26"
            ],
            [
             1,
             "#f0f921"
            ]
           ],
           "sequentialminus": [
            [
             0,
             "#0d0887"
            ],
            [
             0.1111111111111111,
             "#46039f"
            ],
            [
             0.2222222222222222,
             "#7201a8"
            ],
            [
             0.3333333333333333,
             "#9c179e"
            ],
            [
             0.4444444444444444,
             "#bd3786"
            ],
            [
             0.5555555555555556,
             "#d8576b"
            ],
            [
             0.6666666666666666,
             "#ed7953"
            ],
            [
             0.7777777777777778,
             "#fb9f3a"
            ],
            [
             0.8888888888888888,
             "#fdca26"
            ],
            [
             1,
             "#f0f921"
            ]
           ]
          },
          "colorway": [
           "#636efa",
           "#EF553B",
           "#00cc96",
           "#ab63fa",
           "#FFA15A",
           "#19d3f3",
           "#FF6692",
           "#B6E880",
           "#FF97FF",
           "#FECB52"
          ],
          "font": {
           "color": "#f2f5fa"
          },
          "geo": {
           "bgcolor": "rgb(17,17,17)",
           "lakecolor": "rgb(17,17,17)",
           "landcolor": "rgb(17,17,17)",
           "showlakes": true,
           "showland": true,
           "subunitcolor": "#506784"
          },
          "hoverlabel": {
           "align": "left"
          },
          "hovermode": "closest",
          "mapbox": {
           "style": "dark"
          },
          "paper_bgcolor": "rgb(17,17,17)",
          "plot_bgcolor": "rgb(17,17,17)",
          "polar": {
           "angularaxis": {
            "gridcolor": "#506784",
            "linecolor": "#506784",
            "ticks": ""
           },
           "bgcolor": "rgb(17,17,17)",
           "radialaxis": {
            "gridcolor": "#506784",
            "linecolor": "#506784",
            "ticks": ""
           }
          },
          "scene": {
           "xaxis": {
            "backgroundcolor": "rgb(17,17,17)",
            "gridcolor": "#506784",
            "gridwidth": 2,
            "linecolor": "#506784",
            "showbackground": true,
            "ticks": "",
            "zerolinecolor": "#C8D4E3"
           },
           "yaxis": {
            "backgroundcolor": "rgb(17,17,17)",
            "gridcolor": "#506784",
            "gridwidth": 2,
            "linecolor": "#506784",
            "showbackground": true,
            "ticks": "",
            "zerolinecolor": "#C8D4E3"
           },
           "zaxis": {
            "backgroundcolor": "rgb(17,17,17)",
            "gridcolor": "#506784",
            "gridwidth": 2,
            "linecolor": "#506784",
            "showbackground": true,
            "ticks": "",
            "zerolinecolor": "#C8D4E3"
           }
          },
          "shapedefaults": {
           "line": {
            "color": "#f2f5fa"
           }
          },
          "sliderdefaults": {
           "bgcolor": "#C8D4E3",
           "bordercolor": "rgb(17,17,17)",
           "borderwidth": 1,
           "tickwidth": 0
          },
          "ternary": {
           "aaxis": {
            "gridcolor": "#506784",
            "linecolor": "#506784",
            "ticks": ""
           },
           "baxis": {
            "gridcolor": "#506784",
            "linecolor": "#506784",
            "ticks": ""
           },
           "bgcolor": "rgb(17,17,17)",
           "caxis": {
            "gridcolor": "#506784",
            "linecolor": "#506784",
            "ticks": ""
           }
          },
          "title": {
           "x": 0.05
          },
          "updatemenudefaults": {
           "bgcolor": "#506784",
           "borderwidth": 0
          },
          "xaxis": {
           "automargin": true,
           "gridcolor": "#283442",
           "linecolor": "#506784",
           "ticks": "",
           "title": {
            "standoff": 15
           },
           "zerolinecolor": "#283442",
           "zerolinewidth": 2
          },
          "yaxis": {
           "automargin": true,
           "gridcolor": "#283442",
           "linecolor": "#506784",
           "ticks": "",
           "title": {
            "standoff": 15
           },
           "zerolinecolor": "#283442",
           "zerolinewidth": 2
          }
         }
        }
       }
      },
      "text/html": [
       "<div>                            <div id=\"723abe4a-9995-4bce-aed6-b0bbcd3762e2\" class=\"plotly-graph-div\" style=\"height:525px; width:100%;\"></div>            <script type=\"text/javascript\">                require([\"plotly\"], function(Plotly) {                    window.PLOTLYENV=window.PLOTLYENV || {};                                    if (document.getElementById(\"723abe4a-9995-4bce-aed6-b0bbcd3762e2\")) {                    Plotly.newPlot(                        \"723abe4a-9995-4bce-aed6-b0bbcd3762e2\",                        [{\"marker\":{\"color\":\"#4682b4\"},\"text\":[177.0,35.0,13.0,3.0,3.0,1.0,1.0,1.0],\"textposition\":\"auto\",\"x\":[\"Replacement\",\"Rebuilt\",\"Removal\",\"Type B Sleeve (Pressure Containing)\",\"Type A Sleeve (Reinforcing)\",\"Grinding\",\"Composite Sleeve\",\"Patch or Half Sole\"],\"y\":[177,35,13,3,3,1,1,1],\"type\":\"bar\"}],                        {\"template\":{\"data\":{\"barpolar\":[{\"marker\":{\"line\":{\"color\":\"rgb(17,17,17)\",\"width\":0.5},\"pattern\":{\"fillmode\":\"overlay\",\"size\":10,\"solidity\":0.2}},\"type\":\"barpolar\"}],\"bar\":[{\"error_x\":{\"color\":\"#f2f5fa\"},\"error_y\":{\"color\":\"#f2f5fa\"},\"marker\":{\"line\":{\"color\":\"rgb(17,17,17)\",\"width\":0.5},\"pattern\":{\"fillmode\":\"overlay\",\"size\":10,\"solidity\":0.2}},\"type\":\"bar\"}],\"carpet\":[{\"aaxis\":{\"endlinecolor\":\"#A2B1C6\",\"gridcolor\":\"#506784\",\"linecolor\":\"#506784\",\"minorgridcolor\":\"#506784\",\"startlinecolor\":\"#A2B1C6\"},\"baxis\":{\"endlinecolor\":\"#A2B1C6\",\"gridcolor\":\"#506784\",\"linecolor\":\"#506784\",\"minorgridcolor\":\"#506784\",\"startlinecolor\":\"#A2B1C6\"},\"type\":\"carpet\"}],\"choropleth\":[{\"colorbar\":{\"outlinewidth\":0,\"ticks\":\"\"},\"type\":\"choropleth\"}],\"contourcarpet\":[{\"colorbar\":{\"outlinewidth\":0,\"ticks\":\"\"},\"type\":\"contourcarpet\"}],\"contour\":[{\"colorbar\":{\"outlinewidth\":0,\"ticks\":\"\"},\"colorscale\":[[0.0,\"#0d0887\"],[0.1111111111111111,\"#46039f\"],[0.2222222222222222,\"#7201a8\"],[0.3333333333333333,\"#9c179e\"],[0.4444444444444444,\"#bd3786\"],[0.5555555555555556,\"#d8576b\"],[0.6666666666666666,\"#ed7953\"],[0.7777777777777778,\"#fb9f3a\"],[0.8888888888888888,\"#fdca26\"],[1.0,\"#f0f921\"]],\"type\":\"contour\"}],\"heatmapgl\":[{\"colorbar\":{\"outlinewidth\":0,\"ticks\":\"\"},\"colorscale\":[[0.0,\"#0d0887\"],[0.1111111111111111,\"#46039f\"],[0.2222222222222222,\"#7201a8\"],[0.3333333333333333,\"#9c179e\"],[0.4444444444444444,\"#bd3786\"],[0.5555555555555556,\"#d8576b\"],[0.6666666666666666,\"#ed7953\"],[0.7777777777777778,\"#fb9f3a\"],[0.8888888888888888,\"#fdca26\"],[1.0,\"#f0f921\"]],\"type\":\"heatmapgl\"}],\"heatmap\":[{\"colorbar\":{\"outlinewidth\":0,\"ticks\":\"\"},\"colorscale\":[[0.0,\"#0d0887\"],[0.1111111111111111,\"#46039f\"],[0.2222222222222222,\"#7201a8\"],[0.3333333333333333,\"#9c179e\"],[0.4444444444444444,\"#bd3786\"],[0.5555555555555556,\"#d8576b\"],[0.6666666666666666,\"#ed7953\"],[0.7777777777777778,\"#fb9f3a\"],[0.8888888888888888,\"#fdca26\"],[1.0,\"#f0f921\"]],\"type\":\"heatmap\"}],\"histogram2dcontour\":[{\"colorbar\":{\"outlinewidth\":0,\"ticks\":\"\"},\"colorscale\":[[0.0,\"#0d0887\"],[0.1111111111111111,\"#46039f\"],[0.2222222222222222,\"#7201a8\"],[0.3333333333333333,\"#9c179e\"],[0.4444444444444444,\"#bd3786\"],[0.5555555555555556,\"#d8576b\"],[0.6666666666666666,\"#ed7953\"],[0.7777777777777778,\"#fb9f3a\"],[0.8888888888888888,\"#fdca26\"],[1.0,\"#f0f921\"]],\"type\":\"histogram2dcontour\"}],\"histogram2d\":[{\"colorbar\":{\"outlinewidth\":0,\"ticks\":\"\"},\"colorscale\":[[0.0,\"#0d0887\"],[0.1111111111111111,\"#46039f\"],[0.2222222222222222,\"#7201a8\"],[0.3333333333333333,\"#9c179e\"],[0.4444444444444444,\"#bd3786\"],[0.5555555555555556,\"#d8576b\"],[0.6666666666666666,\"#ed7953\"],[0.7777777777777778,\"#fb9f3a\"],[0.8888888888888888,\"#fdca26\"],[1.0,\"#f0f921\"]],\"type\":\"histogram2d\"}],\"histogram\":[{\"marker\":{\"pattern\":{\"fillmode\":\"overlay\",\"size\":10,\"solidity\":0.2}},\"type\":\"histogram\"}],\"mesh3d\":[{\"colorbar\":{\"outlinewidth\":0,\"ticks\":\"\"},\"type\":\"mesh3d\"}],\"parcoords\":[{\"line\":{\"colorbar\":{\"outlinewidth\":0,\"ticks\":\"\"}},\"type\":\"parcoords\"}],\"pie\":[{\"automargin\":true,\"type\":\"pie\"}],\"scatter3d\":[{\"line\":{\"colorbar\":{\"outlinewidth\":0,\"ticks\":\"\"}},\"marker\":{\"colorbar\":{\"outlinewidth\":0,\"ticks\":\"\"}},\"type\":\"scatter3d\"}],\"scattercarpet\":[{\"marker\":{\"colorbar\":{\"outlinewidth\":0,\"ticks\":\"\"}},\"type\":\"scattercarpet\"}],\"scattergeo\":[{\"marker\":{\"colorbar\":{\"outlinewidth\":0,\"ticks\":\"\"}},\"type\":\"scattergeo\"}],\"scattergl\":[{\"marker\":{\"line\":{\"color\":\"#283442\"}},\"type\":\"scattergl\"}],\"scattermapbox\":[{\"marker\":{\"colorbar\":{\"outlinewidth\":0,\"ticks\":\"\"}},\"type\":\"scattermapbox\"}],\"scatterpolargl\":[{\"marker\":{\"colorbar\":{\"outlinewidth\":0,\"ticks\":\"\"}},\"type\":\"scatterpolargl\"}],\"scatterpolar\":[{\"marker\":{\"colorbar\":{\"outlinewidth\":0,\"ticks\":\"\"}},\"type\":\"scatterpolar\"}],\"scatter\":[{\"marker\":{\"line\":{\"color\":\"#283442\"}},\"type\":\"scatter\"}],\"scatterternary\":[{\"marker\":{\"colorbar\":{\"outlinewidth\":0,\"ticks\":\"\"}},\"type\":\"scatterternary\"}],\"surface\":[{\"colorbar\":{\"outlinewidth\":0,\"ticks\":\"\"},\"colorscale\":[[0.0,\"#0d0887\"],[0.1111111111111111,\"#46039f\"],[0.2222222222222222,\"#7201a8\"],[0.3333333333333333,\"#9c179e\"],[0.4444444444444444,\"#bd3786\"],[0.5555555555555556,\"#d8576b\"],[0.6666666666666666,\"#ed7953\"],[0.7777777777777778,\"#fb9f3a\"],[0.8888888888888888,\"#fdca26\"],[1.0,\"#f0f921\"]],\"type\":\"surface\"}],\"table\":[{\"cells\":{\"fill\":{\"color\":\"#506784\"},\"line\":{\"color\":\"rgb(17,17,17)\"}},\"header\":{\"fill\":{\"color\":\"#2a3f5f\"},\"line\":{\"color\":\"rgb(17,17,17)\"}},\"type\":\"table\"}]},\"layout\":{\"annotationdefaults\":{\"arrowcolor\":\"#f2f5fa\",\"arrowhead\":0,\"arrowwidth\":1},\"autotypenumbers\":\"strict\",\"coloraxis\":{\"colorbar\":{\"outlinewidth\":0,\"ticks\":\"\"}},\"colorscale\":{\"diverging\":[[0,\"#8e0152\"],[0.1,\"#c51b7d\"],[0.2,\"#de77ae\"],[0.3,\"#f1b6da\"],[0.4,\"#fde0ef\"],[0.5,\"#f7f7f7\"],[0.6,\"#e6f5d0\"],[0.7,\"#b8e186\"],[0.8,\"#7fbc41\"],[0.9,\"#4d9221\"],[1,\"#276419\"]],\"sequential\":[[0.0,\"#0d0887\"],[0.1111111111111111,\"#46039f\"],[0.2222222222222222,\"#7201a8\"],[0.3333333333333333,\"#9c179e\"],[0.4444444444444444,\"#bd3786\"],[0.5555555555555556,\"#d8576b\"],[0.6666666666666666,\"#ed7953\"],[0.7777777777777778,\"#fb9f3a\"],[0.8888888888888888,\"#fdca26\"],[1.0,\"#f0f921\"]],\"sequentialminus\":[[0.0,\"#0d0887\"],[0.1111111111111111,\"#46039f\"],[0.2222222222222222,\"#7201a8\"],[0.3333333333333333,\"#9c179e\"],[0.4444444444444444,\"#bd3786\"],[0.5555555555555556,\"#d8576b\"],[0.6666666666666666,\"#ed7953\"],[0.7777777777777778,\"#fb9f3a\"],[0.8888888888888888,\"#fdca26\"],[1.0,\"#f0f921\"]]},\"colorway\":[\"#636efa\",\"#EF553B\",\"#00cc96\",\"#ab63fa\",\"#FFA15A\",\"#19d3f3\",\"#FF6692\",\"#B6E880\",\"#FF97FF\",\"#FECB52\"],\"font\":{\"color\":\"#f2f5fa\"},\"geo\":{\"bgcolor\":\"rgb(17,17,17)\",\"lakecolor\":\"rgb(17,17,17)\",\"landcolor\":\"rgb(17,17,17)\",\"showlakes\":true,\"showland\":true,\"subunitcolor\":\"#506784\"},\"hoverlabel\":{\"align\":\"left\"},\"hovermode\":\"closest\",\"mapbox\":{\"style\":\"dark\"},\"paper_bgcolor\":\"rgb(17,17,17)\",\"plot_bgcolor\":\"rgb(17,17,17)\",\"polar\":{\"angularaxis\":{\"gridcolor\":\"#506784\",\"linecolor\":\"#506784\",\"ticks\":\"\"},\"bgcolor\":\"rgb(17,17,17)\",\"radialaxis\":{\"gridcolor\":\"#506784\",\"linecolor\":\"#506784\",\"ticks\":\"\"}},\"scene\":{\"xaxis\":{\"backgroundcolor\":\"rgb(17,17,17)\",\"gridcolor\":\"#506784\",\"gridwidth\":2,\"linecolor\":\"#506784\",\"showbackground\":true,\"ticks\":\"\",\"zerolinecolor\":\"#C8D4E3\"},\"yaxis\":{\"backgroundcolor\":\"rgb(17,17,17)\",\"gridcolor\":\"#506784\",\"gridwidth\":2,\"linecolor\":\"#506784\",\"showbackground\":true,\"ticks\":\"\",\"zerolinecolor\":\"#C8D4E3\"},\"zaxis\":{\"backgroundcolor\":\"rgb(17,17,17)\",\"gridcolor\":\"#506784\",\"gridwidth\":2,\"linecolor\":\"#506784\",\"showbackground\":true,\"ticks\":\"\",\"zerolinecolor\":\"#C8D4E3\"}},\"shapedefaults\":{\"line\":{\"color\":\"#f2f5fa\"}},\"sliderdefaults\":{\"bgcolor\":\"#C8D4E3\",\"bordercolor\":\"rgb(17,17,17)\",\"borderwidth\":1,\"tickwidth\":0},\"ternary\":{\"aaxis\":{\"gridcolor\":\"#506784\",\"linecolor\":\"#506784\",\"ticks\":\"\"},\"baxis\":{\"gridcolor\":\"#506784\",\"linecolor\":\"#506784\",\"ticks\":\"\"},\"bgcolor\":\"rgb(17,17,17)\",\"caxis\":{\"gridcolor\":\"#506784\",\"linecolor\":\"#506784\",\"ticks\":\"\"}},\"title\":{\"x\":0.05},\"updatemenudefaults\":{\"bgcolor\":\"#506784\",\"borderwidth\":0},\"xaxis\":{\"automargin\":true,\"gridcolor\":\"#283442\",\"linecolor\":\"#506784\",\"ticks\":\"\",\"title\":{\"standoff\":15},\"zerolinecolor\":\"#283442\",\"zerolinewidth\":2},\"yaxis\":{\"automargin\":true,\"gridcolor\":\"#283442\",\"linecolor\":\"#506784\",\"ticks\":\"\",\"title\":{\"standoff\":15},\"zerolinecolor\":\"#283442\",\"zerolinewidth\":2}}}},                        {\"responsive\": true}                    ).then(function(){\n",
       "                            \n",
       "var gd = document.getElementById('723abe4a-9995-4bce-aed6-b0bbcd3762e2');\n",
       "var x = new MutationObserver(function (mutations, observer) {{\n",
       "        var display = window.getComputedStyle(gd).display;\n",
       "        if (!display || display === 'none') {{\n",
       "            console.log([gd, 'removed!']);\n",
       "            Plotly.purge(gd);\n",
       "            observer.disconnect();\n",
       "        }}\n",
       "}});\n",
       "\n",
       "// Listen for the removal of the full notebook cells\n",
       "var notebookContainer = gd.closest('#notebook-container');\n",
       "if (notebookContainer) {{\n",
       "    x.observe(notebookContainer, {childList: true});\n",
       "}}\n",
       "\n",
       "// Listen for the clearing of the current output cell\n",
       "var outputEl = gd.closest('.output');\n",
       "if (outputEl) {{\n",
       "    x.observe(outputEl, {childList: true});\n",
       "}}\n",
       "\n",
       "                        })                };                });            </script>        </div>"
      ]
     },
     "metadata": {},
     "output_type": "display_data"
    }
   ],
   "source": [
    "df6 = data['Repair type'].value_counts()\n",
    "df6 = df6.reset_index()\n",
    "df6\n",
    "fig = go.Figure(data=[go.Bar(\n",
    "            x=df6['Repair type'], y=df6['count'],\n",
    "            text=df6['count'],\n",
    "            textposition='auto',\n",
    "            marker_color = '#4682b4'\n",
    "        )])\n",
    "fig.update_layout(\n",
    "                                template='plotly_dark',\n",
    "#                                 plot_bgcolor='rgba(0, 0, 0, 0)',\n",
    "#                                 paper_bgcolor='rgba(0, 0, 0, 0)',\n",
    "                            ),\n",
    "fig.show()"
   ]
  },
  {
   "cell_type": "code",
   "execution_count": null,
   "id": "38a8210c",
   "metadata": {},
   "outputs": [],
   "source": []
  }
 ],
 "metadata": {
  "kernelspec": {
   "display_name": "Python 3 (ipykernel)",
   "language": "python",
   "name": "python3"
  },
  "language_info": {
   "codemirror_mode": {
    "name": "ipython",
    "version": 3
   },
   "file_extension": ".py",
   "mimetype": "text/x-python",
   "name": "python",
   "nbconvert_exporter": "python",
   "pygments_lexer": "ipython3",
   "version": "3.10.10"
  }
 },
 "nbformat": 4,
 "nbformat_minor": 5
}
