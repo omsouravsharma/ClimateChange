{
 "cells": [
  {
   "cell_type": "code",
   "execution_count": 2,
   "id": "db342224",
   "metadata": {},
   "outputs": [],
   "source": [
    "import pandas as pd\n",
    "import numpy as np\n",
    "import streamlit as st"
   ]
  },
  {
   "cell_type": "code",
   "execution_count": 3,
   "id": "659298f5",
   "metadata": {},
   "outputs": [
    {
     "data": {
      "text/html": [
       "<div>\n",
       "<style scoped>\n",
       "    .dataframe tbody tr th:only-of-type {\n",
       "        vertical-align: middle;\n",
       "    }\n",
       "\n",
       "    .dataframe tbody tr th {\n",
       "        vertical-align: top;\n",
       "    }\n",
       "\n",
       "    .dataframe thead th {\n",
       "        text-align: right;\n",
       "    }\n",
       "</style>\n",
       "<table border=\"1\" class=\"dataframe\">\n",
       "  <thead>\n",
       "    <tr style=\"text-align: right;\">\n",
       "      <th></th>\n",
       "      <th>time</th>\n",
       "      <th>lat</th>\n",
       "      <th>lon</th>\n",
       "      <th>mean_temp</th>\n",
       "    </tr>\n",
       "  </thead>\n",
       "  <tbody>\n",
       "    <tr>\n",
       "      <th>0</th>\n",
       "      <td>01-01-1950</td>\n",
       "      <td>51.041666</td>\n",
       "      <td>-114.041668</td>\n",
       "      <td>4.37</td>\n",
       "    </tr>\n",
       "    <tr>\n",
       "      <th>1</th>\n",
       "      <td>01-01-1951</td>\n",
       "      <td>51.041666</td>\n",
       "      <td>-114.041668</td>\n",
       "      <td>3.81</td>\n",
       "    </tr>\n",
       "    <tr>\n",
       "      <th>2</th>\n",
       "      <td>01-01-1952</td>\n",
       "      <td>51.041666</td>\n",
       "      <td>-114.041668</td>\n",
       "      <td>3.90</td>\n",
       "    </tr>\n",
       "    <tr>\n",
       "      <th>3</th>\n",
       "      <td>01-01-1953</td>\n",
       "      <td>51.041666</td>\n",
       "      <td>-114.041668</td>\n",
       "      <td>3.90</td>\n",
       "    </tr>\n",
       "    <tr>\n",
       "      <th>4</th>\n",
       "      <td>01-01-1954</td>\n",
       "      <td>51.041666</td>\n",
       "      <td>-114.041668</td>\n",
       "      <td>3.89</td>\n",
       "    </tr>\n",
       "    <tr>\n",
       "      <th>...</th>\n",
       "      <td>...</td>\n",
       "      <td>...</td>\n",
       "      <td>...</td>\n",
       "      <td>...</td>\n",
       "    </tr>\n",
       "    <tr>\n",
       "      <th>146</th>\n",
       "      <td>01-01-2096</td>\n",
       "      <td>51.041666</td>\n",
       "      <td>-114.041668</td>\n",
       "      <td>10.24</td>\n",
       "    </tr>\n",
       "    <tr>\n",
       "      <th>147</th>\n",
       "      <td>01-01-2097</td>\n",
       "      <td>51.041666</td>\n",
       "      <td>-114.041668</td>\n",
       "      <td>10.56</td>\n",
       "    </tr>\n",
       "    <tr>\n",
       "      <th>148</th>\n",
       "      <td>01-01-2098</td>\n",
       "      <td>51.041666</td>\n",
       "      <td>-114.041668</td>\n",
       "      <td>11.05</td>\n",
       "    </tr>\n",
       "    <tr>\n",
       "      <th>149</th>\n",
       "      <td>01-01-2099</td>\n",
       "      <td>51.041666</td>\n",
       "      <td>-114.041668</td>\n",
       "      <td>11.61</td>\n",
       "    </tr>\n",
       "    <tr>\n",
       "      <th>150</th>\n",
       "      <td>01-01-2100</td>\n",
       "      <td>51.041666</td>\n",
       "      <td>-114.041668</td>\n",
       "      <td>10.93</td>\n",
       "    </tr>\n",
       "  </tbody>\n",
       "</table>\n",
       "<p>151 rows × 4 columns</p>\n",
       "</div>"
      ],
      "text/plain": [
       "           time        lat         lon  mean_temp\n",
       "0    01-01-1950  51.041666 -114.041668       4.37\n",
       "1    01-01-1951  51.041666 -114.041668       3.81\n",
       "2    01-01-1952  51.041666 -114.041668       3.90\n",
       "3    01-01-1953  51.041666 -114.041668       3.90\n",
       "4    01-01-1954  51.041666 -114.041668       3.89\n",
       "..          ...        ...         ...        ...\n",
       "146  01-01-2096  51.041666 -114.041668      10.24\n",
       "147  01-01-2097  51.041666 -114.041668      10.56\n",
       "148  01-01-2098  51.041666 -114.041668      11.05\n",
       "149  01-01-2099  51.041666 -114.041668      11.61\n",
       "150  01-01-2100  51.041666 -114.041668      10.93\n",
       "\n",
       "[151 rows x 4 columns]"
      ]
     },
     "execution_count": 3,
     "metadata": {},
     "output_type": "execute_result"
    }
   ],
   "source": [
    "data = pd.read_csv(\"../data/calgary.csv\")\n",
    "# df = data[['time','mean_temp']]\n",
    "# pd.to_datetime(data['time'])\n",
    "# # print(data)\n",
    "# print(df)\n",
    "# st.map(data)\n",
    "\n",
    "# st.line_chart(df, y=data['mean_temp'])\n",
    "data"
   ]
  },
  {
   "cell_type": "code",
   "execution_count": 4,
   "id": "554cf683",
   "metadata": {},
   "outputs": [
    {
     "name": "stdout",
     "output_type": "stream",
     "text": [
      "<class 'pandas.core.frame.DataFrame'>\n",
      "RangeIndex: 151 entries, 0 to 150\n",
      "Data columns (total 4 columns):\n",
      " #   Column     Non-Null Count  Dtype  \n",
      "---  ------     --------------  -----  \n",
      " 0   time       151 non-null    object \n",
      " 1   lat        151 non-null    float64\n",
      " 2   lon        151 non-null    float64\n",
      " 3   mean_temp  151 non-null    float64\n",
      "dtypes: float64(3), object(1)\n",
      "memory usage: 4.8+ KB\n"
     ]
    }
   ],
   "source": [
    "data.info()"
   ]
  },
  {
   "cell_type": "code",
   "execution_count": 6,
   "id": "e9d96f9d",
   "metadata": {},
   "outputs": [],
   "source": [
    "data['time']= pd.to_datetime(data['time'])"
   ]
  },
  {
   "cell_type": "code",
   "execution_count": 7,
   "id": "a5ae0bdf",
   "metadata": {},
   "outputs": [
    {
     "name": "stdout",
     "output_type": "stream",
     "text": [
      "<class 'pandas.core.frame.DataFrame'>\n",
      "RangeIndex: 151 entries, 0 to 150\n",
      "Data columns (total 4 columns):\n",
      " #   Column     Non-Null Count  Dtype         \n",
      "---  ------     --------------  -----         \n",
      " 0   time       151 non-null    datetime64[ns]\n",
      " 1   lat        151 non-null    float64       \n",
      " 2   lon        151 non-null    float64       \n",
      " 3   mean_temp  151 non-null    float64       \n",
      "dtypes: datetime64[ns](1), float64(3)\n",
      "memory usage: 4.8 KB\n"
     ]
    }
   ],
   "source": [
    "data.info()"
   ]
  },
  {
   "cell_type": "code",
   "execution_count": 9,
   "id": "930420c9",
   "metadata": {},
   "outputs": [
    {
     "data": {
      "text/html": [
       "<div>\n",
       "<style scoped>\n",
       "    .dataframe tbody tr th:only-of-type {\n",
       "        vertical-align: middle;\n",
       "    }\n",
       "\n",
       "    .dataframe tbody tr th {\n",
       "        vertical-align: top;\n",
       "    }\n",
       "\n",
       "    .dataframe thead th {\n",
       "        text-align: right;\n",
       "    }\n",
       "</style>\n",
       "<table border=\"1\" class=\"dataframe\">\n",
       "  <thead>\n",
       "    <tr style=\"text-align: right;\">\n",
       "      <th></th>\n",
       "      <th>time</th>\n",
       "      <th>lat</th>\n",
       "      <th>lon</th>\n",
       "      <th>mean_temp</th>\n",
       "    </tr>\n",
       "  </thead>\n",
       "  <tbody>\n",
       "    <tr>\n",
       "      <th>0</th>\n",
       "      <td>1950-01-01</td>\n",
       "      <td>51.041666</td>\n",
       "      <td>-114.041668</td>\n",
       "      <td>4.37</td>\n",
       "    </tr>\n",
       "    <tr>\n",
       "      <th>1</th>\n",
       "      <td>1951-01-01</td>\n",
       "      <td>51.041666</td>\n",
       "      <td>-114.041668</td>\n",
       "      <td>3.81</td>\n",
       "    </tr>\n",
       "    <tr>\n",
       "      <th>2</th>\n",
       "      <td>1952-01-01</td>\n",
       "      <td>51.041666</td>\n",
       "      <td>-114.041668</td>\n",
       "      <td>3.90</td>\n",
       "    </tr>\n",
       "    <tr>\n",
       "      <th>3</th>\n",
       "      <td>1953-01-01</td>\n",
       "      <td>51.041666</td>\n",
       "      <td>-114.041668</td>\n",
       "      <td>3.90</td>\n",
       "    </tr>\n",
       "    <tr>\n",
       "      <th>4</th>\n",
       "      <td>1954-01-01</td>\n",
       "      <td>51.041666</td>\n",
       "      <td>-114.041668</td>\n",
       "      <td>3.89</td>\n",
       "    </tr>\n",
       "    <tr>\n",
       "      <th>...</th>\n",
       "      <td>...</td>\n",
       "      <td>...</td>\n",
       "      <td>...</td>\n",
       "      <td>...</td>\n",
       "    </tr>\n",
       "    <tr>\n",
       "      <th>146</th>\n",
       "      <td>2096-01-01</td>\n",
       "      <td>51.041666</td>\n",
       "      <td>-114.041668</td>\n",
       "      <td>10.24</td>\n",
       "    </tr>\n",
       "    <tr>\n",
       "      <th>147</th>\n",
       "      <td>2097-01-01</td>\n",
       "      <td>51.041666</td>\n",
       "      <td>-114.041668</td>\n",
       "      <td>10.56</td>\n",
       "    </tr>\n",
       "    <tr>\n",
       "      <th>148</th>\n",
       "      <td>2098-01-01</td>\n",
       "      <td>51.041666</td>\n",
       "      <td>-114.041668</td>\n",
       "      <td>11.05</td>\n",
       "    </tr>\n",
       "    <tr>\n",
       "      <th>149</th>\n",
       "      <td>2099-01-01</td>\n",
       "      <td>51.041666</td>\n",
       "      <td>-114.041668</td>\n",
       "      <td>11.61</td>\n",
       "    </tr>\n",
       "    <tr>\n",
       "      <th>150</th>\n",
       "      <td>2100-01-01</td>\n",
       "      <td>51.041666</td>\n",
       "      <td>-114.041668</td>\n",
       "      <td>10.93</td>\n",
       "    </tr>\n",
       "  </tbody>\n",
       "</table>\n",
       "<p>151 rows × 4 columns</p>\n",
       "</div>"
      ],
      "text/plain": [
       "          time        lat         lon  mean_temp\n",
       "0   1950-01-01  51.041666 -114.041668       4.37\n",
       "1   1951-01-01  51.041666 -114.041668       3.81\n",
       "2   1952-01-01  51.041666 -114.041668       3.90\n",
       "3   1953-01-01  51.041666 -114.041668       3.90\n",
       "4   1954-01-01  51.041666 -114.041668       3.89\n",
       "..         ...        ...         ...        ...\n",
       "146 2096-01-01  51.041666 -114.041668      10.24\n",
       "147 2097-01-01  51.041666 -114.041668      10.56\n",
       "148 2098-01-01  51.041666 -114.041668      11.05\n",
       "149 2099-01-01  51.041666 -114.041668      11.61\n",
       "150 2100-01-01  51.041666 -114.041668      10.93\n",
       "\n",
       "[151 rows x 4 columns]"
      ]
     },
     "execution_count": 9,
     "metadata": {},
     "output_type": "execute_result"
    }
   ],
   "source": [
    "data"
   ]
  },
  {
   "cell_type": "code",
   "execution_count": 17,
   "id": "f5086030",
   "metadata": {},
   "outputs": [
    {
     "data": {
      "text/html": [
       "<div>\n",
       "<style scoped>\n",
       "    .dataframe tbody tr th:only-of-type {\n",
       "        vertical-align: middle;\n",
       "    }\n",
       "\n",
       "    .dataframe tbody tr th {\n",
       "        vertical-align: top;\n",
       "    }\n",
       "\n",
       "    .dataframe thead th {\n",
       "        text-align: right;\n",
       "    }\n",
       "</style>\n",
       "<table border=\"1\" class=\"dataframe\">\n",
       "  <thead>\n",
       "    <tr style=\"text-align: right;\">\n",
       "      <th></th>\n",
       "      <th>mean_temp</th>\n",
       "    </tr>\n",
       "    <tr>\n",
       "      <th>time</th>\n",
       "      <th></th>\n",
       "    </tr>\n",
       "  </thead>\n",
       "  <tbody>\n",
       "    <tr>\n",
       "      <th>1950-01-01</th>\n",
       "      <td>4.37</td>\n",
       "    </tr>\n",
       "    <tr>\n",
       "      <th>1951-01-01</th>\n",
       "      <td>3.81</td>\n",
       "    </tr>\n",
       "    <tr>\n",
       "      <th>1952-01-01</th>\n",
       "      <td>3.90</td>\n",
       "    </tr>\n",
       "    <tr>\n",
       "      <th>1953-01-01</th>\n",
       "      <td>3.90</td>\n",
       "    </tr>\n",
       "    <tr>\n",
       "      <th>1954-01-01</th>\n",
       "      <td>3.89</td>\n",
       "    </tr>\n",
       "    <tr>\n",
       "      <th>...</th>\n",
       "      <td>...</td>\n",
       "    </tr>\n",
       "    <tr>\n",
       "      <th>2096-01-01</th>\n",
       "      <td>10.24</td>\n",
       "    </tr>\n",
       "    <tr>\n",
       "      <th>2097-01-01</th>\n",
       "      <td>10.56</td>\n",
       "    </tr>\n",
       "    <tr>\n",
       "      <th>2098-01-01</th>\n",
       "      <td>11.05</td>\n",
       "    </tr>\n",
       "    <tr>\n",
       "      <th>2099-01-01</th>\n",
       "      <td>11.61</td>\n",
       "    </tr>\n",
       "    <tr>\n",
       "      <th>2100-01-01</th>\n",
       "      <td>10.93</td>\n",
       "    </tr>\n",
       "  </tbody>\n",
       "</table>\n",
       "<p>151 rows × 1 columns</p>\n",
       "</div>"
      ],
      "text/plain": [
       "            mean_temp\n",
       "time                 \n",
       "1950-01-01       4.37\n",
       "1951-01-01       3.81\n",
       "1952-01-01       3.90\n",
       "1953-01-01       3.90\n",
       "1954-01-01       3.89\n",
       "...               ...\n",
       "2096-01-01      10.24\n",
       "2097-01-01      10.56\n",
       "2098-01-01      11.05\n",
       "2099-01-01      11.61\n",
       "2100-01-01      10.93\n",
       "\n",
       "[151 rows x 1 columns]"
      ]
     },
     "execution_count": 17,
     "metadata": {},
     "output_type": "execute_result"
    }
   ],
   "source": [
    "df = data[['time', 'mean_temp']]\n",
    "df.index = data['time']\n",
    "df = df.drop('time', axis=1)\n",
    "df"
   ]
  },
  {
   "cell_type": "code",
   "execution_count": 12,
   "id": "f39c4f81",
   "metadata": {},
   "outputs": [],
   "source": [
    "# st.line_chart(data, x=data['time'], y = data['mean_temp'])"
   ]
  },
  {
   "cell_type": "code",
   "execution_count": 18,
   "id": "c12874cf",
   "metadata": {},
   "outputs": [
    {
     "name": "stderr",
     "output_type": "stream",
     "text": [
      "2023-08-02 01:08:35.622 \n",
      "  \u001b[33m\u001b[1mWarning:\u001b[0m to view this Streamlit app on a browser, run it with the following\n",
      "  command:\n",
      "\n",
      "    streamlit run C:\\Users\\NEXT\\AppData\\Roaming\\Python\\Python310\\site-packages\\ipykernel_launcher.py [ARGUMENTS]\n"
     ]
    },
    {
     "data": {
      "text/plain": [
       "DeltaGenerator()"
      ]
     },
     "execution_count": 18,
     "metadata": {},
     "output_type": "execute_result"
    }
   ],
   "source": [
    "st.line_chart(df)"
   ]
  },
  {
   "cell_type": "code",
   "execution_count": 19,
   "id": "1726dbbf",
   "metadata": {},
   "outputs": [
    {
     "ename": "SyntaxError",
     "evalue": "invalid syntax (1878284390.py, line 1)",
     "output_type": "error",
     "traceback": [
      "\u001b[1;36m  Cell \u001b[1;32mIn[19], line 1\u001b[1;36m\u001b[0m\n\u001b[1;33m    streamlit run C:\\Users\\NEXT\\AppData\\Roaming\\Python\\Python310\\site-packages\\ipykernel_launcher.py\u001b[0m\n\u001b[1;37m              ^\u001b[0m\n\u001b[1;31mSyntaxError\u001b[0m\u001b[1;31m:\u001b[0m invalid syntax\n"
     ]
    }
   ],
   "source": [
    "streamlit run C:\\Users\\NEXT\\AppData\\Roaming\\Python\\Python310\\site-packages\\ipykernel_launcher.py"
   ]
  },
  {
   "cell_type": "code",
   "execution_count": null,
   "id": "21b23b22",
   "metadata": {},
   "outputs": [],
   "source": []
  }
 ],
 "metadata": {
  "kernelspec": {
   "display_name": "Python 3 (ipykernel)",
   "language": "python",
   "name": "python3"
  },
  "language_info": {
   "codemirror_mode": {
    "name": "ipython",
    "version": 3
   },
   "file_extension": ".py",
   "mimetype": "text/x-python",
   "name": "python",
   "nbconvert_exporter": "python",
   "pygments_lexer": "ipython3",
   "version": "3.10.10"
  }
 },
 "nbformat": 4,
 "nbformat_minor": 5
}
